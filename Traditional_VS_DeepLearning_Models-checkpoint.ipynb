{
 "cells": [
  {
   "cell_type": "markdown",
   "metadata": {},
   "source": [
    "The workflow of this notebook:\n",
    "    1. Read data 'olidtrain.csv'.\n",
    "    2. Data manipulation(cleaning texts, remove duplicates, change column names etc.)\n",
    "    3. Data exploration is in the separate repository - jupyter notebook file - 'NLP_Offensive_Speech_Exploratory_Analysis'.\n",
    "    4. Feature Engineering: TF/TFIDF/Word2Vec Embeddings (Glove)\n",
    "    5. Models (Logistic Regression, Naive Bayes, Random Forest, Support Vector Machine)\n",
    "    6. Deep Learning (Deep Neural Network, Convolutional Neural Network, LSTM)\n",
    "    7. .py version of this whole project is in the separate repository - 'Offensive_Language_Detection_NLP'"
   ]
  },
  {
   "cell_type": "markdown",
   "metadata": {},
   "source": [
    "installing required packages"
   ]
  },
  {
   "cell_type": "code",
   "execution_count": 1,
   "metadata": {},
   "outputs": [
    {
     "name": "stdout",
     "output_type": "stream",
     "text": [
      "Requirement already satisfied: regex in /Library/Frameworks/Python.framework/Versions/3.7/lib/python3.7/site-packages (2019.11.1)\n",
      "\u001b[33mYou are using pip version 19.0.3, however version 19.3.1 is available.\n",
      "You should consider upgrading via the 'pip install --upgrade pip' command.\u001b[0m\n"
     ]
    }
   ],
   "source": [
    "!pip3 install regex"
   ]
  },
  {
   "cell_type": "code",
   "execution_count": 373,
   "metadata": {},
   "outputs": [],
   "source": [
    "import re\n",
    "import numpy as np\n",
    "import csv\n",
    "import pandas as pd\n",
    "from time import time\n",
    "\n",
    "from sklearn.feature_extraction.text import CountVectorizer\n",
    "from sklearn.feature_extraction.text import TfidfVectorizer\n",
    "from sklearn.pipeline import Pipeline\n",
    "from sklearn.naive_bayes import MultinomialNB\n",
    "from sklearn import svm\n",
    "from sklearn.linear_model import LogisticRegression\n",
    "from sklearn.ensemble import RandomForestClassifier\n",
    "from sklearn.utils import resample\n",
    "from sklearn.model_selection import StratifiedShuffleSplit\n",
    "\n",
    "from sklearn.metrics import accuracy_score\n",
    "from sklearn.metrics import confusion_matrix\n",
    "from sklearn.metrics import accuracy_score\n",
    "from sklearn.metrics import classification_report\n",
    "from sklearn.utils import shuffle\n",
    "\n",
    "import gensim\n",
    "from gensim import utils\n",
    "from gensim.models.doc2vec import LabeledSentence\n",
    "from gensim.models import Doc2Vec\n",
    "from gensim.models.doc2vec import TaggedDocument\n",
    "from tqdm import tqdm\n",
    "tqdm.pandas(desc=\"progress-bar\")\n",
    "\n",
    "import string\n",
    "import nltk\n",
    "from nltk.tokenize import word_tokenize\n",
    "import itertools\n",
    "from collections import defaultdict\n",
    "from nltk.corpus import stopwords "
   ]
  },
  {
   "cell_type": "markdown",
   "metadata": {},
   "source": [
    "### 1. Read Data"
   ]
  },
  {
   "cell_type": "code",
   "execution_count": 7,
   "metadata": {},
   "outputs": [
    {
     "name": "stdout",
     "output_type": "stream",
     "text": [
      "13240\n"
     ]
    },
    {
     "data": {
      "text/html": [
       "<div>\n",
       "<style scoped>\n",
       "    .dataframe tbody tr th:only-of-type {\n",
       "        vertical-align: middle;\n",
       "    }\n",
       "\n",
       "    .dataframe tbody tr th {\n",
       "        vertical-align: top;\n",
       "    }\n",
       "\n",
       "    .dataframe thead th {\n",
       "        text-align: right;\n",
       "    }\n",
       "</style>\n",
       "<table border=\"1\" class=\"dataframe\">\n",
       "  <thead>\n",
       "    <tr style=\"text-align: right;\">\n",
       "      <th></th>\n",
       "      <th>id</th>\n",
       "      <th>tweet</th>\n",
       "      <th>subtask_a</th>\n",
       "      <th>subtask_b</th>\n",
       "      <th>subtask_c</th>\n",
       "    </tr>\n",
       "  </thead>\n",
       "  <tbody>\n",
       "    <tr>\n",
       "      <td>0</td>\n",
       "      <td>86426</td>\n",
       "      <td>@USER She should ask a few native Americans wh...</td>\n",
       "      <td>OFF</td>\n",
       "      <td>UNT</td>\n",
       "      <td>NaN</td>\n",
       "    </tr>\n",
       "    <tr>\n",
       "      <td>1</td>\n",
       "      <td>90194</td>\n",
       "      <td>@USER @USER Go home you’re drunk!!! @USER #MAG...</td>\n",
       "      <td>OFF</td>\n",
       "      <td>TIN</td>\n",
       "      <td>IND</td>\n",
       "    </tr>\n",
       "    <tr>\n",
       "      <td>2</td>\n",
       "      <td>16820</td>\n",
       "      <td>Amazon is investigating Chinese employees who ...</td>\n",
       "      <td>NOT</td>\n",
       "      <td>NaN</td>\n",
       "      <td>NaN</td>\n",
       "    </tr>\n",
       "    <tr>\n",
       "      <td>3</td>\n",
       "      <td>62688</td>\n",
       "      <td>@USER Someone should'veTaken\" this piece of sh...</td>\n",
       "      <td>OFF</td>\n",
       "      <td>UNT</td>\n",
       "      <td>NaN</td>\n",
       "    </tr>\n",
       "    <tr>\n",
       "      <td>4</td>\n",
       "      <td>43605</td>\n",
       "      <td>@USER @USER Obama wanted liberals &amp;amp; illega...</td>\n",
       "      <td>NOT</td>\n",
       "      <td>NaN</td>\n",
       "      <td>NaN</td>\n",
       "    </tr>\n",
       "  </tbody>\n",
       "</table>\n",
       "</div>"
      ],
      "text/plain": [
       "      id                                              tweet subtask_a  \\\n",
       "0  86426  @USER She should ask a few native Americans wh...       OFF   \n",
       "1  90194  @USER @USER Go home you’re drunk!!! @USER #MAG...       OFF   \n",
       "2  16820  Amazon is investigating Chinese employees who ...       NOT   \n",
       "3  62688  @USER Someone should'veTaken\" this piece of sh...       OFF   \n",
       "4  43605  @USER @USER Obama wanted liberals &amp; illega...       NOT   \n",
       "\n",
       "  subtask_b subtask_c  \n",
       "0       UNT       NaN  \n",
       "1       TIN       IND  \n",
       "2       NaN       NaN  \n",
       "3       UNT       NaN  \n",
       "4       NaN       NaN  "
      ]
     },
     "execution_count": 7,
     "metadata": {},
     "output_type": "execute_result"
    }
   ],
   "source": [
    "df_train = pd.read_csv('olidtrain.csv')\n",
    "print(len(df_train))\n",
    "df_train.head()"
   ]
  },
  {
   "cell_type": "markdown",
   "metadata": {},
   "source": [
    "### 2.Data Manipulation"
   ]
  },
  {
   "cell_type": "markdown",
   "metadata": {},
   "source": [
    "#### 2.1 Removing the duplicated tweets"
   ]
  },
  {
   "cell_type": "code",
   "execution_count": 8,
   "metadata": {},
   "outputs": [
    {
     "data": {
      "text/html": [
       "<div>\n",
       "<style scoped>\n",
       "    .dataframe tbody tr th:only-of-type {\n",
       "        vertical-align: middle;\n",
       "    }\n",
       "\n",
       "    .dataframe tbody tr th {\n",
       "        vertical-align: top;\n",
       "    }\n",
       "\n",
       "    .dataframe thead th {\n",
       "        text-align: right;\n",
       "    }\n",
       "</style>\n",
       "<table border=\"1\" class=\"dataframe\">\n",
       "  <thead>\n",
       "    <tr style=\"text-align: right;\">\n",
       "      <th></th>\n",
       "      <th>id</th>\n",
       "      <th>tweet</th>\n",
       "      <th>subtask_a</th>\n",
       "      <th>subtask_b</th>\n",
       "      <th>subtask_c</th>\n",
       "    </tr>\n",
       "  </thead>\n",
       "  <tbody>\n",
       "    <tr>\n",
       "      <td>2723</td>\n",
       "      <td>16759</td>\n",
       "      <td>@USER @USER @USER @USER @USER @USER @USER @USE...</td>\n",
       "      <td>NOT</td>\n",
       "      <td>NaN</td>\n",
       "      <td>NaN</td>\n",
       "    </tr>\n",
       "    <tr>\n",
       "      <td>3121</td>\n",
       "      <td>32524</td>\n",
       "      <td>@USER Fuck off</td>\n",
       "      <td>OFF</td>\n",
       "      <td>TIN</td>\n",
       "      <td>IND</td>\n",
       "    </tr>\n",
       "    <tr>\n",
       "      <td>3877</td>\n",
       "      <td>65857</td>\n",
       "      <td>A new bill aims to send masked Antifa activist...</td>\n",
       "      <td>NOT</td>\n",
       "      <td>NaN</td>\n",
       "      <td>NaN</td>\n",
       "    </tr>\n",
       "    <tr>\n",
       "      <td>4072</td>\n",
       "      <td>22953</td>\n",
       "      <td>@USER Looks Like The Jokes On Liberals Again. ...</td>\n",
       "      <td>NOT</td>\n",
       "      <td>NaN</td>\n",
       "      <td>NaN</td>\n",
       "    </tr>\n",
       "    <tr>\n",
       "      <td>4103</td>\n",
       "      <td>67789</td>\n",
       "      <td>@USER Bullshit.</td>\n",
       "      <td>NOT</td>\n",
       "      <td>NaN</td>\n",
       "      <td>NaN</td>\n",
       "    </tr>\n",
       "    <tr>\n",
       "      <td>4222</td>\n",
       "      <td>15862</td>\n",
       "      <td>@USER @USER @USER @USER @USER @USER @USER @USE...</td>\n",
       "      <td>NOT</td>\n",
       "      <td>NaN</td>\n",
       "      <td>NaN</td>\n",
       "    </tr>\n",
       "    <tr>\n",
       "      <td>5154</td>\n",
       "      <td>64333</td>\n",
       "      <td>@USER @USER He is.</td>\n",
       "      <td>NOT</td>\n",
       "      <td>NaN</td>\n",
       "      <td>NaN</td>\n",
       "    </tr>\n",
       "    <tr>\n",
       "      <td>5306</td>\n",
       "      <td>46503</td>\n",
       "      <td>@USER An obvious last minute liberal ploy to d...</td>\n",
       "      <td>NOT</td>\n",
       "      <td>NaN</td>\n",
       "      <td>NaN</td>\n",
       "    </tr>\n",
       "    <tr>\n",
       "      <td>6883</td>\n",
       "      <td>17969</td>\n",
       "      <td>#Conservatives left #frustrated as #Congress p...</td>\n",
       "      <td>NOT</td>\n",
       "      <td>NaN</td>\n",
       "      <td>NaN</td>\n",
       "    </tr>\n",
       "    <tr>\n",
       "      <td>7135</td>\n",
       "      <td>88916</td>\n",
       "      <td>@USER Liberals ruin everything.</td>\n",
       "      <td>NOT</td>\n",
       "      <td>NaN</td>\n",
       "      <td>NaN</td>\n",
       "    </tr>\n",
       "    <tr>\n",
       "      <td>7284</td>\n",
       "      <td>51452</td>\n",
       "      <td>...it will be hard to believe any female accus...</td>\n",
       "      <td>OFF</td>\n",
       "      <td>TIN</td>\n",
       "      <td>GRP</td>\n",
       "    </tr>\n",
       "    <tr>\n",
       "      <td>7822</td>\n",
       "      <td>84691</td>\n",
       "      <td>@USER Yes she is</td>\n",
       "      <td>NOT</td>\n",
       "      <td>NaN</td>\n",
       "      <td>NaN</td>\n",
       "    </tr>\n",
       "    <tr>\n",
       "      <td>8332</td>\n",
       "      <td>60513</td>\n",
       "      <td>@USER Looks Like The Jokes On Liberals Again. ...</td>\n",
       "      <td>OFF</td>\n",
       "      <td>TIN</td>\n",
       "      <td>GRP</td>\n",
       "    </tr>\n",
       "    <tr>\n",
       "      <td>9402</td>\n",
       "      <td>59143</td>\n",
       "      <td>A new bill aims to send masked Antifa activist...</td>\n",
       "      <td>NOT</td>\n",
       "      <td>NaN</td>\n",
       "      <td>NaN</td>\n",
       "    </tr>\n",
       "    <tr>\n",
       "      <td>9407</td>\n",
       "      <td>75175</td>\n",
       "      <td>@USER Liberal Dictionary: -Illegal Immigrants:...</td>\n",
       "      <td>OFF</td>\n",
       "      <td>TIN</td>\n",
       "      <td>GRP</td>\n",
       "    </tr>\n",
       "    <tr>\n",
       "      <td>9539</td>\n",
       "      <td>32203</td>\n",
       "      <td>@USER She is gorgeous</td>\n",
       "      <td>NOT</td>\n",
       "      <td>NaN</td>\n",
       "      <td>NaN</td>\n",
       "    </tr>\n",
       "    <tr>\n",
       "      <td>9543</td>\n",
       "      <td>12897</td>\n",
       "      <td>@USER I blame @USER for inciting violence and ...</td>\n",
       "      <td>OFF</td>\n",
       "      <td>TIN</td>\n",
       "      <td>IND</td>\n",
       "    </tr>\n",
       "    <tr>\n",
       "      <td>10098</td>\n",
       "      <td>64289</td>\n",
       "      <td>@USER WHAT THE FUCK</td>\n",
       "      <td>OFF</td>\n",
       "      <td>UNT</td>\n",
       "      <td>NaN</td>\n",
       "    </tr>\n",
       "    <tr>\n",
       "      <td>10459</td>\n",
       "      <td>66322</td>\n",
       "      <td>@USER Looks Like The Jokes On Liberals Again. ...</td>\n",
       "      <td>NOT</td>\n",
       "      <td>NaN</td>\n",
       "      <td>NaN</td>\n",
       "    </tr>\n",
       "    <tr>\n",
       "      <td>10467</td>\n",
       "      <td>26126</td>\n",
       "      <td>@USER Good</td>\n",
       "      <td>NOT</td>\n",
       "      <td>NaN</td>\n",
       "      <td>NaN</td>\n",
       "    </tr>\n",
       "    <tr>\n",
       "      <td>10623</td>\n",
       "      <td>38491</td>\n",
       "      <td>@USER Looks Like The Jokes On Liberals Again. ...</td>\n",
       "      <td>NOT</td>\n",
       "      <td>NaN</td>\n",
       "      <td>NaN</td>\n",
       "    </tr>\n",
       "    <tr>\n",
       "      <td>10710</td>\n",
       "      <td>67976</td>\n",
       "      <td>@USER @USER She is!</td>\n",
       "      <td>NOT</td>\n",
       "      <td>NaN</td>\n",
       "      <td>NaN</td>\n",
       "    </tr>\n",
       "    <tr>\n",
       "      <td>10737</td>\n",
       "      <td>81106</td>\n",
       "      <td>@USER @USER @USER We could help if you are Lon...</td>\n",
       "      <td>NOT</td>\n",
       "      <td>NaN</td>\n",
       "      <td>NaN</td>\n",
       "    </tr>\n",
       "    <tr>\n",
       "      <td>10969</td>\n",
       "      <td>58327</td>\n",
       "      <td>@USER  State Sponsored Kids Protesting the 2nd...</td>\n",
       "      <td>NOT</td>\n",
       "      <td>NaN</td>\n",
       "      <td>NaN</td>\n",
       "    </tr>\n",
       "    <tr>\n",
       "      <td>11303</td>\n",
       "      <td>73520</td>\n",
       "      <td>@USER Looks Like The Jokes On Liberals Again. ...</td>\n",
       "      <td>NOT</td>\n",
       "      <td>NaN</td>\n",
       "      <td>NaN</td>\n",
       "    </tr>\n",
       "    <tr>\n",
       "      <td>11547</td>\n",
       "      <td>15990</td>\n",
       "      <td>.theresa_may: Today I can announce that new lo...</td>\n",
       "      <td>NOT</td>\n",
       "      <td>NaN</td>\n",
       "      <td>NaN</td>\n",
       "    </tr>\n",
       "    <tr>\n",
       "      <td>11831</td>\n",
       "      <td>32124</td>\n",
       "      <td>@USER Yes he is.</td>\n",
       "      <td>NOT</td>\n",
       "      <td>NaN</td>\n",
       "      <td>NaN</td>\n",
       "    </tr>\n",
       "    <tr>\n",
       "      <td>11877</td>\n",
       "      <td>90553</td>\n",
       "      <td>@USER Boycott the NFL</td>\n",
       "      <td>NOT</td>\n",
       "      <td>NaN</td>\n",
       "      <td>NaN</td>\n",
       "    </tr>\n",
       "    <tr>\n",
       "      <td>11937</td>\n",
       "      <td>81434</td>\n",
       "      <td>@USER @USER You are absolutely right</td>\n",
       "      <td>NOT</td>\n",
       "      <td>NaN</td>\n",
       "      <td>NaN</td>\n",
       "    </tr>\n",
       "    <tr>\n",
       "      <td>12239</td>\n",
       "      <td>32607</td>\n",
       "      <td>. @USER @USER @USER @USER Fake conservatives a...</td>\n",
       "      <td>NOT</td>\n",
       "      <td>NaN</td>\n",
       "      <td>NaN</td>\n",
       "    </tr>\n",
       "    <tr>\n",
       "      <td>12263</td>\n",
       "      <td>33019</td>\n",
       "      <td>@USER Croatian President's bikini photos world...</td>\n",
       "      <td>OFF</td>\n",
       "      <td>TIN</td>\n",
       "      <td>IND</td>\n",
       "    </tr>\n",
       "    <tr>\n",
       "      <td>12499</td>\n",
       "      <td>35651</td>\n",
       "      <td>@USER This will be settled and will never see ...</td>\n",
       "      <td>OFF</td>\n",
       "      <td>TIN</td>\n",
       "      <td>IND</td>\n",
       "    </tr>\n",
       "    <tr>\n",
       "      <td>12804</td>\n",
       "      <td>21353</td>\n",
       "      <td>@USER ❤ You are beloved! ❤</td>\n",
       "      <td>NOT</td>\n",
       "      <td>NaN</td>\n",
       "      <td>NaN</td>\n",
       "    </tr>\n",
       "  </tbody>\n",
       "</table>\n",
       "</div>"
      ],
      "text/plain": [
       "          id                                              tweet subtask_a  \\\n",
       "2723   16759  @USER @USER @USER @USER @USER @USER @USER @USE...       NOT   \n",
       "3121   32524                                     @USER Fuck off       OFF   \n",
       "3877   65857  A new bill aims to send masked Antifa activist...       NOT   \n",
       "4072   22953  @USER Looks Like The Jokes On Liberals Again. ...       NOT   \n",
       "4103   67789                                    @USER Bullshit.       NOT   \n",
       "4222   15862  @USER @USER @USER @USER @USER @USER @USER @USE...       NOT   \n",
       "5154   64333                                 @USER @USER He is.       NOT   \n",
       "5306   46503  @USER An obvious last minute liberal ploy to d...       NOT   \n",
       "6883   17969  #Conservatives left #frustrated as #Congress p...       NOT   \n",
       "7135   88916                    @USER Liberals ruin everything.       NOT   \n",
       "7284   51452  ...it will be hard to believe any female accus...       OFF   \n",
       "7822   84691                                   @USER Yes she is       NOT   \n",
       "8332   60513  @USER Looks Like The Jokes On Liberals Again. ...       OFF   \n",
       "9402   59143  A new bill aims to send masked Antifa activist...       NOT   \n",
       "9407   75175  @USER Liberal Dictionary: -Illegal Immigrants:...       OFF   \n",
       "9539   32203                              @USER She is gorgeous       NOT   \n",
       "9543   12897  @USER I blame @USER for inciting violence and ...       OFF   \n",
       "10098  64289                                @USER WHAT THE FUCK       OFF   \n",
       "10459  66322  @USER Looks Like The Jokes On Liberals Again. ...       NOT   \n",
       "10467  26126                                         @USER Good       NOT   \n",
       "10623  38491  @USER Looks Like The Jokes On Liberals Again. ...       NOT   \n",
       "10710  67976                                @USER @USER She is!       NOT   \n",
       "10737  81106  @USER @USER @USER We could help if you are Lon...       NOT   \n",
       "10969  58327  @USER  State Sponsored Kids Protesting the 2nd...       NOT   \n",
       "11303  73520  @USER Looks Like The Jokes On Liberals Again. ...       NOT   \n",
       "11547  15990  .theresa_may: Today I can announce that new lo...       NOT   \n",
       "11831  32124                                   @USER Yes he is.       NOT   \n",
       "11877  90553                              @USER Boycott the NFL       NOT   \n",
       "11937  81434               @USER @USER You are absolutely right       NOT   \n",
       "12239  32607  . @USER @USER @USER @USER Fake conservatives a...       NOT   \n",
       "12263  33019  @USER Croatian President's bikini photos world...       OFF   \n",
       "12499  35651  @USER This will be settled and will never see ...       OFF   \n",
       "12804  21353                         @USER ❤ You are beloved! ❤       NOT   \n",
       "\n",
       "      subtask_b subtask_c  \n",
       "2723        NaN       NaN  \n",
       "3121        TIN       IND  \n",
       "3877        NaN       NaN  \n",
       "4072        NaN       NaN  \n",
       "4103        NaN       NaN  \n",
       "4222        NaN       NaN  \n",
       "5154        NaN       NaN  \n",
       "5306        NaN       NaN  \n",
       "6883        NaN       NaN  \n",
       "7135        NaN       NaN  \n",
       "7284        TIN       GRP  \n",
       "7822        NaN       NaN  \n",
       "8332        TIN       GRP  \n",
       "9402        NaN       NaN  \n",
       "9407        TIN       GRP  \n",
       "9539        NaN       NaN  \n",
       "9543        TIN       IND  \n",
       "10098       UNT       NaN  \n",
       "10459       NaN       NaN  \n",
       "10467       NaN       NaN  \n",
       "10623       NaN       NaN  \n",
       "10710       NaN       NaN  \n",
       "10737       NaN       NaN  \n",
       "10969       NaN       NaN  \n",
       "11303       NaN       NaN  \n",
       "11547       NaN       NaN  \n",
       "11831       NaN       NaN  \n",
       "11877       NaN       NaN  \n",
       "11937       NaN       NaN  \n",
       "12239       NaN       NaN  \n",
       "12263       TIN       IND  \n",
       "12499       TIN       IND  \n",
       "12804       NaN       NaN  "
      ]
     },
     "execution_count": 8,
     "metadata": {},
     "output_type": "execute_result"
    }
   ],
   "source": [
    "df_train[df_train.duplicated(['tweet'])]"
   ]
  },
  {
   "cell_type": "code",
   "execution_count": 9,
   "metadata": {},
   "outputs": [],
   "source": [
    "#get rid of duplicated tweets\n",
    "df_train.drop_duplicates(subset = 'tweet',keep = False,inplace = True)"
   ]
  },
  {
   "cell_type": "code",
   "execution_count": 10,
   "metadata": {},
   "outputs": [
    {
     "name": "stdout",
     "output_type": "stream",
     "text": [
      "After removing duplicated tweets:\n",
      "13179\n"
     ]
    }
   ],
   "source": [
    "print('After removing duplicated tweets:')\n",
    "print(len(df_train))"
   ]
  },
  {
   "cell_type": "markdown",
   "metadata": {},
   "source": [
    "#### 2.2 Reformating the dataframe"
   ]
  },
  {
   "cell_type": "code",
   "execution_count": 21,
   "metadata": {},
   "outputs": [
    {
     "data": {
      "text/html": [
       "<div>\n",
       "<style scoped>\n",
       "    .dataframe tbody tr th:only-of-type {\n",
       "        vertical-align: middle;\n",
       "    }\n",
       "\n",
       "    .dataframe tbody tr th {\n",
       "        vertical-align: top;\n",
       "    }\n",
       "\n",
       "    .dataframe thead th {\n",
       "        text-align: right;\n",
       "    }\n",
       "</style>\n",
       "<table border=\"1\" class=\"dataframe\">\n",
       "  <thead>\n",
       "    <tr style=\"text-align: right;\">\n",
       "      <th></th>\n",
       "      <th>tweet</th>\n",
       "      <th>subtask_a</th>\n",
       "    </tr>\n",
       "  </thead>\n",
       "  <tbody>\n",
       "    <tr>\n",
       "      <td>0</td>\n",
       "      <td>@USER She should ask a few native Americans wh...</td>\n",
       "      <td>OFF</td>\n",
       "    </tr>\n",
       "    <tr>\n",
       "      <td>1</td>\n",
       "      <td>@USER @USER Go home you’re drunk!!! @USER #MAG...</td>\n",
       "      <td>OFF</td>\n",
       "    </tr>\n",
       "    <tr>\n",
       "      <td>2</td>\n",
       "      <td>Amazon is investigating Chinese employees who ...</td>\n",
       "      <td>NOT</td>\n",
       "    </tr>\n",
       "    <tr>\n",
       "      <td>3</td>\n",
       "      <td>@USER Someone should'veTaken\" this piece of sh...</td>\n",
       "      <td>OFF</td>\n",
       "    </tr>\n",
       "    <tr>\n",
       "      <td>4</td>\n",
       "      <td>@USER @USER Obama wanted liberals &amp;amp; illega...</td>\n",
       "      <td>NOT</td>\n",
       "    </tr>\n",
       "  </tbody>\n",
       "</table>\n",
       "</div>"
      ],
      "text/plain": [
       "                                               tweet subtask_a\n",
       "0  @USER She should ask a few native Americans wh...       OFF\n",
       "1  @USER @USER Go home you’re drunk!!! @USER #MAG...       OFF\n",
       "2  Amazon is investigating Chinese employees who ...       NOT\n",
       "3  @USER Someone should'veTaken\" this piece of sh...       OFF\n",
       "4  @USER @USER Obama wanted liberals &amp; illega...       NOT"
      ]
     },
     "execution_count": 21,
     "metadata": {},
     "output_type": "execute_result"
    }
   ],
   "source": [
    "df = df_train[['tweet','subtask_a']]\n",
    "df.head()"
   ]
  },
  {
   "cell_type": "code",
   "execution_count": 22,
   "metadata": {},
   "outputs": [
    {
     "name": "stderr",
     "output_type": "stream",
     "text": [
      "/Library/Frameworks/Python.framework/Versions/3.7/lib/python3.7/site-packages/ipykernel_launcher.py:1: SettingWithCopyWarning: \n",
      "A value is trying to be set on a copy of a slice from a DataFrame.\n",
      "Try using .loc[row_indexer,col_indexer] = value instead\n",
      "\n",
      "See the caveats in the documentation: http://pandas.pydata.org/pandas-docs/stable/user_guide/indexing.html#returning-a-view-versus-a-copy\n",
      "  \"\"\"Entry point for launching an IPython kernel.\n"
     ]
    },
    {
     "data": {
      "text/html": [
       "<div>\n",
       "<style scoped>\n",
       "    .dataframe tbody tr th:only-of-type {\n",
       "        vertical-align: middle;\n",
       "    }\n",
       "\n",
       "    .dataframe tbody tr th {\n",
       "        vertical-align: top;\n",
       "    }\n",
       "\n",
       "    .dataframe thead th {\n",
       "        text-align: right;\n",
       "    }\n",
       "</style>\n",
       "<table border=\"1\" class=\"dataframe\">\n",
       "  <thead>\n",
       "    <tr style=\"text-align: right;\">\n",
       "      <th></th>\n",
       "      <th>tweet</th>\n",
       "      <th>subtask_a</th>\n",
       "    </tr>\n",
       "  </thead>\n",
       "  <tbody>\n",
       "    <tr>\n",
       "      <td>0</td>\n",
       "      <td>@USER She should ask a few native Americans wh...</td>\n",
       "      <td>1</td>\n",
       "    </tr>\n",
       "    <tr>\n",
       "      <td>1</td>\n",
       "      <td>@USER @USER Go home you’re drunk!!! @USER #MAG...</td>\n",
       "      <td>1</td>\n",
       "    </tr>\n",
       "    <tr>\n",
       "      <td>2</td>\n",
       "      <td>Amazon is investigating Chinese employees who ...</td>\n",
       "      <td>0</td>\n",
       "    </tr>\n",
       "    <tr>\n",
       "      <td>3</td>\n",
       "      <td>@USER Someone should'veTaken\" this piece of sh...</td>\n",
       "      <td>1</td>\n",
       "    </tr>\n",
       "    <tr>\n",
       "      <td>4</td>\n",
       "      <td>@USER @USER Obama wanted liberals &amp;amp; illega...</td>\n",
       "      <td>0</td>\n",
       "    </tr>\n",
       "  </tbody>\n",
       "</table>\n",
       "</div>"
      ],
      "text/plain": [
       "                                               tweet  subtask_a\n",
       "0  @USER She should ask a few native Americans wh...          1\n",
       "1  @USER @USER Go home you’re drunk!!! @USER #MAG...          1\n",
       "2  Amazon is investigating Chinese employees who ...          0\n",
       "3  @USER Someone should'veTaken\" this piece of sh...          1\n",
       "4  @USER @USER Obama wanted liberals &amp; illega...          0"
      ]
     },
     "execution_count": 22,
     "metadata": {},
     "output_type": "execute_result"
    }
   ],
   "source": [
    "# change the label to 1 and 0\n",
    "df['subtask_a'] = (df['subtask_a'] == 'OFF').astype(int)\n",
    "df.head()"
   ]
  },
  {
   "cell_type": "code",
   "execution_count": 24,
   "metadata": {},
   "outputs": [
    {
     "data": {
      "text/html": [
       "<div>\n",
       "<style scoped>\n",
       "    .dataframe tbody tr th:only-of-type {\n",
       "        vertical-align: middle;\n",
       "    }\n",
       "\n",
       "    .dataframe tbody tr th {\n",
       "        vertical-align: top;\n",
       "    }\n",
       "\n",
       "    .dataframe thead th {\n",
       "        text-align: right;\n",
       "    }\n",
       "</style>\n",
       "<table border=\"1\" class=\"dataframe\">\n",
       "  <thead>\n",
       "    <tr style=\"text-align: right;\">\n",
       "      <th></th>\n",
       "      <th>text</th>\n",
       "      <th>label</th>\n",
       "    </tr>\n",
       "  </thead>\n",
       "  <tbody>\n",
       "    <tr>\n",
       "      <td>0</td>\n",
       "      <td>@USER She should ask a few native Americans wh...</td>\n",
       "      <td>1</td>\n",
       "    </tr>\n",
       "    <tr>\n",
       "      <td>1</td>\n",
       "      <td>@USER @USER Go home you’re drunk!!! @USER #MAG...</td>\n",
       "      <td>1</td>\n",
       "    </tr>\n",
       "    <tr>\n",
       "      <td>2</td>\n",
       "      <td>Amazon is investigating Chinese employees who ...</td>\n",
       "      <td>0</td>\n",
       "    </tr>\n",
       "    <tr>\n",
       "      <td>3</td>\n",
       "      <td>@USER Someone should'veTaken\" this piece of sh...</td>\n",
       "      <td>1</td>\n",
       "    </tr>\n",
       "    <tr>\n",
       "      <td>4</td>\n",
       "      <td>@USER @USER Obama wanted liberals &amp;amp; illega...</td>\n",
       "      <td>0</td>\n",
       "    </tr>\n",
       "  </tbody>\n",
       "</table>\n",
       "</div>"
      ],
      "text/plain": [
       "                                                text  label\n",
       "0  @USER She should ask a few native Americans wh...      1\n",
       "1  @USER @USER Go home you’re drunk!!! @USER #MAG...      1\n",
       "2  Amazon is investigating Chinese employees who ...      0\n",
       "3  @USER Someone should'veTaken\" this piece of sh...      1\n",
       "4  @USER @USER Obama wanted liberals &amp; illega...      0"
      ]
     },
     "execution_count": 24,
     "metadata": {},
     "output_type": "execute_result"
    }
   ],
   "source": [
    "#rename the column name\n",
    "df.columns = ['text', 'label']\n",
    "df.head()"
   ]
  },
  {
   "cell_type": "markdown",
   "metadata": {},
   "source": [
    "#### 2.3 Cleaning tweets"
   ]
  },
  {
   "cell_type": "code",
   "execution_count": 374,
   "metadata": {},
   "outputs": [],
   "source": [
    "def cleaning(txt):\n",
    "\n",
    "    cleanReview = ''\n",
    "    review = word_tokenize(txt)\n",
    "    stopword = []\n",
    "\n",
    "    for i in review:\n",
    "        #replace consecutive non-ASCII characters with a space\n",
    "        i = re.sub(r'[^\\x00-\\x7F]+',' ',i)\n",
    "        #removes punctuation \n",
    "        #i.translate(str.maketrans('', '', string.punctuation)) \n",
    "        # remove digits\n",
    "        i = re.sub(r'\\d+', '', i)\n",
    "        # remove html tags\n",
    "        i = re.sub('(?:<[^>]+>)', '',i)\n",
    "        #remove more than one space\n",
    "        i = re.sub(r\"\\s+\",\"\", i)\n",
    "        #lower case first letter and keep all uppercase word\n",
    "        if i.isupper():\n",
    "            i = i\n",
    "        else:\n",
    "            i = i.lower()\n",
    "        stopword = stopwords.words('english')\n",
    "        stopword = list(set(stopword))\n",
    "        Extra = [\"@USER\",\"USER\",\"URL\",\".\",\";\",\":\",\"/\",\"\\\\\",\",\",\"#\",\"@\",\"$\",\"&\",\")\",\"(\",\"\\\"\"]\n",
    "        stopword = stopword + Extra\n",
    "        if i not in stopword:\n",
    "            cleanReview = cleanReview + ' ' + i \n",
    "            #print(cleanReview)\n",
    "    return cleanReview"
   ]
  },
  {
   "cell_type": "code",
   "execution_count": 30,
   "metadata": {},
   "outputs": [
    {
     "name": "stderr",
     "output_type": "stream",
     "text": [
      "/Library/Frameworks/Python.framework/Versions/3.7/lib/python3.7/site-packages/ipykernel_launcher.py:2: SettingWithCopyWarning: \n",
      "A value is trying to be set on a copy of a slice from a DataFrame.\n",
      "Try using .loc[row_indexer,col_indexer] = value instead\n",
      "\n",
      "See the caveats in the documentation: http://pandas.pydata.org/pandas-docs/stable/user_guide/indexing.html#returning-a-view-versus-a-copy\n",
      "  \n"
     ]
    },
    {
     "data": {
      "text/html": [
       "<div>\n",
       "<style scoped>\n",
       "    .dataframe tbody tr th:only-of-type {\n",
       "        vertical-align: middle;\n",
       "    }\n",
       "\n",
       "    .dataframe tbody tr th {\n",
       "        vertical-align: top;\n",
       "    }\n",
       "\n",
       "    .dataframe thead th {\n",
       "        text-align: right;\n",
       "    }\n",
       "</style>\n",
       "<table border=\"1\" class=\"dataframe\">\n",
       "  <thead>\n",
       "    <tr style=\"text-align: right;\">\n",
       "      <th></th>\n",
       "      <th>text</th>\n",
       "      <th>label</th>\n",
       "    </tr>\n",
       "  </thead>\n",
       "  <tbody>\n",
       "    <tr>\n",
       "      <td>0</td>\n",
       "      <td>ask native americans take</td>\n",
       "      <td>1</td>\n",
       "    </tr>\n",
       "    <tr>\n",
       "      <td>1</td>\n",
       "      <td>go home  drunk ! ! ! MAGA trump</td>\n",
       "      <td>1</td>\n",
       "    </tr>\n",
       "    <tr>\n",
       "      <td>2</td>\n",
       "      <td>amazon investigating chinese employees sellin...</td>\n",
       "      <td>0</td>\n",
       "    </tr>\n",
       "    <tr>\n",
       "      <td>3</td>\n",
       "      <td>someone should'vetaken '' piece shit volcano  ''</td>\n",
       "      <td>1</td>\n",
       "    </tr>\n",
       "    <tr>\n",
       "      <td>4</td>\n",
       "      <td>obama wanted liberals amp illegals move red s...</td>\n",
       "      <td>0</td>\n",
       "    </tr>\n",
       "  </tbody>\n",
       "</table>\n",
       "</div>"
      ],
      "text/plain": [
       "                                                text  label\n",
       "0                          ask native americans take      1\n",
       "1                   go home  drunk ! ! ! MAGA trump       1\n",
       "2   amazon investigating chinese employees sellin...      0\n",
       "3   someone should'vetaken '' piece shit volcano  ''      1\n",
       "4   obama wanted liberals amp illegals move red s...      0"
      ]
     },
     "execution_count": 30,
     "metadata": {},
     "output_type": "execute_result"
    }
   ],
   "source": [
    "# apply cleaning to all tweets\n",
    "df['text'] = df['text'].apply(lambda x :cleaning(x)) \n",
    "df.head()"
   ]
  },
  {
   "cell_type": "markdown",
   "metadata": {},
   "source": [
    "### 3. Data Exploration"
   ]
  },
  {
   "cell_type": "markdown",
   "metadata": {},
   "source": [
    "* Data Exploration is in a seperate repository 'NLP_Offensive_Speech_Exploratory_Analysis'"
   ]
  },
  {
   "cell_type": "markdown",
   "metadata": {},
   "source": [
    "### 4. Feauture Engineering"
   ]
  },
  {
   "cell_type": "markdown",
   "metadata": {},
   "source": [
    "* In this project, I used TF, TFIDF and Word2Vec Embeddings. This part is under a function of building models."
   ]
  },
  {
   "cell_type": "markdown",
   "metadata": {},
   "source": [
    "### 5. Buidling Models"
   ]
  },
  {
   "cell_type": "markdown",
   "metadata": {},
   "source": [
    "#### 5.1 Baseline Model Using Polarity"
   ]
  },
  {
   "cell_type": "markdown",
   "metadata": {},
   "source": [
    "* If the polarity score is below 0, the tweet is classified as 'Offensive', if above 0, \n",
    "  the tweet is classified as 'Not Offensive'. "
   ]
  },
  {
   "cell_type": "code",
   "execution_count": 36,
   "metadata": {},
   "outputs": [],
   "source": [
    "from textblob import TextBlob\n",
    "%config InlineBackend.figure_format = 'retina'"
   ]
  },
  {
   "cell_type": "code",
   "execution_count": 37,
   "metadata": {},
   "outputs": [
    {
     "name": "stdout",
     "output_type": "stream",
     "text": [
      "CPU times: user 4.19 s, sys: 244 ms, total: 4.44 s\n",
      "Wall time: 4.63 s\n"
     ]
    }
   ],
   "source": [
    "%%time\n",
    "tbresult = [TextBlob(i).sentiment.polarity for i in df['text']]\n",
    "tbpred = [1 if n<0 else 0 for n in tbresult]"
   ]
  },
  {
   "cell_type": "code",
   "execution_count": 43,
   "metadata": {},
   "outputs": [
    {
     "name": "stdout",
     "output_type": "stream",
     "text": [
      "Accuracy Score: 68.51%\n",
      "--------------------------------------------------------------------------------\n",
      "Confusion Matrix\n",
      "\n",
      "      0     1\n",
      "0  7159  2515\n",
      "1  1635  1870\n",
      "--------------------------------------------------------------------------------\n",
      "Classification Report\n",
      "\n",
      "              precision    recall  f1-score   support\n",
      "\n",
      "           0       0.74      0.81      0.78      8794\n",
      "           1       0.53      0.43      0.47      4385\n",
      "\n",
      "    accuracy                           0.69     13179\n",
      "   macro avg       0.64      0.62      0.62     13179\n",
      "weighted avg       0.67      0.69      0.68     13179\n",
      "\n"
     ]
    }
   ],
   "source": [
    "result = confusion_matrix(tbpred,df['label'])\n",
    "print (\"Accuracy Score: {0:.2f}%\".format(accuracy_score(df['label'], tbpred)*100))\n",
    "print (\"-\"*80)\n",
    "print (\"Confusion Matrix\\n\")\n",
    "print (pd.DataFrame(result))\n",
    "print (\"-\"*80)\n",
    "print (\"Classification Report\\n\")\n",
    "print (classification_report(df['label'], tbpred))"
   ]
  },
  {
   "cell_type": "markdown",
   "metadata": {},
   "source": [
    "#### 5.1 Test Train Split"
   ]
  },
  {
   "cell_type": "code",
   "execution_count": 325,
   "metadata": {},
   "outputs": [],
   "source": [
    "def train_test_split(df,sampling_method):\n",
    "    split = StratifiedShuffleSplit(n_splits=1,test_size=0.2,random_state =42)\n",
    "\n",
    "    for train_index,test_index in split.split(df,df['label']):\n",
    "        strat_train_set = df.iloc[train_index]\n",
    "        strat_test_set = df.iloc[test_index]\n",
    "    if sampling_method =='Oversampling':\n",
    "        strat_train_set = OverSampling(strat_train_set)\n",
    "    trainTweet=strat_train_set['text']\n",
    "    testTweet = strat_test_set['text']\n",
    "    trainLabel=strat_train_set['label']\n",
    "    testLabel=strat_test_set['label']\n",
    "    return trainTweet,testTweet,trainLabel,testLabel\n",
    "   "
   ]
  },
  {
   "cell_type": "markdown",
   "metadata": {},
   "source": [
    "#### 5.2 Oversampling"
   ]
  },
  {
   "cell_type": "code",
   "execution_count": 324,
   "metadata": {},
   "outputs": [],
   "source": [
    "def OverSampling(strat_train_set):\n",
    "    df_majority = strat_train_set[strat_train_set['label'] == 0]\n",
    "    df_minority = strat_train_set[strat_train_set['label'] == 1]\n",
    "    major_count = len(df_majority)\n",
    "    # oversample minority class\n",
    "    df_minority_oversampled = resample(df_minority, \n",
    "                                 replace = True,              # sample with replacement\n",
    "                                 n_samples = major_count,     # to match majority class \n",
    "                                 random_state = 42)    \n",
    "     \n",
    "         \n",
    "    strat_train_set = pd.concat([df_majority, df_minority_oversampled])   # Combine majority class with oversampled minority class\n",
    "    print(\"Train dataset calss distribution: \\n\", strat_train_set.label.value_counts())\n",
    "  \n",
    "    return strat_train_set\n"
   ]
  },
  {
   "cell_type": "markdown",
   "metadata": {},
   "source": [
    "#### 5.3 A Function of Features (TF/TFIDF) + Classifiers + Sampling Method"
   ]
  },
  {
   "cell_type": "code",
   "execution_count": 367,
   "metadata": {},
   "outputs": [],
   "source": [
    "def model_checker(vectorizer,classifier,sampling_method):\n",
    "\n",
    "    print(classifier)\n",
    "    print('\\n')\n",
    "    \n",
    "    trainTweet,testTweet,trainLabel,testLabel = train_test_split(df,sampling_method)\n",
    "    \n",
    "    pipeline = Pipeline([('vectorizer',vectorizer),\n",
    "                               ('classifier',classifier)])\n",
    "    \n",
    "    t0 = time() \n",
    "    sentiment_fit = pipeline.fit(trainTweet,trainLabel)  \n",
    "    y_pred = sentiment_fit.predict(testTweet)\n",
    "    train_test_time = time() - t0\n",
    "    \n",
    "    accuracy = accuracy_score(testLabel,y_pred)\n",
    "    confusion_result = confusion_matrix(y_pred,testLabel)\n",
    "    \n",
    "    print(\"accuracy score: {0:.2f}%\".format(accuracy*100))\n",
    "    print(\"train and test time: {0:.2f}s\".format(train_test_time))\n",
    "    print('-'*80)\n",
    "    print (\"Confusion Matrix\\n\")\n",
    "    print (pd.DataFrame(confusion_result))\n",
    "    print('-'*80)\n",
    "    print (\"Classification Report\\n\")\n",
    "    print (classification_report(testLabel,y_pred))    "
   ]
  },
  {
   "cell_type": "markdown",
   "metadata": {},
   "source": [
    "#### 5.4 TF/TFIDF + Models"
   ]
  },
  {
   "cell_type": "markdown",
   "metadata": {},
   "source": [
    "* I listed a few models below, there can be many combinations."
   ]
  },
  {
   "cell_type": "markdown",
   "metadata": {},
   "source": [
    "##### 5.4.1 Logistic Regression + CountVectorizer +  Unigram + Without Oversampling"
   ]
  },
  {
   "cell_type": "code",
   "execution_count": 371,
   "metadata": {},
   "outputs": [
    {
     "name": "stdout",
     "output_type": "stream",
     "text": [
      "LogisticRegression(C=1.0, class_weight=None, dual=False, fit_intercept=True,\n",
      "                   intercept_scaling=1, l1_ratio=None, max_iter=100,\n",
      "                   multi_class='warn', n_jobs=None, penalty='l1',\n",
      "                   random_state=None, solver='liblinear', tol=0.0001, verbose=0,\n",
      "                   warm_start=False)\n",
      "\n",
      "\n",
      "accuracy score: 76.10%\n",
      "train and test time: 2.62s\n",
      "--------------------------------------------------------------------------------\n",
      "Confusion Matrix\n",
      "\n",
      "      0    1\n",
      "0  1560  431\n",
      "1   199  446\n",
      "--------------------------------------------------------------------------------\n",
      "Classification Report\n",
      "\n",
      "              precision    recall  f1-score   support\n",
      "\n",
      "           0       0.78      0.89      0.83      1759\n",
      "           1       0.69      0.51      0.59       877\n",
      "\n",
      "    accuracy                           0.76      2636\n",
      "   macro avg       0.74      0.70      0.71      2636\n",
      "weighted avg       0.75      0.76      0.75      2636\n",
      "\n"
     ]
    }
   ],
   "source": [
    "word_vectorizer = CountVectorizer(\n",
    "    strip_accents='unicode',\n",
    "    analyzer='word',\n",
    "    token_pattern=r'\\w{1,}',\n",
    "    ngram_range=(1, 1), \n",
    "    max_features=10000)\n",
    "lr = LogisticRegression(solver ='liblinear',penalty='l1')\n",
    "model_checker(word_vectorizer,lr,'None') # without oversampling"
   ]
  },
  {
   "cell_type": "markdown",
   "metadata": {},
   "source": [
    "##### 5.4.2 Logistic Regression + CountVectorizer + Unigram + Oversampling"
   ]
  },
  {
   "cell_type": "code",
   "execution_count": 333,
   "metadata": {},
   "outputs": [
    {
     "name": "stdout",
     "output_type": "stream",
     "text": [
      "LogisticRegression(C=1.0, class_weight=None, dual=False, fit_intercept=True,\n",
      "                   intercept_scaling=1, l1_ratio=None, max_iter=100,\n",
      "                   multi_class='warn', n_jobs=None, penalty='l1',\n",
      "                   random_state=None, solver='liblinear', tol=0.0001, verbose=0,\n",
      "                   warm_start=False)\n",
      "\n",
      "\n",
      "Train dataset calss distribution: \n",
      " 1    7035\n",
      "0    7035\n",
      "Name: label, dtype: int64\n",
      "accuracy score: 75.95%\n",
      "train and test time: 1.13s\n",
      "--------------------------------------------------------------------------------\n",
      "Confusion Matrix\n",
      "\n",
      "      0    1\n",
      "0  1471  346\n",
      "1   288  531\n",
      "--------------------------------------------------------------------------------\n",
      "Classification Report\n",
      "\n",
      "              precision    recall  f1-score   support\n",
      "\n",
      "           0       0.81      0.84      0.82      1759\n",
      "           1       0.65      0.61      0.63       877\n",
      "\n",
      "    accuracy                           0.76      2636\n",
      "   macro avg       0.73      0.72      0.72      2636\n",
      "weighted avg       0.76      0.76      0.76      2636\n",
      "\n"
     ]
    }
   ],
   "source": [
    "word_vectorizer = CountVectorizer(\n",
    "    strip_accents='unicode',\n",
    "    analyzer='word',\n",
    "    token_pattern=r'\\w{1,}',\n",
    "    ngram_range=(1, 1), \n",
    "    max_features=10000)\n",
    "lr = LogisticRegression(solver ='liblinear',penalty='l1')\n",
    "model_checker(word_vectorizer,lr,'Oversampling')"
   ]
  },
  {
   "cell_type": "markdown",
   "metadata": {},
   "source": [
    "##### 5.4.3 Random Forest + CountVectorizer + Unigram + Without Oversampling"
   ]
  },
  {
   "cell_type": "code",
   "execution_count": 334,
   "metadata": {},
   "outputs": [
    {
     "name": "stdout",
     "output_type": "stream",
     "text": [
      "RandomForestClassifier(bootstrap=False, class_weight=None, criterion='entropy',\n",
      "                       max_depth=None, max_features='sqrt', max_leaf_nodes=None,\n",
      "                       min_impurity_decrease=0.0, min_impurity_split=None,\n",
      "                       min_samples_leaf=1, min_samples_split=2,\n",
      "                       min_weight_fraction_leaf=0.0, n_estimators=10,\n",
      "                       n_jobs=None, oob_score=False, random_state=100,\n",
      "                       verbose=0, warm_start=False)\n",
      "\n",
      "\n",
      "accuracy score: 75.46%\n",
      "train and test time: 3.42s\n",
      "--------------------------------------------------------------------------------\n",
      "Confusion Matrix\n",
      "\n",
      "      0    1\n",
      "0  1571  459\n",
      "1   188  418\n",
      "--------------------------------------------------------------------------------\n",
      "Classification Report\n",
      "\n",
      "              precision    recall  f1-score   support\n",
      "\n",
      "           0       0.77      0.89      0.83      1759\n",
      "           1       0.69      0.48      0.56       877\n",
      "\n",
      "    accuracy                           0.75      2636\n",
      "   macro avg       0.73      0.68      0.70      2636\n",
      "weighted avg       0.75      0.75      0.74      2636\n",
      "\n"
     ]
    }
   ],
   "source": [
    "word_vectorizer = CountVectorizer(\n",
    "    strip_accents='unicode',\n",
    "    analyzer='word',\n",
    "    token_pattern=r'\\w{1,}',\n",
    "    ngram_range=(1, 1), \n",
    "    max_features=10000)\n",
    "RF = RandomForestClassifier(n_estimators = 10,bootstrap=False,max_features = 'sqrt',criterion = 'entropy', random_state=100)\n",
    "model_checker(word_vectorizer,RF,'None')"
   ]
  },
  {
   "cell_type": "markdown",
   "metadata": {},
   "source": [
    "##### 5.4.4 Random Forest + CountVectorizer + Unigram + Oversampling"
   ]
  },
  {
   "cell_type": "code",
   "execution_count": 335,
   "metadata": {},
   "outputs": [
    {
     "name": "stdout",
     "output_type": "stream",
     "text": [
      "RandomForestClassifier(bootstrap=False, class_weight=None, criterion='entropy',\n",
      "                       max_depth=None, max_features='sqrt', max_leaf_nodes=None,\n",
      "                       min_impurity_decrease=0.0, min_impurity_split=None,\n",
      "                       min_samples_leaf=1, min_samples_split=2,\n",
      "                       min_weight_fraction_leaf=0.0, n_estimators=10,\n",
      "                       n_jobs=None, oob_score=False, random_state=100,\n",
      "                       verbose=0, warm_start=False)\n",
      "\n",
      "\n",
      "Train dataset calss distribution: \n",
      " 1    7035\n",
      "0    7035\n",
      "Name: label, dtype: int64\n",
      "accuracy score: 75.46%\n",
      "train and test time: 3.51s\n",
      "--------------------------------------------------------------------------------\n",
      "Confusion Matrix\n",
      "\n",
      "      0    1\n",
      "0  1623  511\n",
      "1   136  366\n",
      "--------------------------------------------------------------------------------\n",
      "Classification Report\n",
      "\n",
      "              precision    recall  f1-score   support\n",
      "\n",
      "           0       0.76      0.92      0.83      1759\n",
      "           1       0.73      0.42      0.53       877\n",
      "\n",
      "    accuracy                           0.75      2636\n",
      "   macro avg       0.74      0.67      0.68      2636\n",
      "weighted avg       0.75      0.75      0.73      2636\n",
      "\n"
     ]
    }
   ],
   "source": [
    "word_vectorizer = CountVectorizer(\n",
    "    strip_accents='unicode',\n",
    "    analyzer='word',\n",
    "    token_pattern=r'\\w{1,}',\n",
    "    ngram_range=(1, 1), \n",
    "    max_features=10000)\n",
    "RF = RandomForestClassifier(n_estimators = 10,bootstrap=False,max_features = 'sqrt',criterion = 'entropy', random_state=100)\n",
    "model_checker(word_vectorizer,RF,'Oversampling')"
   ]
  },
  {
   "cell_type": "markdown",
   "metadata": {},
   "source": [
    "##### 5.4.5 Random Forest + TFIDF + Unigram + Without Oversampling"
   ]
  },
  {
   "cell_type": "code",
   "execution_count": 336,
   "metadata": {},
   "outputs": [
    {
     "name": "stdout",
     "output_type": "stream",
     "text": [
      "RandomForestClassifier(bootstrap=False, class_weight=None, criterion='entropy',\n",
      "                       max_depth=None, max_features='sqrt', max_leaf_nodes=None,\n",
      "                       min_impurity_decrease=0.0, min_impurity_split=None,\n",
      "                       min_samples_leaf=1, min_samples_split=2,\n",
      "                       min_weight_fraction_leaf=0.0, n_estimators=10,\n",
      "                       n_jobs=None, oob_score=False, random_state=100,\n",
      "                       verbose=0, warm_start=False)\n",
      "\n",
      "\n",
      "accuracy score: 75.87%\n",
      "train and test time: 3.67s\n",
      "--------------------------------------------------------------------------------\n",
      "Confusion Matrix\n",
      "\n",
      "      0    1\n",
      "0  1622  499\n",
      "1   137  378\n",
      "--------------------------------------------------------------------------------\n",
      "Classification Report\n",
      "\n",
      "              precision    recall  f1-score   support\n",
      "\n",
      "           0       0.76      0.92      0.84      1759\n",
      "           1       0.73      0.43      0.54       877\n",
      "\n",
      "    accuracy                           0.76      2636\n",
      "   macro avg       0.75      0.68      0.69      2636\n",
      "weighted avg       0.75      0.76      0.74      2636\n",
      "\n"
     ]
    }
   ],
   "source": [
    "word_vectorizer = TfidfVectorizer(\n",
    "    strip_accents='unicode',\n",
    "    analyzer='word', #char 66.39%\n",
    "    token_pattern=r'\\w{1,}',\n",
    "    ngram_range=(1, 1), \n",
    "    max_features=10000)\n",
    "RF = RandomForestClassifier(n_estimators = 10,bootstrap=False,max_features = 'sqrt',criterion = 'entropy', random_state=100)\n",
    "model_checker(word_vectorizer,RF,'None')"
   ]
  },
  {
   "cell_type": "markdown",
   "metadata": {},
   "source": [
    "##### 5.4.6 Random Forest + TFIDF + Unigram + Oversampling"
   ]
  },
  {
   "cell_type": "code",
   "execution_count": 337,
   "metadata": {},
   "outputs": [
    {
     "name": "stdout",
     "output_type": "stream",
     "text": [
      "RandomForestClassifier(bootstrap=False, class_weight=None, criterion='entropy',\n",
      "                       max_depth=None, max_features='sqrt', max_leaf_nodes=None,\n",
      "                       min_impurity_decrease=0.0, min_impurity_split=None,\n",
      "                       min_samples_leaf=1, min_samples_split=2,\n",
      "                       min_weight_fraction_leaf=0.0, n_estimators=10,\n",
      "                       n_jobs=None, oob_score=False, random_state=100,\n",
      "                       verbose=0, warm_start=False)\n",
      "\n",
      "\n",
      "Train dataset calss distribution: \n",
      " 1    7035\n",
      "0    7035\n",
      "Name: label, dtype: int64\n",
      "accuracy score: 74.81%\n",
      "train and test time: 3.92s\n",
      "--------------------------------------------------------------------------------\n",
      "Confusion Matrix\n",
      "\n",
      "      0    1\n",
      "0  1650  555\n",
      "1   109  322\n",
      "--------------------------------------------------------------------------------\n",
      "Classification Report\n",
      "\n",
      "              precision    recall  f1-score   support\n",
      "\n",
      "           0       0.75      0.94      0.83      1759\n",
      "           1       0.75      0.37      0.49       877\n",
      "\n",
      "    accuracy                           0.75      2636\n",
      "   macro avg       0.75      0.65      0.66      2636\n",
      "weighted avg       0.75      0.75      0.72      2636\n",
      "\n"
     ]
    }
   ],
   "source": [
    "model_checker(word_vectorizer,RF,'Oversampling')"
   ]
  },
  {
   "cell_type": "markdown",
   "metadata": {},
   "source": [
    "##### 5.4.7 Naive Bayes + CountVectorizer + Unigram + Without Oversampling"
   ]
  },
  {
   "cell_type": "code",
   "execution_count": 338,
   "metadata": {},
   "outputs": [
    {
     "name": "stdout",
     "output_type": "stream",
     "text": [
      "MultinomialNB(alpha=1.0, class_prior=None, fit_prior=True)\n",
      "\n",
      "\n",
      "accuracy score: 74.62%\n",
      "train and test time: 0.40s\n",
      "--------------------------------------------------------------------------------\n",
      "Confusion Matrix\n",
      "\n",
      "      0    1\n",
      "0  1493  403\n",
      "1   266  474\n",
      "--------------------------------------------------------------------------------\n",
      "Classification Report\n",
      "\n",
      "              precision    recall  f1-score   support\n",
      "\n",
      "           0       0.79      0.85      0.82      1759\n",
      "           1       0.64      0.54      0.59       877\n",
      "\n",
      "    accuracy                           0.75      2636\n",
      "   macro avg       0.71      0.69      0.70      2636\n",
      "weighted avg       0.74      0.75      0.74      2636\n",
      "\n"
     ]
    }
   ],
   "source": [
    "NB = MultinomialNB()\n",
    "word_vectorizer = CountVectorizer(\n",
    "    strip_accents='unicode',\n",
    "    analyzer='word', #char 66.39%\n",
    "    token_pattern=r'\\w{1,}',\n",
    "    ngram_range=(1, 1), \n",
    "    max_features=10000)\n",
    "model_checker(word_vectorizer,NB,'None')"
   ]
  },
  {
   "cell_type": "markdown",
   "metadata": {},
   "source": [
    "##### 5.4.8 Naive Bayes + CountVectorizer + Unigram + Oversampling"
   ]
  },
  {
   "cell_type": "code",
   "execution_count": 339,
   "metadata": {},
   "outputs": [
    {
     "name": "stdout",
     "output_type": "stream",
     "text": [
      "MultinomialNB(alpha=1.0, class_prior=None, fit_prior=True)\n",
      "\n",
      "\n",
      "Train dataset calss distribution: \n",
      " 1    7035\n",
      "0    7035\n",
      "Name: label, dtype: int64\n",
      "accuracy score: 70.26%\n",
      "train and test time: 0.40s\n",
      "--------------------------------------------------------------------------------\n",
      "Confusion Matrix\n",
      "\n",
      "      0    1\n",
      "0  1305  330\n",
      "1   454  547\n",
      "--------------------------------------------------------------------------------\n",
      "Classification Report\n",
      "\n",
      "              precision    recall  f1-score   support\n",
      "\n",
      "           0       0.80      0.74      0.77      1759\n",
      "           1       0.55      0.62      0.58       877\n",
      "\n",
      "    accuracy                           0.70      2636\n",
      "   macro avg       0.67      0.68      0.68      2636\n",
      "weighted avg       0.71      0.70      0.71      2636\n",
      "\n"
     ]
    }
   ],
   "source": [
    "model_checker(word_vectorizer,NB,'Oversampling')"
   ]
  },
  {
   "cell_type": "markdown",
   "metadata": {},
   "source": [
    "##### 5.4.9 SVM + CountVectorizer + Unigram + Without Oversampling"
   ]
  },
  {
   "cell_type": "code",
   "execution_count": 340,
   "metadata": {},
   "outputs": [
    {
     "name": "stdout",
     "output_type": "stream",
     "text": [
      "SVC(C=1.0, cache_size=200, class_weight=None, coef0=0.0,\n",
      "    decision_function_shape='ovr', degree=3, gamma='auto_deprecated',\n",
      "    kernel='linear', max_iter=-1, probability=True, random_state=101,\n",
      "    shrinking=True, tol=0.001, verbose=False)\n",
      "\n",
      "\n",
      "accuracy score: 74.39%\n",
      "train and test time: 146.28s\n",
      "--------------------------------------------------------------------------------\n",
      "Confusion Matrix\n",
      "\n",
      "      0    1\n",
      "0  1479  395\n",
      "1   280  482\n",
      "--------------------------------------------------------------------------------\n",
      "Classification Report\n",
      "\n",
      "              precision    recall  f1-score   support\n",
      "\n",
      "           0       0.79      0.84      0.81      1759\n",
      "           1       0.63      0.55      0.59       877\n",
      "\n",
      "    accuracy                           0.74      2636\n",
      "   macro avg       0.71      0.70      0.70      2636\n",
      "weighted avg       0.74      0.74      0.74      2636\n",
      "\n"
     ]
    }
   ],
   "source": [
    "SVM = svm.SVC(kernel = 'linear', probability = True, random_state = 101)\n",
    "word_vectorizer = CountVectorizer(\n",
    "    strip_accents='unicode',\n",
    "    analyzer='word', #char - 66.39%\n",
    "    token_pattern=r'\\w{1,}',\n",
    "    ngram_range=(1, 1), \n",
    "    max_features=10000)\n",
    "model_checker(word_vectorizer,SVM,'None')"
   ]
  },
  {
   "cell_type": "markdown",
   "metadata": {},
   "source": [
    "##### 5.4.10 SVM + CountVectorizer + Unigram + Without Oversampling"
   ]
  },
  {
   "cell_type": "code",
   "execution_count": 341,
   "metadata": {},
   "outputs": [
    {
     "name": "stdout",
     "output_type": "stream",
     "text": [
      "SVC(C=1.0, cache_size=200, class_weight=None, coef0=0.0,\n",
      "    decision_function_shape='ovr', degree=3, gamma='auto_deprecated',\n",
      "    kernel='linear', max_iter=-1, probability=True, random_state=101,\n",
      "    shrinking=True, tol=0.001, verbose=False)\n",
      "\n",
      "\n",
      "Train dataset calss distribution: \n",
      " 1    7035\n",
      "0    7035\n",
      "Name: label, dtype: int64\n",
      "accuracy score: 74.13%\n",
      "train and test time: 224.96s\n",
      "--------------------------------------------------------------------------------\n",
      "Confusion Matrix\n",
      "\n",
      "      0    1\n",
      "0  1460  383\n",
      "1   299  494\n",
      "--------------------------------------------------------------------------------\n",
      "Classification Report\n",
      "\n",
      "              precision    recall  f1-score   support\n",
      "\n",
      "           0       0.79      0.83      0.81      1759\n",
      "           1       0.62      0.56      0.59       877\n",
      "\n",
      "    accuracy                           0.74      2636\n",
      "   macro avg       0.71      0.70      0.70      2636\n",
      "weighted avg       0.74      0.74      0.74      2636\n",
      "\n"
     ]
    }
   ],
   "source": [
    "model_checker(word_vectorizer,SVM,'Oversampling')"
   ]
  },
  {
   "cell_type": "markdown",
   "metadata": {},
   "source": [
    "#### 5.5 Word2Vec +  Models"
   ]
  },
  {
   "cell_type": "code",
   "execution_count": 270,
   "metadata": {},
   "outputs": [],
   "source": [
    "def load_glove_model(glove_file):\n",
    "    \"\"\"\n",
    "    :param glove_file: embeddings_path: path of glove file.\n",
    "    :return: glove model\n",
    "    \"\"\"\n",
    "    print(\"Loading Glove Model\")\n",
    "    f = open(glove_file,'r', encoding = \"utf8\")\n",
    "    model = {}\n",
    "    for line in f:\n",
    "        splitLine = line.split()\n",
    "        word = splitLine[0]\n",
    "        embedding = np.array([float(val) for val in splitLine[1:]])\n",
    "        model[word] = embedding\n",
    "    print(\"Done.\",len(model),\" words loaded!\")\n",
    "    return model  \n"
   ]
  },
  {
   "cell_type": "code",
   "execution_count": 377,
   "metadata": {},
   "outputs": [],
   "source": [
    "# load pre-trained glove model from https://nlp.stanford.edu/projects/glove/"
   ]
  },
  {
   "cell_type": "code",
   "execution_count": 292,
   "metadata": {},
   "outputs": [
    {
     "name": "stdout",
     "output_type": "stream",
     "text": [
      "Loading Glove Model\n",
      "Done. 1193514  words loaded!\n"
     ]
    }
   ],
   "source": [
    "GloveModel = load_glove_model(\"glove.twitter.27B.200d.txt\")  "
   ]
  },
  {
   "cell_type": "code",
   "execution_count": 293,
   "metadata": {},
   "outputs": [],
   "source": [
    "count_total = 0        # Number of words in original tweet including duplicated words\n",
    "count_in = 0           # Number of words in Glove pre-trained da\n",
    "count_out = 0          # Number of words are not in Glove pretrained data\n",
    "out_words_list = []    # A list of words that are not found in Glove pretrained data\n"
   ]
  },
  {
   "cell_type": "code",
   "execution_count": 297,
   "metadata": {},
   "outputs": [],
   "source": [
    "# get vector for each word, add vectors and take the average of the vector\n",
    "def tweet_to_vector(tweet, GloveModel, num_features):   \n",
    "    \n",
    "    global count_total, count_in, count_out\n",
    "    word_count = 0\n",
    "    feature_vectors = np.zeros((num_features), dtype = \"float32\")\n",
    "    \n",
    "    for word in tweet.split(' '):\n",
    "        count_total += 1\n",
    "        if word in GloveModel.keys():   \n",
    "            count_in += 1\n",
    "            word_count += 1\n",
    "            feature_vectors += GloveModel[word]\n",
    "        else:\n",
    "            count_out += 1\n",
    "            out_words_list.append(word)\n",
    "    if (word_count != 0):\n",
    "        feature_vectors /= word_count\n",
    "    return feature_vectors"
   ]
  },
  {
   "cell_type": "code",
   "execution_count": 303,
   "metadata": {},
   "outputs": [
    {
     "data": {
      "text/plain": [
       "array([ 1.57867670e-01, -7.02119991e-02, -1.88197002e-01, -1.41797006e-01,\n",
       "       -3.75759989e-01,  1.30613334e-02,  5.85546672e-01,  5.71029000e-02,\n",
       "       -2.23953322e-01, -2.97366858e-01, -1.39348343e-01,  2.77816653e-01,\n",
       "       -4.18916672e-01,  1.90225348e-01, -2.81933337e-01, -4.32376653e-01,\n",
       "        2.68950015e-01, -1.33072659e-01, -7.90596604e-02, -2.02959344e-01,\n",
       "        1.28099993e-01,  7.58896694e-02, -3.03083342e-02,  1.35471657e-01,\n",
       "       -3.21693346e-02,  8.35429966e-01,  8.08740035e-02,  1.01371765e-01,\n",
       "        1.15334235e-01, -1.82173327e-01, -2.33048663e-01, -1.58611000e-01,\n",
       "       -3.43452007e-01,  3.68813306e-01, -3.49330008e-02, -3.90546657e-02,\n",
       "       -1.18868656e-01,  2.80440331e-01,  1.80993333e-01,  1.15845345e-01,\n",
       "       -3.08980018e-01,  6.86606690e-02, -5.00606559e-02,  1.49970010e-01,\n",
       "       -2.02950343e-01, -1.29555658e-01,  2.13615999e-01,  6.93316609e-02,\n",
       "        1.42356008e-01, -7.88826719e-02,  2.55999010e-04, -1.42173335e-01,\n",
       "       -2.82210320e-01, -2.12530002e-01,  5.01336634e-01,  3.74546647e-01,\n",
       "       -1.93800014e-02,  7.62273297e-02,  9.18133464e-03, -1.79575667e-01,\n",
       "       -1.46099990e-02, -3.20716649e-02, -1.03326328e-01, -2.22865343e-01,\n",
       "        9.24623311e-02,  9.27566662e-02, -2.13383332e-01,  2.16100022e-01,\n",
       "        2.32377231e-01, -2.20124319e-01,  7.43400306e-03,  5.01866676e-02,\n",
       "       -2.97517657e-01, -1.12890668e-01, -7.69400038e-03,  3.26903343e-01,\n",
       "        3.13266665e-01, -1.30333334e-01, -1.98933348e-01,  1.25843331e-01,\n",
       "       -3.09500024e-02,  5.01763344e-01,  4.97696310e-01,  8.11866671e-02,\n",
       "       -1.00502335e-01, -4.13186669e-01, -4.06908154e-01,  4.11164999e-01,\n",
       "        1.43600002e-01, -1.55403331e-01, -9.38773379e-02, -2.66128004e-01,\n",
       "        1.27450332e-01,  6.84697807e-01, -2.63760000e-01, -1.37774006e-01,\n",
       "       -9.63500068e-02,  2.23132670e-01, -1.67753339e-01,  2.00998008e-01,\n",
       "       -3.11776668e-01,  8.47063288e-02, -1.20470338e-01,  2.30586663e-01,\n",
       "       -1.18133336e-01,  1.21883996e-01,  1.11229993e-01,  3.32129091e-01,\n",
       "       -2.88127333e-01,  6.98766634e-02,  4.44383323e-02,  4.20133434e-02,\n",
       "       -3.14160019e-01,  2.28886664e-01, -1.86829329e-01, -5.62896669e-01,\n",
       "       -3.94978672e-01, -1.51396662e-01,  2.48830020e-01, -8.70819613e-02,\n",
       "        5.34929991e-01,  2.84188002e-01, -4.69202362e-02, -5.24966680e-02,\n",
       "        2.42046658e-02,  7.79623389e-02,  1.11574404e-01, -5.12923300e-01,\n",
       "       -3.25309992e-01,  4.48369980e-01,  7.15166628e-01, -3.25003326e-01,\n",
       "        2.01820001e-01,  4.15423304e-01,  1.60630330e-01,  4.13099974e-02,\n",
       "       -1.85843352e-02,  5.30119956e-01,  1.51936665e-01,  7.19926730e-02,\n",
       "        1.45056665e-01, -4.70006675e-01,  2.42923319e-01, -1.25111327e-01,\n",
       "       -8.55043605e-02,  5.92566617e-02, -1.41376004e-01,  4.51856703e-01,\n",
       "        4.13425326e-01, -1.89036667e-01,  4.55586672e-01,  1.49763329e-02,\n",
       "       -4.81783342e+00,  1.63029999e-01, -2.22701326e-01,  2.15155348e-01,\n",
       "       -6.12510026e-01, -1.45596668e-01, -2.95028001e-01, -4.60025370e-02,\n",
       "        6.55183375e-01, -3.56022328e-01, -3.39667231e-01,  4.77833301e-02,\n",
       "       -6.79566637e-02,  6.16586655e-02,  3.85713339e-01, -1.20906331e-01,\n",
       "       -6.89193383e-02, -1.21593354e-02,  4.86866683e-02,  6.15666658e-02,\n",
       "        2.41436675e-01,  2.11543337e-01, -5.62666508e-04,  1.05869323e-01,\n",
       "       -1.80066660e-01,  3.01820010e-01, -2.00293306e-02, -2.98832413e-02,\n",
       "       -5.36420010e-02, -2.64606681e-02,  8.97909999e-02,  1.44940004e-01,\n",
       "        1.77131340e-01, -7.13200048e-02, -6.61973298e-01, -3.75386700e-03,\n",
       "       -1.09501064e-01,  4.35064346e-01, -1.34474978e-01,  2.44452670e-01,\n",
       "        1.46010995e-01, -8.79700109e-03, -1.02958672e-01, -1.62746664e-02,\n",
       "       -4.44443345e-01, -2.11691335e-01,  1.27361342e-01, -2.55351692e-01],\n",
       "      dtype=float32)"
      ]
     },
     "execution_count": 303,
     "metadata": {},
     "output_type": "execute_result"
    }
   ],
   "source": [
    "# example\n",
    "tweet_to_vector('hello my friend',GloveModel,200)"
   ]
  },
  {
   "cell_type": "code",
   "execution_count": 346,
   "metadata": {},
   "outputs": [],
   "source": [
    "# get word2vec vector for each tweet        \n",
    "def get_tweet_vectors(tweets, GloveModel, num_features):    \n",
    "    curr_ind = 0\n",
    "    tweet_feature_vecs = np.zeros((len(tweets), num_features), dtype = \"float32\")\n",
    "    \n",
    "    for tweet in tweets:\n",
    "        if curr_ind % 2000 == 0:\n",
    "            print('Word2vec vectorizing tweet %d of %d' %(curr_ind, len(tweets)))\n",
    "        tweet_feature_vecs[curr_ind] = tweet_to_vector(tweet, GloveModel, num_features)\n",
    "        curr_ind += 1\n",
    "    return tweet_feature_vecs   "
   ]
  },
  {
   "cell_type": "code",
   "execution_count": 347,
   "metadata": {},
   "outputs": [],
   "source": [
    "# build models based on word2vec embeddings    \n",
    "def Word2Vec_Model(df, classifier,sampling_method):\n",
    "    print(classifier)\n",
    "    print('\\n')\n",
    "    \n",
    "    trainTweet,testTweet,trainLabel,testLabel = train_test_split(df,sampling_method)        \n",
    "    pipeline = Pipeline([('classifier',classifier)])\n",
    "    \n",
    "    global count_total, count_in, count_out\n",
    "    global out_words_list\n",
    "    count_total, count_in, count_out = 0, 0, 0 \n",
    "    out_words_list = []    \n",
    "    \n",
    "    trainVec = get_tweet_vectors(trainTweet, GloveModel, 200) # it has to be same as read in txt dimension which is 200.\n",
    "    testVec = get_tweet_vectors(testTweet, GloveModel, 200) # glove.twitter.27B.200d.txt\n",
    "    \n",
    "    print(\"Glove word embedding statistic\\n\", \"count_total: %d/\" %count_total, \"count_in: %d/\" %count_in, \"count_out: %d/\" %count_out)\n",
    "    print(\"Number of unique words without embedding: %d\" %len(set(out_words_list)))\n",
    "    print(\"Words without embedding: \\n\", set(out_words_list))\n",
    "    \n",
    "    t0 = time() \n",
    "    pipeline.fit(trainVec,trainLabel)  \n",
    "    y_pred = pipeline.predict(testVec)\n",
    "    train_test_time = time() - t0    \n",
    "                        \n",
    "    accuracy = accuracy_score(testLabel,y_pred)\n",
    "    confusion_result = confusion_matrix(y_pred,testLabel)\n",
    "    \n",
    "    print(\"accuracy score: {0:.2f}%\".format(accuracy*100))\n",
    "    print(\"train and test time: {0:.2f}s\".format(train_test_time))\n",
    "    print('-'*80)\n",
    "    print (\"Confusion Matrix\\n\")\n",
    "    print (pd.DataFrame(confusion_result))\n",
    "    print('-'*80)\n",
    "    print (\"Classification Report\\n\")\n",
    "    print (classification_report(testLabel,y_pred))"
   ]
  },
  {
   "cell_type": "markdown",
   "metadata": {},
   "source": [
    "##### 5.5.1 Logistic Regression + Word2Vec Embedding"
   ]
  },
  {
   "cell_type": "code",
   "execution_count": 348,
   "metadata": {},
   "outputs": [
    {
     "name": "stdout",
     "output_type": "stream",
     "text": [
      "LogisticRegression(C=1.0, class_weight=None, dual=False, fit_intercept=True,\n",
      "                   intercept_scaling=1, l1_ratio=None, max_iter=100,\n",
      "                   multi_class='warn', n_jobs=None, penalty='l1',\n",
      "                   random_state=None, solver='liblinear', tol=0.0001, verbose=0,\n",
      "                   warm_start=False)\n",
      "\n",
      "\n",
      "Word2vec vectorizing tweet 0 of 10543\n",
      "Word2vec vectorizing tweet 2000 of 10543\n",
      "Word2vec vectorizing tweet 4000 of 10543\n",
      "Word2vec vectorizing tweet 6000 of 10543\n",
      "Word2vec vectorizing tweet 8000 of 10543\n",
      "Word2vec vectorizing tweet 10000 of 10543\n",
      "Word2vec vectorizing tweet 0 of 2636\n",
      "Word2vec vectorizing tweet 2000 of 2636\n",
      "Glove word embedding statistic\n",
      " count_total: 176468/ count_in: 136341/ count_out: 40127/\n",
      "Number of unique words without embedding: 6695\n",
      "Words without embedding: \n",
      " {'', 'yuzusft', 'THING', 'ISIS-LOVER', 'WHILE', 'tevagas', 'smithsgrove', 'SOB', 'EXCELLENT', '.s', 'onevoice', 'oc-', 'DR.', 'andy-wonder', 'low-growth', 'MULLAH', 'votethemallout', 'f-up', 'youfailed', 'BS', 'PC', 'strokz', 'SECONDS', 'hurry..', 'twtich', 'DEPLORABLES', 'STEAL', 'universally-unwanted', 'brexiteer', 'nuclearfamily', 'brettkavanaughhighschoolconfessions', \"'FIGHT\", 'magarallyrules', 'HELLO', 'liberals*', 'opinion..', 'CONEY', 'hurricaneflorence', 'donjr', '-GOP', 'and/', \"'politically\", 'this-', 'SPEECH', 'clinton..', 'NEXRAD', 'fremino', '..understand', 'brexiteers', 'all~', 'sargentini', 'haidt', 'OMG', 'ILLEGALALIEN', 'BOC', 'TEXAS', 'peoplesvote', 'MYTH', \"'challengers\", 'berniernation', 'NIGGA', 'shot/jailed', 'phone/online', 'GOOBER', 'AFTER', 'AMOUNTING', 'PARTICRATIC', 'violence/domestic', 'USERNAME', 'immediarely', 'confirmcoachk', 'island.latest', 'tbose', 'trivialities', 'FUNNYHEJS', 't.may', 'HMP', 'CUUUUUKS', 'JEWS', 'incel', 'semamtics', 'WTOBREXIT', 'VA', 'QUICK', 'trumpism', 'RHE', 'DEVIL', '.YOU', 'think/speak', 'VERBA', 'CREEPY', 'KAHLILI', 'votenoonkavanaugh', 'AS', 'CF', 'anti-ameican', 'TIM', 'REGULAR', 'patriotsfight', 'activismseptember', '~although', 'CAREFULLY', 'JFKJR', 'W/O', 'spunktrumpet', 'catchtheredwave', 'DEAL', 'HATE', 'JJ', 'FAILURE', 'reeee', 'D', 'think..now', 'theats', 'ALWAYS', '-barkley', 'pro-russia', 'qproofs', 'ONT', 'shouldertoshoulder', 'antifascism', 'baby-adults', '.let', 'PLZ', 'YEARS', 'half-idiot', 'dimms', 'twitterpurge', 'COMMENTS', 'aparachnik', 'BEE', 'clear.many', 'msm/democrats/liberals', 'imbackingboff', 'MAGAFORALLINC', 'why.but', 'chosenpeople', 'INVITED', '..no', 'temper-tantrums', 'P', 'COMPLETE', 'm/f', 'SJW', 'GOT', 'RULES', 'COLOR', 'spread+', 'SWITCH', 'KARRIGAN', 'MACK', 'GUNS', 'GROUND', 'thestormisuponus', 'juxtapositioning', 'hardwallet', 'trumper', 'staffpick', 'CEA', 'SM', 'desrerved', 'FEMA', 'usarepublic', 'OT', 'SNP', 'racism-bullshit', 'BTW', 'kathua', 'rosello', 'MSAGA', 'belief..', 'pakneedsmediapolicy', 'BEING', 'DANA', 'SAFE', 'makecaliforniagreatagain', 'NICELY', 'livedexperiencedisevidence', 'KOCHS', 'killgough', 'M.', 'FILTH', 'tihnks', \"'you\", 'rebellion-', 'RETWEET', '*people', 'location..', 'telesmokacatin', 'traitor-pants', 'right/wrong', 'muellertime', 'BOYCOTTING', '/CGI', 'BOSS', 'PRESIDENT', 'obama-vomit', 'candiace', 'abortion.because', 'antideutsch', 'legitamately', 'ohhhhhh', 'TJHAN', 'PERHAPS', 'declass', 'PHOENIX', 'nvestigated', 'psyop', 'makeamericasafeagain', '-person', 'looneyleft', 'cadeservesbetter', 'PTO', 'FROM', 'FAR', 'scheer/bernier', 'quetsiyah', 'intelligence..', 'LICENSEREPORTERS', 'conservatives/', 'SUMS', 'H-B', 'leftistlibtards', 'LANDS', 'DUP', 'AHH', 'no-deal', 'QUALIFIED', 'BEAUTIFUL', '^___^', 'EEL', 'GON', 'REPEATEDLY', 'lbclive', 'bodyshaming', 'b*******', 'dirtypolitics', 'lowkie', '..mater', 'jsjdhkdfhjfkfkhsjdhd', 'fisadeclassification', 'cliiimmmm', 'KL', 'drumpf', \"'unethical\", 'DECIDE', 'him-democrats', 'groominggangs', '*vote', 'colledge', 'something..', 'dottering', 'comes.petition', 'lowness', 'back-door', 'w/military', '-affordable', 'trump-style', 'aalayah', 'gotrojans', 'trashpeople', 'whitegenocide', 'jesusitrustinyou', 'MESSENGERS', 'medicare-for-all', 'DESTROY', 'HOMELESS', 'WHY', 'dosomthing', '-telly', \"'sinner\", 'HALE', 'deeds..', 'WORTH', 'dirtytricks', 'taklked', 'best..lol', \"'the\", 'GOOOOOOOOOOOOD', 'PHX', 'COUNTRY', '*BIG', 'REASONABLE', 'housingmarket', 'gunfreezones', 'MATTER', 'fuckingclass', 'muzzie', 'thescore', 'trump/conservatives/republicans/gop/magats', 'serenawillams', 'COLOURS', 'impeachtrump', 'fbicorruption', 'constitutionday', 'GOOD', 'schiffbrains', 'sycophants..', 'antifa/msm/dnc', 'USE..', \"'kick-back\", 'oldageproblems', 'antifa-haters', 'tdavis', 'adherance', 'CMALT', 'SALMON', 'hanghim', 'bluelivesmatter', 'MAROONED', 'saying.', 'earphones..still', 'bedfellow', 'violence..it', '.didn', 'analytica', 'it..shameful', 'dance..', 'sex/gender', 'go..', 'ketterer', 'GARBAGE', 'blacklivesmatter', 'GODAMN', 'walkedaway', 'thelatinartist', 'K', '..he', 'UNBELIEVABLE', 'JIMIN', 'ARC', 'ANTI-FASCISM', 'walkawayfromdemocrats', 'jeezuz.fucking.christ', 'voice-', 'armament/training', 'VOTERS', 'conservativeseveryone', 'inculcate', 'desinfo', '..don', 'forclosure', 'EYES', '-your', 'WV', '.ANTIFA', 'doubleplusgoodspeak', 'phycho', 'achichincle', 'forevaaaaaaaaaaa', 'STEEL', 'PPP-', 'MS-', 'AG', 'degrom', 'GIVE', 'prolib', 'VID', 'JFC', 'NUT', 'lyingskank', 'HIT', 'kanaugh', 'SFTV', '*NOT*', 'radicalizing', 'f*ck', 'CLARIFY', 'off-track', 'ontpoli', 'BENEFIT', 'BELIEVE_HYUNJAE_DAY', 'TL', 'DEFENDED', 'wayawful', 'PUSSIES', '*antifa', 'PICK', 'trumpwashing', 'podcastful', 'INDICTED', 'LEGIT', 'missionaccomplishedwewontwatch', 'LW', 'ahhooo', 'groupthinkstinks', 'iniated', 'googlesplaining', 'READ', 'mi*rosoft', 'connive', 'kogasa', 'WITH', 'uncomefortbul', 'already-debunked', 'rights/freedoms', 'projectreality', 'MCCASKILL', 'MISS', 'government-sanctioned', 'panicindc', 'CAUTION', '.he', 'abhorres', 'remoaners', 'suceess', 'biggbosstelugu', 'REPUBLICANS', '.so', 'antifagr', 'NAACP', 'cough*nicky', 'vainly', 'w/o', 'dcrats', 'kavanaughwithdraw', 'bigly', 'loveforjess', '.oh', 'freddiesmith', 'guterriz', 'WWII', 'daisho', 'rules-based', 'cleaningcanada', 'MMT', 'hahahahaha-sure-she', 'sell-by', 'vaxxed', 'MURDERER', 'LEADERSHIP', '.your', 'them-', 'lird', 'SINK', 'CONUS', 'GROPER', 'IPO', 'hear-broken', 'frequentand', 'ACLU', 'subsection', 'COMMITMENT', 'CONCRETE', 'DNC', 'endthegop', 'conservatards', 'YOUR/FAMILY', 'NATION-WIDE', 'S___T', 'soros-shill', 'aboilish', 'bhagwad', 'QALERT', 'w/the', 'TRAUMA', '-foodnetwork', 'money.liberals', '-bill', 'hmrchumancost', 'DEFEAT', 'OIF', 'donaldtrumprallies', 'prescreening', 'appropo', 'SHOOT', 'yokels', 'fiberals', 'REPUB', \"'it\", 'EXACTLY', 'thebrooksbrown', 'thursdaythoughts-', '.sid', 'DOWN_WITH_GOVERNMENT_CORRRUPTION', 'ELECTORS', 'neverthelesssss', 'dangerousdemocrats', 'two-tiered', 'REALIZE', 'PATTY-RAID', 'untreatable', 'RULE', 'craley', 'NOOO', 'mutuals/followers', 'iwillnotsubmit', \"'TERRORIST\", 'COCKS', 'insight-', 'BACKFIRES', 'dearprofessorford', 'HOUSE', 'AVAILABLE', 'NAMES', 'PROOF', 'me.also', 'massmedia', '*meanwhile', 'liberallogic', 'andrewboff', 'freedomandjusticeforall', 'dexades', 'results/goals-based', 'murkowski', 'NOVEMEBERIT', \"'RE\", 'ellison/', 'layperson', 'STAR', 'BRAIN', 'gonein', 'KOD', 'BATMAN', 'brexiters', 'BIAS', 'NK', 'nutbar', 'WANTED', 'SUBPRIME', 'FREDDIE', 'libertennial', 'zealotry', 'duuuueerrrrhhh', 'SKY', 'hiders', '-liking', 'kowtowing', 'FORBID', '..WE', 'groomng', 'CIA/NSA', 'weeabo', 'hoppe-', 'antisemetic', '*TERROR', 'patriotsunited', 'doublestandarddems', 'rtoday', 'BRAKES', 'LOWER', 'group.just', 'MR', 'clarencethomas', 'DOUBLOONS', 'AP', 'TICKETS', 'MOMENT', 'nipigon', 'bhadbhabie', 'n..', 'media/mps', 'kavanah', 'IVE', 'FUCKIDNG', 'RETHINK', 'are.', 'projectveritas', 'ANARCHIST', 'tolerables', 'chiselchest', '..where', 'populists', 'SEEMS', 'reversepcism', 'SUSPEND', 'LIBERTY', 'demonrats', 'illios', 'SOCIAL', 'BREATHE', 'embalment', '//.', 'pantsonfire', 'position**', 'corruptgop', 'NAME', 'end.despicable', 'mcbuckets', 'DEMSUCK', 'junkees', 'all..', 'everywheh', 'MVP', 'nothinglower', 'THATD', 'belifs', 'brexitshambles', 'feminists..', 'DID', 'makewise', 'GRAAAWRL', 'marvollo', 'sleeeeeeepppp', 'HMG', 'LMAOOO', 'libshateamerica', 'libnut', 'RNR', 'CFB', 'prayalloftheprayers', 'sense..', 'IK', 'meuller', 'workjams', 'na*', 'COMPLAINS', 'MINUTE', '...', 'G.E', 'stonecutter', 'potus..oops', 'cruzcrew', 'backtheblue', 'foster/implement', 'rf.then', 'leavem', 'PERJURER', 'MASSIVE', 'maunaloa', 'neccessarily', 'LIE', 'WONDER', 'sonnykiriakis', 'OK.', 'CORRECTION', 'moderate..pro', 'DO', 'TARGETS', 'must-keep-growing', 'republicans/', 'BLUEWAVE', 'jimjordan', 'LEAVE', 'sugardaddyneeded', 'c*ck', 'BENGHAZI..', 'RMS', 'MAYOR', 'bleachbit', 'TITTIES', '-human', 'WOMAN', 'CBB', 'maaayy', 'WAPO', 'tooliberalfornky', 'identitypolitics', 'gpsent', 'PERSONAL', '**available', 'mustvote', 'BEZOS', 'szczepanski', 'NFL', 'WEBCAM', 'mediation/fact', '.had', 'NEW', 'chaid', 'dyess', 'publicity..', 'FIENSTINE', 'ES', 'IDLE', 'standlast', 'STUCK', 'brettkavanaugh', 'menapausal', 'TEA', '==', 'x.not', 'KREAMY', 'D*MBASSES', 'RING', 'winter-spring', 'multibillion', 'PTL', 'unfirtunately', 'BJ', 'joebiden', 'more-', 'corybooker', 'woman..or', 'SOUND', 'playbook..the', 'deepstateisreal', 'point..', 'supporters=nazis', 'HAPPY', 'oresident', 'open-season', 'wedonotconsent', 'characterizations', 'multi-millionaires', 'CBS', 'CHRIS', \"alinsky's-rules\", 'ALTERNATIVE', 'pervertsinc', 'justwank', 'sadim', 'liberals/corrupt', 'REALITY_CHECK', 'SLIGHTEST', 'noredactions', 'britishtorycarcrash', 'SILENT', 'problems..who', 'REMOVE', 'doasisaynotasido', 'TERRORISM', 'TO', 'internet.anti', 'conservatives/republicans', 'P.', 'knuckledraggers', 'FACE', 'paytoplay', 'wellsaidshe', \"'shit\", 'fartacus', 'conservatard', 'bwaaaaa', 'COLOUR', \"'ladies\", 'baby-*', 'power-we', 'KGB', 'killedfriday', 'labourparty', 'GOODNESS', 'THEVIEW', 'LIES', \"'LIVE\", 'NYC', 'taxreform', 'withdraw.he', 'fuckkk', 'CINO', 'LBGQT', 'TUC', 'EVERYTHING', 'SEE', 'maximebernier', 'marchonfromwalker', 'SLOBS', 'powerprayersred', 'O.K', 'CAMPAIGN', 'novichok', 'YOOOOO', 'rememberingedward', '-ancient', 'I-', 'game..', 'WATCHING', '*sshats', 'have..', 'impeachement', 'president..', \"'boyhood\", 'sharialaw', '.why', 'meanyou', 'JESUSLIVES', 'jesussaves', 'gdtrial', 'factsmatter', 'DRUGGIE', 'demoncraps', 'trumpie', 'WE', 'or..', 'reasonableness', '+million', 'MUSLIM', 'RACIST', 'scary*', 'NET', 'VIOLENCE', 'control-dump', 'THANK', 'RMT', 'jackiedp', 'nomoreprogressiveliberals', 'holton-arms', 'conservatives..', 'SHAME', 'INTHE', 'PUSSY', 'gophypocrites', '.pers', \"'OVER\", 'AR-', '-leaks-', '_their', 'experts-', ':c', 'DIED', 'dewwane', 'SOP', 'colinkaepernick', 'WERE/ARE', 'comments..this', 'T', 'trumptrain', '*INHALES*', 'acts/accidents', 'muttafuttah', 'TBC', 'DUMB', 'blueripple', 'ar-s', 'bigotry..', 'FACT..SANCTUARY', 'are-', 'synchronicity..it', 'joymorrissey', 'meteric', 'ZOOMED', 'excuse..he', 'mooslim', 'G', 'shyster', 'RENT', 'demswanttotalcontrol', '/so', 'maga.walter', 'f***ing', 'LIVPSG', 'rights.hoping', '.masters', 'enddaca', 'right..the', 'show..barking', 'go-so', 'unwary', 'tingling*', '-you', 'EARNED', 'BEHAVIOR', 'letsgoshooting', 'maturerity', '*shuving', 'upper/upper-middle', 'deviancy', 'thing..the', 'MONEY', 'cracchead', 'mineta', 'nickidagoat', 'DIMWIT', 'alll', 'AZ', 'crazyunclejoe', 'witch*', 'kavannah', 'LAZY', 'liberalismisamentaldisease', 'general.harris', 'COMPLACENCY', '-YEARS', 'RESISTANCE', 'swedish-style', 'openness/low', 'CLOSE', 'STATES', 'OSU', 'SIX-', 'SURE', 'dogooodthers', 'R.E', 'ABOARD', 'anti-gun-control', 'disporaenresistencia', 'like.', 'BEEN', 'KILLER', 'JPM', 'idonotconsent', 'OFF', 'scraficed', 'IMPACT', 'PLATFORM', 'ixine', 'TNGOP', 'OPTIONAL', 'pussygrabber', 'marginalizing', 'MADE', 'shakha', 'obamas/', 'LA', 'kavanaughconfirmationhearing', 'w/this', 'too..', 'AFP', 'geonicidal', 'speeding/jaywalking', '*buying', 'birdsize', 'TRAILER', 'C.K', 'RIOT', 'unclassifie', 'SEC', 'soyboy', 'e-every', 'pro-iek', 'babies-', 'HE', 'conservatives.', 'californiawildfires', 'NEXT', 'issss', 'EVIL', 'razzinfrazzinmaggle', 'primatives..', 'AGT', 'chinless', 'craigkardashian', 'obumer', 'THINGS', 'F___K', 'anything..kind', 'apartaments*', 'HORRIFIC', 'SAW', 'P.C', 'ex-', '-elmo', 'KNOW', \"'liberals\", 'WHITE', 'comeyshouldbeindicted', 'trumptime', 'theconcerttour', '.how', 'sanctimony', 'liberalsneedtheirownpsychward', 'INTELLECTUAL', '*also*', 'THANKS', 'alleslev', 'force/reasoning', 'HAW', '.sorry', '.as', 'fool..', 'FAMILY', '.KG', 'gropers', '.like', 'twitterleftbias', 'OUT', 'SAD', 'party.nothing', 'PAYERS', 'lawthose', 'fulk', 'MAGA', 'TALKING', 'POISON', 'correlation-definitely', 'momentprotest', 'priveledged', 'FINALLY', 'interesting-cause', 'ATA', 'draintheswamp', 'WHOS', 'youuuuuu', '..in', 'anti-sjws', 'POS', 'BACK', 'trumptariffs', 'russiacollusion', '.she', 'won..', 'rosenstein', 'REFUSED', 'desths', 'commanderinchief', 'unindicted', 'I-DLE', 'AWONE', 'TE', 'keithellison', 'sarandron', 'CONSERVATORSHIP', 'b.s.-insures', 'pussyhats', 'MLB', '.nope', 'USTA', 'abetterway', 'grahn', 'CARE', '*shakes', 'repug', 'givekapachance', 'CRAZY', 'bloodflies', 'NBD', 'LOESCH', 'PU', 'NAFTA', 'unkess', 'A.J', 'MOTHER', 'buildthatwall', '.laws', 'SEXUAL', 'ABA', 'publicsector', 'MBGA', 'either..', 'agholor', 'INDEED', 'lapdpgs', 'conservatives=self-hating', 'fault..she', '//HE', 'FORESIGHT', 'cdnpoli/ticians', '..haha', 'BITCHES', \"should'vetaken\", '-jamie', 'stopkavanagh', 'thunks', 'PP', 'RADICAL', 'letter.', '+++', 'yrs.if', 'patriotsunite', 'KO', 'townhalls', 'cockamamy', 'DIDN', 'novemberiscoming', 'control.they', 'powertothepeople', 'caribbros', 'V.', 'awewww', '.bottom', 'fuck..ill', 'woosy', 'released/introduced', 'GUN', 'phinnaly', 'KEY', 'smashfascism', 'it..', 'latingrammycnco', 'FRICKING', 'dough/pastry', \"'NUMBERS\", 'TRADER', 'plummet..', 'MOORE', 'GLC', 'prasident', 'WARNING', 'pillars*', 'UC', 'airforce..', 'GLORIOUS', 'JWB..', 'bobbybrown', 'powdering', 'socialistlies', 'REACHES', '*sigh*', 'STIR', 'HOME', 'MURDERED', 'HEROICS', 'acussed', 'cross-examine', 'kellyanne', 'saveourcountry', 'politics-', 'LMAOOOO', 'control.', 'tedcruz', 'brexit', 'WOULD', 'thisisamerica', 'monstermay', 'BLUE', 'GM', 'OP', 'MAYBE', 'chuckchequers', '-obama', 'free.', 'KAVA', 'ARRESTING', \"m'eh..\", 'wednesdaymotivation', 'same..', 'WINNING', 'bigbosstamil', '.am', 'SMOL', 'NOW', 'bigstuff', 'ILLEGALS', 'KIT', 'GTTO', 'satochi', 'momsdemand', '.tin', 'defendthesecond', 'rapistdemocrats', 'remanics', \"'I\", 'LIST', 'BUY', 'strawberryrecall', 'GASSES', 'RE', 'christinablaseyford', 'AR', 'HIV', 'POSTER', 'AL', '-ONE-HALF-YEARS', 'DESERVE', 'victim-hood', 'declassifyitall', 'cutewhich', 'TA', 'BEGGING', 'maulis', 'youbuiltthis', 'MCGA', 'SELECTIVE', 'care/emergency', 'excoriating', 'red-blooded', 'CUTER', 'democratsaredangerous', 'FRAUD', \"y'know\", 'VALID', 'goldendawn', 'batsht', 'legislates', 'NICS', 'COMEDY', 'FORTNITEANDROID', 'TARGET', 'mnuchin', 'JERK', 'polygraphs', 'KC', 'demon-crats', 'resisting.', 'DUMMIES', 'kaze-', 'PSYC', 'VE', 'AGED', 'DEFEND', 'smarter-', 'terroism', 'GOAT', 'BNP', 'WEAPONIZED', 'DARKNESS', 'dreamdoll', 'do.she', 'WTF', 'bullshit..', 'KOCHSUCKER', 'BRITISH.', 'privitizing', 'senility*', 'CAREFUL', 'JLR', 'loomer', 'endculturalmarxism', 'magats', 'antifa/resist', 'ANXIETYS', 'usaafr', 'taeyoun', 'DEPENDS', 'USMC', 'BROWN', 'kavanaughforscotus', 'frauddemocrats', 'syntactically', 'tweeeeeetrrrr', 'brat-and', 'DECADE', 'INSURANCE', 'kraber', 'reylo', 'UNDERSTAND', 'tears*', 'HEART', 'cough*', 'complancey.', 'pizzagate', 'serenawilliams', 'leggings/boots', 'W/HRC', 'bringbridgethome', 'questionsyes', 'FAIL', '/bite/', 'jonesout', 'PETA', 'cocktribute', '*she', 'skrull', 'left/dems', 'kabasele', 'SC', 'yasakelma', 'ANTIFA..ANONYMOUS', 'LATE', 'wokeisis', 'republican-dominated', 'AAA', 'linewed', '.AND', 'welliver', 'tastethebarbierainbow', 'manafort', 'irish/european', 'ARIES', 'helenkeller', 'AIR', '**follow/like', 'abortive', 'breaked', 'obama/bushii/clinton/bushi', 'TBT', 'DOWN', 'antifa/', '*REPLACES', 'TOTAL', 'slowly*', 'MEGA', 'cephalic', 'gadarenes', 'TWEETS', 'declassification', '*hugs', 'OBLIVION', 'partyvery', 'bitch*', 'judical', '*lied*', 'sarsour', 'SLAPS', 'DOXX', 'lisapage', 'loonyleft', 'EXCITED', 'BEAUTY', 'EVERYBODY', 'them..walter', 'ready..', 'clintoncrimefamily', \"i'sorry\", 'house/apartment', 'N', 'post-', 'co-conspirator', 'NATION', 'pristin', 'REGISTERED', 'good..', 'krishnaji', 'MS', 'cucks', 'SPECIFICALLY', 'championforfamilies', 'YP', 'credible-keith', 'lips/big', 'TRANSPARENT', 'WOO-HOO', 'lieberal', 'whatilearnedtoday', 'technical/trade', 'WTAF', 'legislatively', 'ho-man', 'assholes..', 'belong.-', 'toops', 'THA', '*your', 'OURSELVES', 'kavauagh', 'HEALTH', 'reputationtour', 'HAPPYHYUNJAEDAY', 'FELT', 'unclassifying', 'COMMUNIST', 'nguni', '-voter', 'movement-had', \"ol'bob\", 'WALL', 'republican/conservative', 'makeamericagreatagain', 'proscribed', 'POVERTY', 'shadow-banning', 'crminal', 'fanniemae', 'ourselves-', 'phenominon', 'POITING', 'AUSTRALIA', 'DREGS', 'BUNGA', 'gggrrr', 'melber', 'C.', 'rightsideofhistory', 'LIFETIME', 'hate..if', 'GIRL..', 'doomentio', 'magareppowervotestrengthened', 'manny_ottawa', 'morning..i', 'unoffensive', 'rational..', 'MONTHS', 'PR', 'UNCLE', 'EVIDENCE', 'O..', 'quasi-conservatives', '..stfu', 'secessionists', 'dipfuck', 'patriachy', \"'think\", 'LOGO', 'insubstantial', 'winblue', 'metoowitchhunt', 'susanrice', 'tessyfiy', '*wigs', 'news.', \"'to\", 'PRINCESS', 'TEDCRUZ', 'FATHER', 'shadowbanning', 'empathy/morals', 'tripletalaq', 'side..what', 'withdrawkavanaugh', 'memeing', 'thyats', 'deepstate', 'nytimesopedbyqanon', 'GA', 'years..', 'SUCKS', 'slander/libel', 'TAXES', 'DEFEATED', 'unelectable', 'CIA-', 'VOTEREPUBLICAN', 'POLSI', 'shadowbanned', 'EATING', 'indescretion', 'blasey', 'is~', 'binoculars*', 'mondaymood', 'position/posts', 'RUIN', 'newstatus', 'francoism', 'ECHR', 'UK/EU', 'bestuseqwant', 'whatconservatives', 'bbclive', 'similar..', 'SUNY', 'DESPERATE', 'months-according', '..right', 'unstable..', 'demoncratic', 'STANDS', 'LEVISTRAUSS', 'THEIR', 'be/do', 'releasethedocuments', 'AT', 'declassifyreleasesunredacted', 'femfrauds', 'gigeconomy', 'IF', 'whataretheyhiding', \"'race\", 'baby..', '.this', 'bardbits', 'alt-right', '-riot', 'JOINING', 'OVOMIT', 'ill-equipped', 'FONDING', 'amendment/campus', 'STRONG', 'country..', '..liberal', 'YTD', 'oh..i', 'FSU', 'beauden', 'ANY', 'LOCK', 'STL', 'BRAC', 'annasourpuss', '-cultural', 'fortnite', 'afd-ordner', 'geraniuminthecranium', 'WIN', 'FALSEHOOD', 'STRONGER', 'CUTE', 'thebobbybrownstory', 'RACISTS', 'DEZBRYANT', 'ZAYN', 'something-', 'OOF', 'MF', 'democrats/', '..', 'trumptards', \"lie'n\", 'INITIALLY', '.uhm', 'here..my', 'wanktavists', 'purpleumpkin', 'presidrnt', 'POTUS', 'REPUBLICAN', 'BAD', 'jfkjr', 'story.then', 'world.what', '*finally', 'MAJOR', 'SCIENCE', 'passrusher', 'democrat=antifa', '.no', 'EXTENSION', 'antifa-bullies', '*gag*', 'serena.she', 'BULLSHT', 'kavanope', 'monopoles', '-its', 'SNL', 'food-', 'VOTE', 'AWWW', 'LOL', 'realdonaldtrump', '.wheels', 'congratulaions', 'narative', 'LBC', '.at', '..globalism', 'sitroom', 'disempowered', 'CHANGES', 'hollyweirdo', 'sundaymotivation', 'astarisborn', 'GOLD', 'literalviolence', 'bobpackwood', 'ehrman', 'AVFC', \"'deeply\", 'anti-pernickety', 'UNGA', '-____-', 'YESSSSSHHHHH', '`midget', 'NH', 'DAMN', '..it', 'tziyon', 'DUE', 'AWAY', 'COMMUNISM', 'WIT', 'ANONS', 'ATF', 'COURAGE', 'car-crash', 'PANIC', 'appointees..', 'aguearo', 'orchestrated/provoked', 'WORST', 'SMILES', 'ILYSM', 'treygowdy', 'noalbum', 'USA', 'III', 'rebekahismoftheday', 'underpins', 'libtarded', '*sniffs*', 'kavanough', 'debt.', 'agreeds', 'puleeeze', 'HARD', 'scaramucci', 'unrecuse', 'voice.', 'INSANE', 'PATTERN', 'libdemconf', 'exaserbate', 'accomplishments-', '-zoe', 'JUSTICENOW', 'DEMOGRAPHICS', 'FACT', 'DIFFERENT', 'fascist-', 'SB', 'MEOW', 'lincoln.', 'CONSTITUTIONAL', 'crazymaxine', 'everything..', 'MAC', 'unepic', 'ijustdontseemyself', 'centralist-liberals', 'FELON', 'RAPIST', 'ESA', 'L', 'bringbridgetback', 'realtornggiveaway', 'misdrawed', 'U.S.A.', 'religiousfreedom', 'republicans/conservatives', 'doubt..', 'me-too', 'FUTURE', 'PENNY', 'nflfootball', 'immigrantion', 'spanishrevenge', 'antifascist', 'HUNT', 'obama.he', 'KH', 'us..', 'anti-nazi', 'PROPAGANDA', 'COO', 'naturalisation', 'theresa_may', 'adearfriendnjust', 'sept.th', 'xrpcommunity', 'FM', 'theranos', 'allvetsradio', 'gray/white', 'SHES', '-law', 'BBCAN', 'premediated', 'fitton', 'heughan', 'closernation', 'shamelessness', 'iran..', 'LVMPD', 'DEMOCRATE', 'denuke', 'WAYS', 'COMPANY', 'SIDED', 'biglly', 'STOLE', 'COTUS', 'dry-humping', 'CANADIANS', 'shhhh', 'IMPAIRED', 'THEFT', 'GAVE', 'baltimoreriots', 'G+A', '.the', 'X.', 'follower..i', 'STABLE', 'careful..', 'entrenches', 'FAUX', 'DFLA', 'uhh..', \"'not\", 'greatawakening', 'torb', 'antinationalist', 'noconfidence', 'non-binary', 'iberals', 'CONTEMPT', 'MGK', 'EXPOSE', 'lowemissions', 'constitution..he', 'wednesdaywisdom', 'efects', 'beeto', 'EX', 'plagarism', 'GGG', 'CAMERA', 'boycottemmys', 'PERSONNEL', \"we'r\", 'FBI/DOJ', 'DESERVES', 'roevwade', 'himtoo', 'womenarewatching', 'netherlandstaxhaven', 'menance', 'SUPRESSION', \"'NECESSARY\", 'EMPOUNDMENT', 'reciprocally', 'showerofshite', 'stopkavanaugh', 'ONLY', 'NO.', 'bergun', 'EU', 'bush-cheney', 'antifaareterrorists', 'WHOA-BAMA', \"'what\", 'SCARED', 'trubisky', 'FUBAR', 'DRAGON', 'farright', 'relativizing', 'uofgh', 'cultpolitburo', 'PL', 'her..', 'antifa/momentum', 'restingbitchface', 'wallstreetjournal', 'disabilityrights', 'TAKEN', 'WATER', 'DA', 'ji-hyun', 'wisperd', 'msmedialies', 'LAND', 'malcolmx', 'qclearance', 'amrinder', 'fawningly', 'BJP', 'puris', 'TRUST', 'EXPOSED', 'MAN', 'poltics', '.putin', 'knowor', 'SOCIETY', 'MLM', 'ACE', \"i'am\", 'CEL', 'concept/design', 'goptaxscam', 'TEAM', '-time', 'OVER', \"'innovative\", 'taxes..', 'leftwingers', 'AHOLE', 'INTERCEPTED', 'UNDER', 'clearheaded', 'godblesstheworld', 'PERFECT', 'everytown', 'SEXY', 'voc.', 'anti-antifa', 'LMAO', '.please', 'TRULY', 'TIMES', 'FF', 'nhs/social', 'LF', 'gillum', 'hetzjagd', 'left/democrats', 'vitue', 'IRL', 'BEFORE', 'mosotho', 'fuxnews', 'NEWS', 'POG', \"'sanjuro\", 'TRUE', 'BABYSIT', \"'hourglass\", 'turmps', 'YOURE', 'jonso', 'winthorpe', '..usko', 'PJNET', 'BLEW', 'cranleys', 'behinder', '*is*', 'AUSTERITY', 'facebook-', 'womensmarch', 'physical/social', 'guilty/innocence', 'self-professed', 'levistrauss', 'karachiites', 'protecckaiser', '***triggers', 'fire-up', 'makeamericasaneagain', \"'carol\", 'msmedia', 'nosafespaces', 'hungerless', '-he', 'interoperate', 'CDC', 'SPOOKY', 'SFOS', 'WANTS', 'ASAP', 'HERE', 'tapdance', 'nocollusion', 'SCARY', 'K.', '..you', 'theemmys', 'antifastock', 'praytheusa', 'I..', 'bluepuddle', 'PDP', '..this', 'sargon', 'career-embarrass', 'BBC', 'flotusrocks', 'webberforcongress', 'MAC-', 'libeling', 'deal/wto', 'enjoytheshow', 'dixiecrats', 'CANT', 'bitc-', 'D.C.', 'croocked', 'MOGG', 'analysis-charles', 'HOW', 'NA', 'world*', 'almostcousins', 'barbarically', 'nonewsom', 'releasethetexts', 'homeby', 'FUCK', 'restitching', 'truthfeed', 'AGENDA', 'FUKEN', 'CLUE', 'TRASH', 'NAZI', 'N.S', 'WTH', 'ORDER', 'valuinghealth', 'epithats', 'PROVIDE', 'REST', 'million-', 'intelligent..', 'antifa-great', '-rd', 'obamaknew', 'scotuspick', 'ridiculous..', 'GUNCONTROL', 'boypussy', 'thivery', 'laughts', 'NOTICE', 'anywhere..', 'osuite', 'nraun', 'america..theyre', 'EAT', 'baaaaa', 'theresistance', 'medi-care', 'DELUSIONAL', 'REMINDING', 'youfe', 'chinaly', 'tyranny=treason', 'emplyers', '/liberals', 'JUSTICE', 'rose..', 'trumpman', 'PASS', 'onenation', 'TRDJ', 'defeatism', 'bengarrison', 'albertpike', 'interested/qualified', 'torythieves', 'NBA', 'examing', 'equaljustice', 'KGO', 'SUPERSIZED', 'feeling.', 'hplife', 'nflwalkaway', 'nonpresidential', 'HYPOCRITICAL', 'firemorningjoe', 'lockherupalready', 'THIS', 'gutirrez', 'wwgonewgall', 'thegreatawakening', 'prodcutive', 'presidnet', 'EPITOME', 'moore-', 'leftieluvvieliberals', 'trivialized', 'GAG', 'dude..', 'post-suspension', 'terriorist', \"'senate\", 'a******', 'DEMS-', 'CAREER', 'kamakazee', 'BLOCKED', 'whatsatstake', 'leftists/liberals', 'teacher/student', 'PUTIN', 'WHOOO', 'AHHHHHHH', 'VOC', 'horrorland', '..get', 'wakeupeurope', 'EEA', 'gutno', 'AF', 'stopped..', 'DONG', 'APPOINT', 'mcvays', 'RECORD', 'LOYAL', 'tweeted..so', 'makesouthafricagreatagain', 'ENFORCING', 'cdcwhistleblower', 'lie..', 'SHIT', 'u-', 'illusterates', 'trudeaumustgo', 'HOLY', 'liberalsmustgo', 'BEAN', 'breibart=comic', 'brandmatters', 'program..', 'VICTIM', 'rainmakersunite', 'shit-', 'morphe', 'ANTI', 'CUCK', 'theferalleft', 'feminizing', '-yogi', '*the', 'good-', 'i*n', 'CHAD', 'pussygrabbing', 'WALKAWAYFROMDEMOCRATS', 'BOII', 'SIMB', 'encashing', 'originalism', 'rushfamily', 'SORRY', 'manaforttrial', 'republiklan', 'gop-', 'secular-progressive', 'w/a', 'SAYN', 'oligarchies', 'FINISHED', 'tourismjobs', 'GO', 'forgivingness', 'POLLS', 'NOCOMPROMISE', 'fakejournalists', 'yesonkavanaugh', 'sexal', 'NO-', 'oroshimaru', '*KNOWINGLY', 'swomen', 'RACISM', 'ownthelibs', 'FOE', 'standadd', 'kneejerk', 'yucker', 'SUDDENLY', 'levi-straussdoublesdown', 'cornuelle', 'reporting/', 'plessy', 'BE', 'amazonpets', 'pro-trump', '//i', 'provincially', 'yassssss', 'TEAMTRUMP', 'idolatrous', 'soros/obama/clinton', 'larrynassar', 'run..', 'MEANWHILE', 'POLITICIZED', 'villianized', 'bernie.he', 'if/when', 'NS', 'prick`s', 'anqueefa', 'theswamp', 'chandlermassey', 'ST', 'student-loan', 'sh**', 'evonomy', 'MN', 'DEEP', 'EVEB', \"'shitty\", 'morealligatorgreedannulled', 'robertsrooms', '-two', 'fbrparty', 'thecpcisapoliticalhategroup', 'KKK', '..that', 'nsl/mccarthyism', 'umdala', 'dumpford', 'schizophrenia..', 'AARP', 'farrakahn', 'down.poof', 'SCUM', 'anti-serena', 'renacci', 'brownshirt', 'CRITICAL', 'LOVE', 'topbuzz', 'andrewgillum', 'meansful', 'arkansas~along', 'boys/girls', 'wade-women', 'handmaids', 'kavanaughaccuser', 'sedition=', '..thank', 'UPDATE', 'harassed/attacked', 'jhdsfhjsg', 'bias..', 'cayde', '.people', 'NAH', 'MONKEYS', 'SETTINGS', 'trumpstard', 'LIGHT', 'DICTATORS', 'intellectualidiot', 'keeptexasred', 'RUNNING', 'demorats', 'LMBO', 'YW', '..case', 'evergreet', 'justiceclarencethomas', 'hfjdhd', 'reason.', 'true.women', 'OHIO', 'savetheth', 'partybeforecountry', 'supersoldiers', 'SIR', 'sendmccarthypacking', 'THE_BOYZ', 'conservative..amazing', 'THEE', 'SACRED', 'GTMO', 'KIND', 'nancypelosi', 'walkawaymarch', 'victoriasecrets', 'secondammendment', 'ASMR', 'establishmnt', 'pushawardsmaywards', 'cosponsored', 'FDS', 'liberalvalues', 'LEFTISTS', 'angeela', 'catkiller', 'wassamatta', 'varadkar', 'QUEEN', 'law.obviously', \"'RETURN\", 'qanon', 'proisrael', 'enebot', 'declassifying', 'DEMOCRATS', 'boycotthollywood', 'luddites', 'rehman_chishti', 'UNARMED', 'ASA', '-u', 'MAIN', 'SAYS', 'NON', 'sir..maga', 'theeyeofthestorm', 'no-', 'A.', 'wwgwga', 'TRADE', 'OTHERWISE', 'describesto', 'qanuck', 'ASB', 'walkawaydemocrats', '.stand', 'abusuve', '-student', 'slogan/promise', 'OFFENDERS', 'supermajority', 'adamandeve', 'demands..', 'week.senior', 'ajsvsnsksjsj', 'FFL', 'RHINO', 'teump', 'foxreport', 'PTI', 'CONTROL*', 'supersoldier', 'scholar-like', 'CAR', 'DANCER', 'SHOOTING', 'ILLEGAL', 'judgekavanaugh', 'FAILS', 'TINA', 'guarantied', 'MR.', 'trumpsupporters', 'shocktroops', 'v.i.lenin', 'fined-odds', '.practice', '/boots-on-the-ground', 'MM', 'FINE', 'brexity', '..shit', 'IN', 'ncdd.org', '*exhaustive*', 'redpill', 'villifying', 'idiot..his', 'girls.she', '.drunk', '..yawn', 'leftists/terrorists', 'BRAINWASHED', 'WONNA', 'killthezebras', 'PRISON', 'a**hole', 'distractification', 'd/', 'counteracts', 'toryparty', 'well-treated', 'hyper-partisan', 'resisttrump', 'CPP-NPA', 'form.', 'KAVANAUGH', 'sarrena', 'stopthebias', 'CORRECT', 'INMATE', 'bcashhhhhhhhhhconnectttt', 'canadaelection', 'AARON', 'FILL', 'socialsurvey', 'killshot', '.drew', 'chicago~~', 'trumpists', 'MENTALLY', '-pfffft', 'AFFORDABLE', 'WAS', 'freedomperiod', 'COOLEST', 'PREACH', \"'we\", 'acrimony', 'papercup', 'cosnstitution', 'MOG', 'cchqpress', 'IMPORTANT', '-the', 'imwithkap', 'workobviously', 'AN', 'CONTAIN', 'policies..now', 'OOH', 'w/marxist', 'foulmouthed', 'TRYING', 'bashthefash', 'granny.', 'FBPE', 'DBC', 'mumtaj', 'FIRMLY', 'christineford', 'whataboutery', 'ETH', 'beaten-', 'sterilizing', 'REASON', 'deepstatecorruption', 'territory.jerkoff', \"was't\", 'xilhatarra', 'MAVERICK', 'chittlerings', 'funny-', \"'extraordinarily\", 'FCC', 'BOMBS', 'me..especiallysen.kennedy', 'shamer', 'MAY', 'WOMEN', 'fkat', 'ALREADY', 'ruskies', 'DAM', '.accompanied', 'DEMS', '-~-', 'geologically', 'socialism=authoritarianism', 'GETS', 'CFO', 'resist/antifa', 'vigano', 'TONIGHT', 'SINGLE', 'past.she', 'FUN', 'TN', '..to', 'ONA', 'S', 'gmother', 'deplorabledreg', 'lmaaaaoooo', 'pbsnewshour', 'nemzet', 'ACHTUNG', \"'i'ma\", 'DESPICABLE', 'NOBLE', 'nessasary', 'saaaaaaadd', 'H', 'SOX', 'nokosoko', 'SAMI', 'DNA', '*finally*', 'thankfulthursday', 'congressman-a', '.f.u', 'prayrevival', 'hillaryous', '-take', 'real..this', 'ACTIVIST', 'afloat..', 'temp-tatts', 'VIDEO', 'dems/liberals', 'investigatechtistineford', 'KTVU', 'HAVE', \"'puzzling\", 'forgiveness.america', 'POS..', 'DEMOCRACY', 'dumocrat', 'ITALIAN', 'thinks/acts', 'toadette', 'partaken', 'EF', 'fakeuberdriver', \"f'off\", 'SOCIOPATH', 'prison..yes', 'breitbarters', 'followerickonig', 'POLITICS', 'trying..', 'SURVIVE', \"'infowars\", 'COLLEGE', 'sundaythoughts', 'AUMF', 'super-heavily', 'youuuu', 'familiesbelongtogether', 'A', 'pedophlia', 'BLATANT', 'gunbroker', 'chooseright', 'liberals/', 'media.propaganda', 'twitter-', '..the', 'huessein', 'o-ren', 'ET', 'THATS', 'discontents', 'nflfreesundays', 'indoctrinating', 'near+', 'kirinodere', 'THROWING', \"'unwinding\", 'thinblueline', 'control.swamp', '..they', 'FOOLED', 'COACHING', '..instead', 'muellerwitchhunt', 'murderrate', 'cristyn', 'ACCUSED', 'SHHHH', 'PURP', 'DISGUSTING', 'shirt~', 'BATTLEBUS', 'TONGUE', 'identitypoltics', 'IGNORANT', 'ancom', 'stoneman', 'whitesupremacist', 'ELECTED', 'election.maga', '..thought', 'garynuman', 'torylies', 'w/wire', 'bitch..', 'judgeships', 'cells..', 'you..via', 'democrats.this', 'ICON', 'IMNGONNA', 'fined/jailed', 'washed-out', 'DEATH', \"gov't\", 'bitchhh', 'lockthemup', 'JDKDKDK', 'LGBTQ+', 'STOCKS', 'majerle', 'therainmakers', 'ban/confiscate', '^LD', 'CRACKED', 'soooooounds', 'disgrace-without', 'russian-infiltrated', 'conservatives=', 'RATHER', 'HYT', '-ur', 'progressive..', '_proven_', 'FBR', 'markfoley', 'GIRL', 'oppotunity', \"h'wood\", 'qanons', 'SEND', 'reaserch', 'HUUGE', 'liberals/fox', 'veterens', 'weaponizing', 'CMS', 'cumslave', 'him/males', '-people', 'false.', '-antifa', 'you..', 'lnvestigation', \"'bama\", 'nowaters', 'xhe/zhe', 'whiteprivilege', 'alpoli', 'AGRESSIVE', '.total', 'buffoon.', 'crookedtrump', 'nevertrumpers', 'magatalk', 'nohonor', 'ocasio-cortez', 'PRAYING', 'HAHAHAHAHAHAHAHA', 'ipledgetovote', '-such', 'FOUR', 'endcorruption', '*michael', 'owellian', 'HELP', 'ittabloid', 'qanonchan', 'CCP', 'abortion=war', 'CONSTITUTION', 'jesusisback', 'riott', 'better.', 'UNLEASHED', 'BITES', 'NJ', 'know..', 'DRAINTHESWAMP', 'f**king', 'STAN', 'GLAD', 'antifa-like', \"'remove\", 'HORRIBLE', 'COURT', 'de-funk', 'HES', 'perjurer', 'HS', 'INTELLIGENT', 'MOST', '.will', 'kaushalarmy', 'nra/gun', 'B******', 'doorhit', 'man/his', 'ENFORCE', 'followthewhiterabbit', 'rwluciferiancult', 'gungrabber', 'NEITHER', 'detracting', 'HLL', 'scalise', 'slimfast..', 'life/death', 'RM+', 'crisis-', \"*don't*\", 'warriorscoach', 'ANCIENT', 'HISTORY', 'she`s', 'to..', 'COMES', 'housingcrisis', 'CR', 'vegasshooting', 'foolhardy', 'atsushi-kun', 'bbcpl', 'BK', 'CCW', 'fakedemocracy', 'names-', 'KDKSKSKS', 'blockchainful', 'X', 'DLC', 'US', 'expectus', 'DOES', 'lecor', 'F*', \"'cheating\", \"ought'a\", 'man.if', '/my', 'swallwell', 'MEI', 'ITS', '-illegal', 'BALLS', 'ldconfbrexit', 'farakans', 'EVERYWHERE', 'SJ', 'YAHWEH', 'WO', \"obviously..d'uh\", 'teamspotlightsunday', 'redwaverising', 'savedemocracy', 'FELONY', 'supplymanagement', 'VAN', 'EFF', 'SO-CALLED', 'TTT', 'toriesmustgo', 'akkad', 'HQ', 'FILTHY', 'fordnation', 'oh-no', 'FIVE', 'accused-', 'GREAT', 'BITCH', 'hostileenvironment', 'DIDNT', 'EASY', 'LOSE', '.fact', 'is/he', 'kb/mouse', 'rulesforradicals', 'AGREE', 'democrats/liberals', 'TRAFFIC', 'coolaintforsale', 'christineblaseykavanaugh', 'IRREDEEMABLE', \"'out\", 'KNEELING', 'VULNERABLE', 'ARM', 'L.', 'detail..', 'CONTINENT', 'WRIND', 'gun=coward', 'stevie.', 'QUIZ', 'pacgoldenstatewarriors', 'AKA', 'takeusaback', 'falwell', 'STUDENTS', 'TORIES', 'TWO', 'boycottnike', 'takendted', 'SHOT', 'bigtech', 'BU', 'altright', 'FPS', 'dregsofsociety', 'crimesyndicate', 'NBC', 'jr.she', 'scotuskavenaugh', 'PAY', 'horrible.i', 'exculpatory', 'countryoverparty', 'vote..', '-SC', 'HAUL', 'vanir', 'INVESTIGATE', 'bed-buddies', 'UNPREPARED', 'blm=waroncops', 'demeaned', 'NOV', 'mines/', 'WASR-', 'correctly-', 'cityoflondon', 'wepaidinyoupayout', 'TD', 'PROSECUTER', 'HAHAHAH', 'OTOH', 'summer-fall-', 'SIGN', 'RESPECT', 'asktheq', \"'legacy\", 'makeamericastrongagain', 'FAKENEWS', 'ABUSING', 'SAID', 'policallly', 'laser-focused', 'A+', 'stratadata', 'intelligence.', '-MS-', 'COWARD', 'jail..just', 'OBAMASPYGATE', 'in..liberals', 'eagleonetowanta', 'hypocrickets', 'sadnews', 'forttrump', 'sonnuva-gun', 'borders.doesn', 'murples', 'antifa-spade', 'MIGHTY', 'tanrums', '.cowards', 'INVOLVED', 'PLAYERS', 'LAME', 'BREAKING', 'betsydevos', 'DESERVED', '.cyberpunk', '*turns', 'aaaahh~', 'not..you', 'DARK', 'RGA-', 'shrio', 'scruffbag', 'laws-', 'LUNCH', 'QUANTIFIABLY', 'AMERICA', 'control..but', 'ah..', 'handcuffsforhillary', 'SJSNSN', 'possible.', 'vaccineholocaust', 'disisive', 'fashy', 'FUNDED', \"'dems\", 'SCHOOL', 'RIPM', 'counselled', 'agtresults', 'dorter', 'TOLD', 'RINOS', 'americanredmidterms', 'crookedmedia', 'ESP', 'LT.', '..ya', 'BO', 'NARCISSISTIC', 'hackers..', 'there..do', 'commsion', 'YAY', 'yiannopoulos', '=liberals', '*sighs*', 'civically', 'kavanaughhearings', '.boi', 'PS', 'quiet.', 'REPORT', 'hared', 'livingtrust', 'worlders', 'steamburgen', 'weakrinos', 'PROTESTERS', 'bhuvan', 'uhhh', 'embezzeled', '.reveal', 'CATCH', 'ISIS', 'ROMY', 'TREASON', '-gerrymandering', '+.', 'COOL', 'MESSSSSSS', 'TRY', 'NIGHT', 'RR', 'do..', 'rpreviously', '/is/', 'annalovestrump', 'myyy', '.conservatives', 'confirmjudgekavanaugh', 'theories.most', 'LET', 'liberalhate', 'LUCIFER', 'f*', 'CRUSHES', '-cheating', 'profit-driven', 'shootings-must', 'DEMOCRAT', '.FM', 'DETECTIVE', 'MILLION', 'broin', 'M-', 'FRIENDS', 'OJ', 'LOST', 'ARRESTED', 'WHATS', 'cat-sized', 'he-she', 'BAGS', 'idiotalert', 'LENIENCY', 'trump_babes_', '.bn', 'volient', 'thetruthshallsetusfree', \"'broad\", 'MULTIPLE', 'patchmade', 'sinmaduroyo', 'USB', \"'shock\", 'POLITICIANS', 'maxinewaters', 'CONTRACT', 'fight..', 'patrickmouratoglou', 'ACCOUNTABILITY', 'sbornwomen', 'ANTIFA', 'world..', 'double-talking', 'one..but', 'POSTED', 'SICILY', 'salinsky', 'DSA', 'near-universal', '..how', '.you', 'birdsofafeather', 'electoralreform', 'ALL', 'clearflynnnow', 'usaguard', 'so..it', 'fluffywolf', 'orgs.i', 'hellboys', 'releasethememo', 'housingforall', 'left/hillary/antifa', '.wait', 'season..they', 'CHECK', 'FALSE', 'maymustgo', 'ANYWAY', 'etc..', 'endpc', 'KERRY', \"'consumers\", 'democraticparty', 'kavanugh', 'SCHMUCK', 'mondaymotivaton', 'lockherup', 'skshsksk', 'dogs.', 'AIDING', 'WITCH', 'DISAGREE', 'antipo', 'fakenews.walter', 'publicauthorities', 'ALMOST', 'pixiegang', 'rednovember', 'scotians', 'proudboy', 'GORGEOUS', 'againtske', 'nope..', 'LAST', 'FCP', '-mr.', 'HAPPENED', '.YES', 'gunsights', 'strzok', 'americanpeople', 'FAN', 'them..', 'sniffs*', 'lowliness', 'nodealbrexit', 'SMI', 'that..', 'CONQUER', 'WEEK', 'lbcradio', 'kavanauh', 'youaregoingtojail', 'ZUCKERBERG', 'stalk..hunters', 'deceive.', 'SPA', 'IV', \"'M\", 'location/time/people', 'WINNIG', 'seongwu', 'kavanaugh', '.MAGA', 'course-the', 'WHINERS', 'FBI', 'womenshouldruletheworld', 'INCOMPATIBLES', 'ENVIRONMENT', 'hard-right', 'openness/high', 'alwaysacowboy', 'merkelkratie', 'SPAR', '*fingers', 'steepppp', '.org', 'SQUAT', '-=', 'GUESS', 'zeroed', 'LMFAOOO', 'war..', 'virulently', 'SUCH', 'hirono', 'yep.unfortuly', 'MINUTES', 'adulting', 'CRITIQUE', 'saying..', 'REVERSE', 'DEEPSTATE', 'beliees', 'LOV', 'I', 'crossed*', 'STORY', 'dafauler', 'CURTIN', \"'for\", 'COULDVE', 'dirt..', 'undereducated', '-I', 'DANIEL', 'immigrantsilegals', 'notokavanaugh', 'PRC', 'u..psst', \"'ause\", 'do/say', 'violation.u', 'indeed.a', 'tess_holliday', 'word.there', 'FUCKING', 'fry-frosty', 'criminalsinuniform', 'eyes-', 'former..first', 'safertomorrowfund', 'ACCOUNT.', 'madmaxinewaters', 'OUR', '-national', 'HOPE', 'ALP', 'kalergiplan', 'ago.', 'theonomists', 'MENTION', '.look', 'greatestthingsaboutthes', 'TRIPPIN', 'ADOPT', 'refernce', 'espouses', 'joedonttouchsomuch', 'AC', 'sajidjavid', \"destroysovereignusa-usconstndem'y+\", 'COBBLE', 'THEWHITEHOUSE', 'SHITTED/SHAT', '-conservatives', '.disgusting', 'co-conspirators', 'psuedo', 'IM', 'CENSORSHIP', 'pump-action', 'FUNERAL', 'latinosfortrump', 'neo-faux', 'haaaaaa', '-ya', 'drainthedeepstateswamp', 'CUPCAKES', 'E', 'kryptonian.turns', '.SHE', 'no-scope', 'carruing', 'it-', 'MEMBER/ILLEGAL', 'some/many', 'F', 'NORMAL', 'andriese', 'marxist-leninist-maoist', 'teamtani', 'HER', 'PREVENTED', '//yeah', 'cowboywayal', 'thewallstreetjournal', 'jeremy_hunt', 'DICTATE', 'ligic', 'yentas', '.and', 'JUDGE', '..yes', 'OH', 'BRUCEOUT', 'hurtng', 'agsessions', 'fed/local', 'families-', 'DM', 'cut-down', '.it', 'falseflags', 'apple/jacks', 'countrybeforeparty', 'TRAVELING', 'bad/ineffective', 'imperical', 'AK', 'enoughisenough..what', 'TX', 'niggaaahhhh', 'MONSTER', 'SHAFTICUS', 'SRM', \"'gun\", 'G.', 'JDKDKDD', '-this', 'redwave', \"'COWARDS\", 'FUCKIG', 'REP', 'bhakt..', 'mbpoli', 'are..unless', 'BANNING', 'either.still', 'up-', 'whaooaaaaa', 'PATRIOT', 'PROUD', 'IHRA', 'GRAB', 'jeremycorbyn', 'prolifegen', 'mini-g', 'SCHEME', 'gaytriots', 'USING', 'ADMINISTRATION', 'ENTIRE', 'LEFT', '.get', 'walldoesntprotectfromamericans', 'big-top', 'MEP', 'fundedbynyandhollywoodleftistsbutpretendingtobeatexan-o', 'anti-gop', 'swiftgpi', 'demandbetter', \"'why\", 'termlimits', 'I-R', 'stolded', 'PURDUE', 'manifort', 'benchers', 'JUST', 'FAKE', 'LRT', 'GINSBERGISNEXT', 'w/trump', 'bhadtranny', 'MEASURES', 'GOVT', 'cancelsouthpark', 'BAZ', 'VOTERED', 'OATH', 'SOCIALIST', 'conservatives..it', 'kuniva', 'allsup', 'calling..', 'ANTI-ANTIFA', 'mid-s', 'alt-media', 'deranged..', 'U', 'chuds', 'overwatch', 'THREATENING', 'finestine', 'nidus', 'satan..', 'RESPECT.', 'show-', 'thirdreich', 'REACTION', 'fakedrugwar', 'matters.', 'YOUR', 'steamrolling', 'ca-district', 'WHERE', 'nofeinstien', 'AGAIN', '.there', 'CHOSE', 'SNAKE', 'feelwings', 'mbappe', 'WTA', 'UR', 'NC', 'fixolas', 'silentwarfare', 'BIRNBAUM', 'youhadonejob', 'LEFTY', 'shopping-sale', 'them..there', 'thereupon', 'militarytribunals', 'have..no', 'lefist', 'uspolitics', '//', 'djsjsjjs', 'PISSED', 'MAJORITY', 'necular', '-got', 'BETO', '*and*', 'YUGE', 'regurgitates', 'shitposts', 'WORLD', 'unleavened', 'LOVED', 'show.our', 'vanguards', 'TRUMP=LEADER', 'plannedparenthood', 'mifsud', 'WC', 'startvettingcongressmen', 'out..', 'deregionised', 'IMPROVED', 'liketrump', 'bald-faced', 'RAH', 'lmfaoooooo', 'THAT', 'pediphiles', \"'none\", 'CU', 'whoaaa', 'diannefeinstein', 'ourcountry', 'MIDDLE', 'haley*', 'B/S', 'INFRINGED', '.LOSER', 'plasterd', '-she', 'million+', 'ABC', 'EXPOSETHEDEEPSTATE', '*white*', 'why..', 'DELAY..', 'LGBTQ', 'TRILLION', 'engineer..', 'SAYING', 'zemke', 'texaspolice', 'WERENT', \"'no\", 'COMMIE', 'WILL', 'ECONOMY', 'jeffsessions', 'commieclowns', 'military/leos', 'isis-antifa', 'TRUSTED', 'TF', 'ME', 'BASTARDS', 'NOO', 'TOGETHER', 'weeeeehhhhh', 'burnered', 'NIC', 'NCAA', 'hasenpfeffer', 'C-USA', 'neverwithdraw', 'roxhamroad', 'BRUH', 'HIM', 'disarmhate', 'LATER', 'gunsensenow', 'BRIDGEPORT', 'imwithdave', 'C_I', 'HOODS', 'TYPING', 'vogue..', 'BETTER', 'FASCIST', 'merrickgarland', 'BURNOL', 'TWEET', 'BUT', 'cartersbodysuitsweepstakes', 'hightechlynching', 'remember..', 'brettkavanuagh', 'ergnews', 'gamestopcontest', 'gutierries', 'beniesanders', 'PRO', 'DUH', '*sings', '.what', 'bigredwave', 'zeyal', 'animals..', 'RELEASING', 'OR', 'LOOKING', 'UNDERSTOOD', 'yawn.nothing', 'TRUMP', 'roseannebarr', 'femanazis', 'JOB', 'HELPED', 'lose/', 'conservativesattackondemocracy', 'FUCKOFF', 'markjudge', 'oshaeterry', 'liberalsguns', 'wemakeamericagreat', 'moviepass', 'mean..', 'BUTCH', '//you', 'THISWACKO', 'CONSERVATIVES', 't-be-evil-corp', '*chokes', 'b**ch', \"'capitalist\", 'LIFE', 'dgps', 'brexitmeansbrexit', 'NEVER', 'LIVE', 'PI', '.make', 'convo*', 'perjure', 'accordingly-you', 'example-', 'CIA', 'tommyvalhalla', 'baiters', 'burger..', 'repunklicans', 'antle', 'exposethetruth', 'ARREST', 'he\\\\she', 'WALKAWAY', 'chinesespy', 'STUPID', 'AND', 'liberallosers', 'DISS', '^TN', 'reporters/', 'bestpres', 'SMH', 'tax-dodgers', 'DON', 'O-H', 'shoot/stab', 'btain', 'unitedwestand', 'treph', 'REMEMBER', 'trumpderangementsyndrome', 'mediatoo', 'guttenburg', 'magadingdong', 'imprecation', 'welfarefoall', 'wayyyyy', 'CORRUPT', 'pro-a', 'DENIES', 'trumpkins', 'conservativecomedy', 'Y/O', 'wearecorbyn', 'PLAYER', 'woker', 'BYE-BYE', \"'ANY\", '.just', 'TMX', 'ocasio', 'yyyy', 'doyes', 'msuthu', 'WH', 'dregofsociety', 'mcraven', 'CHANCE', 'HAHA', \"o'lakes\", 'rhoode', \"'save\", 'DUCK', 'recusal', 'REINFORCE', 'reckognize', '-found', 'cockwaffle', '.guess', 'cow-tow', 'altc', 'anti-americans', 'ALEC', 'nasks', 'NATIVE', 'teacherlife', 'GOPER', 'ATTENTION', 'uscodechsec', 'NI', 'EYE', 'WWGWGA', 'JAIL', 'IRANIAN', 'things..like', 'kavanaughscotus', \"'keller\", 'HIGHER', 'YOUNG', 'thomas-anita', '.stupid', 'ironicnews', '..libnuts', 'ikkk', 'HIRE', '..WHY', 'brookee', 'LIVING', 'HB', 'BNF', 'THEM', 'come/true', 'daughters-all', 'writerwednesday', 'laughing*', 'thebills', 'THUS', 'nikead', 'SPINE', 'naxine', 'bushie', '..fire', 'doings/non-doings', 'SENSIBLE', 'INTENTIONAL', 'natfednews', 'guenther', 'demagogues', 'STILL', 'unons', 'DOJ/CIA', 'CARES', 'dontmessaroundwith', 'LAW', 'power-', 'yessss', 'nickferrari', 'vis--ve', 'crunchtoadifferentbeat', 'steppenwolf*', '*click*', 'GROW', \"'democracy\", 'metoo=waronmen', 'KEEPS', 'F*******', 'peopleoverprofits', 'DP', 'services/', 'genl', 'beyrayal', 'traitortrump', 'fuckeu', 'SPEAKER', 'fukushima-daiichi', 'TWIST', 'HUNKERED', 'terrorsits', 'again.u', 'ELECTION', 'krishn', 'yasir..nobody', 'CONTROL', 'THOUGH', 'democratshateamerica', 'PUTTING', 'VET', '*nevinbruce', 'sluch', 'FLAG', 'NIGHTMARE', 'singer/writer', 'COACH', 'NFW', 'ROSIE', '***william', 'BOOOM', 'welfareforall', 'EMO', 'money..', 'tealest', 'INVESTIGATION', 'WHENEVER', 'WIFES', 'thedeepstate', 'hilliary', 'REMOVING', 'anti-fascists', 'fuckinggg', 'nomanisabovethelaw', 'curtails', \"'tree\", 'USL', 'control/anti-a', 'listentoindustry', 'ENOUGH', 'HELPING', 'NHS', 'PERVERTS', 'upsideup', 'ancaps', 'innuendoes', 'endthechaos', 'and/or', 'btw..thanks', 'GNC', 'ASKED', 'snow-flake', 'SIWC', 'a_', 'TRUMPS', 'liberals/democrats', 'iloveamerica', 'bepannaah', 'NWOT', 'sheister', 'ANXIETY', 'LAUGHS', 'TOW', 'READY', 'VOLUME', 'N.', 'HARF', 'wonting', 'HOUSEHOLD', 'soros-backed', 'chicagodeathtoll', 'good/evil', 'S.O.B', 'capablities', 'JUVENILE', 'nolieu', 'AGAINST', 'saveournhs', 'DIMS', 'julieburchill', 'hadwin', 'firearms..', 'notificed', 'HAS', 'everchanging', 'w/no', 'GUYS', 'WEARING', 'lwhen', 'anything.enjoy', 'dog-eaters', 'AMEN', 'SLIDER', 'shhh', 'HOMEWORK', 'nfl.the', 'DANGEROUS', 'buildthewall', 'comicart', 'JD', \"'JUST\", 'fbpe', 'IHMYKGODOOSJ', 'vetobeto', 'avanetti', 'GIF', '.LOVE', \"'dregs\", 'LOOKOUT', 'QARMY', 'EUROPE', 'THREE', 'characterizing', 'agree..but', 'FABULOUS', 'DETAILS', 'OBNOXIOUS', 'HANG', 'SCAMMING', 'liberals..', 'recently-freed', 'MOE', 'MSD', 'boycottthenfl', 'LITTLE', \"'RNC\", 'QUESTION', '.youre', 'down..', 'SHOW', 'billayers', 'GORKEDDEMS', 'non-conservatives', 'JOE', 'smile..if', 'what-platform', '.except', 'bolsheviks', 'possive', 'USA..MAGA..', 'nocaliforniademocrats', 'iatrogenesis', 'SOME', 'hitlary', 'non-automatic', 'tinderbox', 'SOBTI', 'WORK', 'HR', 'REPUBLIC', 'DOUBT', 'SISTER', 'politically..', 'w/gi', 'ANGELINA', 'threichnwo', 'movie-', 'SOBBED', 'BROAD', 'zeckenbiss', 'fabricates', 'TC', 'DRIVER', 'wortless', 'trumpster', 'conadidate', 'hard..', 'dtmag', 'WW', 'HIAC', 'ANOTHER', 'cealrly', 'griexsevia', 'DB', 'freedomofexpression', '.BTW', 'uklabour', 'saveamericafromdemocrats', 'HAHAHAHA', 'anti-first', 'freealexjones', 'scofflaws', 'boycotttheview', 'hurt..', 'weareq', 'RED', 'r/religion', 'YESTERDAY', 'tfrump', 'secret.the', 'usa_gunslinger', 'HONORED', 'TPP', 'SA', 'hedgefunders', 'youuuuu', 'EATEN', 'chaulk', 'TRUMPARMY', 'antifa=waronsociety', './presumably', 'mcfartney-', '-randy', 'KAG', 'road*', 'BONO', 'KNOWTHAT', 'uh..wasn', 'FOREVER', 'years.', 'others..', 'erikholder', 'exressing', 'UP', 'laws..', 'NICE', 'dubakoor', 'BELIEF', 'nominatin', 'ADMITTED', 'campigne', 'TT', 'high-regulation', '..long', 'f*cking', 'toast-', 'HARDER', 'NPR', 'MOUNT', 'kavenaugh', 'screwed..tick', 'mr.rapist', 'your/my/our', 'LOOK', 'undisputable', 'revivecivility', 'ATEMPTED', 'warzones', 'lindasarsour', 'kool-aide', 'ACORN', 'ford=university=soros=antifa=bull', 'redtsunami', 'KEEPING', 'SNOWBALLS', 'HURT', 'schiffhead', 'follofollo', 'z-jail', 'hypocrisymuch', 'RESPECTABLE', 'ACCUSER', 'demsaredangerous', 'w/fillers', 'ABOVE', 'antifagoons', 'U.K.', 'GONE', 'senatorfeinstein', 'w/', 'HEALTHCARE', 'HONEST', '*HJF', '-gauge', 'LBJ', 'MAGAKAG', 'JOHN', 'records-having', 'bodywraprestraint', 'ITCH', 'intratec', 'FURTHER', 'ANTI-SUICIDE', '.squeeze', 'declassify', 'ERIC', 'allinonlonnieisntfunny', 'on-it', 'deregulating', 'consequences-', '-big', 'TAX', 'westandtogether', 'THRILLED', '..she', 'wethepeople/', 'ssshhhhhiiiiiiiiiiiiiiiit', 'NUKES', 'SUPERMAN', 'CUSHIONEY', 'DWI', 'conservatives/gop', 'FNMA', 'judeo-christian', 'qarmy', 'shittalking', 'DRAIN', 'gettough', 'lunatic.', 'woman..', 'toriesout', 'YOURSELF', 'ibelievechristine', 'doesn.t', 'ARMY', 'paul.berger', 'PAYMENT', 'MIND', 'anitahill', 'bitchhhhhh', 'RIGHTS', 'LIKE', 'FORD', '.who', 'ditchmitch', 'clinton~lucerferian~', 'ex-dems', '-grover', 'JOBS', 'man..', 'randian', 'victim..same', 'betoforsenate', 'FEMINISTS', 'emmyawards', 'HORIBBLE', 'havevut', 'willhorton', 'side-note', 'alloutpolitics', 'shitcago', 'ONE', '/only', 'propter', 'september-beginning', 'gop/trump', 'privlages', 'voteredtosavetexas', 'cherry-picked', 'longt', 'demon-craps', \"'common-sense\", 'outraising', 'LEONE', 'CAED', 'racist.', 'fanniegate', 'CHICKENS', 'ncaaonsundays', 'BRUTALITY', 'DEMONS-PERIOD', 'NONE', 'PD', 'REPUTATION', 'submissions***', \"'makes\", 'michaelche', 'godblessourmilitary', 'doofuses', 'alinskyite', 'votelabour', 'constitutionalist', 'ICE', 'LORD', 'harrasses', 'HEADING', 'illigally', 'b/c', 'timesuptwitter', 'marriedtomedicine', 'FMCC', 'USE', 'prohibitionists', 'clingvto', \"'S\", '*waits', 'chequersplan', 'owned/possessed', 'lyingliberals', 'J', 'MSM', 'GAS', 'einsatzgruppen/waffen', 'openselection', '*as', 'WHAT', 'jiyoonfact', 'SAY', 'centrists', 'chuckmay', 'marchforourlives', 'tothevillagesquare', 'LIARINCHIEF', '-if', 'illegitimacy', 'AMY', 'S.O.', 'firerosenstein', 'falseprophet', 'TEARS', 'UNHINGED', 'PURCHASED', 'BEST', 'SLC', 'npszabadsg', 'nvsen', 'SERVE', 'francisaglabtintulognalang', 'GOAL', 'BREATGE', 'm/yr', 'facelifted', 'HUMAN', 'REGARDING', 'walkawaycampaign', 'standupbrexit', 'creepyjoebiden', 'krazee', \"'unintentionally\", 'FAILED', 'PROTECT', '.cry', 'THINKS', 'trumpsarmy', 'blocklists', 'CHANGE', 'LISTEN', 'clintoncrimes', '//xd', 'BABY', 'THESE', 'comgress', 'neg/hate', '..BUSINESS', 'INCLUDED', 'wild/wet', 'FREE', 'GENIUS', 'KNEELERS', 'wecall', 'jobless/homeless', 'melkor', 'familerize', 'america..', 'votedayna', 'jackdorseyisabigot', 'O', 'FEELINGS', 'member.insane', 'womenfortrump', '.an', 'ultrafinitists', 'SIDE', 'COULDNT', 'uhm..then', 'CHARADE', 'marinesagainsttrump', 'DISNEY', 'act-aca', '*goes', 'despicably', 'ANTHONY', 'barrelling', 'bided', 'elsewhere..', 'COMMON', 'fake/lie', 'keepitpublic', 'wings/beer/country', 'immigrating', 'left*', 'lilextra', 'WHICH', '.BOT', 'answer..', 'BULL', 'TRAIN', 'EXPECT', 'TP', 'MIRROR', 'heredon', 'CHUMP', 'sh*t', 'SERVES', 'degenerated', 'w/insurance', 'LYING', 'sportbooks', 'CRACKHEAD', 'RIGHT', '*he', 'LGBQT', 'TOS', 'whatbour', \"'politics\", 'pcliberal', 'socialists=taxpayers', 'WERE', 'democratsdividinganddestroyingamerica', '-no', 'VIOLENT', 'YOU', 'UK/US', 'WTC', 'WWYD', 'molonlabe', 'MUST', 'FFS', 'TOLERATE', '..will', \"'higher\", 'strasburgh', 'CHEAT', 'campaigne', 'trump..', 'wakeupstandupspeakup', 'socialismsucks', 'multiversity', 'kaate', 'fakeoutrage', 'enemyofthepeople', 'POLICE', 'thailandchildren', 'volume*', 'DARE', 'TX-', \"'START\", 'cnconellen', '-page', 'CALLING', 'doubt.', 'day..', '.take', 'BLM', 'PM', 'theeconomist', 'carnages', 'unfuckable', 'BCO', 'CNN', 'kavano', 'FYI', '-what', 'TRUTH', 'WWE', 'nikeboycott', 'conscientiousness', 'massachussetts', 'HONOR', 'substantiated', 'memelord', 'ABORTION', 'fitztragic', 'islamists/antifa/leftists', 'CALL', 'OG', \"vei'aran\", 'digitalsoldiers', 'beneathhumanity', 'millionsubscribers', 'U.S.A', 'BELIEVE', 'noharris', 'datafile', 'IS', 'firstresponder', 'FDOM', 'MP', 'ex-crackheads', 'disarmharrisnow', 'tuesdaythoughts', 'out-bekhit', 'sawed-off', 'DBA', 'PARTY', '-had', 'CAPS', 'communismkills', 'clintonemails', '-explodes', 'voteblueandbringafriend', 'checkmarks', 'WAKE', 'blocktogether', 'NV', 'PPC', \"'a\", 'WOW', 'notplastic', 'TRUMPSTRONG', 'PREDATOR', 'CLEARLY', 'annoyance..', 'lmaooooooo', 'trump-russia', 'referee/umpire', 'jenshad', 'dickmatized', 'michaelmoore', '*rich', 'INVISIBLE', 'NOTICED', 'CHANGING', 'GENOW', 'actors.', 'NOTIONS', 'gotourpiece', 'BLESS', 'FREEDOM', 'willeford', 'DAYS', \"'colorblind\", 'sareptians', 'IL', 'YAFTV', 'DEPICT', 'GREATAWAKENING', 'twatts', 'zagami', 'SCHEMING', 'thulare', 'LIBERALS', 'hivites', 'SITUATION', 'dimms..they', 'eaten*', 'atomisation', 'KNEW', 'up.she', 'SUPPORTERS', 'cdnhist', '/COPY', 'DOO', 'dougford', 'YOU..', 'jaquonadiah', 'TELLING', 'M', 'buryblue', 'balaam', 'MAE', 'WISH', 'inauthenticity', 'QANON', 'drainingthedeepstateswamp', 'comingggg', '-kermit', 'CENSORING', 'counterprotests', 'scrathed', 'fuddy-duddy', 'tuesdaytips', 'HAND', 'ant-', 'semi-skimmed', 'G.SOROS', 'fatnixon', 'hits..', 'harambe', 'SENSITIVE', 'alt-shite', '.good', 'RIOTS', 'chicagopd', 'thursdaythoughts', 'USC', 'CHILD', 'e-panda', 'PIX', 'DISGRACED', 'SPYGATE', 'vetsresistsquadron', 'meeeeeeee', '.words', 'OBAMASUCKS', \"'conservatives\", 'DAY', 'ntknetwork', 'stopkavanaughnow', 'gullibles', 'defundpbs..', 'HESANIDIOT', 'iannello', 'high-jacked', 'FOOL', 'ABUSE', 'goredstatebystate', 'ddsl', 'thehandmaidstale', 'going.', 'illegalaliens', 'gag-inducing', 'justiceforoliver', 'wait-', 'PUNK', 'AWESOME', 'LG', 'LOOKS', 'BLAME', 'RESULT', '-oscar', 'ERG', '*convo', 'BEHIND', 'informatin', 'bhajpaa', 'B.S', 'AUSTRIA', \"'guy\", 'letthetribunalsbegin', 'FANCAMS', 'ALIENS', 'stranahahn', 'hndu', 'THIRTY', 'trump.', 'THOSE', 'RESCUE', 'p**sy', 'BROS', '-reforms', 'TONY', 'anymore..', 'PROBLEM', 'GOTV', 'double-minded', 'dianefeinstein', 'EXCITING', 'libsthinktheyhavealltheanswers', 'kinew', 'queen-', 'LIKELY', 'GITMO', 'POL___QX', '.but', 'survive.if', 'keithellisonabuse', 'america*', 'ONES', 'CAUSE', '-do', 'vilvilifying', 'haltbarer', '-willie', 'YALL', 'onlyatyaf', 'DEM', 'un-charismatic', 'takeastandnotaknee', 'credits-', 'NOVEL', 'BESTFRIEND', 'trumpresign', 'commiessuck', 'sturmer', 'ICYMI', 'deplorable~she', 'voterepublican', 'mediabias', 'LMAOO', 'thirium', 'stitchup', 'false-majority', 'beliwunited', 'LESS', 'family.', 'maga-bot-types', 'dncwbore', 'daxamite', 'ababzhah', 'DECEPTION', 'PO', 'youfollowed', 'FISA', 'refugeesnotwelcome', 'crimes..', 'ganikalinaaisha', 'STATEMENT', 'him.why', 'saying.maga', 'deludes', \"'affordable\", 'misappropriated', 'relitigate', 'wifi-', 'maga-nificient', 'MK', 'tryants', 'tactic/idea', 'DOING', 'TICK', 'UPPDOALS', 'hygs', 'HYPOCRITE', 'non-voters', 'WELL', 'amd/or', 'dem/con', 'FOLLOW', 'USED', 'bfnewyork', 'nopelosi', 'says..', 'worldonline', 'antifa-lite', 'boastfully', 'stevekerr', 'enioy', 'NBCCT', 'lockthemallup', '*COUGH*', 'network/organization', 'chicagojordan', 'CA', 'membbbqers', \"'lyin\", 'temporre', 'kahenge..unko', 'TAKE', 'VS', 'OBEY', 'CLEAR', 'yassss', 'FEED', 'mulford', 'drainthedeepstate', 'ashallnotbeinfringed', 'salzburgsummit', 'trustsessions', 'sidhuji', 'shotguns.the', 'OUTSIDE', 'life-or-death', 'fesheyes', 'ANYONE', 'ashley.yr', 'NME', 'AI', 'christianmorals', 'uncontroversial', '//anime', 'eddandflow', 'damigo', 'kateswall', 'principaled', 'speedboost', 'ETF', 'DONALD', 'boochi', '-IRS-', 'anti-freedom', 'DC', 'bitc*', 'tuesdaythought', 'DOJ', 'HEAVEN', 'nevertrump', 'perfidy', 'CLOWN', 'EVS', 'far..', 'fakefeminist', 'leftwingliberaldisease', 'DPD', 'germanistan', 'SINCE', 'TRAITORS', 'releasethevideo', 'mayoroflondon', 'alien-ilegal', 'drump', 'CORRENTE', 'kingggg', 'lineswoman', 'CHRISTINE', 'confirmkavanaughnow', 'BRAVE', 'SHAZAM', 'TRUMP=HERO', 'B', ':-', 'should.have', 'pro-law', 'COWARDS', 'sandrayan', 'priceonlove', 'SPLC', 'DEFINITELY', 'MIC', 'away..', 'QFD', 'ericholdercrimes', 'michaelavenatti', 'convo..so', 'tacobellanotherkindoffood', 'somecunt', 'trumpsters', 'flunkie', 'betonotfortexas', 'muslimbrotherhood', 'birdlandia', 'f**ked', 'wednesdaymorning', 'vacation~', 'hassert', 'conspiracynomore', 'jesusislord', \"'REFUGEES\", 'UKIP', 'pedogate', 'lumpenprole', 'mccleod', 'udiot', 'flanking', 'temper-she', 'brexitbritain', 'is..that', 'IDK', 'trumpers', 'swinson', 'high-shcool', 'AGW', 'BRUSSELS', 'declassifyfisa', 'LIBERALSARROGANCE', 'MESS', 'admendment', 'amenadiel', 'noeudeal', 'seen.liberals', 'well..', 'celebnmusic', 'LNP', 'coont', 'kids*', 'HTS', 'bestdj', 'OMFG', '*uppercuts', 'LICENSE', 'bippy', 'SOON', 'TOO', 'neurorealist', 'antifa/kkk', 'II', 'whackadoodle', '..bigly', 'nra-financed', 'party/conservatives_', 'communists~activists-antifa-ofa', 'POC', 'GPS', 'freakazoids', '.boris', 'nedia', 'unjustice', 'ruleoflaw', 'deficits..take', '.im', 'pbsnews', 'SOUNDS', 'CITIES', 'abclet', 'trumpisamoron', '..seem', 'neo-liberals', 'thecatholics', 'longgggg', 'EXO', 'un-indicted', 'PLATFORMS', '..while', 'back..she', 'nevervotedemocrat', 'lockstep', 'PAC', '=a', 'rudeand', 'too-', 'regrann', 'straightfire', 'non-mmt', 'mcsally', 'callthevotealready', 'uraniumone', 'BEAT', 'shitgull', 'dems/libs', 'PEACEFUL', 'TRIED', 'JON', 'EPA', 'TOCK', 'americafirst', 'CORY', 'animic', 'w/exactly', 'RUN', 'SUPPOSED', 'importantly-', 'PUBLIC_EXECUTIONS', 'terror-', 'FOOLISHNESS', 'naziusa', 'IRA', 'PSG', 'BTS', 'hillary/obama', 'IMO', 'episcopalians', '.if', 'MENTIONS', 'negarrrr', 'badasses.', 'TRAITOR', 'ED', 'donybrooke', 'SOLEY', 'IRS', '*screams', 'kavanaughconfirmationhearings', 'naheru', 'WNBA', 'HOT', 'anything..', 'feinstinkle', 'usefulidiot', 'patheticlittlemanjr', 'mctomminay', 'mccain-ed', 'vaterans', 'elpizo', 'RAE', 'WELCOMEEEE', 'KNOWS', 'ADORE', 'person.the', 'episode.', 'TBF', 'yeahhhhh', '.american', 'mohammadhassankhalid', 'OWS', \"'heard\", 'BANGS', 'twitter**', 'PERIOD', 'IKR', 'WHO', 'nazisarebad', 'stickerwoman', 'JONES', 'double-standard', 'STAKE', 'lyingggg', 'PMJT', 'polutician', 'self-inflicts', \"'particularly\", 'soul..', 'READING', 'wkend..criminals', 'dogwhistle', 'sheisaliar', 'MASTER', 'truthjustice', 'WENT', 'uraniumonedeal', 'MAG', 'losss', 'AWB', 'RECEIVED', 'NUTS', 're-victimized', 'mazzie', 'OAK', 'SOOO', 'FEEL', 'lickawitch', 'TM', 'DALLAS', 'confirmkavenaugh', 'OPRESSORS', 'SSF', 'YAYYYYY', '*hugs*', \"'progressive\", 'VIB', 'splendidrainco', 'dueprocess', 'heroineics', 'karyakarta', 'freedomofspeechforall', 'POORLY', 'simonsays', 'sencollins', 'goedert', 'gropy', 'dhudbe', 'trumpies', 'REMOVED', 'handsome~', 'liesunderoath', 'imwithsnoop', 'A-G', 'THEY', 'EST', 'really..', 'shameonspain', 'GEE', 'WEAPON', 'VIOLATE', 'un-remembered', 'CHICAGO', 'miserably..', 'SWAMP', 'transphobe', 'trumptreason', 'INANIMATE', 'putuporshutup', 'GD', 'you-', 'AMERICAN', 'SURFACING', 'pedogatenews', 'votehimout', 'FREAKING', 'bakkt', '*far', 'MR.REDWOOD', 'say..', 'cumtribute', 'cop-killers', 'dickdurbin', 'HAPPENS', 'liberal..', 'time..no', \"'A\", 'decades*', \"'sleepwalking\", 'debate/arguement', 'BEAST', 'JMO', 'harvard/harris', 'BURN', 'SPECIFIC', 'I-Q-', 'SUNNY', 'RSS', 'TRUMPTRAIN', 'BREAKFAST', 'cancer..having', 'nonsense..', 'LIL', 'ratbags', 'about.', 'hurricanemaria', 'hste', 'signifing', 'demsarefrauds', 'biogenic', 'ringwraith', 'aesir', 'anumanu', 'truth-teller', \"'remain\", \"'schumer\", 'GOD', 'voterondesantis', 'admonishment', 'A-OK', 'EVERY', 'BILLION', 'anti-kavanaugh', \"man'snotbarryroux\", 'heather_mallick', 'headlinenews', 'putin-puppet', 'typoness', 'ABCNEWS', 'REFUSAL', '-awkward', 'TWITTER', '-net', 'STOP', 'PIGS', 'FURIOUS', 'illllegal', 'EVERYDAY', 'pugchat', 'old..', 'muellersmountain', \"'costume\", 'RIVER', 'bolsonaroeleitolugar', '*extremistische', 'sure-tragedy', 'PRETTY', 'definable', 'supremecists', 'SHOWS', 'stretchedface', 'impeachjeffsessions', 'rubberstamp', 'disguise-', '..well..know', 'speak-we', 'alone/', 'DOWNFALL', 'STFU', 'schmata', \"'rednecks\", '..and', 'BY', \"'cunning\", 'self-characterization', 'non-reality', 'bozoobama', 'link+trump', '*MAGA', 'spews..it', 'wthin', 'YEE', 'LASA', 'PARLAY', 'k-college', 'cognitivedissonance', 'here..', 'habits..', 'de-created', 'DEFINITION', 'resistancerises', '*pats', 'anti-india', 'supremacy/alt-right', 'WHEN', 'conservatives-antifa', 'in/', 'nospeakermccarthy', '.kindergarten', 'DCEU', 'scandal-', 'XM-ES', 'stopkanavaugh', 'carryons', 'laws..smh', 'LEGISLATION', \"doesn'tunderstandmetaphors\", 'violentleft', 'addicts/sites', 'GOP', 'voterednovember', '*silence*', 'PART', 'savescotus', 'AD', 'weatherwarfare', 'BRAINER', 'CONTINUE', 'ANTIFA-LIKE', 'farleft', 'brilliantness', '..aand', 'MORAL', 'UNTIL', 'CRITICIZE', 'NAZIS', 'ABOLISH', 'COVERED', 'liberalfool', 'liberalism=a', 'proudtobeaconservativefromacouncilestate', 'makeamericangreatagain', 'political..', 'EVER', 'SHIT-SMEAR', 'WAY', '.gave', 'DL', 'ER', 'CT', 'mushroom-capped', 'NRA', 'PLUNDERED', 'muckspreader', 'S.A', 'too..he', 'VOTING', 'ALSO', 'athwart', 'umsuthu', 'AMERICANS', 'qclearancepatriot', 'WELUVTRUMP', 'PHOOEY', 'SUNDAY', 'bwaaaaaaa', 'DECIDED', 'SP', \"y'all\", 'FOXNEWS', 'downwiththedemocrats', 'INCREDIBLE', 'WANT', 'MRU', 'makeamericaamericaagain', 'letsgovern', 'obvious.are', 'PERJURE', 'theconstitutionisthesolution', 'DEPARTMENT', 'sturmabteilung', 'FULL', 'mybubblygirl', 'edwsrd', 'moonves', 'aweeee', 'slent', 'democraticsocialismnow', 'takeastand', 'THEUSA', \"'info\", 'crimenews', 'RIP', 'marxine', 'tbey', 'NOTHINGBURGER', 'community..', 'ones.', 'FUNDS', 'there..', 'trumpnation', 'murdersers', 'hrgggg', 'lgbtqtwitter', 'sallbuzz', 'anglo-saxons', 'R', 'admonished', 'RACKET', 'UNWELCOME', '-crocodile', 'communistic', 'big-tech', \"hap'penis\", 'visa-mata', 'tellu', 'CHL', 'fanboys/fangirls', 'r/hinduism', 'DOUG', 'PERFECTLY', 'also-', 'hol~+r', 'shake-yell-motivate', 'I.', 'usa_flag_u', 'demonicrats', 'privertised', 'patriots-', 'MMA', 'SHE', '.in', 'liar.they', 'childess', 'rememberyouroath', 'SO', 'ostensivly', 'mile..ask', 'pathalogical', 'NOBODY', \"'antifa\", 'today.few', 'HIMSELF', 'cheepika', 'QT', 'schitt', 'CONCERT', 'RESEARCHED', 'FAST', 'magnet.just', '-c-', 'team..', 'OF', 'MEAN', 'black-japanese', 'sea.i', 'PLAYED', 'sareena', 'person.when', 'goolag', 'soulmate/', 'WB', 'LMAOOOOOO', 'MEANT', 'wakeuprepublicans', 'PLANTATION', 'suck-up', 'polloftheday', 'HAT', 'stcshooting', 'cultlogic', 'wisdomwednesday', 'BIG', 'chanvong', 'OPEN', 'crookedhillary', 'bobwoodward', 'nomorelevis', 'flippant/dismissive', 'incivility', 'PREDATORY', 'self-enrichment', 'dnc/soros/antifa', 'sexy..', 'IFU', 'donaldtrumpjr', 'tax-payers', 'own_', '_against', 'me..', 'GDP', 'antifascists', 'kettterer', 'WJC', 'demsdesperate', 'MGM', 'PG', 'NOBEL', 'PLELLEEAAAASEEEEE', 'LIAR', 'OK', 'ABOUT', 'GOA', 'opstopchemtrails', 'hadexincursion', 'DESTROYED', 'DT', 'dunnogo', 'SUPREMACY', 'AINT', 'START', 'trashno', 'thugs*', 'argentborn', 'weaponise', 'wemarchforourlives', 'luves', 'polititians', 'apists', 'politicslive', 'usconstitution', 'JAMES', 'enemiesofthestate', 'SQUELCH', 'lyingnews', 'upppp', 're-form', 'ALT', 'deleiver', 'CHEERY', 'MAN/ENTITY', 'YEAH', 'OFFF', 'along..', 'walkawayfromdemocratsnow', 'ashwariya', 'comfortable.hey', 'theliberalway', 'thepersistence', 'geeezzz', 'hobag', 'WATCH', 'askalivelshi', 'karmys', 'COPS', 'SAVING', 'UN', 'lol..', 'BUNCH', 'toxictory', 'recanted', 'anti-america', '-stronger', 'slave-owners', 'antinazigr', 'PROVES', 'ABSOLUTE', 'COME', 'aspersions', 'ohh..', 'rule-breakers', 'BECAUSE', 'donpittis', 'CHINA', 'IBOR', 'YO', 'THIRTY-FIVE', 'haters..', 'TWIT', 'SUPPORT', 'suprematists', '.treason', 'FL', 'B/W', 'MUTTS', 'HOSTILE', 'woodword', \"'s/\", 'notwithkap', 'non-democracy', 'sengupta', 'nomoreguns', 'SPD', 'FBS', 'TXST', 'howk', 'HOC', 'CHRISTIAN', 'appropiated', 'facsists', 'BUSTED', 'GOSH', '..hope', 'fake-ass', 'damore', 'POOREST', 'disguses', 'remainers', 'reaganlays', 'lpfirsttime', 'MEANS', 'HYSTERICAL', 'pcliberals', 'cherry-picker', 'THRY', 'disgusting..', 'beeching', 'pittis', 'PUERTO', 'boomingeconomy', 'tactic/strategy', 'lackies', 'anti-fair', 'thestorm', 'fitzmagic', 'C', 'CLEANED', 'GETTING', 'expirrence', 'windrush', 'counterprotesters', 'say..no', 'go-forward', 'bolsonaropresidente', 'ROYAYERS-', 'us-but', 'ohhhh', 'frankoz', 'swearer', 'ASSUME', 'nothing.don`t', 'barbolack', \"b'stard\", 'AMAZING', 'XD', 'FB', 'them.he', 'history.but', 'urbannaxals', 'orcastrated', 'QB', 'NEED', 'PEEP', 'TOM', 'RICO', 'immagration', 'cute..', 'hell-', 'HAVING', 'dem-run', 'releasethecures', 'slushfunds', 'w/usculture', 'imbecild', 'LOSER', 'TRICKS', 'justintrudeau', 'CRY', 'OL', 'WYVERN', \"'porn\", 'THERE', 'cameto', \"'bi-product\", 'corporatewelfare-dilution', 'DOESNT', 'STRIPES', 'anti-president', 'dickbrain', 'loveurfamily', 'NOTHING', 'hindol', 'oooohohohohohoh', '.can', 'i`m', 'alt-left', 'ACTA', 'bono-', 'artistsontwitter', 'milquetoast', 'masse*', 'BB', 'thedreamact', 'anti-openborders', 'MAGA=', 'ex-attorney', 'low-emission', 'ur-lamebrain', 'walkingaway', 'SHINES', 'kajillions', 'HO', 'trump-o-nomics', 'anit-semetic', 'FOX', 'mattacongress', 'humor.', 'he/she', 'brother*', '-etc', 'adefenders', 'againstbthe', '*FUNDED', 'MEDIA', 'administration.ca', 'STATE', 'bluewaveofviolence', 'DV', 'parrishes', 'gay/lesbian', 'britishcouncil', 'PIG', 'selfdense', 'FIRED', 'GTFO', \"weeb'tifa\", 'hillaryclinton', 'THEN', 'liberalismcausesmentalretardation', 'TORY', 'anti-border', \"'VE\", 'SHOULD', 'LICK', 'SLAUGHTERING', 'iamalexjones', 'r/luka', '..but', 'acedemia', 'BORED', 'FEEDING', \"'bidding\", 'LISTENING', 'GOVERNMENT', 'THE', 'DISTRICT', 'EFTA', 'INTITLED', 'POOR', 'postponethevote', 'hyunjea', 'b/year', '-million', 'confirmkavanaugh', 'HPLYK', 'MANEXCEPT', 'savetherepublic', 'SPEAK', 'dreams.', 'occurrance', 'antifa-loving', 'demonrat', 'LAWS', 'praaaaaaaaayeer', '..oath', 'godblesshumanity', 'housebuilders', 'MIDTERMS', 'facsicm', 'RNRTN', 'IMAGINE', 'HI', 'eirc', 'NSMBU', 'IQ=', 'extra/new', 'V', 'HIS', 'houseoflords', 'PBS', 'comedian/actors', 'VOCAL', 'DIBALES', 'nazi-socialist', 'decisis', 'MSNBC', '.however', 'w/s', '.targeting', 'SPECIAL', 'youhavebeenexposed', 'liberals/leftists', 'PERMISSION', 'shepell', 'TURN', 'SEAT', 'on.oh', '..bad', 'VIEW', 'RAPED', 'teamtrump', 'trumpbabes', 'PJW', \"'your\", \"fuckin'dead\", 'konk-u', 'likenoother', 'innnew', 'STREETS', 'UNAMERICAN', 'HARMS', 'D.', 'NSA', 'UNCANNY', '+native', 'sanctuarycities', 'shitlib', '.was', 'disembowels', 'DOG..SHE', '****ing', 'females..', 'PIRATE', 'popularist', 'absolutist', 'here-', 'peterstrzok', 'roymoore', 'N..', 'mulller', 'break..', 'IT', 'XVI', 'BAG', 'KILLING', 'machinelearning', 'swalwell', 'DEAD', 'liberalismisamentaldisorder', '-year-old', 'overgeneralization', 'omggggggg', 'bojopm', 'googlearecorrupt', 'DUMMYDONNIEJR', 'THOT', 'SPONSER', 'BOOM', 'PIRATES', 'RESIST', 'criticism-lite', '..FOLLOW', 'FOR', 'SUMMER', 'SHARE', 'BDS', 'ingles..', 'WHOLE', 'SLOW', 'UWUING', 'sessions/huber', 'binnedboris', 'notbakingyourcake', 'assualted', 'deadname', 'AGO', 'BIDEN', 'THINKING', 'NEGATIVE', 'itrump', 'artistforhire', 'nonflzonehome', 'BADASS', '^Z', 'confirmjudgekavanaughnow', 'WEAK', 'schutzstaffel', '.BAAAAAAAA', 'NWO', 'ajsjjsjdkkdjdk', 'FANNIE', 'VISUALS', 'too.we', 'for..it', 'hurricaneseason', 'lynchings', 'loosley', 'HAD', 'jihoons', 'shedevil', 'ANIMAL', 'jelllll', '.more', \"'unprecedented\", 'YET', 'DONE', 'de-platforming', 'antifa-', 'NY', 'RW', 'FREEZE', 'fenstine', 'CURRENT', 'LEAST', 'PLAYIN', 'FRAUDULENT', 'gun-such', 'MY', 'IG', 'BYE', 'onomy', 'HA', 'NOT', 'again*', \"'THEIR\", 'orourke', 'PARDON', 'PIECES', 'stoptrump', 'ROMAN', 'fist*', 'ASSHOLE', 'loyalwolf', 'nestl', 'policiy', 'felarca', 'danikaharrod', '^^', '*whips', 'seuday', 'christian.', 'CRIMINAL', 'AGREED', 'PELOSI', 'MOPE', 'clintonfoundation', '/HAVE', 'lotwvideo', 'non_domestic', 'ewww', 'MET', 'redtoblue', 'keepinghis', 'fakenewsmedia', \"'follow\", '.now', 'onetroy', 'mild/moderate', 'better/hungrier', 'BAMN', 'finalsay', 'FOUGHT', 'gapbelike', 'EXCLUSIVE', 'EI', 'nuetral', 'sickkidsinlove', 'CALIFORNIA', 'SWR', '-gun', 'menu-', 'fvkk', 'voterid', 'pacified', \"'undemocratic\", 'media.they', 'MALES', 'PLEASE', 'whataboutism', 'ILY', 'desanctis', 'antinatalist', 'ANYWAYS', 'polygrapher', 'skinsuit', 'OBAMAS', 'everybodyin', 'PLAYS', 'thugaratti', 'nahhh', 'MAGGOT', 'WORRIED', 'SSM', 'yourk', 'bulletcontrol', '*once', 'general/local', '*babysitting', 'METOO', 'neanderthals.would', 'NOVEMBER', 'unimpeachable', 'LATEX', 'HIGH', '::', 'anti-trump', 'DOMESTIC', 'boycottcolinjost', 'CHOICE', 'GOV', 'shaunbaileyuk', 'JACKET', 'players/viewers', 'OLD', '..I', '.ALMOST', 'TEACHERS', 'Z', 'VG/HC', '-mass', 'thought/conspiracy', 'denuclearizing', 'conartists', 'islamic-extremism', 'SAN', 'lunaticleft', 'gorsuch', 'late-in-our-history', 'brownshirts', 'demension', 'WS', '.terrorist', 'store.', '.ya', 'controversal', 'too-many', 'ARE', 'TOOLATE', 'rodenbury', 'opertiunist', 'AJ', 'ANYTHING', 'colinjost', 'trumpsamerica', 'unsealthedeals', 'monstergirls', 'revkin', 'MARRIED', 'huckster', 'well-fostered', 'sheep/foot', 'party..', 'WRONG', 'BARUN', 'WAR', 'rimmyantifa', 'haircolors', '-bn', 'like/love', 'firebombing', 'nochainmigration', 'schiff-', 'demonuts', 'ass*', '-WHO', 'RAGE', '++', 'slovenly', 'arrestclintoncrimegangalready', 'DEATHS', 'true.', 'dharmic', 'see..', 'nuts.makes', 'trusttheplan', 'president.', 'VICTIMS', 'PLUS', 'HEAD', 'threats.', 'melkshams', 'COMING', 'PUT', 'demsaredone', 'twittercensorship', 'parklandkids', 'AM', 'BORDERS', '*da', 'ANYWHERE', 'luciferiarising', 'PMB', 'contemptuously', 'U=', '*crazy', 'EXTREME', 'borisjohnson', '/sarcasm', 'culturalappropriation', 'BIRTHDAY', 'meneither', 'fessy', 'MARIA', 'FACIST', 'CP', 'SATAN', 'are..', 'nowheresland', 'EIGHJT', 'yep..says', 'alternativefacts', 'ASS', '/him', 'shurmer', 'EACH', 'vociferously', 'successconnect', 'voteredtosaveflorida', 'allaying', 'winforus', 'SPORT', 'S/-', 'tory/labour', 'opportunityknocks', 'SCAM', 'NOHOMELESSCITIZEN', 'WING', 'CASH', 'poitician', 'dreams..', 'quislings', 'strinkingly', 'statepensionage', 'DONT', ':the', 'calculative', 'citizens..their', 'commissar', '\\\\o/', '-nick', 'googlecide', 'SAVE', 'RETAIL', 'b/-get', 'DONORS', 'WALK', 'period*', 'hshshahhsjjjsjsjs', 'kavanaughs', 'smartdissent', 'dear.', 'LOT', 'avenatti', 'though..', 'fargolowes', 'OOPS', 'CONFIRMED', 'fragmenting', 'OWN', 'EVE', 'subsaharan', 'faithcattleco', 'REAL', 'DIVIDE', 'BOOPBOOPBOOP', 'MUCH', 'DACA', 'shaddowbanning', 'YEEEEESS', 'AB', 'whyrwpreachesracism', 'SURPRISE', \"'waste\", 'counterprotestors', 'johnmccain', 'LIBERAL', \"'fitted\", 'thankstrump', '..yea', 'DADDY', 'totalitarain', 'FACEBOOK', 'humanitys', 'leibh', 'bitchc', 'SCREEN', 'blas-ford', 'ATMOS', 'youngo', 'MERCHANDISE', 'KILL', 'PROBELY', \"'youtube\", 'war.', 'w/zero', 'BOTH', 'PSA', 'LOWEST', 'boltey', 'PLAN', 'SHOWING', 'sheldmaidens', 'demoncrats', 'CRIMES', 'EDUCATED', 'da*n', 'PLENTY', 'not/', 'swampers', 'goodbyedemocrats', 'doxxing', 'infridge', 't-', 'OBAMA', 'demonratic', 'opevidence', 'opertunist', 'rssreachesout', 'democraps', 'patreon', 'DEFENDS', 'bootlickers', '..want', 'nutbags', '-harm', 'non-committal', 'anupama', 'CCOT', \"'prayer\", 'illinoise', 'GUY', 'figjt', 'zerin', '..err', 'korzemba', 'INHERENTLY', 'MISTAKE', 'infantilized', 'rahmemanuel', 'TRUCK', 'wickstrom', 'ARROGANCE', 'victory*', 'credibly', 'BARRETT', \"'right\", 'ignore/suppor', 'unfortunatemy', 'OSS', 'whackos', 'EDUCATE', 'SLIMY', 'sjws', 'abramoff', 'kanebrown', 'child-', 'HRC', '-c', 'neoliberals', \"'nazi\", 'libleft', 'TALENTED', 'PUN', 'naziism', 'altleft', 'cakefriend', 'left..', 'repealtheth', 'taravat', 'thursdaymotivation', 'magaveterans', 'ESPN', 'BOYCOTT', 'muslims..go', 'patriotswin', '*too', 'democommunists', 'RHONY', 'whoviille', 'themfaux', 'GWEEK', 'VULTURES', 'fundamentally-restoring-americaspeaker', 'ACA', 'looking..tell', 'VISIONMISSION', 'terrorists.but', 'DEAN', 'declassifypowsdocuments', 'mythicalcreature', 'fuckbucket', 'milo*', 'SET', 'WEINER', 'goodtrumpsevil', 'swagodking', '-increase', 'skypefamilies', '.funny', '-hallmark', 'tikoo', 'RUSSIAN', 'REMIND', 'times..', 'DECENCY', 'PIC', '-YO', '**she', 'KIDS', 'boruto', 'exitfrombrexit', 'treasonousgoverment', 'galpal', 'laugh*', 'LLC', 'culture/institution/etc', 'WI', 'WORLDWIDE', 'liketake', 'POPE', 'Q', 'ALS', 'POSTING', 'behar..aren', 'MILF', 'BHO', '*disclaimer*', 'COCK', 'RINO', 'stopbrexitsavebritain', 'fisagate', 'PLACES', '..be', 'KW', 'besudes', 'ANGEL', '-mile', 'STERILIZE', 'authoritarians', 'IMAGINEEE', 'CAN', 'it-she', 'IP', 'virtue-signaling', 'curtailing', '.real', 'liberals-like', 'NO', 'journalist/documentarian', 'butt/big', 'MAGA-', 'lmfaoooooooo', 'VICIOUS', '*mom', 'guy..', 'EOTP', 'disavoving', 'DEPLORABLE', 'misremembering', 'trumphasdementia', 'comeback/appear', 'is..', 'HELL', 'FEC', '..a', 'fuuckkkk', 'COVERAGE', 'mockingbirdmedia', '*SCREAMS*', 'HOMIES', 'nodaca', 'heandshe', 'SPY', 'EVEN', \"'showmance\", 'RNC', 'colonizer', 'KMA', 'CHAMPIONING', 'headcoach', 'dwpcrimes', '/leftypol/', 'word..', 'SMEAR', 'non-resident', 'letsomebodyloveyou', 'patchouly', 'nosanctuarycities', 'leave-just', 'leolahbrown', '.k', 'resisters', 'OTHER', 'skiddish', 'frenkenstien', 'FORCED', 'mukalla', 'WA', \"'mad\", 'EVERYONE', 'REALLY', 'rouda', 'uncorroborated', 'YAN', 'bwahahaha-work', 'nearly-zero', 'worse..', 'CBC', 'EBT', 'mondaythoughts', '-U', 'ALAMO', 'troughtime', 'MEGY', 'oath.', 'mdzs', 'SHITTY', '-are', 'waspi', 'TIRED', 'familyprotection', 'HIDE', 'ijesus', 'GUILTY', 'prefectural', 'scandals/rising', 'susansarandon', 'bizzniss', 'POLITICAL', 'mindmill', 'SOMETHING', 'INTO', 'TELL', 'quelled', 'INTERRUPTING', 'assault/harassment', 'lmfaooooo', 'NDP', 'PERSON', 'K.I.D.S', 'figureheads', 'foxhunting', 'annnnnnnnnnnnnd', 'bliar', 'micro-mini', 'babesfortrump', 'great..keep', 'off..like', 'skybastard', 'opperman', '.thank', 'CONNECTING', 'feinstein/obama', '.-caliber', 'loveourpotus', 'hooo', 'LGBT', 'JV', 'oncve', 'impuse', 'OPINION', 'votethemout', 'nymphet', 'STEAM', 'time-', 'WHITEY', 'halper', 'GANG', 'ATTENDED', 'citizenshop', 'player-', 'kneelers', 'fleeted', 'dccircuit', 'BOOP', 'MIBR', 'UK', 'throwthemout', 'word.we', 'SHAREACT', 'bonepurs', 'fu*k', 'equivocal', 'catholicchurch', 'anti-trumps', 'crisisinpolicing', 'yecs', 'SCURVY', 'HEARING', 'barbiedreamsvideo', 'fisadocs', 'deepstatepanic', 'brat..', \"'bump\", 'ROBOT', 'beloeve', 'IQ', 'remainer', 'LSU', 'nezha', 'barzal', 'preller', 'BBUK', 'freakyford', 'RBG', 'kamalaharris', 'liberals-', 'SKIN', 'YORK', '.honey', 'englishconservatism', 'evil..', 'BAFOONICUS', 'traitortoad', 'startvettingsenators', 'ehave', '*dont', 'palled', 'jcpmnow', 'qdrop', 'DJT', 'sleazballs', 'please..', '.her', 'agentofchaurch', 'on..', 'ACTUALLY', 'broke.', 'dbld', 'case-', 'KARMA', 'hollyweeders', 'R.', \"c'ville\", 'doomfist', 'LUCY', 'THW', 'FUCKINGNDBS', 'ernieandbert', 'shitttt', 'FOLLOWED', 'AA', 'DOJ/FBI', 'JOKE', 'gawdfather', 'disarmthem', 'SOBBING', 'guyyyy', 'nottowatch', 'BP', 'palestinian.', 'berniecrats', '-p', 'JC', 'proletarian', 'monsterfunder', 'FJSHDHJS', 'hehe-', 'GRAVY', 'EXPOSER', 'SELLING', 'impasse-', 'GE', 'CHEATING', 'cloudseeding', 'bad-', 'trumpisguilty', 'gardensbut', 'lskar', 'UCP', 'FUND', 'jacobreesmogg', 'TXBOE', 'dravidanadu-vallahs', 'THERES', 'denuclearization', 'DAILY', 'growthenetwork', 'tuition-free', 'beware..some', 'raytas/', 'done.they', 'HYUNJAE', 'C.I.A.', 'TITS', 'revorded', 'PAID', 'markcuban', 'EXPLODING', 'FUNNY', 'b****', \"'last\", 'MUSIC', 'inclineed', 'NIKE', 'glbl', 'ohhhjhhh', 'TCOT', 'HEARD', 'bannedwords', 'YAYA', 'WWGIWGA', 'backtraced', 'CROOKED', '-which', 'THELEFT', 'voteblue', 'TEMPLE', 'MOF', 'FAULT', 'currentaffairs', 'non-binding', 'PURGE', 'SERIOUS', 'ROFL', 'destriment', 'relativists', 'WHITE-HOT', '*a', 'polytechno-fascists-avatar-digital', 'penspeaks', 'ronaldgrump', \"'my\", 'fat-shame', 'treasons', 'baby/not', 'now..', 'leftstream', 'IDENTYPOLITICS', 'PROCESS', 'EWA', 'VERY', 'LIVES', 'IMHO', 'gunsensecandidates', 'riceking', 'beto-male', 'darktolight', '.they', 'biassed', 'hinduphobia', 'STARVING', 'thmonkey', 'u..', 'chickschumer', 'spoonfeeding', 'OLIVIA', 'liberalling', '-laundering', 'FAT', '-being', 'bandwagonists', 'anymore.just', 'remainiac', 'luv..', 'BUSTING', 'BLESSINGS', '*tend*', 'pedowood', 'convaluted', 'drellenbrandt', 'boondoggles', 'iwantthewall', '.espacily', 'GOING', 'backwoodsistan', 'SOMEBODY', 'told.its', 'noschiff', 'HYPOCRITES', 'SE', 'porrany', 'same-trash', 'retconned', '-WTF', 'listeningall', 'metoomovement', 'leftest', 'AMERICAFIRST', 'use-it', 'blossomwood', 'NHF', 'EXTRA', 'thelead', 'kavanaughconfirmation', 'unbias', 'kavenaughs', 'GIRLS', 'WANNABE', 'hmm..', 'non-victims', 'comments..', 'HILARIOUS', 'DAESH/ISIS', 'america-hating', 'INVOLVING', 'REDWAVERISING', 'weaponize', 'novoterfraud', 'LJMAGA', 'friendsandfamily', '/conservatives', 'dissolvetheunion', 'TIME', 'mr./m', 'alleslve', 'aasertions', 'trumptrainportal', 'THINK', 'JERK-OFF', 'HMU', 'ANSWER', 'suffragettes*', 'shortcummings', 'hijinx', 'sickholder', 'AWAKE', 'billy~', '*four', 'shitbiscuit', 'HOLD', 'shimmmy', 'anti-german', 'TY', 'notmypope', 'darell.maddox', 'STARVED', 'STAND', 'beaboutit', 'magabots', 'usgoverment', 'c*nnor', 'lmaoooo', 'FAVOR', '^MA', 'USUAL', 'ENGLAND', 'HURRICANE', 'policingincollapse', 'unstanning', 'knockmy', 'I.E', 'daveb', 'mouth.wrong', 'pardonmyfrench', 'right/left', 'CARRFUL', '*overheard', 'A++', 'fakepsychologist', 'GOPCOMPLICIT', 'PATRIOTS', 'FROZEN', 'NINJA', '=ANTIFA', '-scared', 'nd-tallest', '..if', 'ratshit', 'mergitur', 'COURSE', 'OPPONENT', 'generationally', 'MOVEMENT', 'bedwetters', 'MANY', 'administration..', 'fakenewscnn', 'WAIT', '-trump', '.alina_ae', 'dems/', 'tbere', '..does', 'PARIS', 'six-and-a-half', 'SHALL', 'HANDLING', 'BORDERS=', 'antifa-types', 'FIGHTING', 'jmatt', 'NYT', '..so', 'verifiedhate', 'r/india', 'CFR', \"O'REILLY\", 'LONG', '.weeeehhhhh', 'klansmen', 'readthebook', 'confirmbrettkavanaughnow', 'justice-', 'BFF', 'guite', 'VP', 'demonstrators.', 'evisceration', 'WITHOUT', 'hillarites', 'loancharge', 'DAVID', 'theresamay', 'moses-', 'doing..', \"it'sful\", 'MINE', 'NANSBABH', '-HGTV', 'cold-but', 'ARENT', '*gets', 'follower-count', \"'g\", 'outoftheeu', 'SEASON', 'HARDCORE', 'trudeau/butts/telford', 'rights/gun', '.liberals', 'GROUP', 'bullsh*t', 'regrettable..', 'BOY', 'SKANK', 'POLLUTORS..', 'yhuuu', 'bitchute', 'despicabledemocrats', 'backon', 'obamagate', 'entryist', 'GROVELED', 'LEO', 'notonemore', 'RODGERS', 'anti-fascism', 'TOOK', 'DWP', 'BUILD', 'life-and-death', '*accept', 'LETS', 'PTOTUS', 'CNCO', '.nothing', 'makotoniijimaweek', 'likeshe', 'govoner', 'U.S.', 'PROBABLY', 'LITERALLY', 'PATHETIC', 'madcow', 'shop__', 'mooslims', 'fan..', 'bloods/crypts', 'jesuiten', 'amorality', 'CANCEL', 'CRAP', 'SENSE', 'protesters..there', 'voteredtosaveamerica', 'antifaschismuswirkt', 'kalergipreis', 'TWEETED', 'communist-socialist-nazis', 'noban', 'guillotines', 'israel..', 'boycottnfl', '~end', '-right', 'jackie~', 'DIRTY', 'BUSINESS', 'non-patriots', 'knowmandni', 'POT', 'IRAN', 'WORWEE', '.serial', 'MAKE', 'CRIMINALS', 'thomas/hill', 'SDLIVE', 'christineblaseyford', 'helpmto', 'plateful', 'tuesdaymorning', 'hanoijane', 'MAKES', 'b/s', 'PROMISE', 'mumbojumbo', 'OPMAYFLOWER', 'peoplekind', 'want..no', 'CMP', 'TERRIFIED', 'peelpelosi', 'PEOPLE', 'blairite', 'WR', 'libfail', 'condemnations', 'OPPORTUNIST', '-hour', '/s', 'KP', '-who', 'presidentmaduro', 'SLEEEEEEEPS', 'beto-i', 'molestors', 'a-crooked-letter-crooked-letter', 'covention', 'whysjamescryin', 'ANYBODY', 'J.', '.trump', 'TERROR', '.I', 'SING', 'ZERO', 'elizabethholmes', 'oobleck', 'mothersful', 'VOTE.IF', 'not-worth-standing', 'obamaworstpresidentever', 'YUP', 'END', 'senflake', 'NEEDS', '.vote', 'shitstream', 'shastrartha', 'DEAF', 'centrism', 'FU', 'FASCISTS', 'MEGUMI', 'evanne', 'CITIZENS', 'GFY', 'person..', 'SHED', 'IB', 'premiosheat', 'STDS', 'demonizes', 'demarat', 'PACKER', 'hats..lol', 'post-brexit', 'adiya', 'grenell', 'SPITE', 'presedent', 'concentrate.', 'votered', 'twittershouldbe', 'MMZ', 'votedemsout', 'muellerinvestigation', 'seems..', 'SUICIDE', 'recollecting..', 'D-', 'come..', '-REDS', 'RENA', 'place..', 'CONTRACEPTION', 'roid-rage', 'anti-uk', 'DEMAND', 'children.the', 'GET', 'SS', 'AMA', 'SJSHSJ', 'scumfuck', 'FIRST', 'w/vast', \"'er\", 'hollywoodisscum', 'jimin-ssi', '.we', 'OWNERSHIP', 'unemployed.conservatives', 'thanksgiving/black', 'generation/black', \"'ALL\", 'HOLDER', 'THEMSELVES', 'meaningful..', 'BLACK', 'LINK', 'MAAA', 'PUL-EASE', 'antifa..', 'BULLSHIT', 'STUFF', 'saltbae', 'TV', 'ECB', \"N'T\", 'SMDH', 'sendthemhome', 'carreen', 'REICH', 'kinscem', 'show.i', 'capitulating', 'redoctober', 'THE-', 'liberalintolerance', 'less-than', 'omportant', 'JRM', 'assulting', 'SICKENING', 'willienelson', 'TYPICAL', 'devided', 'zarries', 'DRUNK', 'notong', 'SOROS', 'CJ', 'ultra-left', 'RANT', 'ID', 'day=don', 'trumpworld', 'SUCK', 'itemize', 'MUELLER', 'fordfestnd', 'tacozt', 'PROVE', 'LEGENDARY', 'MANGINA', 'memember', 'orders..parting', 'evergreenair', 'votethegopout', 'COULD', 'ISNT', 'socialistdemocrats', 'CPC', 'kogasas', 'DISGRACE', 'MORE', 'DIE', 'SOLD', 'Y', 'sociability', 'bush-clinton', 'supremeists', 'spath', '-brett', 'ANC', 'devilyouloseagain', 'criminalsoutofnumber', 'WOODS', 'HEALER', 'SALE', 'HEY', 'NAVY', 'antiamerican', '..MAYBE', '..MAGA', 'COS', '..think', 'IDIOT', 'cillizza', 'ongly', 'america-phobes', 'shit.all', 'MAD', 'MO', 'VALUES', 'SCJ', 'liberaltarian', 'BING', 'MEME', 'codywilson', 'STOPPED', 'wdym', 'YES', 'doubloons', 'PTSD', 'doxing', 'don`t', 'siezing', 'DUMBASS', 'meme-ing', 'centrefold', 'anti-nationalism', 'sinnfeinn', 'liberatarianism', 'FIND', 'organizationall', 'MYSELF', 'comygate', 'VCR', 'shitlibs', 'MAGA..', 'sotomayer', 'COLLUSION', 'STRAIGHT', 'cooktragic', 'freakingliars', 'anti-federalists', 'jamesokeefe', 'towrds', 'know*', 'downingstreet', 'hardbrexit', 'COHORT', 'booo', 'PALLETS', 'fake-republican', '.lol', 'pedovore', 'blackexcellence', 'voteredsaveamerica', 'traitorsall', '*evil', 'GROUPS', 'BET', 'taketworeferenceswithmoniqueandchloe', 'H.R.', 'abortion.not', 'letgod', 'WP', 'ABSOLUTELY', 'racist..', 'forosity', 'DEPORT', 'them.fecking', 'F*CK', 'jesusisgod', 'keepamericagreat', 'NESN', 'wasn`t', 'TOOL', 'self-devaluation', 'deutschebank', 'FUCK-', 'memologist', 'w/u', 'institutionalracism', 'noncreditable', 'baselessly', '..because', 'chuckschumer', 'SHITTTT', 'cdcwords', 'SKINNY', 'stopbrexit', 'U.S', 'supremacistsign', '/the', 'AMENDMENT', 'miu..', 'PEDOPHELIA', '..oxymoron', 'THAN', 'small.but', '*scribe', 'catgirls', 'AWWWWW', 'leetpro', 'liberal..a', 'fiftiesbornwomen', 'IDGAF', 'CHEST', 'pro-nazi', 'IGNORE', 'CATFIGHT', 'by-and-large', 'UFC', 'TW', '***non-union', 'MEN', 'DJT-', 'qarmytrain', 'goat..', 'peacethrustrength', 'DANGER', '*gestures', 'trumppocalypse', 'weaponised', 'PROVEN', 'CLP', 'pkbritish', '-not', 'TALK', 'CDA', 'anti-jujubes', 'juan..i', 'SICK', 'MUKGA', 'semite', 'enmeshed', 'AHEAD', 'W', 'gerrymandered', 'INNOCENT', 'biased..', 'first..and', 'ROTTING', 'PROPOSAL', 'jacobite', 'NINE', 'cherrypicks', 'YFC', 'iamone', 'adminstrator', 'start/hiv', 'DUALITY', '+=', 'bad..', 'HMM', 'REGULATED', 'JFK', 'CEO', 'ginning', 'owened', '.well', 'EXPROPRIATE', 'ND', 'ENEMY', 'OCD', 'childrenwhy', 'jurky', 'SJC', '.cali', 'PPL', 'self-aggrandizing', 'CRUZ', 'women.', 'famous..', 'haters-bullies', 'credibility-', 'RB', 'sociopolieconfinancial', 'OUTFRICKINGSTANDING', 'SHUT', 'pleaseeeeee', 'UNLOAD', 'non-newtonian', '*cough', 'camillekruger', 'izlam', 'sexualmisconduct', 'mouth*', 'RESIGN', 'CERTAINLY', 'METH', 'dyn-o-mite', 'greatawakeningworldwide', 'firemalyoung', 'ON', 'ASSEMBLY', 'proudtolovejesus', 'feinstein-backed', 'HYUKJAE', 'rethuglicans', 'MD', 'milfsfortrump', 'XI', 'larries', 'manmarziyaan', '-even', 'win.', '.RW', 'careeeema', 'leonaalleslev', 'DOW', 'futanary', 'TDS', 'DIVORCE', '-wherever', 'LAX', 'languase', 'DJ', 'f*cks', 'offf', 'fluctuat', 'MASS', 'shamifesto', 'win.he', 'CONGRATULATION', 'w/nra', 'HOPING', 'tho..', 'JIN', 'moronsaregoverningamerica', 'RUNCIE', 'tectics', 'WIGS', 'themselves.', 'AUGUST', 'LEAD', 'LMFAO', 'RIDICULOUS', 's***', 'apparentl', '..what', '.that', 'FIX', 'fundraises', 'BVS', '.m', 'right..', 'presidenttrump', 'CBSNEWS', 'trumpwall', 'SUSHI', 'demdirtytrick', 'SERVITUDE', 'soulall', 'HUMILIATED', 'UGLY', \"'so\", 'BELIEVED', 'trumplies', 'wayyy', 'BLIND', 'SIG', 'SCJOUS', 'inputed', 'whitesupremacists', 'knowwhat', 'SCOTUS', 'sadiqkha', 'SUBSET', '..strange', 'sendhim', 'ATHENS', 'SLEEPING', 'DI', 'SWEET', 'DEPORTED', 'WORRIES', \"'chequers\", 'deregulations', 'cddr', 'WITHIN', 'COCK-A-DOODLE', 'healthsucks', 'prepwork', 'muelleriscomingforyoutoo', 'yrsof', 'godsarmy', 'FIRE', 'DYDINV', 'soon-yi', 'u..let', 'ABUSER', 'something.u', 'FIGHT', 'elizabethsmart', 'BORN', 'YEAR'}\n"
     ]
    },
    {
     "name": "stdout",
     "output_type": "stream",
     "text": [
      "accuracy score: 74.24%\n",
      "train and test time: 5.19s\n",
      "--------------------------------------------------------------------------------\n",
      "Confusion Matrix\n",
      "\n",
      "      0    1\n",
      "0  1584  504\n",
      "1   175  373\n",
      "--------------------------------------------------------------------------------\n",
      "Classification Report\n",
      "\n",
      "              precision    recall  f1-score   support\n",
      "\n",
      "           0       0.76      0.90      0.82      1759\n",
      "           1       0.68      0.43      0.52       877\n",
      "\n",
      "    accuracy                           0.74      2636\n",
      "   macro avg       0.72      0.66      0.67      2636\n",
      "weighted avg       0.73      0.74      0.72      2636\n",
      "\n"
     ]
    }
   ],
   "source": [
    "Word2Vec_Model(df,lr,'None')"
   ]
  },
  {
   "cell_type": "markdown",
   "metadata": {},
   "source": [
    "##### 5.5.2 Random Forest + Word2Vec Embedding"
   ]
  },
  {
   "cell_type": "code",
   "execution_count": 310,
   "metadata": {},
   "outputs": [
    {
     "name": "stdout",
     "output_type": "stream",
     "text": [
      "RandomForestClassifier(bootstrap=False, class_weight=None, criterion='entropy',\n",
      "                       max_depth=None, max_features='sqrt', max_leaf_nodes=None,\n",
      "                       min_impurity_decrease=0.0, min_impurity_split=None,\n",
      "                       min_samples_leaf=1, min_samples_split=2,\n",
      "                       min_weight_fraction_leaf=0.0, n_estimators=10,\n",
      "                       n_jobs=None, oob_score=False, random_state=100,\n",
      "                       verbose=0, warm_start=False)\n",
      "\n",
      "\n",
      "Word2vec vectorizing tweet 0 of 10543\n",
      "Word2vec vectorizing tweet 2000 of 10543\n",
      "Word2vec vectorizing tweet 4000 of 10543\n",
      "Word2vec vectorizing tweet 6000 of 10543\n",
      "Word2vec vectorizing tweet 8000 of 10543\n",
      "Word2vec vectorizing tweet 10000 of 10543\n",
      "Word2vec vectorizing tweet 0 of 2636\n",
      "Word2vec vectorizing tweet 2000 of 2636\n",
      "Glove word embedding statistic\n",
      " count_total: 176468/ count_in: 136341/ count_out: 40127/\n",
      "Number of unique words without embedding: 6695\n",
      "Words without embedding: \n",
      " {'', 'yuzusft', 'THING', 'ISIS-LOVER', 'WHILE', 'tevagas', 'smithsgrove', 'SOB', 'EXCELLENT', '.s', 'onevoice', 'oc-', 'DR.', 'andy-wonder', 'low-growth', 'MULLAH', 'votethemallout', 'f-up', 'youfailed', 'BS', 'PC', 'strokz', 'SECONDS', 'hurry..', 'twtich', 'DEPLORABLES', 'STEAL', 'universally-unwanted', 'brexiteer', 'nuclearfamily', 'brettkavanaughhighschoolconfessions', \"'FIGHT\", 'magarallyrules', 'HELLO', 'liberals*', 'opinion..', 'CONEY', 'hurricaneflorence', 'donjr', '-GOP', 'and/', \"'politically\", 'this-', 'SPEECH', 'clinton..', 'NEXRAD', 'fremino', '..understand', 'brexiteers', 'all~', 'sargentini', 'haidt', 'OMG', 'ILLEGALALIEN', 'BOC', 'TEXAS', 'peoplesvote', 'MYTH', \"'challengers\", 'berniernation', 'NIGGA', 'shot/jailed', 'phone/online', 'GOOBER', 'AFTER', 'AMOUNTING', 'PARTICRATIC', 'violence/domestic', 'USERNAME', 'immediarely', 'confirmcoachk', 'island.latest', 'tbose', 'trivialities', 'FUNNYHEJS', 't.may', 'HMP', 'CUUUUUKS', 'JEWS', 'incel', 'semamtics', 'WTOBREXIT', 'VA', 'QUICK', 'trumpism', 'RHE', 'DEVIL', '.YOU', 'think/speak', 'VERBA', 'CREEPY', 'KAHLILI', 'votenoonkavanaugh', 'AS', 'CF', 'anti-ameican', 'TIM', 'REGULAR', 'patriotsfight', 'activismseptember', '~although', 'CAREFULLY', 'JFKJR', 'W/O', 'spunktrumpet', 'catchtheredwave', 'DEAL', 'HATE', 'JJ', 'FAILURE', 'reeee', 'D', 'think..now', 'theats', 'ALWAYS', '-barkley', 'pro-russia', 'qproofs', 'ONT', 'shouldertoshoulder', 'antifascism', 'baby-adults', '.let', 'PLZ', 'YEARS', 'half-idiot', 'dimms', 'twitterpurge', 'COMMENTS', 'aparachnik', 'BEE', 'clear.many', 'msm/democrats/liberals', 'imbackingboff', 'MAGAFORALLINC', 'why.but', 'chosenpeople', 'INVITED', '..no', 'temper-tantrums', 'P', 'COMPLETE', 'm/f', 'SJW', 'GOT', 'RULES', 'COLOR', 'spread+', 'SWITCH', 'KARRIGAN', 'MACK', 'GUNS', 'GROUND', 'thestormisuponus', 'juxtapositioning', 'hardwallet', 'trumper', 'staffpick', 'CEA', 'SM', 'desrerved', 'FEMA', 'usarepublic', 'OT', 'SNP', 'racism-bullshit', 'BTW', 'kathua', 'rosello', 'MSAGA', 'belief..', 'pakneedsmediapolicy', 'BEING', 'DANA', 'SAFE', 'makecaliforniagreatagain', 'NICELY', 'livedexperiencedisevidence', 'KOCHS', 'killgough', 'M.', 'FILTH', 'tihnks', \"'you\", 'rebellion-', 'RETWEET', '*people', 'location..', 'telesmokacatin', 'traitor-pants', 'right/wrong', 'muellertime', 'BOYCOTTING', '/CGI', 'BOSS', 'PRESIDENT', 'obama-vomit', 'candiace', 'abortion.because', 'antideutsch', 'legitamately', 'ohhhhhh', 'TJHAN', 'PERHAPS', 'declass', 'PHOENIX', 'nvestigated', 'psyop', 'makeamericasafeagain', '-person', 'looneyleft', 'cadeservesbetter', 'PTO', 'FROM', 'FAR', 'scheer/bernier', 'quetsiyah', 'intelligence..', 'LICENSEREPORTERS', 'conservatives/', 'SUMS', 'H-B', 'leftistlibtards', 'LANDS', 'DUP', 'AHH', 'no-deal', 'QUALIFIED', 'BEAUTIFUL', '^___^', 'EEL', 'GON', 'REPEATEDLY', 'lbclive', 'bodyshaming', 'b*******', 'dirtypolitics', 'lowkie', '..mater', 'jsjdhkdfhjfkfkhsjdhd', 'fisadeclassification', 'cliiimmmm', 'KL', 'drumpf', \"'unethical\", 'DECIDE', 'him-democrats', 'groominggangs', '*vote', 'colledge', 'something..', 'dottering', 'comes.petition', 'lowness', 'back-door', 'w/military', '-affordable', 'trump-style', 'aalayah', 'gotrojans', 'trashpeople', 'whitegenocide', 'jesusitrustinyou', 'MESSENGERS', 'medicare-for-all', 'DESTROY', 'HOMELESS', 'WHY', 'dosomthing', '-telly', \"'sinner\", 'HALE', 'deeds..', 'WORTH', 'dirtytricks', 'taklked', 'best..lol', \"'the\", 'GOOOOOOOOOOOOD', 'PHX', 'COUNTRY', '*BIG', 'REASONABLE', 'housingmarket', 'gunfreezones', 'MATTER', 'fuckingclass', 'muzzie', 'thescore', 'trump/conservatives/republicans/gop/magats', 'serenawillams', 'COLOURS', 'impeachtrump', 'fbicorruption', 'constitutionday', 'GOOD', 'schiffbrains', 'sycophants..', 'antifa/msm/dnc', 'USE..', \"'kick-back\", 'oldageproblems', 'antifa-haters', 'tdavis', 'adherance', 'CMALT', 'SALMON', 'hanghim', 'bluelivesmatter', 'MAROONED', 'saying.', 'earphones..still', 'bedfellow', 'violence..it', '.didn', 'analytica', 'it..shameful', 'dance..', 'sex/gender', 'go..', 'ketterer', 'GARBAGE', 'blacklivesmatter', 'GODAMN', 'walkedaway', 'thelatinartist', 'K', '..he', 'UNBELIEVABLE', 'JIMIN', 'ARC', 'ANTI-FASCISM', 'walkawayfromdemocrats', 'jeezuz.fucking.christ', 'voice-', 'armament/training', 'VOTERS', 'conservativeseveryone', 'inculcate', 'desinfo', '..don', 'forclosure', 'EYES', '-your', 'WV', '.ANTIFA', 'doubleplusgoodspeak', 'phycho', 'achichincle', 'forevaaaaaaaaaaa', 'STEEL', 'PPP-', 'MS-', 'AG', 'degrom', 'GIVE', 'prolib', 'VID', 'JFC', 'NUT', 'lyingskank', 'HIT', 'kanaugh', 'SFTV', '*NOT*', 'radicalizing', 'f*ck', 'CLARIFY', 'off-track', 'ontpoli', 'BENEFIT', 'BELIEVE_HYUNJAE_DAY', 'TL', 'DEFENDED', 'wayawful', 'PUSSIES', '*antifa', 'PICK', 'trumpwashing', 'podcastful', 'INDICTED', 'LEGIT', 'missionaccomplishedwewontwatch', 'LW', 'ahhooo', 'groupthinkstinks', 'iniated', 'googlesplaining', 'READ', 'mi*rosoft', 'connive', 'kogasa', 'WITH', 'uncomefortbul', 'already-debunked', 'rights/freedoms', 'projectreality', 'MCCASKILL', 'MISS', 'government-sanctioned', 'panicindc', 'CAUTION', '.he', 'abhorres', 'remoaners', 'suceess', 'biggbosstelugu', 'REPUBLICANS', '.so', 'antifagr', 'NAACP', 'cough*nicky', 'vainly', 'w/o', 'dcrats', 'kavanaughwithdraw', 'bigly', 'loveforjess', '.oh', 'freddiesmith', 'guterriz', 'WWII', 'daisho', 'rules-based', 'cleaningcanada', 'MMT', 'hahahahaha-sure-she', 'sell-by', 'vaxxed', 'MURDERER', 'LEADERSHIP', '.your', 'them-', 'lird', 'SINK', 'CONUS', 'GROPER', 'IPO', 'hear-broken', 'frequentand', 'ACLU', 'subsection', 'COMMITMENT', 'CONCRETE', 'DNC', 'endthegop', 'conservatards', 'YOUR/FAMILY', 'NATION-WIDE', 'S___T', 'soros-shill', 'aboilish', 'bhagwad', 'QALERT', 'w/the', 'TRAUMA', '-foodnetwork', 'money.liberals', '-bill', 'hmrchumancost', 'DEFEAT', 'OIF', 'donaldtrumprallies', 'prescreening', 'appropo', 'SHOOT', 'yokels', 'fiberals', 'REPUB', \"'it\", 'EXACTLY', 'thebrooksbrown', 'thursdaythoughts-', '.sid', 'DOWN_WITH_GOVERNMENT_CORRRUPTION', 'ELECTORS', 'neverthelesssss', 'dangerousdemocrats', 'two-tiered', 'REALIZE', 'PATTY-RAID', 'untreatable', 'RULE', 'craley', 'NOOO', 'mutuals/followers', 'iwillnotsubmit', \"'TERRORIST\", 'COCKS', 'insight-', 'BACKFIRES', 'dearprofessorford', 'HOUSE', 'AVAILABLE', 'NAMES', 'PROOF', 'me.also', 'massmedia', '*meanwhile', 'liberallogic', 'andrewboff', 'freedomandjusticeforall', 'dexades', 'results/goals-based', 'murkowski', 'NOVEMEBERIT', \"'RE\", 'ellison/', 'layperson', 'STAR', 'BRAIN', 'gonein', 'KOD', 'BATMAN', 'brexiters', 'BIAS', 'NK', 'nutbar', 'WANTED', 'SUBPRIME', 'FREDDIE', 'libertennial', 'zealotry', 'duuuueerrrrhhh', 'SKY', 'hiders', '-liking', 'kowtowing', 'FORBID', '..WE', 'groomng', 'CIA/NSA', 'weeabo', 'hoppe-', 'antisemetic', '*TERROR', 'patriotsunited', 'doublestandarddems', 'rtoday', 'BRAKES', 'LOWER', 'group.just', 'MR', 'clarencethomas', 'DOUBLOONS', 'AP', 'TICKETS', 'MOMENT', 'nipigon', 'bhadbhabie', 'n..', 'media/mps', 'kavanah', 'IVE', 'FUCKIDNG', 'RETHINK', 'are.', 'projectveritas', 'ANARCHIST', 'tolerables', 'chiselchest', '..where', 'populists', 'SEEMS', 'reversepcism', 'SUSPEND', 'LIBERTY', 'demonrats', 'illios', 'SOCIAL', 'BREATHE', 'embalment', '//.', 'pantsonfire', 'position**', 'corruptgop', 'NAME', 'end.despicable', 'mcbuckets', 'DEMSUCK', 'junkees', 'all..', 'everywheh', 'MVP', 'nothinglower', 'THATD', 'belifs', 'brexitshambles', 'feminists..', 'DID', 'makewise', 'GRAAAWRL', 'marvollo', 'sleeeeeeepppp', 'HMG', 'LMAOOO', 'libshateamerica', 'libnut', 'RNR', 'CFB', 'prayalloftheprayers', 'sense..', 'IK', 'meuller', 'workjams', 'na*', 'COMPLAINS', 'MINUTE', '...', 'G.E', 'stonecutter', 'potus..oops', 'cruzcrew', 'backtheblue', 'foster/implement', 'rf.then', 'leavem', 'PERJURER', 'MASSIVE', 'maunaloa', 'neccessarily', 'LIE', 'WONDER', 'sonnykiriakis', 'OK.', 'CORRECTION', 'moderate..pro', 'DO', 'TARGETS', 'must-keep-growing', 'republicans/', 'BLUEWAVE', 'jimjordan', 'LEAVE', 'sugardaddyneeded', 'c*ck', 'BENGHAZI..', 'RMS', 'MAYOR', 'bleachbit', 'TITTIES', '-human', 'WOMAN', 'CBB', 'maaayy', 'WAPO', 'tooliberalfornky', 'identitypolitics', 'gpsent', 'PERSONAL', '**available', 'mustvote', 'BEZOS', 'szczepanski', 'NFL', 'WEBCAM', 'mediation/fact', '.had', 'NEW', 'chaid', 'dyess', 'publicity..', 'FIENSTINE', 'ES', 'IDLE', 'standlast', 'STUCK', 'brettkavanaugh', 'menapausal', 'TEA', '==', 'x.not', 'KREAMY', 'D*MBASSES', 'RING', 'winter-spring', 'multibillion', 'PTL', 'unfirtunately', 'BJ', 'joebiden', 'more-', 'corybooker', 'woman..or', 'SOUND', 'playbook..the', 'deepstateisreal', 'point..', 'supporters=nazis', 'HAPPY', 'oresident', 'open-season', 'wedonotconsent', 'characterizations', 'multi-millionaires', 'CBS', 'CHRIS', \"alinsky's-rules\", 'ALTERNATIVE', 'pervertsinc', 'justwank', 'sadim', 'liberals/corrupt', 'REALITY_CHECK', 'SLIGHTEST', 'noredactions', 'britishtorycarcrash', 'SILENT', 'problems..who', 'REMOVE', 'doasisaynotasido', 'TERRORISM', 'TO', 'internet.anti', 'conservatives/republicans', 'P.', 'knuckledraggers', 'FACE', 'paytoplay', 'wellsaidshe', \"'shit\", 'fartacus', 'conservatard', 'bwaaaaa', 'COLOUR', \"'ladies\", 'baby-*', 'power-we', 'KGB', 'killedfriday', 'labourparty', 'GOODNESS', 'THEVIEW', 'LIES', \"'LIVE\", 'NYC', 'taxreform', 'withdraw.he', 'fuckkk', 'CINO', 'LBGQT', 'TUC', 'EVERYTHING', 'SEE', 'maximebernier', 'marchonfromwalker', 'SLOBS', 'powerprayersred', 'O.K', 'CAMPAIGN', 'novichok', 'YOOOOO', 'rememberingedward', '-ancient', 'I-', 'game..', 'WATCHING', '*sshats', 'have..', 'impeachement', 'president..', \"'boyhood\", 'sharialaw', '.why', 'meanyou', 'JESUSLIVES', 'jesussaves', 'gdtrial', 'factsmatter', 'DRUGGIE', 'demoncraps', 'trumpie', 'WE', 'or..', 'reasonableness', '+million', 'MUSLIM', 'RACIST', 'scary*', 'NET', 'VIOLENCE', 'control-dump', 'THANK', 'RMT', 'jackiedp', 'nomoreprogressiveliberals', 'holton-arms', 'conservatives..', 'SHAME', 'INTHE', 'PUSSY', 'gophypocrites', '.pers', \"'OVER\", 'AR-', '-leaks-', '_their', 'experts-', ':c', 'DIED', 'dewwane', 'SOP', 'colinkaepernick', 'WERE/ARE', 'comments..this', 'T', 'trumptrain', '*INHALES*', 'acts/accidents', 'muttafuttah', 'TBC', 'DUMB', 'blueripple', 'ar-s', 'bigotry..', 'FACT..SANCTUARY', 'are-', 'synchronicity..it', 'joymorrissey', 'meteric', 'ZOOMED', 'excuse..he', 'mooslim', 'G', 'shyster', 'RENT', 'demswanttotalcontrol', '/so', 'maga.walter', 'f***ing', 'LIVPSG', 'rights.hoping', '.masters', 'enddaca', 'right..the', 'show..barking', 'go-so', 'unwary', 'tingling*', '-you', 'EARNED', 'BEHAVIOR', 'letsgoshooting', 'maturerity', '*shuving', 'upper/upper-middle', 'deviancy', 'thing..the', 'MONEY', 'cracchead', 'mineta', 'nickidagoat', 'DIMWIT', 'alll', 'AZ', 'crazyunclejoe', 'witch*', 'kavannah', 'LAZY', 'liberalismisamentaldisease', 'general.harris', 'COMPLACENCY', '-YEARS', 'RESISTANCE', 'swedish-style', 'openness/low', 'CLOSE', 'STATES', 'OSU', 'SIX-', 'SURE', 'dogooodthers', 'R.E', 'ABOARD', 'anti-gun-control', 'disporaenresistencia', 'like.', 'BEEN', 'KILLER', 'JPM', 'idonotconsent', 'OFF', 'scraficed', 'IMPACT', 'PLATFORM', 'ixine', 'TNGOP', 'OPTIONAL', 'pussygrabber', 'marginalizing', 'MADE', 'shakha', 'obamas/', 'LA', 'kavanaughconfirmationhearing', 'w/this', 'too..', 'AFP', 'geonicidal', 'speeding/jaywalking', '*buying', 'birdsize', 'TRAILER', 'C.K', 'RIOT', 'unclassifie', 'SEC', 'soyboy', 'e-every', 'pro-iek', 'babies-', 'HE', 'conservatives.', 'californiawildfires', 'NEXT', 'issss', 'EVIL', 'razzinfrazzinmaggle', 'primatives..', 'AGT', 'chinless', 'craigkardashian', 'obumer', 'THINGS', 'F___K', 'anything..kind', 'apartaments*', 'HORRIFIC', 'SAW', 'P.C', 'ex-', '-elmo', 'KNOW', \"'liberals\", 'WHITE', 'comeyshouldbeindicted', 'trumptime', 'theconcerttour', '.how', 'sanctimony', 'liberalsneedtheirownpsychward', 'INTELLECTUAL', '*also*', 'THANKS', 'alleslev', 'force/reasoning', 'HAW', '.sorry', '.as', 'fool..', 'FAMILY', '.KG', 'gropers', '.like', 'twitterleftbias', 'OUT', 'SAD', 'party.nothing', 'PAYERS', 'lawthose', 'fulk', 'MAGA', 'TALKING', 'POISON', 'correlation-definitely', 'momentprotest', 'priveledged', 'FINALLY', 'interesting-cause', 'ATA', 'draintheswamp', 'WHOS', 'youuuuuu', '..in', 'anti-sjws', 'POS', 'BACK', 'trumptariffs', 'russiacollusion', '.she', 'won..', 'rosenstein', 'REFUSED', 'desths', 'commanderinchief', 'unindicted', 'I-DLE', 'AWONE', 'TE', 'keithellison', 'sarandron', 'CONSERVATORSHIP', 'b.s.-insures', 'pussyhats', 'MLB', '.nope', 'USTA', 'abetterway', 'grahn', 'CARE', '*shakes', 'repug', 'givekapachance', 'CRAZY', 'bloodflies', 'NBD', 'LOESCH', 'PU', 'NAFTA', 'unkess', 'A.J', 'MOTHER', 'buildthatwall', '.laws', 'SEXUAL', 'ABA', 'publicsector', 'MBGA', 'either..', 'agholor', 'INDEED', 'lapdpgs', 'conservatives=self-hating', 'fault..she', '//HE', 'FORESIGHT', 'cdnpoli/ticians', '..haha', 'BITCHES', \"should'vetaken\", '-jamie', 'stopkavanagh', 'thunks', 'PP', 'RADICAL', 'letter.', '+++', 'yrs.if', 'patriotsunite', 'KO', 'townhalls', 'cockamamy', 'DIDN', 'novemberiscoming', 'control.they', 'powertothepeople', 'caribbros', 'V.', 'awewww', '.bottom', 'fuck..ill', 'woosy', 'released/introduced', 'GUN', 'phinnaly', 'KEY', 'smashfascism', 'it..', 'latingrammycnco', 'FRICKING', 'dough/pastry', \"'NUMBERS\", 'TRADER', 'plummet..', 'MOORE', 'GLC', 'prasident', 'WARNING', 'pillars*', 'UC', 'airforce..', 'GLORIOUS', 'JWB..', 'bobbybrown', 'powdering', 'socialistlies', 'REACHES', '*sigh*', 'STIR', 'HOME', 'MURDERED', 'HEROICS', 'acussed', 'cross-examine', 'kellyanne', 'saveourcountry', 'politics-', 'LMAOOOO', 'control.', 'tedcruz', 'brexit', 'WOULD', 'thisisamerica', 'monstermay', 'BLUE', 'GM', 'OP', 'MAYBE', 'chuckchequers', '-obama', 'free.', 'KAVA', 'ARRESTING', \"m'eh..\", 'wednesdaymotivation', 'same..', 'WINNING', 'bigbosstamil', '.am', 'SMOL', 'NOW', 'bigstuff', 'ILLEGALS', 'KIT', 'GTTO', 'satochi', 'momsdemand', '.tin', 'defendthesecond', 'rapistdemocrats', 'remanics', \"'I\", 'LIST', 'BUY', 'strawberryrecall', 'GASSES', 'RE', 'christinablaseyford', 'AR', 'HIV', 'POSTER', 'AL', '-ONE-HALF-YEARS', 'DESERVE', 'victim-hood', 'declassifyitall', 'cutewhich', 'TA', 'BEGGING', 'maulis', 'youbuiltthis', 'MCGA', 'SELECTIVE', 'care/emergency', 'excoriating', 'red-blooded', 'CUTER', 'democratsaredangerous', 'FRAUD', \"y'know\", 'VALID', 'goldendawn', 'batsht', 'legislates', 'NICS', 'COMEDY', 'FORTNITEANDROID', 'TARGET', 'mnuchin', 'JERK', 'polygraphs', 'KC', 'demon-crats', 'resisting.', 'DUMMIES', 'kaze-', 'PSYC', 'VE', 'AGED', 'DEFEND', 'smarter-', 'terroism', 'GOAT', 'BNP', 'WEAPONIZED', 'DARKNESS', 'dreamdoll', 'do.she', 'WTF', 'bullshit..', 'KOCHSUCKER', 'BRITISH.', 'privitizing', 'senility*', 'CAREFUL', 'JLR', 'loomer', 'endculturalmarxism', 'magats', 'antifa/resist', 'ANXIETYS', 'usaafr', 'taeyoun', 'DEPENDS', 'USMC', 'BROWN', 'kavanaughforscotus', 'frauddemocrats', 'syntactically', 'tweeeeeetrrrr', 'brat-and', 'DECADE', 'INSURANCE', 'kraber', 'reylo', 'UNDERSTAND', 'tears*', 'HEART', 'cough*', 'complancey.', 'pizzagate', 'serenawilliams', 'leggings/boots', 'W/HRC', 'bringbridgethome', 'questionsyes', 'FAIL', '/bite/', 'jonesout', 'PETA', 'cocktribute', '*she', 'skrull', 'left/dems', 'kabasele', 'SC', 'yasakelma', 'ANTIFA..ANONYMOUS', 'LATE', 'wokeisis', 'republican-dominated', 'AAA', 'linewed', '.AND', 'welliver', 'tastethebarbierainbow', 'manafort', 'irish/european', 'ARIES', 'helenkeller', 'AIR', '**follow/like', 'abortive', 'breaked', 'obama/bushii/clinton/bushi', 'TBT', 'DOWN', 'antifa/', '*REPLACES', 'TOTAL', 'slowly*', 'MEGA', 'cephalic', 'gadarenes', 'TWEETS', 'declassification', '*hugs', 'OBLIVION', 'partyvery', 'bitch*', 'judical', '*lied*', 'sarsour', 'SLAPS', 'DOXX', 'lisapage', 'loonyleft', 'EXCITED', 'BEAUTY', 'EVERYBODY', 'them..walter', 'ready..', 'clintoncrimefamily', \"i'sorry\", 'house/apartment', 'N', 'post-', 'co-conspirator', 'NATION', 'pristin', 'REGISTERED', 'good..', 'krishnaji', 'MS', 'cucks', 'SPECIFICALLY', 'championforfamilies', 'YP', 'credible-keith', 'lips/big', 'TRANSPARENT', 'WOO-HOO', 'lieberal', 'whatilearnedtoday', 'technical/trade', 'WTAF', 'legislatively', 'ho-man', 'assholes..', 'belong.-', 'toops', 'THA', '*your', 'OURSELVES', 'kavauagh', 'HEALTH', 'reputationtour', 'HAPPYHYUNJAEDAY', 'FELT', 'unclassifying', 'COMMUNIST', 'nguni', '-voter', 'movement-had', \"ol'bob\", 'WALL', 'republican/conservative', 'makeamericagreatagain', 'proscribed', 'POVERTY', 'shadow-banning', 'crminal', 'fanniemae', 'ourselves-', 'phenominon', 'POITING', 'AUSTRALIA', 'DREGS', 'BUNGA', 'gggrrr', 'melber', 'C.', 'rightsideofhistory', 'LIFETIME', 'hate..if', 'GIRL..', 'doomentio', 'magareppowervotestrengthened', 'manny_ottawa', 'morning..i', 'unoffensive', 'rational..', 'MONTHS', 'PR', 'UNCLE', 'EVIDENCE', 'O..', 'quasi-conservatives', '..stfu', 'secessionists', 'dipfuck', 'patriachy', \"'think\", 'LOGO', 'insubstantial', 'winblue', 'metoowitchhunt', 'susanrice', 'tessyfiy', '*wigs', 'news.', \"'to\", 'PRINCESS', 'TEDCRUZ', 'FATHER', 'shadowbanning', 'empathy/morals', 'tripletalaq', 'side..what', 'withdrawkavanaugh', 'memeing', 'thyats', 'deepstate', 'nytimesopedbyqanon', 'GA', 'years..', 'SUCKS', 'slander/libel', 'TAXES', 'DEFEATED', 'unelectable', 'CIA-', 'VOTEREPUBLICAN', 'POLSI', 'shadowbanned', 'EATING', 'indescretion', 'blasey', 'is~', 'binoculars*', 'mondaymood', 'position/posts', 'RUIN', 'newstatus', 'francoism', 'ECHR', 'UK/EU', 'bestuseqwant', 'whatconservatives', 'bbclive', 'similar..', 'SUNY', 'DESPERATE', 'months-according', '..right', 'unstable..', 'demoncratic', 'STANDS', 'LEVISTRAUSS', 'THEIR', 'be/do', 'releasethedocuments', 'AT', 'declassifyreleasesunredacted', 'femfrauds', 'gigeconomy', 'IF', 'whataretheyhiding', \"'race\", 'baby..', '.this', 'bardbits', 'alt-right', '-riot', 'JOINING', 'OVOMIT', 'ill-equipped', 'FONDING', 'amendment/campus', 'STRONG', 'country..', '..liberal', 'YTD', 'oh..i', 'FSU', 'beauden', 'ANY', 'LOCK', 'STL', 'BRAC', 'annasourpuss', '-cultural', 'fortnite', 'afd-ordner', 'geraniuminthecranium', 'WIN', 'FALSEHOOD', 'STRONGER', 'CUTE', 'thebobbybrownstory', 'RACISTS', 'DEZBRYANT', 'ZAYN', 'something-', 'OOF', 'MF', 'democrats/', '..', 'trumptards', \"lie'n\", 'INITIALLY', '.uhm', 'here..my', 'wanktavists', 'purpleumpkin', 'presidrnt', 'POTUS', 'REPUBLICAN', 'BAD', 'jfkjr', 'story.then', 'world.what', '*finally', 'MAJOR', 'SCIENCE', 'passrusher', 'democrat=antifa', '.no', 'EXTENSION', 'antifa-bullies', '*gag*', 'serena.she', 'BULLSHT', 'kavanope', 'monopoles', '-its', 'SNL', 'food-', 'VOTE', 'AWWW', 'LOL', 'realdonaldtrump', '.wheels', 'congratulaions', 'narative', 'LBC', '.at', '..globalism', 'sitroom', 'disempowered', 'CHANGES', 'hollyweirdo', 'sundaymotivation', 'astarisborn', 'GOLD', 'literalviolence', 'bobpackwood', 'ehrman', 'AVFC', \"'deeply\", 'anti-pernickety', 'UNGA', '-____-', 'YESSSSSHHHHH', '`midget', 'NH', 'DAMN', '..it', 'tziyon', 'DUE', 'AWAY', 'COMMUNISM', 'WIT', 'ANONS', 'ATF', 'COURAGE', 'car-crash', 'PANIC', 'appointees..', 'aguearo', 'orchestrated/provoked', 'WORST', 'SMILES', 'ILYSM', 'treygowdy', 'noalbum', 'USA', 'III', 'rebekahismoftheday', 'underpins', 'libtarded', '*sniffs*', 'kavanough', 'debt.', 'agreeds', 'puleeeze', 'HARD', 'scaramucci', 'unrecuse', 'voice.', 'INSANE', 'PATTERN', 'libdemconf', 'exaserbate', 'accomplishments-', '-zoe', 'JUSTICENOW', 'DEMOGRAPHICS', 'FACT', 'DIFFERENT', 'fascist-', 'SB', 'MEOW', 'lincoln.', 'CONSTITUTIONAL', 'crazymaxine', 'everything..', 'MAC', 'unepic', 'ijustdontseemyself', 'centralist-liberals', 'FELON', 'RAPIST', 'ESA', 'L', 'bringbridgetback', 'realtornggiveaway', 'misdrawed', 'U.S.A.', 'religiousfreedom', 'republicans/conservatives', 'doubt..', 'me-too', 'FUTURE', 'PENNY', 'nflfootball', 'immigrantion', 'spanishrevenge', 'antifascist', 'HUNT', 'obama.he', 'KH', 'us..', 'anti-nazi', 'PROPAGANDA', 'COO', 'naturalisation', 'theresa_may', 'adearfriendnjust', 'sept.th', 'xrpcommunity', 'FM', 'theranos', 'allvetsradio', 'gray/white', 'SHES', '-law', 'BBCAN', 'premediated', 'fitton', 'heughan', 'closernation', 'shamelessness', 'iran..', 'LVMPD', 'DEMOCRATE', 'denuke', 'WAYS', 'COMPANY', 'SIDED', 'biglly', 'STOLE', 'COTUS', 'dry-humping', 'CANADIANS', 'shhhh', 'IMPAIRED', 'THEFT', 'GAVE', 'baltimoreriots', 'G+A', '.the', 'X.', 'follower..i', 'STABLE', 'careful..', 'entrenches', 'FAUX', 'DFLA', 'uhh..', \"'not\", 'greatawakening', 'torb', 'antinationalist', 'noconfidence', 'non-binary', 'iberals', 'CONTEMPT', 'MGK', 'EXPOSE', 'lowemissions', 'constitution..he', 'wednesdaywisdom', 'efects', 'beeto', 'EX', 'plagarism', 'GGG', 'CAMERA', 'boycottemmys', 'PERSONNEL', \"we'r\", 'FBI/DOJ', 'DESERVES', 'roevwade', 'himtoo', 'womenarewatching', 'netherlandstaxhaven', 'menance', 'SUPRESSION', \"'NECESSARY\", 'EMPOUNDMENT', 'reciprocally', 'showerofshite', 'stopkavanaugh', 'ONLY', 'NO.', 'bergun', 'EU', 'bush-cheney', 'antifaareterrorists', 'WHOA-BAMA', \"'what\", 'SCARED', 'trubisky', 'FUBAR', 'DRAGON', 'farright', 'relativizing', 'uofgh', 'cultpolitburo', 'PL', 'her..', 'antifa/momentum', 'restingbitchface', 'wallstreetjournal', 'disabilityrights', 'TAKEN', 'WATER', 'DA', 'ji-hyun', 'wisperd', 'msmedialies', 'LAND', 'malcolmx', 'qclearance', 'amrinder', 'fawningly', 'BJP', 'puris', 'TRUST', 'EXPOSED', 'MAN', 'poltics', '.putin', 'knowor', 'SOCIETY', 'MLM', 'ACE', \"i'am\", 'CEL', 'concept/design', 'goptaxscam', 'TEAM', '-time', 'OVER', \"'innovative\", 'taxes..', 'leftwingers', 'AHOLE', 'INTERCEPTED', 'UNDER', 'clearheaded', 'godblesstheworld', 'PERFECT', 'everytown', 'SEXY', 'voc.', 'anti-antifa', 'LMAO', '.please', 'TRULY', 'TIMES', 'FF', 'nhs/social', 'LF', 'gillum', 'hetzjagd', 'left/democrats', 'vitue', 'IRL', 'BEFORE', 'mosotho', 'fuxnews', 'NEWS', 'POG', \"'sanjuro\", 'TRUE', 'BABYSIT', \"'hourglass\", 'turmps', 'YOURE', 'jonso', 'winthorpe', '..usko', 'PJNET', 'BLEW', 'cranleys', 'behinder', '*is*', 'AUSTERITY', 'facebook-', 'womensmarch', 'physical/social', 'guilty/innocence', 'self-professed', 'levistrauss', 'karachiites', 'protecckaiser', '***triggers', 'fire-up', 'makeamericasaneagain', \"'carol\", 'msmedia', 'nosafespaces', 'hungerless', '-he', 'interoperate', 'CDC', 'SPOOKY', 'SFOS', 'WANTS', 'ASAP', 'HERE', 'tapdance', 'nocollusion', 'SCARY', 'K.', '..you', 'theemmys', 'antifastock', 'praytheusa', 'I..', 'bluepuddle', 'PDP', '..this', 'sargon', 'career-embarrass', 'BBC', 'flotusrocks', 'webberforcongress', 'MAC-', 'libeling', 'deal/wto', 'enjoytheshow', 'dixiecrats', 'CANT', 'bitc-', 'D.C.', 'croocked', 'MOGG', 'analysis-charles', 'HOW', 'NA', 'world*', 'almostcousins', 'barbarically', 'nonewsom', 'releasethetexts', 'homeby', 'FUCK', 'restitching', 'truthfeed', 'AGENDA', 'FUKEN', 'CLUE', 'TRASH', 'NAZI', 'N.S', 'WTH', 'ORDER', 'valuinghealth', 'epithats', 'PROVIDE', 'REST', 'million-', 'intelligent..', 'antifa-great', '-rd', 'obamaknew', 'scotuspick', 'ridiculous..', 'GUNCONTROL', 'boypussy', 'thivery', 'laughts', 'NOTICE', 'anywhere..', 'osuite', 'nraun', 'america..theyre', 'EAT', 'baaaaa', 'theresistance', 'medi-care', 'DELUSIONAL', 'REMINDING', 'youfe', 'chinaly', 'tyranny=treason', 'emplyers', '/liberals', 'JUSTICE', 'rose..', 'trumpman', 'PASS', 'onenation', 'TRDJ', 'defeatism', 'bengarrison', 'albertpike', 'interested/qualified', 'torythieves', 'NBA', 'examing', 'equaljustice', 'KGO', 'SUPERSIZED', 'feeling.', 'hplife', 'nflwalkaway', 'nonpresidential', 'HYPOCRITICAL', 'firemorningjoe', 'lockherupalready', 'THIS', 'gutirrez', 'wwgonewgall', 'thegreatawakening', 'prodcutive', 'presidnet', 'EPITOME', 'moore-', 'leftieluvvieliberals', 'trivialized', 'GAG', 'dude..', 'post-suspension', 'terriorist', \"'senate\", 'a******', 'DEMS-', 'CAREER', 'kamakazee', 'BLOCKED', 'whatsatstake', 'leftists/liberals', 'teacher/student', 'PUTIN', 'WHOOO', 'AHHHHHHH', 'VOC', 'horrorland', '..get', 'wakeupeurope', 'EEA', 'gutno', 'AF', 'stopped..', 'DONG', 'APPOINT', 'mcvays', 'RECORD', 'LOYAL', 'tweeted..so', 'makesouthafricagreatagain', 'ENFORCING', 'cdcwhistleblower', 'lie..', 'SHIT', 'u-', 'illusterates', 'trudeaumustgo', 'HOLY', 'liberalsmustgo', 'BEAN', 'breibart=comic', 'brandmatters', 'program..', 'VICTIM', 'rainmakersunite', 'shit-', 'morphe', 'ANTI', 'CUCK', 'theferalleft', 'feminizing', '-yogi', '*the', 'good-', 'i*n', 'CHAD', 'pussygrabbing', 'WALKAWAYFROMDEMOCRATS', 'BOII', 'SIMB', 'encashing', 'originalism', 'rushfamily', 'SORRY', 'manaforttrial', 'republiklan', 'gop-', 'secular-progressive', 'w/a', 'SAYN', 'oligarchies', 'FINISHED', 'tourismjobs', 'GO', 'forgivingness', 'POLLS', 'NOCOMPROMISE', 'fakejournalists', 'yesonkavanaugh', 'sexal', 'NO-', 'oroshimaru', '*KNOWINGLY', 'swomen', 'RACISM', 'ownthelibs', 'FOE', 'standadd', 'kneejerk', 'yucker', 'SUDDENLY', 'levi-straussdoublesdown', 'cornuelle', 'reporting/', 'plessy', 'BE', 'amazonpets', 'pro-trump', '//i', 'provincially', 'yassssss', 'TEAMTRUMP', 'idolatrous', 'soros/obama/clinton', 'larrynassar', 'run..', 'MEANWHILE', 'POLITICIZED', 'villianized', 'bernie.he', 'if/when', 'NS', 'prick`s', 'anqueefa', 'theswamp', 'chandlermassey', 'ST', 'student-loan', 'sh**', 'evonomy', 'MN', 'DEEP', 'EVEB', \"'shitty\", 'morealligatorgreedannulled', 'robertsrooms', '-two', 'fbrparty', 'thecpcisapoliticalhategroup', 'KKK', '..that', 'nsl/mccarthyism', 'umdala', 'dumpford', 'schizophrenia..', 'AARP', 'farrakahn', 'down.poof', 'SCUM', 'anti-serena', 'renacci', 'brownshirt', 'CRITICAL', 'LOVE', 'topbuzz', 'andrewgillum', 'meansful', 'arkansas~along', 'boys/girls', 'wade-women', 'handmaids', 'kavanaughaccuser', 'sedition=', '..thank', 'UPDATE', 'harassed/attacked', 'jhdsfhjsg', 'bias..', 'cayde', '.people', 'NAH', 'MONKEYS', 'SETTINGS', 'trumpstard', 'LIGHT', 'DICTATORS', 'intellectualidiot', 'keeptexasred', 'RUNNING', 'demorats', 'LMBO', 'YW', '..case', 'evergreet', 'justiceclarencethomas', 'hfjdhd', 'reason.', 'true.women', 'OHIO', 'savetheth', 'partybeforecountry', 'supersoldiers', 'SIR', 'sendmccarthypacking', 'THE_BOYZ', 'conservative..amazing', 'THEE', 'SACRED', 'GTMO', 'KIND', 'nancypelosi', 'walkawaymarch', 'victoriasecrets', 'secondammendment', 'ASMR', 'establishmnt', 'pushawardsmaywards', 'cosponsored', 'FDS', 'liberalvalues', 'LEFTISTS', 'angeela', 'catkiller', 'wassamatta', 'varadkar', 'QUEEN', 'law.obviously', \"'RETURN\", 'qanon', 'proisrael', 'enebot', 'declassifying', 'DEMOCRATS', 'boycotthollywood', 'luddites', 'rehman_chishti', 'UNARMED', 'ASA', '-u', 'MAIN', 'SAYS', 'NON', 'sir..maga', 'theeyeofthestorm', 'no-', 'A.', 'wwgwga', 'TRADE', 'OTHERWISE', 'describesto', 'qanuck', 'ASB', 'walkawaydemocrats', '.stand', 'abusuve', '-student', 'slogan/promise', 'OFFENDERS', 'supermajority', 'adamandeve', 'demands..', 'week.senior', 'ajsvsnsksjsj', 'FFL', 'RHINO', 'teump', 'foxreport', 'PTI', 'CONTROL*', 'supersoldier', 'scholar-like', 'CAR', 'DANCER', 'SHOOTING', 'ILLEGAL', 'judgekavanaugh', 'FAILS', 'TINA', 'guarantied', 'MR.', 'trumpsupporters', 'shocktroops', 'v.i.lenin', 'fined-odds', '.practice', '/boots-on-the-ground', 'MM', 'FINE', 'brexity', '..shit', 'IN', 'ncdd.org', '*exhaustive*', 'redpill', 'villifying', 'idiot..his', 'girls.she', '.drunk', '..yawn', 'leftists/terrorists', 'BRAINWASHED', 'WONNA', 'killthezebras', 'PRISON', 'a**hole', 'distractification', 'd/', 'counteracts', 'toryparty', 'well-treated', 'hyper-partisan', 'resisttrump', 'CPP-NPA', 'form.', 'KAVANAUGH', 'sarrena', 'stopthebias', 'CORRECT', 'INMATE', 'bcashhhhhhhhhhconnectttt', 'canadaelection', 'AARON', 'FILL', 'socialsurvey', 'killshot', '.drew', 'chicago~~', 'trumpists', 'MENTALLY', '-pfffft', 'AFFORDABLE', 'WAS', 'freedomperiod', 'COOLEST', 'PREACH', \"'we\", 'acrimony', 'papercup', 'cosnstitution', 'MOG', 'cchqpress', 'IMPORTANT', '-the', 'imwithkap', 'workobviously', 'AN', 'CONTAIN', 'policies..now', 'OOH', 'w/marxist', 'foulmouthed', 'TRYING', 'bashthefash', 'granny.', 'FBPE', 'DBC', 'mumtaj', 'FIRMLY', 'christineford', 'whataboutery', 'ETH', 'beaten-', 'sterilizing', 'REASON', 'deepstatecorruption', 'territory.jerkoff', \"was't\", 'xilhatarra', 'MAVERICK', 'chittlerings', 'funny-', \"'extraordinarily\", 'FCC', 'BOMBS', 'me..especiallysen.kennedy', 'shamer', 'MAY', 'WOMEN', 'fkat', 'ALREADY', 'ruskies', 'DAM', '.accompanied', 'DEMS', '-~-', 'geologically', 'socialism=authoritarianism', 'GETS', 'CFO', 'resist/antifa', 'vigano', 'TONIGHT', 'SINGLE', 'past.she', 'FUN', 'TN', '..to', 'ONA', 'S', 'gmother', 'deplorabledreg', 'lmaaaaoooo', 'pbsnewshour', 'nemzet', 'ACHTUNG', \"'i'ma\", 'DESPICABLE', 'NOBLE', 'nessasary', 'saaaaaaadd', 'H', 'SOX', 'nokosoko', 'SAMI', 'DNA', '*finally*', 'thankfulthursday', 'congressman-a', '.f.u', 'prayrevival', 'hillaryous', '-take', 'real..this', 'ACTIVIST', 'afloat..', 'temp-tatts', 'VIDEO', 'dems/liberals', 'investigatechtistineford', 'KTVU', 'HAVE', \"'puzzling\", 'forgiveness.america', 'POS..', 'DEMOCRACY', 'dumocrat', 'ITALIAN', 'thinks/acts', 'toadette', 'partaken', 'EF', 'fakeuberdriver', \"f'off\", 'SOCIOPATH', 'prison..yes', 'breitbarters', 'followerickonig', 'POLITICS', 'trying..', 'SURVIVE', \"'infowars\", 'COLLEGE', 'sundaythoughts', 'AUMF', 'super-heavily', 'youuuu', 'familiesbelongtogether', 'A', 'pedophlia', 'BLATANT', 'gunbroker', 'chooseright', 'liberals/', 'media.propaganda', 'twitter-', '..the', 'huessein', 'o-ren', 'ET', 'THATS', 'discontents', 'nflfreesundays', 'indoctrinating', 'near+', 'kirinodere', 'THROWING', \"'unwinding\", 'thinblueline', 'control.swamp', '..they', 'FOOLED', 'COACHING', '..instead', 'muellerwitchhunt', 'murderrate', 'cristyn', 'ACCUSED', 'SHHHH', 'PURP', 'DISGUSTING', 'shirt~', 'BATTLEBUS', 'TONGUE', 'identitypoltics', 'IGNORANT', 'ancom', 'stoneman', 'whitesupremacist', 'ELECTED', 'election.maga', '..thought', 'garynuman', 'torylies', 'w/wire', 'bitch..', 'judgeships', 'cells..', 'you..via', 'democrats.this', 'ICON', 'IMNGONNA', 'fined/jailed', 'washed-out', 'DEATH', \"gov't\", 'bitchhh', 'lockthemup', 'JDKDKDK', 'LGBTQ+', 'STOCKS', 'majerle', 'therainmakers', 'ban/confiscate', '^LD', 'CRACKED', 'soooooounds', 'disgrace-without', 'russian-infiltrated', 'conservatives=', 'RATHER', 'HYT', '-ur', 'progressive..', '_proven_', 'FBR', 'markfoley', 'GIRL', 'oppotunity', \"h'wood\", 'qanons', 'SEND', 'reaserch', 'HUUGE', 'liberals/fox', 'veterens', 'weaponizing', 'CMS', 'cumslave', 'him/males', '-people', 'false.', '-antifa', 'you..', 'lnvestigation', \"'bama\", 'nowaters', 'xhe/zhe', 'whiteprivilege', 'alpoli', 'AGRESSIVE', '.total', 'buffoon.', 'crookedtrump', 'nevertrumpers', 'magatalk', 'nohonor', 'ocasio-cortez', 'PRAYING', 'HAHAHAHAHAHAHAHA', 'ipledgetovote', '-such', 'FOUR', 'endcorruption', '*michael', 'owellian', 'HELP', 'ittabloid', 'qanonchan', 'CCP', 'abortion=war', 'CONSTITUTION', 'jesusisback', 'riott', 'better.', 'UNLEASHED', 'BITES', 'NJ', 'know..', 'DRAINTHESWAMP', 'f**king', 'STAN', 'GLAD', 'antifa-like', \"'remove\", 'HORRIBLE', 'COURT', 'de-funk', 'HES', 'perjurer', 'HS', 'INTELLIGENT', 'MOST', '.will', 'kaushalarmy', 'nra/gun', 'B******', 'doorhit', 'man/his', 'ENFORCE', 'followthewhiterabbit', 'rwluciferiancult', 'gungrabber', 'NEITHER', 'detracting', 'HLL', 'scalise', 'slimfast..', 'life/death', 'RM+', 'crisis-', \"*don't*\", 'warriorscoach', 'ANCIENT', 'HISTORY', 'she`s', 'to..', 'COMES', 'housingcrisis', 'CR', 'vegasshooting', 'foolhardy', 'atsushi-kun', 'bbcpl', 'BK', 'CCW', 'fakedemocracy', 'names-', 'KDKSKSKS', 'blockchainful', 'X', 'DLC', 'US', 'expectus', 'DOES', 'lecor', 'F*', \"'cheating\", \"ought'a\", 'man.if', '/my', 'swallwell', 'MEI', 'ITS', '-illegal', 'BALLS', 'ldconfbrexit', 'farakans', 'EVERYWHERE', 'SJ', 'YAHWEH', 'WO', \"obviously..d'uh\", 'teamspotlightsunday', 'redwaverising', 'savedemocracy', 'FELONY', 'supplymanagement', 'VAN', 'EFF', 'SO-CALLED', 'TTT', 'toriesmustgo', 'akkad', 'HQ', 'FILTHY', 'fordnation', 'oh-no', 'FIVE', 'accused-', 'GREAT', 'BITCH', 'hostileenvironment', 'DIDNT', 'EASY', 'LOSE', '.fact', 'is/he', 'kb/mouse', 'rulesforradicals', 'AGREE', 'democrats/liberals', 'TRAFFIC', 'coolaintforsale', 'christineblaseykavanaugh', 'IRREDEEMABLE', \"'out\", 'KNEELING', 'VULNERABLE', 'ARM', 'L.', 'detail..', 'CONTINENT', 'WRIND', 'gun=coward', 'stevie.', 'QUIZ', 'pacgoldenstatewarriors', 'AKA', 'takeusaback', 'falwell', 'STUDENTS', 'TORIES', 'TWO', 'boycottnike', 'takendted', 'SHOT', 'bigtech', 'BU', 'altright', 'FPS', 'dregsofsociety', 'crimesyndicate', 'NBC', 'jr.she', 'scotuskavenaugh', 'PAY', 'horrible.i', 'exculpatory', 'countryoverparty', 'vote..', '-SC', 'HAUL', 'vanir', 'INVESTIGATE', 'bed-buddies', 'UNPREPARED', 'blm=waroncops', 'demeaned', 'NOV', 'mines/', 'WASR-', 'correctly-', 'cityoflondon', 'wepaidinyoupayout', 'TD', 'PROSECUTER', 'HAHAHAH', 'OTOH', 'summer-fall-', 'SIGN', 'RESPECT', 'asktheq', \"'legacy\", 'makeamericastrongagain', 'FAKENEWS', 'ABUSING', 'SAID', 'policallly', 'laser-focused', 'A+', 'stratadata', 'intelligence.', '-MS-', 'COWARD', 'jail..just', 'OBAMASPYGATE', 'in..liberals', 'eagleonetowanta', 'hypocrickets', 'sadnews', 'forttrump', 'sonnuva-gun', 'borders.doesn', 'murples', 'antifa-spade', 'MIGHTY', 'tanrums', '.cowards', 'INVOLVED', 'PLAYERS', 'LAME', 'BREAKING', 'betsydevos', 'DESERVED', '.cyberpunk', '*turns', 'aaaahh~', 'not..you', 'DARK', 'RGA-', 'shrio', 'scruffbag', 'laws-', 'LUNCH', 'QUANTIFIABLY', 'AMERICA', 'control..but', 'ah..', 'handcuffsforhillary', 'SJSNSN', 'possible.', 'vaccineholocaust', 'disisive', 'fashy', 'FUNDED', \"'dems\", 'SCHOOL', 'RIPM', 'counselled', 'agtresults', 'dorter', 'TOLD', 'RINOS', 'americanredmidterms', 'crookedmedia', 'ESP', 'LT.', '..ya', 'BO', 'NARCISSISTIC', 'hackers..', 'there..do', 'commsion', 'YAY', 'yiannopoulos', '=liberals', '*sighs*', 'civically', 'kavanaughhearings', '.boi', 'PS', 'quiet.', 'REPORT', 'hared', 'livingtrust', 'worlders', 'steamburgen', 'weakrinos', 'PROTESTERS', 'bhuvan', 'uhhh', 'embezzeled', '.reveal', 'CATCH', 'ISIS', 'ROMY', 'TREASON', '-gerrymandering', '+.', 'COOL', 'MESSSSSSS', 'TRY', 'NIGHT', 'RR', 'do..', 'rpreviously', '/is/', 'annalovestrump', 'myyy', '.conservatives', 'confirmjudgekavanaugh', 'theories.most', 'LET', 'liberalhate', 'LUCIFER', 'f*', 'CRUSHES', '-cheating', 'profit-driven', 'shootings-must', 'DEMOCRAT', '.FM', 'DETECTIVE', 'MILLION', 'broin', 'M-', 'FRIENDS', 'OJ', 'LOST', 'ARRESTED', 'WHATS', 'cat-sized', 'he-she', 'BAGS', 'idiotalert', 'LENIENCY', 'trump_babes_', '.bn', 'volient', 'thetruthshallsetusfree', \"'broad\", 'MULTIPLE', 'patchmade', 'sinmaduroyo', 'USB', \"'shock\", 'POLITICIANS', 'maxinewaters', 'CONTRACT', 'fight..', 'patrickmouratoglou', 'ACCOUNTABILITY', 'sbornwomen', 'ANTIFA', 'world..', 'double-talking', 'one..but', 'POSTED', 'SICILY', 'salinsky', 'DSA', 'near-universal', '..how', '.you', 'birdsofafeather', 'electoralreform', 'ALL', 'clearflynnnow', 'usaguard', 'so..it', 'fluffywolf', 'orgs.i', 'hellboys', 'releasethememo', 'housingforall', 'left/hillary/antifa', '.wait', 'season..they', 'CHECK', 'FALSE', 'maymustgo', 'ANYWAY', 'etc..', 'endpc', 'KERRY', \"'consumers\", 'democraticparty', 'kavanugh', 'SCHMUCK', 'mondaymotivaton', 'lockherup', 'skshsksk', 'dogs.', 'AIDING', 'WITCH', 'DISAGREE', 'antipo', 'fakenews.walter', 'publicauthorities', 'ALMOST', 'pixiegang', 'rednovember', 'scotians', 'proudboy', 'GORGEOUS', 'againtske', 'nope..', 'LAST', 'FCP', '-mr.', 'HAPPENED', '.YES', 'gunsights', 'strzok', 'americanpeople', 'FAN', 'them..', 'sniffs*', 'lowliness', 'nodealbrexit', 'SMI', 'that..', 'CONQUER', 'WEEK', 'lbcradio', 'kavanauh', 'youaregoingtojail', 'ZUCKERBERG', 'stalk..hunters', 'deceive.', 'SPA', 'IV', \"'M\", 'location/time/people', 'WINNIG', 'seongwu', 'kavanaugh', '.MAGA', 'course-the', 'WHINERS', 'FBI', 'womenshouldruletheworld', 'INCOMPATIBLES', 'ENVIRONMENT', 'hard-right', 'openness/high', 'alwaysacowboy', 'merkelkratie', 'SPAR', '*fingers', 'steepppp', '.org', 'SQUAT', '-=', 'GUESS', 'zeroed', 'LMFAOOO', 'war..', 'virulently', 'SUCH', 'hirono', 'yep.unfortuly', 'MINUTES', 'adulting', 'CRITIQUE', 'saying..', 'REVERSE', 'DEEPSTATE', 'beliees', 'LOV', 'I', 'crossed*', 'STORY', 'dafauler', 'CURTIN', \"'for\", 'COULDVE', 'dirt..', 'undereducated', '-I', 'DANIEL', 'immigrantsilegals', 'notokavanaugh', 'PRC', 'u..psst', \"'ause\", 'do/say', 'violation.u', 'indeed.a', 'tess_holliday', 'word.there', 'FUCKING', 'fry-frosty', 'criminalsinuniform', 'eyes-', 'former..first', 'safertomorrowfund', 'ACCOUNT.', 'madmaxinewaters', 'OUR', '-national', 'HOPE', 'ALP', 'kalergiplan', 'ago.', 'theonomists', 'MENTION', '.look', 'greatestthingsaboutthes', 'TRIPPIN', 'ADOPT', 'refernce', 'espouses', 'joedonttouchsomuch', 'AC', 'sajidjavid', \"destroysovereignusa-usconstndem'y+\", 'COBBLE', 'THEWHITEHOUSE', 'SHITTED/SHAT', '-conservatives', '.disgusting', 'co-conspirators', 'psuedo', 'IM', 'CENSORSHIP', 'pump-action', 'FUNERAL', 'latinosfortrump', 'neo-faux', 'haaaaaa', '-ya', 'drainthedeepstateswamp', 'CUPCAKES', 'E', 'kryptonian.turns', '.SHE', 'no-scope', 'carruing', 'it-', 'MEMBER/ILLEGAL', 'some/many', 'F', 'NORMAL', 'andriese', 'marxist-leninist-maoist', 'teamtani', 'HER', 'PREVENTED', '//yeah', 'cowboywayal', 'thewallstreetjournal', 'jeremy_hunt', 'DICTATE', 'ligic', 'yentas', '.and', 'JUDGE', '..yes', 'OH', 'BRUCEOUT', 'hurtng', 'agsessions', 'fed/local', 'families-', 'DM', 'cut-down', '.it', 'falseflags', 'apple/jacks', 'countrybeforeparty', 'TRAVELING', 'bad/ineffective', 'imperical', 'AK', 'enoughisenough..what', 'TX', 'niggaaahhhh', 'MONSTER', 'SHAFTICUS', 'SRM', \"'gun\", 'G.', 'JDKDKDD', '-this', 'redwave', \"'COWARDS\", 'FUCKIG', 'REP', 'bhakt..', 'mbpoli', 'are..unless', 'BANNING', 'either.still', 'up-', 'whaooaaaaa', 'PATRIOT', 'PROUD', 'IHRA', 'GRAB', 'jeremycorbyn', 'prolifegen', 'mini-g', 'SCHEME', 'gaytriots', 'USING', 'ADMINISTRATION', 'ENTIRE', 'LEFT', '.get', 'walldoesntprotectfromamericans', 'big-top', 'MEP', 'fundedbynyandhollywoodleftistsbutpretendingtobeatexan-o', 'anti-gop', 'swiftgpi', 'demandbetter', \"'why\", 'termlimits', 'I-R', 'stolded', 'PURDUE', 'manifort', 'benchers', 'JUST', 'FAKE', 'LRT', 'GINSBERGISNEXT', 'w/trump', 'bhadtranny', 'MEASURES', 'GOVT', 'cancelsouthpark', 'BAZ', 'VOTERED', 'OATH', 'SOCIALIST', 'conservatives..it', 'kuniva', 'allsup', 'calling..', 'ANTI-ANTIFA', 'mid-s', 'alt-media', 'deranged..', 'U', 'chuds', 'overwatch', 'THREATENING', 'finestine', 'nidus', 'satan..', 'RESPECT.', 'show-', 'thirdreich', 'REACTION', 'fakedrugwar', 'matters.', 'YOUR', 'steamrolling', 'ca-district', 'WHERE', 'nofeinstien', 'AGAIN', '.there', 'CHOSE', 'SNAKE', 'feelwings', 'mbappe', 'WTA', 'UR', 'NC', 'fixolas', 'silentwarfare', 'BIRNBAUM', 'youhadonejob', 'LEFTY', 'shopping-sale', 'them..there', 'thereupon', 'militarytribunals', 'have..no', 'lefist', 'uspolitics', '//', 'djsjsjjs', 'PISSED', 'MAJORITY', 'necular', '-got', 'BETO', '*and*', 'YUGE', 'regurgitates', 'shitposts', 'WORLD', 'unleavened', 'LOVED', 'show.our', 'vanguards', 'TRUMP=LEADER', 'plannedparenthood', 'mifsud', 'WC', 'startvettingcongressmen', 'out..', 'deregionised', 'IMPROVED', 'liketrump', 'bald-faced', 'RAH', 'lmfaoooooo', 'THAT', 'pediphiles', \"'none\", 'CU', 'whoaaa', 'diannefeinstein', 'ourcountry', 'MIDDLE', 'haley*', 'B/S', 'INFRINGED', '.LOSER', 'plasterd', '-she', 'million+', 'ABC', 'EXPOSETHEDEEPSTATE', '*white*', 'why..', 'DELAY..', 'LGBTQ', 'TRILLION', 'engineer..', 'SAYING', 'zemke', 'texaspolice', 'WERENT', \"'no\", 'COMMIE', 'WILL', 'ECONOMY', 'jeffsessions', 'commieclowns', 'military/leos', 'isis-antifa', 'TRUSTED', 'TF', 'ME', 'BASTARDS', 'NOO', 'TOGETHER', 'weeeeehhhhh', 'burnered', 'NIC', 'NCAA', 'hasenpfeffer', 'C-USA', 'neverwithdraw', 'roxhamroad', 'BRUH', 'HIM', 'disarmhate', 'LATER', 'gunsensenow', 'BRIDGEPORT', 'imwithdave', 'C_I', 'HOODS', 'TYPING', 'vogue..', 'BETTER', 'FASCIST', 'merrickgarland', 'BURNOL', 'TWEET', 'BUT', 'cartersbodysuitsweepstakes', 'hightechlynching', 'remember..', 'brettkavanuagh', 'ergnews', 'gamestopcontest', 'gutierries', 'beniesanders', 'PRO', 'DUH', '*sings', '.what', 'bigredwave', 'zeyal', 'animals..', 'RELEASING', 'OR', 'LOOKING', 'UNDERSTOOD', 'yawn.nothing', 'TRUMP', 'roseannebarr', 'femanazis', 'JOB', 'HELPED', 'lose/', 'conservativesattackondemocracy', 'FUCKOFF', 'markjudge', 'oshaeterry', 'liberalsguns', 'wemakeamericagreat', 'moviepass', 'mean..', 'BUTCH', '//you', 'THISWACKO', 'CONSERVATIVES', 't-be-evil-corp', '*chokes', 'b**ch', \"'capitalist\", 'LIFE', 'dgps', 'brexitmeansbrexit', 'NEVER', 'LIVE', 'PI', '.make', 'convo*', 'perjure', 'accordingly-you', 'example-', 'CIA', 'tommyvalhalla', 'baiters', 'burger..', 'repunklicans', 'antle', 'exposethetruth', 'ARREST', 'he\\\\she', 'WALKAWAY', 'chinesespy', 'STUPID', 'AND', 'liberallosers', 'DISS', '^TN', 'reporters/', 'bestpres', 'SMH', 'tax-dodgers', 'DON', 'O-H', 'shoot/stab', 'btain', 'unitedwestand', 'treph', 'REMEMBER', 'trumpderangementsyndrome', 'mediatoo', 'guttenburg', 'magadingdong', 'imprecation', 'welfarefoall', 'wayyyyy', 'CORRUPT', 'pro-a', 'DENIES', 'trumpkins', 'conservativecomedy', 'Y/O', 'wearecorbyn', 'PLAYER', 'woker', 'BYE-BYE', \"'ANY\", '.just', 'TMX', 'ocasio', 'yyyy', 'doyes', 'msuthu', 'WH', 'dregofsociety', 'mcraven', 'CHANCE', 'HAHA', \"o'lakes\", 'rhoode', \"'save\", 'DUCK', 'recusal', 'REINFORCE', 'reckognize', '-found', 'cockwaffle', '.guess', 'cow-tow', 'altc', 'anti-americans', 'ALEC', 'nasks', 'NATIVE', 'teacherlife', 'GOPER', 'ATTENTION', 'uscodechsec', 'NI', 'EYE', 'WWGWGA', 'JAIL', 'IRANIAN', 'things..like', 'kavanaughscotus', \"'keller\", 'HIGHER', 'YOUNG', 'thomas-anita', '.stupid', 'ironicnews', '..libnuts', 'ikkk', 'HIRE', '..WHY', 'brookee', 'LIVING', 'HB', 'BNF', 'THEM', 'come/true', 'daughters-all', 'writerwednesday', 'laughing*', 'thebills', 'THUS', 'nikead', 'SPINE', 'naxine', 'bushie', '..fire', 'doings/non-doings', 'SENSIBLE', 'INTENTIONAL', 'natfednews', 'guenther', 'demagogues', 'STILL', 'unons', 'DOJ/CIA', 'CARES', 'dontmessaroundwith', 'LAW', 'power-', 'yessss', 'nickferrari', 'vis--ve', 'crunchtoadifferentbeat', 'steppenwolf*', '*click*', 'GROW', \"'democracy\", 'metoo=waronmen', 'KEEPS', 'F*******', 'peopleoverprofits', 'DP', 'services/', 'genl', 'beyrayal', 'traitortrump', 'fuckeu', 'SPEAKER', 'fukushima-daiichi', 'TWIST', 'HUNKERED', 'terrorsits', 'again.u', 'ELECTION', 'krishn', 'yasir..nobody', 'CONTROL', 'THOUGH', 'democratshateamerica', 'PUTTING', 'VET', '*nevinbruce', 'sluch', 'FLAG', 'NIGHTMARE', 'singer/writer', 'COACH', 'NFW', 'ROSIE', '***william', 'BOOOM', 'welfareforall', 'EMO', 'money..', 'tealest', 'INVESTIGATION', 'WHENEVER', 'WIFES', 'thedeepstate', 'hilliary', 'REMOVING', 'anti-fascists', 'fuckinggg', 'nomanisabovethelaw', 'curtails', \"'tree\", 'USL', 'control/anti-a', 'listentoindustry', 'ENOUGH', 'HELPING', 'NHS', 'PERVERTS', 'upsideup', 'ancaps', 'innuendoes', 'endthechaos', 'and/or', 'btw..thanks', 'GNC', 'ASKED', 'snow-flake', 'SIWC', 'a_', 'TRUMPS', 'liberals/democrats', 'iloveamerica', 'bepannaah', 'NWOT', 'sheister', 'ANXIETY', 'LAUGHS', 'TOW', 'READY', 'VOLUME', 'N.', 'HARF', 'wonting', 'HOUSEHOLD', 'soros-backed', 'chicagodeathtoll', 'good/evil', 'S.O.B', 'capablities', 'JUVENILE', 'nolieu', 'AGAINST', 'saveournhs', 'DIMS', 'julieburchill', 'hadwin', 'firearms..', 'notificed', 'HAS', 'everchanging', 'w/no', 'GUYS', 'WEARING', 'lwhen', 'anything.enjoy', 'dog-eaters', 'AMEN', 'SLIDER', 'shhh', 'HOMEWORK', 'nfl.the', 'DANGEROUS', 'buildthewall', 'comicart', 'JD', \"'JUST\", 'fbpe', 'IHMYKGODOOSJ', 'vetobeto', 'avanetti', 'GIF', '.LOVE', \"'dregs\", 'LOOKOUT', 'QARMY', 'EUROPE', 'THREE', 'characterizing', 'agree..but', 'FABULOUS', 'DETAILS', 'OBNOXIOUS', 'HANG', 'SCAMMING', 'liberals..', 'recently-freed', 'MOE', 'MSD', 'boycottthenfl', 'LITTLE', \"'RNC\", 'QUESTION', '.youre', 'down..', 'SHOW', 'billayers', 'GORKEDDEMS', 'non-conservatives', 'JOE', 'smile..if', 'what-platform', '.except', 'bolsheviks', 'possive', 'USA..MAGA..', 'nocaliforniademocrats', 'iatrogenesis', 'SOME', 'hitlary', 'non-automatic', 'tinderbox', 'SOBTI', 'WORK', 'HR', 'REPUBLIC', 'DOUBT', 'SISTER', 'politically..', 'w/gi', 'ANGELINA', 'threichnwo', 'movie-', 'SOBBED', 'BROAD', 'zeckenbiss', 'fabricates', 'TC', 'DRIVER', 'wortless', 'trumpster', 'conadidate', 'hard..', 'dtmag', 'WW', 'HIAC', 'ANOTHER', 'cealrly', 'griexsevia', 'DB', 'freedomofexpression', '.BTW', 'uklabour', 'saveamericafromdemocrats', 'HAHAHAHA', 'anti-first', 'freealexjones', 'scofflaws', 'boycotttheview', 'hurt..', 'weareq', 'RED', 'r/religion', 'YESTERDAY', 'tfrump', 'secret.the', 'usa_gunslinger', 'HONORED', 'TPP', 'SA', 'hedgefunders', 'youuuuu', 'EATEN', 'chaulk', 'TRUMPARMY', 'antifa=waronsociety', './presumably', 'mcfartney-', '-randy', 'KAG', 'road*', 'BONO', 'KNOWTHAT', 'uh..wasn', 'FOREVER', 'years.', 'others..', 'erikholder', 'exressing', 'UP', 'laws..', 'NICE', 'dubakoor', 'BELIEF', 'nominatin', 'ADMITTED', 'campigne', 'TT', 'high-regulation', '..long', 'f*cking', 'toast-', 'HARDER', 'NPR', 'MOUNT', 'kavenaugh', 'screwed..tick', 'mr.rapist', 'your/my/our', 'LOOK', 'undisputable', 'revivecivility', 'ATEMPTED', 'warzones', 'lindasarsour', 'kool-aide', 'ACORN', 'ford=university=soros=antifa=bull', 'redtsunami', 'KEEPING', 'SNOWBALLS', 'HURT', 'schiffhead', 'follofollo', 'z-jail', 'hypocrisymuch', 'RESPECTABLE', 'ACCUSER', 'demsaredangerous', 'w/fillers', 'ABOVE', 'antifagoons', 'U.K.', 'GONE', 'senatorfeinstein', 'w/', 'HEALTHCARE', 'HONEST', '*HJF', '-gauge', 'LBJ', 'MAGAKAG', 'JOHN', 'records-having', 'bodywraprestraint', 'ITCH', 'intratec', 'FURTHER', 'ANTI-SUICIDE', '.squeeze', 'declassify', 'ERIC', 'allinonlonnieisntfunny', 'on-it', 'deregulating', 'consequences-', '-big', 'TAX', 'westandtogether', 'THRILLED', '..she', 'wethepeople/', 'ssshhhhhiiiiiiiiiiiiiiiit', 'NUKES', 'SUPERMAN', 'CUSHIONEY', 'DWI', 'conservatives/gop', 'FNMA', 'judeo-christian', 'qarmy', 'shittalking', 'DRAIN', 'gettough', 'lunatic.', 'woman..', 'toriesout', 'YOURSELF', 'ibelievechristine', 'doesn.t', 'ARMY', 'paul.berger', 'PAYMENT', 'MIND', 'anitahill', 'bitchhhhhh', 'RIGHTS', 'LIKE', 'FORD', '.who', 'ditchmitch', 'clinton~lucerferian~', 'ex-dems', '-grover', 'JOBS', 'man..', 'randian', 'victim..same', 'betoforsenate', 'FEMINISTS', 'emmyawards', 'HORIBBLE', 'havevut', 'willhorton', 'side-note', 'alloutpolitics', 'shitcago', 'ONE', '/only', 'propter', 'september-beginning', 'gop/trump', 'privlages', 'voteredtosavetexas', 'cherry-picked', 'longt', 'demon-craps', \"'common-sense\", 'outraising', 'LEONE', 'CAED', 'racist.', 'fanniegate', 'CHICKENS', 'ncaaonsundays', 'BRUTALITY', 'DEMONS-PERIOD', 'NONE', 'PD', 'REPUTATION', 'submissions***', \"'makes\", 'michaelche', 'godblessourmilitary', 'doofuses', 'alinskyite', 'votelabour', 'constitutionalist', 'ICE', 'LORD', 'harrasses', 'HEADING', 'illigally', 'b/c', 'timesuptwitter', 'marriedtomedicine', 'FMCC', 'USE', 'prohibitionists', 'clingvto', \"'S\", '*waits', 'chequersplan', 'owned/possessed', 'lyingliberals', 'J', 'MSM', 'GAS', 'einsatzgruppen/waffen', 'openselection', '*as', 'WHAT', 'jiyoonfact', 'SAY', 'centrists', 'chuckmay', 'marchforourlives', 'tothevillagesquare', 'LIARINCHIEF', '-if', 'illegitimacy', 'AMY', 'S.O.', 'firerosenstein', 'falseprophet', 'TEARS', 'UNHINGED', 'PURCHASED', 'BEST', 'SLC', 'npszabadsg', 'nvsen', 'SERVE', 'francisaglabtintulognalang', 'GOAL', 'BREATGE', 'm/yr', 'facelifted', 'HUMAN', 'REGARDING', 'walkawaycampaign', 'standupbrexit', 'creepyjoebiden', 'krazee', \"'unintentionally\", 'FAILED', 'PROTECT', '.cry', 'THINKS', 'trumpsarmy', 'blocklists', 'CHANGE', 'LISTEN', 'clintoncrimes', '//xd', 'BABY', 'THESE', 'comgress', 'neg/hate', '..BUSINESS', 'INCLUDED', 'wild/wet', 'FREE', 'GENIUS', 'KNEELERS', 'wecall', 'jobless/homeless', 'melkor', 'familerize', 'america..', 'votedayna', 'jackdorseyisabigot', 'O', 'FEELINGS', 'member.insane', 'womenfortrump', '.an', 'ultrafinitists', 'SIDE', 'COULDNT', 'uhm..then', 'CHARADE', 'marinesagainsttrump', 'DISNEY', 'act-aca', '*goes', 'despicably', 'ANTHONY', 'barrelling', 'bided', 'elsewhere..', 'COMMON', 'fake/lie', 'keepitpublic', 'wings/beer/country', 'immigrating', 'left*', 'lilextra', 'WHICH', '.BOT', 'answer..', 'BULL', 'TRAIN', 'EXPECT', 'TP', 'MIRROR', 'heredon', 'CHUMP', 'sh*t', 'SERVES', 'degenerated', 'w/insurance', 'LYING', 'sportbooks', 'CRACKHEAD', 'RIGHT', '*he', 'LGBQT', 'TOS', 'whatbour', \"'politics\", 'pcliberal', 'socialists=taxpayers', 'WERE', 'democratsdividinganddestroyingamerica', '-no', 'VIOLENT', 'YOU', 'UK/US', 'WTC', 'WWYD', 'molonlabe', 'MUST', 'FFS', 'TOLERATE', '..will', \"'higher\", 'strasburgh', 'CHEAT', 'campaigne', 'trump..', 'wakeupstandupspeakup', 'socialismsucks', 'multiversity', 'kaate', 'fakeoutrage', 'enemyofthepeople', 'POLICE', 'thailandchildren', 'volume*', 'DARE', 'TX-', \"'START\", 'cnconellen', '-page', 'CALLING', 'doubt.', 'day..', '.take', 'BLM', 'PM', 'theeconomist', 'carnages', 'unfuckable', 'BCO', 'CNN', 'kavano', 'FYI', '-what', 'TRUTH', 'WWE', 'nikeboycott', 'conscientiousness', 'massachussetts', 'HONOR', 'substantiated', 'memelord', 'ABORTION', 'fitztragic', 'islamists/antifa/leftists', 'CALL', 'OG', \"vei'aran\", 'digitalsoldiers', 'beneathhumanity', 'millionsubscribers', 'U.S.A', 'BELIEVE', 'noharris', 'datafile', 'IS', 'firstresponder', 'FDOM', 'MP', 'ex-crackheads', 'disarmharrisnow', 'tuesdaythoughts', 'out-bekhit', 'sawed-off', 'DBA', 'PARTY', '-had', 'CAPS', 'communismkills', 'clintonemails', '-explodes', 'voteblueandbringafriend', 'checkmarks', 'WAKE', 'blocktogether', 'NV', 'PPC', \"'a\", 'WOW', 'notplastic', 'TRUMPSTRONG', 'PREDATOR', 'CLEARLY', 'annoyance..', 'lmaooooooo', 'trump-russia', 'referee/umpire', 'jenshad', 'dickmatized', 'michaelmoore', '*rich', 'INVISIBLE', 'NOTICED', 'CHANGING', 'GENOW', 'actors.', 'NOTIONS', 'gotourpiece', 'BLESS', 'FREEDOM', 'willeford', 'DAYS', \"'colorblind\", 'sareptians', 'IL', 'YAFTV', 'DEPICT', 'GREATAWAKENING', 'twatts', 'zagami', 'SCHEMING', 'thulare', 'LIBERALS', 'hivites', 'SITUATION', 'dimms..they', 'eaten*', 'atomisation', 'KNEW', 'up.she', 'SUPPORTERS', 'cdnhist', '/COPY', 'DOO', 'dougford', 'YOU..', 'jaquonadiah', 'TELLING', 'M', 'buryblue', 'balaam', 'MAE', 'WISH', 'inauthenticity', 'QANON', 'drainingthedeepstateswamp', 'comingggg', '-kermit', 'CENSORING', 'counterprotests', 'scrathed', 'fuddy-duddy', 'tuesdaytips', 'HAND', 'ant-', 'semi-skimmed', 'G.SOROS', 'fatnixon', 'hits..', 'harambe', 'SENSITIVE', 'alt-shite', '.good', 'RIOTS', 'chicagopd', 'thursdaythoughts', 'USC', 'CHILD', 'e-panda', 'PIX', 'DISGRACED', 'SPYGATE', 'vetsresistsquadron', 'meeeeeeee', '.words', 'OBAMASUCKS', \"'conservatives\", 'DAY', 'ntknetwork', 'stopkavanaughnow', 'gullibles', 'defundpbs..', 'HESANIDIOT', 'iannello', 'high-jacked', 'FOOL', 'ABUSE', 'goredstatebystate', 'ddsl', 'thehandmaidstale', 'going.', 'illegalaliens', 'gag-inducing', 'justiceforoliver', 'wait-', 'PUNK', 'AWESOME', 'LG', 'LOOKS', 'BLAME', 'RESULT', '-oscar', 'ERG', '*convo', 'BEHIND', 'informatin', 'bhajpaa', 'B.S', 'AUSTRIA', \"'guy\", 'letthetribunalsbegin', 'FANCAMS', 'ALIENS', 'stranahahn', 'hndu', 'THIRTY', 'trump.', 'THOSE', 'RESCUE', 'p**sy', 'BROS', '-reforms', 'TONY', 'anymore..', 'PROBLEM', 'GOTV', 'double-minded', 'dianefeinstein', 'EXCITING', 'libsthinktheyhavealltheanswers', 'kinew', 'queen-', 'LIKELY', 'GITMO', 'POL___QX', '.but', 'survive.if', 'keithellisonabuse', 'america*', 'ONES', 'CAUSE', '-do', 'vilvilifying', 'haltbarer', '-willie', 'YALL', 'onlyatyaf', 'DEM', 'un-charismatic', 'takeastandnotaknee', 'credits-', 'NOVEL', 'BESTFRIEND', 'trumpresign', 'commiessuck', 'sturmer', 'ICYMI', 'deplorable~she', 'voterepublican', 'mediabias', 'LMAOO', 'thirium', 'stitchup', 'false-majority', 'beliwunited', 'LESS', 'family.', 'maga-bot-types', 'dncwbore', 'daxamite', 'ababzhah', 'DECEPTION', 'PO', 'youfollowed', 'FISA', 'refugeesnotwelcome', 'crimes..', 'ganikalinaaisha', 'STATEMENT', 'him.why', 'saying.maga', 'deludes', \"'affordable\", 'misappropriated', 'relitigate', 'wifi-', 'maga-nificient', 'MK', 'tryants', 'tactic/idea', 'DOING', 'TICK', 'UPPDOALS', 'hygs', 'HYPOCRITE', 'non-voters', 'WELL', 'amd/or', 'dem/con', 'FOLLOW', 'USED', 'bfnewyork', 'nopelosi', 'says..', 'worldonline', 'antifa-lite', 'boastfully', 'stevekerr', 'enioy', 'NBCCT', 'lockthemallup', '*COUGH*', 'network/organization', 'chicagojordan', 'CA', 'membbbqers', \"'lyin\", 'temporre', 'kahenge..unko', 'TAKE', 'VS', 'OBEY', 'CLEAR', 'yassss', 'FEED', 'mulford', 'drainthedeepstate', 'ashallnotbeinfringed', 'salzburgsummit', 'trustsessions', 'sidhuji', 'shotguns.the', 'OUTSIDE', 'life-or-death', 'fesheyes', 'ANYONE', 'ashley.yr', 'NME', 'AI', 'christianmorals', 'uncontroversial', '//anime', 'eddandflow', 'damigo', 'kateswall', 'principaled', 'speedboost', 'ETF', 'DONALD', 'boochi', '-IRS-', 'anti-freedom', 'DC', 'bitc*', 'tuesdaythought', 'DOJ', 'HEAVEN', 'nevertrump', 'perfidy', 'CLOWN', 'EVS', 'far..', 'fakefeminist', 'leftwingliberaldisease', 'DPD', 'germanistan', 'SINCE', 'TRAITORS', 'releasethevideo', 'mayoroflondon', 'alien-ilegal', 'drump', 'CORRENTE', 'kingggg', 'lineswoman', 'CHRISTINE', 'confirmkavanaughnow', 'BRAVE', 'SHAZAM', 'TRUMP=HERO', 'B', ':-', 'should.have', 'pro-law', 'COWARDS', 'sandrayan', 'priceonlove', 'SPLC', 'DEFINITELY', 'MIC', 'away..', 'QFD', 'ericholdercrimes', 'michaelavenatti', 'convo..so', 'tacobellanotherkindoffood', 'somecunt', 'trumpsters', 'flunkie', 'betonotfortexas', 'muslimbrotherhood', 'birdlandia', 'f**ked', 'wednesdaymorning', 'vacation~', 'hassert', 'conspiracynomore', 'jesusislord', \"'REFUGEES\", 'UKIP', 'pedogate', 'lumpenprole', 'mccleod', 'udiot', 'flanking', 'temper-she', 'brexitbritain', 'is..that', 'IDK', 'trumpers', 'swinson', 'high-shcool', 'AGW', 'BRUSSELS', 'declassifyfisa', 'LIBERALSARROGANCE', 'MESS', 'admendment', 'amenadiel', 'noeudeal', 'seen.liberals', 'well..', 'celebnmusic', 'LNP', 'coont', 'kids*', 'HTS', 'bestdj', 'OMFG', '*uppercuts', 'LICENSE', 'bippy', 'SOON', 'TOO', 'neurorealist', 'antifa/kkk', 'II', 'whackadoodle', '..bigly', 'nra-financed', 'party/conservatives_', 'communists~activists-antifa-ofa', 'POC', 'GPS', 'freakazoids', '.boris', 'nedia', 'unjustice', 'ruleoflaw', 'deficits..take', '.im', 'pbsnews', 'SOUNDS', 'CITIES', 'abclet', 'trumpisamoron', '..seem', 'neo-liberals', 'thecatholics', 'longgggg', 'EXO', 'un-indicted', 'PLATFORMS', '..while', 'back..she', 'nevervotedemocrat', 'lockstep', 'PAC', '=a', 'rudeand', 'too-', 'regrann', 'straightfire', 'non-mmt', 'mcsally', 'callthevotealready', 'uraniumone', 'BEAT', 'shitgull', 'dems/libs', 'PEACEFUL', 'TRIED', 'JON', 'EPA', 'TOCK', 'americafirst', 'CORY', 'animic', 'w/exactly', 'RUN', 'SUPPOSED', 'importantly-', 'PUBLIC_EXECUTIONS', 'terror-', 'FOOLISHNESS', 'naziusa', 'IRA', 'PSG', 'BTS', 'hillary/obama', 'IMO', 'episcopalians', '.if', 'MENTIONS', 'negarrrr', 'badasses.', 'TRAITOR', 'ED', 'donybrooke', 'SOLEY', 'IRS', '*screams', 'kavanaughconfirmationhearings', 'naheru', 'WNBA', 'HOT', 'anything..', 'feinstinkle', 'usefulidiot', 'patheticlittlemanjr', 'mctomminay', 'mccain-ed', 'vaterans', 'elpizo', 'RAE', 'WELCOMEEEE', 'KNOWS', 'ADORE', 'person.the', 'episode.', 'TBF', 'yeahhhhh', '.american', 'mohammadhassankhalid', 'OWS', \"'heard\", 'BANGS', 'twitter**', 'PERIOD', 'IKR', 'WHO', 'nazisarebad', 'stickerwoman', 'JONES', 'double-standard', 'STAKE', 'lyingggg', 'PMJT', 'polutician', 'self-inflicts', \"'particularly\", 'soul..', 'READING', 'wkend..criminals', 'dogwhistle', 'sheisaliar', 'MASTER', 'truthjustice', 'WENT', 'uraniumonedeal', 'MAG', 'losss', 'AWB', 'RECEIVED', 'NUTS', 're-victimized', 'mazzie', 'OAK', 'SOOO', 'FEEL', 'lickawitch', 'TM', 'DALLAS', 'confirmkavenaugh', 'OPRESSORS', 'SSF', 'YAYYYYY', '*hugs*', \"'progressive\", 'VIB', 'splendidrainco', 'dueprocess', 'heroineics', 'karyakarta', 'freedomofspeechforall', 'POORLY', 'simonsays', 'sencollins', 'goedert', 'gropy', 'dhudbe', 'trumpies', 'REMOVED', 'handsome~', 'liesunderoath', 'imwithsnoop', 'A-G', 'THEY', 'EST', 'really..', 'shameonspain', 'GEE', 'WEAPON', 'VIOLATE', 'un-remembered', 'CHICAGO', 'miserably..', 'SWAMP', 'transphobe', 'trumptreason', 'INANIMATE', 'putuporshutup', 'GD', 'you-', 'AMERICAN', 'SURFACING', 'pedogatenews', 'votehimout', 'FREAKING', 'bakkt', '*far', 'MR.REDWOOD', 'say..', 'cumtribute', 'cop-killers', 'dickdurbin', 'HAPPENS', 'liberal..', 'time..no', \"'A\", 'decades*', \"'sleepwalking\", 'debate/arguement', 'BEAST', 'JMO', 'harvard/harris', 'BURN', 'SPECIFIC', 'I-Q-', 'SUNNY', 'RSS', 'TRUMPTRAIN', 'BREAKFAST', 'cancer..having', 'nonsense..', 'LIL', 'ratbags', 'about.', 'hurricanemaria', 'hste', 'signifing', 'demsarefrauds', 'biogenic', 'ringwraith', 'aesir', 'anumanu', 'truth-teller', \"'remain\", \"'schumer\", 'GOD', 'voterondesantis', 'admonishment', 'A-OK', 'EVERY', 'BILLION', 'anti-kavanaugh', \"man'snotbarryroux\", 'heather_mallick', 'headlinenews', 'putin-puppet', 'typoness', 'ABCNEWS', 'REFUSAL', '-awkward', 'TWITTER', '-net', 'STOP', 'PIGS', 'FURIOUS', 'illllegal', 'EVERYDAY', 'pugchat', 'old..', 'muellersmountain', \"'costume\", 'RIVER', 'bolsonaroeleitolugar', '*extremistische', 'sure-tragedy', 'PRETTY', 'definable', 'supremecists', 'SHOWS', 'stretchedface', 'impeachjeffsessions', 'rubberstamp', 'disguise-', '..well..know', 'speak-we', 'alone/', 'DOWNFALL', 'STFU', 'schmata', \"'rednecks\", '..and', 'BY', \"'cunning\", 'self-characterization', 'non-reality', 'bozoobama', 'link+trump', '*MAGA', 'spews..it', 'wthin', 'YEE', 'LASA', 'PARLAY', 'k-college', 'cognitivedissonance', 'here..', 'habits..', 'de-created', 'DEFINITION', 'resistancerises', '*pats', 'anti-india', 'supremacy/alt-right', 'WHEN', 'conservatives-antifa', 'in/', 'nospeakermccarthy', '.kindergarten', 'DCEU', 'scandal-', 'XM-ES', 'stopkanavaugh', 'carryons', 'laws..smh', 'LEGISLATION', \"doesn'tunderstandmetaphors\", 'violentleft', 'addicts/sites', 'GOP', 'voterednovember', '*silence*', 'PART', 'savescotus', 'AD', 'weatherwarfare', 'BRAINER', 'CONTINUE', 'ANTIFA-LIKE', 'farleft', 'brilliantness', '..aand', 'MORAL', 'UNTIL', 'CRITICIZE', 'NAZIS', 'ABOLISH', 'COVERED', 'liberalfool', 'liberalism=a', 'proudtobeaconservativefromacouncilestate', 'makeamericangreatagain', 'political..', 'EVER', 'SHIT-SMEAR', 'WAY', '.gave', 'DL', 'ER', 'CT', 'mushroom-capped', 'NRA', 'PLUNDERED', 'muckspreader', 'S.A', 'too..he', 'VOTING', 'ALSO', 'athwart', 'umsuthu', 'AMERICANS', 'qclearancepatriot', 'WELUVTRUMP', 'PHOOEY', 'SUNDAY', 'bwaaaaaaa', 'DECIDED', 'SP', \"y'all\", 'FOXNEWS', 'downwiththedemocrats', 'INCREDIBLE', 'WANT', 'MRU', 'makeamericaamericaagain', 'letsgovern', 'obvious.are', 'PERJURE', 'theconstitutionisthesolution', 'DEPARTMENT', 'sturmabteilung', 'FULL', 'mybubblygirl', 'edwsrd', 'moonves', 'aweeee', 'slent', 'democraticsocialismnow', 'takeastand', 'THEUSA', \"'info\", 'crimenews', 'RIP', 'marxine', 'tbey', 'NOTHINGBURGER', 'community..', 'ones.', 'FUNDS', 'there..', 'trumpnation', 'murdersers', 'hrgggg', 'lgbtqtwitter', 'sallbuzz', 'anglo-saxons', 'R', 'admonished', 'RACKET', 'UNWELCOME', '-crocodile', 'communistic', 'big-tech', \"hap'penis\", 'visa-mata', 'tellu', 'CHL', 'fanboys/fangirls', 'r/hinduism', 'DOUG', 'PERFECTLY', 'also-', 'hol~+r', 'shake-yell-motivate', 'I.', 'usa_flag_u', 'demonicrats', 'privertised', 'patriots-', 'MMA', 'SHE', '.in', 'liar.they', 'childess', 'rememberyouroath', 'SO', 'ostensivly', 'mile..ask', 'pathalogical', 'NOBODY', \"'antifa\", 'today.few', 'HIMSELF', 'cheepika', 'QT', 'schitt', 'CONCERT', 'RESEARCHED', 'FAST', 'magnet.just', '-c-', 'team..', 'OF', 'MEAN', 'black-japanese', 'sea.i', 'PLAYED', 'sareena', 'person.when', 'goolag', 'soulmate/', 'WB', 'LMAOOOOOO', 'MEANT', 'wakeuprepublicans', 'PLANTATION', 'suck-up', 'polloftheday', 'HAT', 'stcshooting', 'cultlogic', 'wisdomwednesday', 'BIG', 'chanvong', 'OPEN', 'crookedhillary', 'bobwoodward', 'nomorelevis', 'flippant/dismissive', 'incivility', 'PREDATORY', 'self-enrichment', 'dnc/soros/antifa', 'sexy..', 'IFU', 'donaldtrumpjr', 'tax-payers', 'own_', '_against', 'me..', 'GDP', 'antifascists', 'kettterer', 'WJC', 'demsdesperate', 'MGM', 'PG', 'NOBEL', 'PLELLEEAAAASEEEEE', 'LIAR', 'OK', 'ABOUT', 'GOA', 'opstopchemtrails', 'hadexincursion', 'DESTROYED', 'DT', 'dunnogo', 'SUPREMACY', 'AINT', 'START', 'trashno', 'thugs*', 'argentborn', 'weaponise', 'wemarchforourlives', 'luves', 'polititians', 'apists', 'politicslive', 'usconstitution', 'JAMES', 'enemiesofthestate', 'SQUELCH', 'lyingnews', 'upppp', 're-form', 'ALT', 'deleiver', 'CHEERY', 'MAN/ENTITY', 'YEAH', 'OFFF', 'along..', 'walkawayfromdemocratsnow', 'ashwariya', 'comfortable.hey', 'theliberalway', 'thepersistence', 'geeezzz', 'hobag', 'WATCH', 'askalivelshi', 'karmys', 'COPS', 'SAVING', 'UN', 'lol..', 'BUNCH', 'toxictory', 'recanted', 'anti-america', '-stronger', 'slave-owners', 'antinazigr', 'PROVES', 'ABSOLUTE', 'COME', 'aspersions', 'ohh..', 'rule-breakers', 'BECAUSE', 'donpittis', 'CHINA', 'IBOR', 'YO', 'THIRTY-FIVE', 'haters..', 'TWIT', 'SUPPORT', 'suprematists', '.treason', 'FL', 'B/W', 'MUTTS', 'HOSTILE', 'woodword', \"'s/\", 'notwithkap', 'non-democracy', 'sengupta', 'nomoreguns', 'SPD', 'FBS', 'TXST', 'howk', 'HOC', 'CHRISTIAN', 'appropiated', 'facsists', 'BUSTED', 'GOSH', '..hope', 'fake-ass', 'damore', 'POOREST', 'disguses', 'remainers', 'reaganlays', 'lpfirsttime', 'MEANS', 'HYSTERICAL', 'pcliberals', 'cherry-picker', 'THRY', 'disgusting..', 'beeching', 'pittis', 'PUERTO', 'boomingeconomy', 'tactic/strategy', 'lackies', 'anti-fair', 'thestorm', 'fitzmagic', 'C', 'CLEANED', 'GETTING', 'expirrence', 'windrush', 'counterprotesters', 'say..no', 'go-forward', 'bolsonaropresidente', 'ROYAYERS-', 'us-but', 'ohhhh', 'frankoz', 'swearer', 'ASSUME', 'nothing.don`t', 'barbolack', \"b'stard\", 'AMAZING', 'XD', 'FB', 'them.he', 'history.but', 'urbannaxals', 'orcastrated', 'QB', 'NEED', 'PEEP', 'TOM', 'RICO', 'immagration', 'cute..', 'hell-', 'HAVING', 'dem-run', 'releasethecures', 'slushfunds', 'w/usculture', 'imbecild', 'LOSER', 'TRICKS', 'justintrudeau', 'CRY', 'OL', 'WYVERN', \"'porn\", 'THERE', 'cameto', \"'bi-product\", 'corporatewelfare-dilution', 'DOESNT', 'STRIPES', 'anti-president', 'dickbrain', 'loveurfamily', 'NOTHING', 'hindol', 'oooohohohohohoh', '.can', 'i`m', 'alt-left', 'ACTA', 'bono-', 'artistsontwitter', 'milquetoast', 'masse*', 'BB', 'thedreamact', 'anti-openborders', 'MAGA=', 'ex-attorney', 'low-emission', 'ur-lamebrain', 'walkingaway', 'SHINES', 'kajillions', 'HO', 'trump-o-nomics', 'anit-semetic', 'FOX', 'mattacongress', 'humor.', 'he/she', 'brother*', '-etc', 'adefenders', 'againstbthe', '*FUNDED', 'MEDIA', 'administration.ca', 'STATE', 'bluewaveofviolence', 'DV', 'parrishes', 'gay/lesbian', 'britishcouncil', 'PIG', 'selfdense', 'FIRED', 'GTFO', \"weeb'tifa\", 'hillaryclinton', 'THEN', 'liberalismcausesmentalretardation', 'TORY', 'anti-border', \"'VE\", 'SHOULD', 'LICK', 'SLAUGHTERING', 'iamalexjones', 'r/luka', '..but', 'acedemia', 'BORED', 'FEEDING', \"'bidding\", 'LISTENING', 'GOVERNMENT', 'THE', 'DISTRICT', 'EFTA', 'INTITLED', 'POOR', 'postponethevote', 'hyunjea', 'b/year', '-million', 'confirmkavanaugh', 'HPLYK', 'MANEXCEPT', 'savetherepublic', 'SPEAK', 'dreams.', 'occurrance', 'antifa-loving', 'demonrat', 'LAWS', 'praaaaaaaaayeer', '..oath', 'godblesshumanity', 'housebuilders', 'MIDTERMS', 'facsicm', 'RNRTN', 'IMAGINE', 'HI', 'eirc', 'NSMBU', 'IQ=', 'extra/new', 'V', 'HIS', 'houseoflords', 'PBS', 'comedian/actors', 'VOCAL', 'DIBALES', 'nazi-socialist', 'decisis', 'MSNBC', '.however', 'w/s', '.targeting', 'SPECIAL', 'youhavebeenexposed', 'liberals/leftists', 'PERMISSION', 'shepell', 'TURN', 'SEAT', 'on.oh', '..bad', 'VIEW', 'RAPED', 'teamtrump', 'trumpbabes', 'PJW', \"'your\", \"fuckin'dead\", 'konk-u', 'likenoother', 'innnew', 'STREETS', 'UNAMERICAN', 'HARMS', 'D.', 'NSA', 'UNCANNY', '+native', 'sanctuarycities', 'shitlib', '.was', 'disembowels', 'DOG..SHE', '****ing', 'females..', 'PIRATE', 'popularist', 'absolutist', 'here-', 'peterstrzok', 'roymoore', 'N..', 'mulller', 'break..', 'IT', 'XVI', 'BAG', 'KILLING', 'machinelearning', 'swalwell', 'DEAD', 'liberalismisamentaldisorder', '-year-old', 'overgeneralization', 'omggggggg', 'bojopm', 'googlearecorrupt', 'DUMMYDONNIEJR', 'THOT', 'SPONSER', 'BOOM', 'PIRATES', 'RESIST', 'criticism-lite', '..FOLLOW', 'FOR', 'SUMMER', 'SHARE', 'BDS', 'ingles..', 'WHOLE', 'SLOW', 'UWUING', 'sessions/huber', 'binnedboris', 'notbakingyourcake', 'assualted', 'deadname', 'AGO', 'BIDEN', 'THINKING', 'NEGATIVE', 'itrump', 'artistforhire', 'nonflzonehome', 'BADASS', '^Z', 'confirmjudgekavanaughnow', 'WEAK', 'schutzstaffel', '.BAAAAAAAA', 'NWO', 'ajsjjsjdkkdjdk', 'FANNIE', 'VISUALS', 'too.we', 'for..it', 'hurricaneseason', 'lynchings', 'loosley', 'HAD', 'jihoons', 'shedevil', 'ANIMAL', 'jelllll', '.more', \"'unprecedented\", 'YET', 'DONE', 'de-platforming', 'antifa-', 'NY', 'RW', 'FREEZE', 'fenstine', 'CURRENT', 'LEAST', 'PLAYIN', 'FRAUDULENT', 'gun-such', 'MY', 'IG', 'BYE', 'onomy', 'HA', 'NOT', 'again*', \"'THEIR\", 'orourke', 'PARDON', 'PIECES', 'stoptrump', 'ROMAN', 'fist*', 'ASSHOLE', 'loyalwolf', 'nestl', 'policiy', 'felarca', 'danikaharrod', '^^', '*whips', 'seuday', 'christian.', 'CRIMINAL', 'AGREED', 'PELOSI', 'MOPE', 'clintonfoundation', '/HAVE', 'lotwvideo', 'non_domestic', 'ewww', 'MET', 'redtoblue', 'keepinghis', 'fakenewsmedia', \"'follow\", '.now', 'onetroy', 'mild/moderate', 'better/hungrier', 'BAMN', 'finalsay', 'FOUGHT', 'gapbelike', 'EXCLUSIVE', 'EI', 'nuetral', 'sickkidsinlove', 'CALIFORNIA', 'SWR', '-gun', 'menu-', 'fvkk', 'voterid', 'pacified', \"'undemocratic\", 'media.they', 'MALES', 'PLEASE', 'whataboutism', 'ILY', 'desanctis', 'antinatalist', 'ANYWAYS', 'polygrapher', 'skinsuit', 'OBAMAS', 'everybodyin', 'PLAYS', 'thugaratti', 'nahhh', 'MAGGOT', 'WORRIED', 'SSM', 'yourk', 'bulletcontrol', '*once', 'general/local', '*babysitting', 'METOO', 'neanderthals.would', 'NOVEMBER', 'unimpeachable', 'LATEX', 'HIGH', '::', 'anti-trump', 'DOMESTIC', 'boycottcolinjost', 'CHOICE', 'GOV', 'shaunbaileyuk', 'JACKET', 'players/viewers', 'OLD', '..I', '.ALMOST', 'TEACHERS', 'Z', 'VG/HC', '-mass', 'thought/conspiracy', 'denuclearizing', 'conartists', 'islamic-extremism', 'SAN', 'lunaticleft', 'gorsuch', 'late-in-our-history', 'brownshirts', 'demension', 'WS', '.terrorist', 'store.', '.ya', 'controversal', 'too-many', 'ARE', 'TOOLATE', 'rodenbury', 'opertiunist', 'AJ', 'ANYTHING', 'colinjost', 'trumpsamerica', 'unsealthedeals', 'monstergirls', 'revkin', 'MARRIED', 'huckster', 'well-fostered', 'sheep/foot', 'party..', 'WRONG', 'BARUN', 'WAR', 'rimmyantifa', 'haircolors', '-bn', 'like/love', 'firebombing', 'nochainmigration', 'schiff-', 'demonuts', 'ass*', '-WHO', 'RAGE', '++', 'slovenly', 'arrestclintoncrimegangalready', 'DEATHS', 'true.', 'dharmic', 'see..', 'nuts.makes', 'trusttheplan', 'president.', 'VICTIMS', 'PLUS', 'HEAD', 'threats.', 'melkshams', 'COMING', 'PUT', 'demsaredone', 'twittercensorship', 'parklandkids', 'AM', 'BORDERS', '*da', 'ANYWHERE', 'luciferiarising', 'PMB', 'contemptuously', 'U=', '*crazy', 'EXTREME', 'borisjohnson', '/sarcasm', 'culturalappropriation', 'BIRTHDAY', 'meneither', 'fessy', 'MARIA', 'FACIST', 'CP', 'SATAN', 'are..', 'nowheresland', 'EIGHJT', 'yep..says', 'alternativefacts', 'ASS', '/him', 'shurmer', 'EACH', 'vociferously', 'successconnect', 'voteredtosaveflorida', 'allaying', 'winforus', 'SPORT', 'S/-', 'tory/labour', 'opportunityknocks', 'SCAM', 'NOHOMELESSCITIZEN', 'WING', 'CASH', 'poitician', 'dreams..', 'quislings', 'strinkingly', 'statepensionage', 'DONT', ':the', 'calculative', 'citizens..their', 'commissar', '\\\\o/', '-nick', 'googlecide', 'SAVE', 'RETAIL', 'b/-get', 'DONORS', 'WALK', 'period*', 'hshshahhsjjjsjsjs', 'kavanaughs', 'smartdissent', 'dear.', 'LOT', 'avenatti', 'though..', 'fargolowes', 'OOPS', 'CONFIRMED', 'fragmenting', 'OWN', 'EVE', 'subsaharan', 'faithcattleco', 'REAL', 'DIVIDE', 'BOOPBOOPBOOP', 'MUCH', 'DACA', 'shaddowbanning', 'YEEEEESS', 'AB', 'whyrwpreachesracism', 'SURPRISE', \"'waste\", 'counterprotestors', 'johnmccain', 'LIBERAL', \"'fitted\", 'thankstrump', '..yea', 'DADDY', 'totalitarain', 'FACEBOOK', 'humanitys', 'leibh', 'bitchc', 'SCREEN', 'blas-ford', 'ATMOS', 'youngo', 'MERCHANDISE', 'KILL', 'PROBELY', \"'youtube\", 'war.', 'w/zero', 'BOTH', 'PSA', 'LOWEST', 'boltey', 'PLAN', 'SHOWING', 'sheldmaidens', 'demoncrats', 'CRIMES', 'EDUCATED', 'da*n', 'PLENTY', 'not/', 'swampers', 'goodbyedemocrats', 'doxxing', 'infridge', 't-', 'OBAMA', 'demonratic', 'opevidence', 'opertunist', 'rssreachesout', 'democraps', 'patreon', 'DEFENDS', 'bootlickers', '..want', 'nutbags', '-harm', 'non-committal', 'anupama', 'CCOT', \"'prayer\", 'illinoise', 'GUY', 'figjt', 'zerin', '..err', 'korzemba', 'INHERENTLY', 'MISTAKE', 'infantilized', 'rahmemanuel', 'TRUCK', 'wickstrom', 'ARROGANCE', 'victory*', 'credibly', 'BARRETT', \"'right\", 'ignore/suppor', 'unfortunatemy', 'OSS', 'whackos', 'EDUCATE', 'SLIMY', 'sjws', 'abramoff', 'kanebrown', 'child-', 'HRC', '-c', 'neoliberals', \"'nazi\", 'libleft', 'TALENTED', 'PUN', 'naziism', 'altleft', 'cakefriend', 'left..', 'repealtheth', 'taravat', 'thursdaymotivation', 'magaveterans', 'ESPN', 'BOYCOTT', 'muslims..go', 'patriotswin', '*too', 'democommunists', 'RHONY', 'whoviille', 'themfaux', 'GWEEK', 'VULTURES', 'fundamentally-restoring-americaspeaker', 'ACA', 'looking..tell', 'VISIONMISSION', 'terrorists.but', 'DEAN', 'declassifypowsdocuments', 'mythicalcreature', 'fuckbucket', 'milo*', 'SET', 'WEINER', 'goodtrumpsevil', 'swagodking', '-increase', 'skypefamilies', '.funny', '-hallmark', 'tikoo', 'RUSSIAN', 'REMIND', 'times..', 'DECENCY', 'PIC', '-YO', '**she', 'KIDS', 'boruto', 'exitfrombrexit', 'treasonousgoverment', 'galpal', 'laugh*', 'LLC', 'culture/institution/etc', 'WI', 'WORLDWIDE', 'liketake', 'POPE', 'Q', 'ALS', 'POSTING', 'behar..aren', 'MILF', 'BHO', '*disclaimer*', 'COCK', 'RINO', 'stopbrexitsavebritain', 'fisagate', 'PLACES', '..be', 'KW', 'besudes', 'ANGEL', '-mile', 'STERILIZE', 'authoritarians', 'IMAGINEEE', 'CAN', 'it-she', 'IP', 'virtue-signaling', 'curtailing', '.real', 'liberals-like', 'NO', 'journalist/documentarian', 'butt/big', 'MAGA-', 'lmfaoooooooo', 'VICIOUS', '*mom', 'guy..', 'EOTP', 'disavoving', 'DEPLORABLE', 'misremembering', 'trumphasdementia', 'comeback/appear', 'is..', 'HELL', 'FEC', '..a', 'fuuckkkk', 'COVERAGE', 'mockingbirdmedia', '*SCREAMS*', 'HOMIES', 'nodaca', 'heandshe', 'SPY', 'EVEN', \"'showmance\", 'RNC', 'colonizer', 'KMA', 'CHAMPIONING', 'headcoach', 'dwpcrimes', '/leftypol/', 'word..', 'SMEAR', 'non-resident', 'letsomebodyloveyou', 'patchouly', 'nosanctuarycities', 'leave-just', 'leolahbrown', '.k', 'resisters', 'OTHER', 'skiddish', 'frenkenstien', 'FORCED', 'mukalla', 'WA', \"'mad\", 'EVERYONE', 'REALLY', 'rouda', 'uncorroborated', 'YAN', 'bwahahaha-work', 'nearly-zero', 'worse..', 'CBC', 'EBT', 'mondaythoughts', '-U', 'ALAMO', 'troughtime', 'MEGY', 'oath.', 'mdzs', 'SHITTY', '-are', 'waspi', 'TIRED', 'familyprotection', 'HIDE', 'ijesus', 'GUILTY', 'prefectural', 'scandals/rising', 'susansarandon', 'bizzniss', 'POLITICAL', 'mindmill', 'SOMETHING', 'INTO', 'TELL', 'quelled', 'INTERRUPTING', 'assault/harassment', 'lmfaooooo', 'NDP', 'PERSON', 'K.I.D.S', 'figureheads', 'foxhunting', 'annnnnnnnnnnnnd', 'bliar', 'micro-mini', 'babesfortrump', 'great..keep', 'off..like', 'skybastard', 'opperman', '.thank', 'CONNECTING', 'feinstein/obama', '.-caliber', 'loveourpotus', 'hooo', 'LGBT', 'JV', 'oncve', 'impuse', 'OPINION', 'votethemout', 'nymphet', 'STEAM', 'time-', 'WHITEY', 'halper', 'GANG', 'ATTENDED', 'citizenshop', 'player-', 'kneelers', 'fleeted', 'dccircuit', 'BOOP', 'MIBR', 'UK', 'throwthemout', 'word.we', 'SHAREACT', 'bonepurs', 'fu*k', 'equivocal', 'catholicchurch', 'anti-trumps', 'crisisinpolicing', 'yecs', 'SCURVY', 'HEARING', 'barbiedreamsvideo', 'fisadocs', 'deepstatepanic', 'brat..', \"'bump\", 'ROBOT', 'beloeve', 'IQ', 'remainer', 'LSU', 'nezha', 'barzal', 'preller', 'BBUK', 'freakyford', 'RBG', 'kamalaharris', 'liberals-', 'SKIN', 'YORK', '.honey', 'englishconservatism', 'evil..', 'BAFOONICUS', 'traitortoad', 'startvettingsenators', 'ehave', '*dont', 'palled', 'jcpmnow', 'qdrop', 'DJT', 'sleazballs', 'please..', '.her', 'agentofchaurch', 'on..', 'ACTUALLY', 'broke.', 'dbld', 'case-', 'KARMA', 'hollyweeders', 'R.', \"c'ville\", 'doomfist', 'LUCY', 'THW', 'FUCKINGNDBS', 'ernieandbert', 'shitttt', 'FOLLOWED', 'AA', 'DOJ/FBI', 'JOKE', 'gawdfather', 'disarmthem', 'SOBBING', 'guyyyy', 'nottowatch', 'BP', 'palestinian.', 'berniecrats', '-p', 'JC', 'proletarian', 'monsterfunder', 'FJSHDHJS', 'hehe-', 'GRAVY', 'EXPOSER', 'SELLING', 'impasse-', 'GE', 'CHEATING', 'cloudseeding', 'bad-', 'trumpisguilty', 'gardensbut', 'lskar', 'UCP', 'FUND', 'jacobreesmogg', 'TXBOE', 'dravidanadu-vallahs', 'THERES', 'denuclearization', 'DAILY', 'growthenetwork', 'tuition-free', 'beware..some', 'raytas/', 'done.they', 'HYUNJAE', 'C.I.A.', 'TITS', 'revorded', 'PAID', 'markcuban', 'EXPLODING', 'FUNNY', 'b****', \"'last\", 'MUSIC', 'inclineed', 'NIKE', 'glbl', 'ohhhjhhh', 'TCOT', 'HEARD', 'bannedwords', 'YAYA', 'WWGIWGA', 'backtraced', 'CROOKED', '-which', 'THELEFT', 'voteblue', 'TEMPLE', 'MOF', 'FAULT', 'currentaffairs', 'non-binding', 'PURGE', 'SERIOUS', 'ROFL', 'destriment', 'relativists', 'WHITE-HOT', '*a', 'polytechno-fascists-avatar-digital', 'penspeaks', 'ronaldgrump', \"'my\", 'fat-shame', 'treasons', 'baby/not', 'now..', 'leftstream', 'IDENTYPOLITICS', 'PROCESS', 'EWA', 'VERY', 'LIVES', 'IMHO', 'gunsensecandidates', 'riceking', 'beto-male', 'darktolight', '.they', 'biassed', 'hinduphobia', 'STARVING', 'thmonkey', 'u..', 'chickschumer', 'spoonfeeding', 'OLIVIA', 'liberalling', '-laundering', 'FAT', '-being', 'bandwagonists', 'anymore.just', 'remainiac', 'luv..', 'BUSTING', 'BLESSINGS', '*tend*', 'pedowood', 'convaluted', 'drellenbrandt', 'boondoggles', 'iwantthewall', '.espacily', 'GOING', 'backwoodsistan', 'SOMEBODY', 'told.its', 'noschiff', 'HYPOCRITES', 'SE', 'porrany', 'same-trash', 'retconned', '-WTF', 'listeningall', 'metoomovement', 'leftest', 'AMERICAFIRST', 'use-it', 'blossomwood', 'NHF', 'EXTRA', 'thelead', 'kavanaughconfirmation', 'unbias', 'kavenaughs', 'GIRLS', 'WANNABE', 'hmm..', 'non-victims', 'comments..', 'HILARIOUS', 'DAESH/ISIS', 'america-hating', 'INVOLVING', 'REDWAVERISING', 'weaponize', 'novoterfraud', 'LJMAGA', 'friendsandfamily', '/conservatives', 'dissolvetheunion', 'TIME', 'mr./m', 'alleslve', 'aasertions', 'trumptrainportal', 'THINK', 'JERK-OFF', 'HMU', 'ANSWER', 'suffragettes*', 'shortcummings', 'hijinx', 'sickholder', 'AWAKE', 'billy~', '*four', 'shitbiscuit', 'HOLD', 'shimmmy', 'anti-german', 'TY', 'notmypope', 'darell.maddox', 'STARVED', 'STAND', 'beaboutit', 'magabots', 'usgoverment', 'c*nnor', 'lmaoooo', 'FAVOR', '^MA', 'USUAL', 'ENGLAND', 'HURRICANE', 'policingincollapse', 'unstanning', 'knockmy', 'I.E', 'daveb', 'mouth.wrong', 'pardonmyfrench', 'right/left', 'CARRFUL', '*overheard', 'A++', 'fakepsychologist', 'GOPCOMPLICIT', 'PATRIOTS', 'FROZEN', 'NINJA', '=ANTIFA', '-scared', 'nd-tallest', '..if', 'ratshit', 'mergitur', 'COURSE', 'OPPONENT', 'generationally', 'MOVEMENT', 'bedwetters', 'MANY', 'administration..', 'fakenewscnn', 'WAIT', '-trump', '.alina_ae', 'dems/', 'tbere', '..does', 'PARIS', 'six-and-a-half', 'SHALL', 'HANDLING', 'BORDERS=', 'antifa-types', 'FIGHTING', 'jmatt', 'NYT', '..so', 'verifiedhate', 'r/india', 'CFR', \"O'REILLY\", 'LONG', '.weeeehhhhh', 'klansmen', 'readthebook', 'confirmbrettkavanaughnow', 'justice-', 'BFF', 'guite', 'VP', 'demonstrators.', 'evisceration', 'WITHOUT', 'hillarites', 'loancharge', 'DAVID', 'theresamay', 'moses-', 'doing..', \"it'sful\", 'MINE', 'NANSBABH', '-HGTV', 'cold-but', 'ARENT', '*gets', 'follower-count', \"'g\", 'outoftheeu', 'SEASON', 'HARDCORE', 'trudeau/butts/telford', 'rights/gun', '.liberals', 'GROUP', 'bullsh*t', 'regrettable..', 'BOY', 'SKANK', 'POLLUTORS..', 'yhuuu', 'bitchute', 'despicabledemocrats', 'backon', 'obamagate', 'entryist', 'GROVELED', 'LEO', 'notonemore', 'RODGERS', 'anti-fascism', 'TOOK', 'DWP', 'BUILD', 'life-and-death', '*accept', 'LETS', 'PTOTUS', 'CNCO', '.nothing', 'makotoniijimaweek', 'likeshe', 'govoner', 'U.S.', 'PROBABLY', 'LITERALLY', 'PATHETIC', 'madcow', 'shop__', 'mooslims', 'fan..', 'bloods/crypts', 'jesuiten', 'amorality', 'CANCEL', 'CRAP', 'SENSE', 'protesters..there', 'voteredtosaveamerica', 'antifaschismuswirkt', 'kalergipreis', 'TWEETED', 'communist-socialist-nazis', 'noban', 'guillotines', 'israel..', 'boycottnfl', '~end', '-right', 'jackie~', 'DIRTY', 'BUSINESS', 'non-patriots', 'knowmandni', 'POT', 'IRAN', 'WORWEE', '.serial', 'MAKE', 'CRIMINALS', 'thomas/hill', 'SDLIVE', 'christineblaseyford', 'helpmto', 'plateful', 'tuesdaymorning', 'hanoijane', 'MAKES', 'b/s', 'PROMISE', 'mumbojumbo', 'OPMAYFLOWER', 'peoplekind', 'want..no', 'CMP', 'TERRIFIED', 'peelpelosi', 'PEOPLE', 'blairite', 'WR', 'libfail', 'condemnations', 'OPPORTUNIST', '-hour', '/s', 'KP', '-who', 'presidentmaduro', 'SLEEEEEEEPS', 'beto-i', 'molestors', 'a-crooked-letter-crooked-letter', 'covention', 'whysjamescryin', 'ANYBODY', 'J.', '.trump', 'TERROR', '.I', 'SING', 'ZERO', 'elizabethholmes', 'oobleck', 'mothersful', 'VOTE.IF', 'not-worth-standing', 'obamaworstpresidentever', 'YUP', 'END', 'senflake', 'NEEDS', '.vote', 'shitstream', 'shastrartha', 'DEAF', 'centrism', 'FU', 'FASCISTS', 'MEGUMI', 'evanne', 'CITIZENS', 'GFY', 'person..', 'SHED', 'IB', 'premiosheat', 'STDS', 'demonizes', 'demarat', 'PACKER', 'hats..lol', 'post-brexit', 'adiya', 'grenell', 'SPITE', 'presedent', 'concentrate.', 'votered', 'twittershouldbe', 'MMZ', 'votedemsout', 'muellerinvestigation', 'seems..', 'SUICIDE', 'recollecting..', 'D-', 'come..', '-REDS', 'RENA', 'place..', 'CONTRACEPTION', 'roid-rage', 'anti-uk', 'DEMAND', 'children.the', 'GET', 'SS', 'AMA', 'SJSHSJ', 'scumfuck', 'FIRST', 'w/vast', \"'er\", 'hollywoodisscum', 'jimin-ssi', '.we', 'OWNERSHIP', 'unemployed.conservatives', 'thanksgiving/black', 'generation/black', \"'ALL\", 'HOLDER', 'THEMSELVES', 'meaningful..', 'BLACK', 'LINK', 'MAAA', 'PUL-EASE', 'antifa..', 'BULLSHIT', 'STUFF', 'saltbae', 'TV', 'ECB', \"N'T\", 'SMDH', 'sendthemhome', 'carreen', 'REICH', 'kinscem', 'show.i', 'capitulating', 'redoctober', 'THE-', 'liberalintolerance', 'less-than', 'omportant', 'JRM', 'assulting', 'SICKENING', 'willienelson', 'TYPICAL', 'devided', 'zarries', 'DRUNK', 'notong', 'SOROS', 'CJ', 'ultra-left', 'RANT', 'ID', 'day=don', 'trumpworld', 'SUCK', 'itemize', 'MUELLER', 'fordfestnd', 'tacozt', 'PROVE', 'LEGENDARY', 'MANGINA', 'memember', 'orders..parting', 'evergreenair', 'votethegopout', 'COULD', 'ISNT', 'socialistdemocrats', 'CPC', 'kogasas', 'DISGRACE', 'MORE', 'DIE', 'SOLD', 'Y', 'sociability', 'bush-clinton', 'supremeists', 'spath', '-brett', 'ANC', 'devilyouloseagain', 'criminalsoutofnumber', 'WOODS', 'HEALER', 'SALE', 'HEY', 'NAVY', 'antiamerican', '..MAYBE', '..MAGA', 'COS', '..think', 'IDIOT', 'cillizza', 'ongly', 'america-phobes', 'shit.all', 'MAD', 'MO', 'VALUES', 'SCJ', 'liberaltarian', 'BING', 'MEME', 'codywilson', 'STOPPED', 'wdym', 'YES', 'doubloons', 'PTSD', 'doxing', 'don`t', 'siezing', 'DUMBASS', 'meme-ing', 'centrefold', 'anti-nationalism', 'sinnfeinn', 'liberatarianism', 'FIND', 'organizationall', 'MYSELF', 'comygate', 'VCR', 'shitlibs', 'MAGA..', 'sotomayer', 'COLLUSION', 'STRAIGHT', 'cooktragic', 'freakingliars', 'anti-federalists', 'jamesokeefe', 'towrds', 'know*', 'downingstreet', 'hardbrexit', 'COHORT', 'booo', 'PALLETS', 'fake-republican', '.lol', 'pedovore', 'blackexcellence', 'voteredsaveamerica', 'traitorsall', '*evil', 'GROUPS', 'BET', 'taketworeferenceswithmoniqueandchloe', 'H.R.', 'abortion.not', 'letgod', 'WP', 'ABSOLUTELY', 'racist..', 'forosity', 'DEPORT', 'them.fecking', 'F*CK', 'jesusisgod', 'keepamericagreat', 'NESN', 'wasn`t', 'TOOL', 'self-devaluation', 'deutschebank', 'FUCK-', 'memologist', 'w/u', 'institutionalracism', 'noncreditable', 'baselessly', '..because', 'chuckschumer', 'SHITTTT', 'cdcwords', 'SKINNY', 'stopbrexit', 'U.S', 'supremacistsign', '/the', 'AMENDMENT', 'miu..', 'PEDOPHELIA', '..oxymoron', 'THAN', 'small.but', '*scribe', 'catgirls', 'AWWWWW', 'leetpro', 'liberal..a', 'fiftiesbornwomen', 'IDGAF', 'CHEST', 'pro-nazi', 'IGNORE', 'CATFIGHT', 'by-and-large', 'UFC', 'TW', '***non-union', 'MEN', 'DJT-', 'qarmytrain', 'goat..', 'peacethrustrength', 'DANGER', '*gestures', 'trumppocalypse', 'weaponised', 'PROVEN', 'CLP', 'pkbritish', '-not', 'TALK', 'CDA', 'anti-jujubes', 'juan..i', 'SICK', 'MUKGA', 'semite', 'enmeshed', 'AHEAD', 'W', 'gerrymandered', 'INNOCENT', 'biased..', 'first..and', 'ROTTING', 'PROPOSAL', 'jacobite', 'NINE', 'cherrypicks', 'YFC', 'iamone', 'adminstrator', 'start/hiv', 'DUALITY', '+=', 'bad..', 'HMM', 'REGULATED', 'JFK', 'CEO', 'ginning', 'owened', '.well', 'EXPROPRIATE', 'ND', 'ENEMY', 'OCD', 'childrenwhy', 'jurky', 'SJC', '.cali', 'PPL', 'self-aggrandizing', 'CRUZ', 'women.', 'famous..', 'haters-bullies', 'credibility-', 'RB', 'sociopolieconfinancial', 'OUTFRICKINGSTANDING', 'SHUT', 'pleaseeeeee', 'UNLOAD', 'non-newtonian', '*cough', 'camillekruger', 'izlam', 'sexualmisconduct', 'mouth*', 'RESIGN', 'CERTAINLY', 'METH', 'dyn-o-mite', 'greatawakeningworldwide', 'firemalyoung', 'ON', 'ASSEMBLY', 'proudtolovejesus', 'feinstein-backed', 'HYUKJAE', 'rethuglicans', 'MD', 'milfsfortrump', 'XI', 'larries', 'manmarziyaan', '-even', 'win.', '.RW', 'careeeema', 'leonaalleslev', 'DOW', 'futanary', 'TDS', 'DIVORCE', '-wherever', 'LAX', 'languase', 'DJ', 'f*cks', 'offf', 'fluctuat', 'MASS', 'shamifesto', 'win.he', 'CONGRATULATION', 'w/nra', 'HOPING', 'tho..', 'JIN', 'moronsaregoverningamerica', 'RUNCIE', 'tectics', 'WIGS', 'themselves.', 'AUGUST', 'LEAD', 'LMFAO', 'RIDICULOUS', 's***', 'apparentl', '..what', '.that', 'FIX', 'fundraises', 'BVS', '.m', 'right..', 'presidenttrump', 'CBSNEWS', 'trumpwall', 'SUSHI', 'demdirtytrick', 'SERVITUDE', 'soulall', 'HUMILIATED', 'UGLY', \"'so\", 'BELIEVED', 'trumplies', 'wayyy', 'BLIND', 'SIG', 'SCJOUS', 'inputed', 'whitesupremacists', 'knowwhat', 'SCOTUS', 'sadiqkha', 'SUBSET', '..strange', 'sendhim', 'ATHENS', 'SLEEPING', 'DI', 'SWEET', 'DEPORTED', 'WORRIES', \"'chequers\", 'deregulations', 'cddr', 'WITHIN', 'COCK-A-DOODLE', 'healthsucks', 'prepwork', 'muelleriscomingforyoutoo', 'yrsof', 'godsarmy', 'FIRE', 'DYDINV', 'soon-yi', 'u..let', 'ABUSER', 'something.u', 'FIGHT', 'elizabethsmart', 'BORN', 'YEAR'}\n"
     ]
    },
    {
     "name": "stdout",
     "output_type": "stream",
     "text": [
      "accuracy score: 71.62%\n",
      "train and test time: 6.77s\n",
      "--------------------------------------------------------------------------------\n",
      "Confusion Matrix\n",
      "\n",
      "      0    1\n",
      "0  1592  581\n",
      "1   167  296\n",
      "--------------------------------------------------------------------------------\n",
      "Classification Report\n",
      "\n",
      "              precision    recall  f1-score   support\n",
      "\n",
      "           0       0.73      0.91      0.81      1759\n",
      "           1       0.64      0.34      0.44       877\n",
      "\n",
      "    accuracy                           0.72      2636\n",
      "   macro avg       0.69      0.62      0.63      2636\n",
      "weighted avg       0.70      0.72      0.69      2636\n",
      "\n"
     ]
    }
   ],
   "source": [
    "Word2Vec_Model(df,RF)"
   ]
  },
  {
   "cell_type": "markdown",
   "metadata": {},
   "source": [
    "##### 5.5.3 SVM + Word2Vec Embedding"
   ]
  },
  {
   "cell_type": "code",
   "execution_count": 312,
   "metadata": {},
   "outputs": [],
   "source": [
    "SVM = svm.SVC(kernel = 'linear', probability = True, random_state = 101)"
   ]
  },
  {
   "cell_type": "code",
   "execution_count": 313,
   "metadata": {},
   "outputs": [
    {
     "name": "stdout",
     "output_type": "stream",
     "text": [
      "SVC(C=1.0, cache_size=200, class_weight=None, coef0=0.0,\n",
      "    decision_function_shape='ovr', degree=3, gamma='auto_deprecated',\n",
      "    kernel='linear', max_iter=-1, probability=True, random_state=101,\n",
      "    shrinking=True, tol=0.001, verbose=False)\n",
      "\n",
      "\n",
      "Word2vec vectorizing tweet 0 of 10543\n",
      "Word2vec vectorizing tweet 2000 of 10543\n",
      "Word2vec vectorizing tweet 4000 of 10543\n",
      "Word2vec vectorizing tweet 6000 of 10543\n",
      "Word2vec vectorizing tweet 8000 of 10543\n",
      "Word2vec vectorizing tweet 10000 of 10543\n",
      "Word2vec vectorizing tweet 0 of 2636\n",
      "Word2vec vectorizing tweet 2000 of 2636\n",
      "Glove word embedding statistic\n",
      " count_total: 176468/ count_in: 136341/ count_out: 40127/\n",
      "Number of unique words without embedding: 6695\n",
      "Words without embedding: \n",
      " {'', 'yuzusft', 'THING', 'ISIS-LOVER', 'WHILE', 'tevagas', 'smithsgrove', 'SOB', 'EXCELLENT', '.s', 'onevoice', 'oc-', 'DR.', 'andy-wonder', 'low-growth', 'MULLAH', 'votethemallout', 'f-up', 'youfailed', 'BS', 'PC', 'strokz', 'SECONDS', 'hurry..', 'twtich', 'DEPLORABLES', 'STEAL', 'universally-unwanted', 'brexiteer', 'nuclearfamily', 'brettkavanaughhighschoolconfessions', \"'FIGHT\", 'magarallyrules', 'HELLO', 'liberals*', 'opinion..', 'CONEY', 'hurricaneflorence', 'donjr', '-GOP', 'and/', \"'politically\", 'this-', 'SPEECH', 'clinton..', 'NEXRAD', 'fremino', '..understand', 'brexiteers', 'all~', 'sargentini', 'haidt', 'OMG', 'ILLEGALALIEN', 'BOC', 'TEXAS', 'peoplesvote', 'MYTH', \"'challengers\", 'berniernation', 'NIGGA', 'shot/jailed', 'phone/online', 'GOOBER', 'AFTER', 'AMOUNTING', 'PARTICRATIC', 'violence/domestic', 'USERNAME', 'immediarely', 'confirmcoachk', 'island.latest', 'tbose', 'trivialities', 'FUNNYHEJS', 't.may', 'HMP', 'CUUUUUKS', 'JEWS', 'incel', 'semamtics', 'WTOBREXIT', 'VA', 'QUICK', 'trumpism', 'RHE', 'DEVIL', '.YOU', 'think/speak', 'VERBA', 'CREEPY', 'KAHLILI', 'votenoonkavanaugh', 'AS', 'CF', 'anti-ameican', 'TIM', 'REGULAR', 'patriotsfight', 'activismseptember', '~although', 'CAREFULLY', 'JFKJR', 'W/O', 'spunktrumpet', 'catchtheredwave', 'DEAL', 'HATE', 'JJ', 'FAILURE', 'reeee', 'D', 'think..now', 'theats', 'ALWAYS', '-barkley', 'pro-russia', 'qproofs', 'ONT', 'shouldertoshoulder', 'antifascism', 'baby-adults', '.let', 'PLZ', 'YEARS', 'half-idiot', 'dimms', 'twitterpurge', 'COMMENTS', 'aparachnik', 'BEE', 'clear.many', 'msm/democrats/liberals', 'imbackingboff', 'MAGAFORALLINC', 'why.but', 'chosenpeople', 'INVITED', '..no', 'temper-tantrums', 'P', 'COMPLETE', 'm/f', 'SJW', 'GOT', 'RULES', 'COLOR', 'spread+', 'SWITCH', 'KARRIGAN', 'MACK', 'GUNS', 'GROUND', 'thestormisuponus', 'juxtapositioning', 'hardwallet', 'trumper', 'staffpick', 'CEA', 'SM', 'desrerved', 'FEMA', 'usarepublic', 'OT', 'SNP', 'racism-bullshit', 'BTW', 'kathua', 'rosello', 'MSAGA', 'belief..', 'pakneedsmediapolicy', 'BEING', 'DANA', 'SAFE', 'makecaliforniagreatagain', 'NICELY', 'livedexperiencedisevidence', 'KOCHS', 'killgough', 'M.', 'FILTH', 'tihnks', \"'you\", 'rebellion-', 'RETWEET', '*people', 'location..', 'telesmokacatin', 'traitor-pants', 'right/wrong', 'muellertime', 'BOYCOTTING', '/CGI', 'BOSS', 'PRESIDENT', 'obama-vomit', 'candiace', 'abortion.because', 'antideutsch', 'legitamately', 'ohhhhhh', 'TJHAN', 'PERHAPS', 'declass', 'PHOENIX', 'nvestigated', 'psyop', 'makeamericasafeagain', '-person', 'looneyleft', 'cadeservesbetter', 'PTO', 'FROM', 'FAR', 'scheer/bernier', 'quetsiyah', 'intelligence..', 'LICENSEREPORTERS', 'conservatives/', 'SUMS', 'H-B', 'leftistlibtards', 'LANDS', 'DUP', 'AHH', 'no-deal', 'QUALIFIED', 'BEAUTIFUL', '^___^', 'EEL', 'GON', 'REPEATEDLY', 'lbclive', 'bodyshaming', 'b*******', 'dirtypolitics', 'lowkie', '..mater', 'jsjdhkdfhjfkfkhsjdhd', 'fisadeclassification', 'cliiimmmm', 'KL', 'drumpf', \"'unethical\", 'DECIDE', 'him-democrats', 'groominggangs', '*vote', 'colledge', 'something..', 'dottering', 'comes.petition', 'lowness', 'back-door', 'w/military', '-affordable', 'trump-style', 'aalayah', 'gotrojans', 'trashpeople', 'whitegenocide', 'jesusitrustinyou', 'MESSENGERS', 'medicare-for-all', 'DESTROY', 'HOMELESS', 'WHY', 'dosomthing', '-telly', \"'sinner\", 'HALE', 'deeds..', 'WORTH', 'dirtytricks', 'taklked', 'best..lol', \"'the\", 'GOOOOOOOOOOOOD', 'PHX', 'COUNTRY', '*BIG', 'REASONABLE', 'housingmarket', 'gunfreezones', 'MATTER', 'fuckingclass', 'muzzie', 'thescore', 'trump/conservatives/republicans/gop/magats', 'serenawillams', 'COLOURS', 'impeachtrump', 'fbicorruption', 'constitutionday', 'GOOD', 'schiffbrains', 'sycophants..', 'antifa/msm/dnc', 'USE..', \"'kick-back\", 'oldageproblems', 'antifa-haters', 'tdavis', 'adherance', 'CMALT', 'SALMON', 'hanghim', 'bluelivesmatter', 'MAROONED', 'saying.', 'earphones..still', 'bedfellow', 'violence..it', '.didn', 'analytica', 'it..shameful', 'dance..', 'sex/gender', 'go..', 'ketterer', 'GARBAGE', 'blacklivesmatter', 'GODAMN', 'walkedaway', 'thelatinartist', 'K', '..he', 'UNBELIEVABLE', 'JIMIN', 'ARC', 'ANTI-FASCISM', 'walkawayfromdemocrats', 'jeezuz.fucking.christ', 'voice-', 'armament/training', 'VOTERS', 'conservativeseveryone', 'inculcate', 'desinfo', '..don', 'forclosure', 'EYES', '-your', 'WV', '.ANTIFA', 'doubleplusgoodspeak', 'phycho', 'achichincle', 'forevaaaaaaaaaaa', 'STEEL', 'PPP-', 'MS-', 'AG', 'degrom', 'GIVE', 'prolib', 'VID', 'JFC', 'NUT', 'lyingskank', 'HIT', 'kanaugh', 'SFTV', '*NOT*', 'radicalizing', 'f*ck', 'CLARIFY', 'off-track', 'ontpoli', 'BENEFIT', 'BELIEVE_HYUNJAE_DAY', 'TL', 'DEFENDED', 'wayawful', 'PUSSIES', '*antifa', 'PICK', 'trumpwashing', 'podcastful', 'INDICTED', 'LEGIT', 'missionaccomplishedwewontwatch', 'LW', 'ahhooo', 'groupthinkstinks', 'iniated', 'googlesplaining', 'READ', 'mi*rosoft', 'connive', 'kogasa', 'WITH', 'uncomefortbul', 'already-debunked', 'rights/freedoms', 'projectreality', 'MCCASKILL', 'MISS', 'government-sanctioned', 'panicindc', 'CAUTION', '.he', 'abhorres', 'remoaners', 'suceess', 'biggbosstelugu', 'REPUBLICANS', '.so', 'antifagr', 'NAACP', 'cough*nicky', 'vainly', 'w/o', 'dcrats', 'kavanaughwithdraw', 'bigly', 'loveforjess', '.oh', 'freddiesmith', 'guterriz', 'WWII', 'daisho', 'rules-based', 'cleaningcanada', 'MMT', 'hahahahaha-sure-she', 'sell-by', 'vaxxed', 'MURDERER', 'LEADERSHIP', '.your', 'them-', 'lird', 'SINK', 'CONUS', 'GROPER', 'IPO', 'hear-broken', 'frequentand', 'ACLU', 'subsection', 'COMMITMENT', 'CONCRETE', 'DNC', 'endthegop', 'conservatards', 'YOUR/FAMILY', 'NATION-WIDE', 'S___T', 'soros-shill', 'aboilish', 'bhagwad', 'QALERT', 'w/the', 'TRAUMA', '-foodnetwork', 'money.liberals', '-bill', 'hmrchumancost', 'DEFEAT', 'OIF', 'donaldtrumprallies', 'prescreening', 'appropo', 'SHOOT', 'yokels', 'fiberals', 'REPUB', \"'it\", 'EXACTLY', 'thebrooksbrown', 'thursdaythoughts-', '.sid', 'DOWN_WITH_GOVERNMENT_CORRRUPTION', 'ELECTORS', 'neverthelesssss', 'dangerousdemocrats', 'two-tiered', 'REALIZE', 'PATTY-RAID', 'untreatable', 'RULE', 'craley', 'NOOO', 'mutuals/followers', 'iwillnotsubmit', \"'TERRORIST\", 'COCKS', 'insight-', 'BACKFIRES', 'dearprofessorford', 'HOUSE', 'AVAILABLE', 'NAMES', 'PROOF', 'me.also', 'massmedia', '*meanwhile', 'liberallogic', 'andrewboff', 'freedomandjusticeforall', 'dexades', 'results/goals-based', 'murkowski', 'NOVEMEBERIT', \"'RE\", 'ellison/', 'layperson', 'STAR', 'BRAIN', 'gonein', 'KOD', 'BATMAN', 'brexiters', 'BIAS', 'NK', 'nutbar', 'WANTED', 'SUBPRIME', 'FREDDIE', 'libertennial', 'zealotry', 'duuuueerrrrhhh', 'SKY', 'hiders', '-liking', 'kowtowing', 'FORBID', '..WE', 'groomng', 'CIA/NSA', 'weeabo', 'hoppe-', 'antisemetic', '*TERROR', 'patriotsunited', 'doublestandarddems', 'rtoday', 'BRAKES', 'LOWER', 'group.just', 'MR', 'clarencethomas', 'DOUBLOONS', 'AP', 'TICKETS', 'MOMENT', 'nipigon', 'bhadbhabie', 'n..', 'media/mps', 'kavanah', 'IVE', 'FUCKIDNG', 'RETHINK', 'are.', 'projectveritas', 'ANARCHIST', 'tolerables', 'chiselchest', '..where', 'populists', 'SEEMS', 'reversepcism', 'SUSPEND', 'LIBERTY', 'demonrats', 'illios', 'SOCIAL', 'BREATHE', 'embalment', '//.', 'pantsonfire', 'position**', 'corruptgop', 'NAME', 'end.despicable', 'mcbuckets', 'DEMSUCK', 'junkees', 'all..', 'everywheh', 'MVP', 'nothinglower', 'THATD', 'belifs', 'brexitshambles', 'feminists..', 'DID', 'makewise', 'GRAAAWRL', 'marvollo', 'sleeeeeeepppp', 'HMG', 'LMAOOO', 'libshateamerica', 'libnut', 'RNR', 'CFB', 'prayalloftheprayers', 'sense..', 'IK', 'meuller', 'workjams', 'na*', 'COMPLAINS', 'MINUTE', '...', 'G.E', 'stonecutter', 'potus..oops', 'cruzcrew', 'backtheblue', 'foster/implement', 'rf.then', 'leavem', 'PERJURER', 'MASSIVE', 'maunaloa', 'neccessarily', 'LIE', 'WONDER', 'sonnykiriakis', 'OK.', 'CORRECTION', 'moderate..pro', 'DO', 'TARGETS', 'must-keep-growing', 'republicans/', 'BLUEWAVE', 'jimjordan', 'LEAVE', 'sugardaddyneeded', 'c*ck', 'BENGHAZI..', 'RMS', 'MAYOR', 'bleachbit', 'TITTIES', '-human', 'WOMAN', 'CBB', 'maaayy', 'WAPO', 'tooliberalfornky', 'identitypolitics', 'gpsent', 'PERSONAL', '**available', 'mustvote', 'BEZOS', 'szczepanski', 'NFL', 'WEBCAM', 'mediation/fact', '.had', 'NEW', 'chaid', 'dyess', 'publicity..', 'FIENSTINE', 'ES', 'IDLE', 'standlast', 'STUCK', 'brettkavanaugh', 'menapausal', 'TEA', '==', 'x.not', 'KREAMY', 'D*MBASSES', 'RING', 'winter-spring', 'multibillion', 'PTL', 'unfirtunately', 'BJ', 'joebiden', 'more-', 'corybooker', 'woman..or', 'SOUND', 'playbook..the', 'deepstateisreal', 'point..', 'supporters=nazis', 'HAPPY', 'oresident', 'open-season', 'wedonotconsent', 'characterizations', 'multi-millionaires', 'CBS', 'CHRIS', \"alinsky's-rules\", 'ALTERNATIVE', 'pervertsinc', 'justwank', 'sadim', 'liberals/corrupt', 'REALITY_CHECK', 'SLIGHTEST', 'noredactions', 'britishtorycarcrash', 'SILENT', 'problems..who', 'REMOVE', 'doasisaynotasido', 'TERRORISM', 'TO', 'internet.anti', 'conservatives/republicans', 'P.', 'knuckledraggers', 'FACE', 'paytoplay', 'wellsaidshe', \"'shit\", 'fartacus', 'conservatard', 'bwaaaaa', 'COLOUR', \"'ladies\", 'baby-*', 'power-we', 'KGB', 'killedfriday', 'labourparty', 'GOODNESS', 'THEVIEW', 'LIES', \"'LIVE\", 'NYC', 'taxreform', 'withdraw.he', 'fuckkk', 'CINO', 'LBGQT', 'TUC', 'EVERYTHING', 'SEE', 'maximebernier', 'marchonfromwalker', 'SLOBS', 'powerprayersred', 'O.K', 'CAMPAIGN', 'novichok', 'YOOOOO', 'rememberingedward', '-ancient', 'I-', 'game..', 'WATCHING', '*sshats', 'have..', 'impeachement', 'president..', \"'boyhood\", 'sharialaw', '.why', 'meanyou', 'JESUSLIVES', 'jesussaves', 'gdtrial', 'factsmatter', 'DRUGGIE', 'demoncraps', 'trumpie', 'WE', 'or..', 'reasonableness', '+million', 'MUSLIM', 'RACIST', 'scary*', 'NET', 'VIOLENCE', 'control-dump', 'THANK', 'RMT', 'jackiedp', 'nomoreprogressiveliberals', 'holton-arms', 'conservatives..', 'SHAME', 'INTHE', 'PUSSY', 'gophypocrites', '.pers', \"'OVER\", 'AR-', '-leaks-', '_their', 'experts-', ':c', 'DIED', 'dewwane', 'SOP', 'colinkaepernick', 'WERE/ARE', 'comments..this', 'T', 'trumptrain', '*INHALES*', 'acts/accidents', 'muttafuttah', 'TBC', 'DUMB', 'blueripple', 'ar-s', 'bigotry..', 'FACT..SANCTUARY', 'are-', 'synchronicity..it', 'joymorrissey', 'meteric', 'ZOOMED', 'excuse..he', 'mooslim', 'G', 'shyster', 'RENT', 'demswanttotalcontrol', '/so', 'maga.walter', 'f***ing', 'LIVPSG', 'rights.hoping', '.masters', 'enddaca', 'right..the', 'show..barking', 'go-so', 'unwary', 'tingling*', '-you', 'EARNED', 'BEHAVIOR', 'letsgoshooting', 'maturerity', '*shuving', 'upper/upper-middle', 'deviancy', 'thing..the', 'MONEY', 'cracchead', 'mineta', 'nickidagoat', 'DIMWIT', 'alll', 'AZ', 'crazyunclejoe', 'witch*', 'kavannah', 'LAZY', 'liberalismisamentaldisease', 'general.harris', 'COMPLACENCY', '-YEARS', 'RESISTANCE', 'swedish-style', 'openness/low', 'CLOSE', 'STATES', 'OSU', 'SIX-', 'SURE', 'dogooodthers', 'R.E', 'ABOARD', 'anti-gun-control', 'disporaenresistencia', 'like.', 'BEEN', 'KILLER', 'JPM', 'idonotconsent', 'OFF', 'scraficed', 'IMPACT', 'PLATFORM', 'ixine', 'TNGOP', 'OPTIONAL', 'pussygrabber', 'marginalizing', 'MADE', 'shakha', 'obamas/', 'LA', 'kavanaughconfirmationhearing', 'w/this', 'too..', 'AFP', 'geonicidal', 'speeding/jaywalking', '*buying', 'birdsize', 'TRAILER', 'C.K', 'RIOT', 'unclassifie', 'SEC', 'soyboy', 'e-every', 'pro-iek', 'babies-', 'HE', 'conservatives.', 'californiawildfires', 'NEXT', 'issss', 'EVIL', 'razzinfrazzinmaggle', 'primatives..', 'AGT', 'chinless', 'craigkardashian', 'obumer', 'THINGS', 'F___K', 'anything..kind', 'apartaments*', 'HORRIFIC', 'SAW', 'P.C', 'ex-', '-elmo', 'KNOW', \"'liberals\", 'WHITE', 'comeyshouldbeindicted', 'trumptime', 'theconcerttour', '.how', 'sanctimony', 'liberalsneedtheirownpsychward', 'INTELLECTUAL', '*also*', 'THANKS', 'alleslev', 'force/reasoning', 'HAW', '.sorry', '.as', 'fool..', 'FAMILY', '.KG', 'gropers', '.like', 'twitterleftbias', 'OUT', 'SAD', 'party.nothing', 'PAYERS', 'lawthose', 'fulk', 'MAGA', 'TALKING', 'POISON', 'correlation-definitely', 'momentprotest', 'priveledged', 'FINALLY', 'interesting-cause', 'ATA', 'draintheswamp', 'WHOS', 'youuuuuu', '..in', 'anti-sjws', 'POS', 'BACK', 'trumptariffs', 'russiacollusion', '.she', 'won..', 'rosenstein', 'REFUSED', 'desths', 'commanderinchief', 'unindicted', 'I-DLE', 'AWONE', 'TE', 'keithellison', 'sarandron', 'CONSERVATORSHIP', 'b.s.-insures', 'pussyhats', 'MLB', '.nope', 'USTA', 'abetterway', 'grahn', 'CARE', '*shakes', 'repug', 'givekapachance', 'CRAZY', 'bloodflies', 'NBD', 'LOESCH', 'PU', 'NAFTA', 'unkess', 'A.J', 'MOTHER', 'buildthatwall', '.laws', 'SEXUAL', 'ABA', 'publicsector', 'MBGA', 'either..', 'agholor', 'INDEED', 'lapdpgs', 'conservatives=self-hating', 'fault..she', '//HE', 'FORESIGHT', 'cdnpoli/ticians', '..haha', 'BITCHES', \"should'vetaken\", '-jamie', 'stopkavanagh', 'thunks', 'PP', 'RADICAL', 'letter.', '+++', 'yrs.if', 'patriotsunite', 'KO', 'townhalls', 'cockamamy', 'DIDN', 'novemberiscoming', 'control.they', 'powertothepeople', 'caribbros', 'V.', 'awewww', '.bottom', 'fuck..ill', 'woosy', 'released/introduced', 'GUN', 'phinnaly', 'KEY', 'smashfascism', 'it..', 'latingrammycnco', 'FRICKING', 'dough/pastry', \"'NUMBERS\", 'TRADER', 'plummet..', 'MOORE', 'GLC', 'prasident', 'WARNING', 'pillars*', 'UC', 'airforce..', 'GLORIOUS', 'JWB..', 'bobbybrown', 'powdering', 'socialistlies', 'REACHES', '*sigh*', 'STIR', 'HOME', 'MURDERED', 'HEROICS', 'acussed', 'cross-examine', 'kellyanne', 'saveourcountry', 'politics-', 'LMAOOOO', 'control.', 'tedcruz', 'brexit', 'WOULD', 'thisisamerica', 'monstermay', 'BLUE', 'GM', 'OP', 'MAYBE', 'chuckchequers', '-obama', 'free.', 'KAVA', 'ARRESTING', \"m'eh..\", 'wednesdaymotivation', 'same..', 'WINNING', 'bigbosstamil', '.am', 'SMOL', 'NOW', 'bigstuff', 'ILLEGALS', 'KIT', 'GTTO', 'satochi', 'momsdemand', '.tin', 'defendthesecond', 'rapistdemocrats', 'remanics', \"'I\", 'LIST', 'BUY', 'strawberryrecall', 'GASSES', 'RE', 'christinablaseyford', 'AR', 'HIV', 'POSTER', 'AL', '-ONE-HALF-YEARS', 'DESERVE', 'victim-hood', 'declassifyitall', 'cutewhich', 'TA', 'BEGGING', 'maulis', 'youbuiltthis', 'MCGA', 'SELECTIVE', 'care/emergency', 'excoriating', 'red-blooded', 'CUTER', 'democratsaredangerous', 'FRAUD', \"y'know\", 'VALID', 'goldendawn', 'batsht', 'legislates', 'NICS', 'COMEDY', 'FORTNITEANDROID', 'TARGET', 'mnuchin', 'JERK', 'polygraphs', 'KC', 'demon-crats', 'resisting.', 'DUMMIES', 'kaze-', 'PSYC', 'VE', 'AGED', 'DEFEND', 'smarter-', 'terroism', 'GOAT', 'BNP', 'WEAPONIZED', 'DARKNESS', 'dreamdoll', 'do.she', 'WTF', 'bullshit..', 'KOCHSUCKER', 'BRITISH.', 'privitizing', 'senility*', 'CAREFUL', 'JLR', 'loomer', 'endculturalmarxism', 'magats', 'antifa/resist', 'ANXIETYS', 'usaafr', 'taeyoun', 'DEPENDS', 'USMC', 'BROWN', 'kavanaughforscotus', 'frauddemocrats', 'syntactically', 'tweeeeeetrrrr', 'brat-and', 'DECADE', 'INSURANCE', 'kraber', 'reylo', 'UNDERSTAND', 'tears*', 'HEART', 'cough*', 'complancey.', 'pizzagate', 'serenawilliams', 'leggings/boots', 'W/HRC', 'bringbridgethome', 'questionsyes', 'FAIL', '/bite/', 'jonesout', 'PETA', 'cocktribute', '*she', 'skrull', 'left/dems', 'kabasele', 'SC', 'yasakelma', 'ANTIFA..ANONYMOUS', 'LATE', 'wokeisis', 'republican-dominated', 'AAA', 'linewed', '.AND', 'welliver', 'tastethebarbierainbow', 'manafort', 'irish/european', 'ARIES', 'helenkeller', 'AIR', '**follow/like', 'abortive', 'breaked', 'obama/bushii/clinton/bushi', 'TBT', 'DOWN', 'antifa/', '*REPLACES', 'TOTAL', 'slowly*', 'MEGA', 'cephalic', 'gadarenes', 'TWEETS', 'declassification', '*hugs', 'OBLIVION', 'partyvery', 'bitch*', 'judical', '*lied*', 'sarsour', 'SLAPS', 'DOXX', 'lisapage', 'loonyleft', 'EXCITED', 'BEAUTY', 'EVERYBODY', 'them..walter', 'ready..', 'clintoncrimefamily', \"i'sorry\", 'house/apartment', 'N', 'post-', 'co-conspirator', 'NATION', 'pristin', 'REGISTERED', 'good..', 'krishnaji', 'MS', 'cucks', 'SPECIFICALLY', 'championforfamilies', 'YP', 'credible-keith', 'lips/big', 'TRANSPARENT', 'WOO-HOO', 'lieberal', 'whatilearnedtoday', 'technical/trade', 'WTAF', 'legislatively', 'ho-man', 'assholes..', 'belong.-', 'toops', 'THA', '*your', 'OURSELVES', 'kavauagh', 'HEALTH', 'reputationtour', 'HAPPYHYUNJAEDAY', 'FELT', 'unclassifying', 'COMMUNIST', 'nguni', '-voter', 'movement-had', \"ol'bob\", 'WALL', 'republican/conservative', 'makeamericagreatagain', 'proscribed', 'POVERTY', 'shadow-banning', 'crminal', 'fanniemae', 'ourselves-', 'phenominon', 'POITING', 'AUSTRALIA', 'DREGS', 'BUNGA', 'gggrrr', 'melber', 'C.', 'rightsideofhistory', 'LIFETIME', 'hate..if', 'GIRL..', 'doomentio', 'magareppowervotestrengthened', 'manny_ottawa', 'morning..i', 'unoffensive', 'rational..', 'MONTHS', 'PR', 'UNCLE', 'EVIDENCE', 'O..', 'quasi-conservatives', '..stfu', 'secessionists', 'dipfuck', 'patriachy', \"'think\", 'LOGO', 'insubstantial', 'winblue', 'metoowitchhunt', 'susanrice', 'tessyfiy', '*wigs', 'news.', \"'to\", 'PRINCESS', 'TEDCRUZ', 'FATHER', 'shadowbanning', 'empathy/morals', 'tripletalaq', 'side..what', 'withdrawkavanaugh', 'memeing', 'thyats', 'deepstate', 'nytimesopedbyqanon', 'GA', 'years..', 'SUCKS', 'slander/libel', 'TAXES', 'DEFEATED', 'unelectable', 'CIA-', 'VOTEREPUBLICAN', 'POLSI', 'shadowbanned', 'EATING', 'indescretion', 'blasey', 'is~', 'binoculars*', 'mondaymood', 'position/posts', 'RUIN', 'newstatus', 'francoism', 'ECHR', 'UK/EU', 'bestuseqwant', 'whatconservatives', 'bbclive', 'similar..', 'SUNY', 'DESPERATE', 'months-according', '..right', 'unstable..', 'demoncratic', 'STANDS', 'LEVISTRAUSS', 'THEIR', 'be/do', 'releasethedocuments', 'AT', 'declassifyreleasesunredacted', 'femfrauds', 'gigeconomy', 'IF', 'whataretheyhiding', \"'race\", 'baby..', '.this', 'bardbits', 'alt-right', '-riot', 'JOINING', 'OVOMIT', 'ill-equipped', 'FONDING', 'amendment/campus', 'STRONG', 'country..', '..liberal', 'YTD', 'oh..i', 'FSU', 'beauden', 'ANY', 'LOCK', 'STL', 'BRAC', 'annasourpuss', '-cultural', 'fortnite', 'afd-ordner', 'geraniuminthecranium', 'WIN', 'FALSEHOOD', 'STRONGER', 'CUTE', 'thebobbybrownstory', 'RACISTS', 'DEZBRYANT', 'ZAYN', 'something-', 'OOF', 'MF', 'democrats/', '..', 'trumptards', \"lie'n\", 'INITIALLY', '.uhm', 'here..my', 'wanktavists', 'purpleumpkin', 'presidrnt', 'POTUS', 'REPUBLICAN', 'BAD', 'jfkjr', 'story.then', 'world.what', '*finally', 'MAJOR', 'SCIENCE', 'passrusher', 'democrat=antifa', '.no', 'EXTENSION', 'antifa-bullies', '*gag*', 'serena.she', 'BULLSHT', 'kavanope', 'monopoles', '-its', 'SNL', 'food-', 'VOTE', 'AWWW', 'LOL', 'realdonaldtrump', '.wheels', 'congratulaions', 'narative', 'LBC', '.at', '..globalism', 'sitroom', 'disempowered', 'CHANGES', 'hollyweirdo', 'sundaymotivation', 'astarisborn', 'GOLD', 'literalviolence', 'bobpackwood', 'ehrman', 'AVFC', \"'deeply\", 'anti-pernickety', 'UNGA', '-____-', 'YESSSSSHHHHH', '`midget', 'NH', 'DAMN', '..it', 'tziyon', 'DUE', 'AWAY', 'COMMUNISM', 'WIT', 'ANONS', 'ATF', 'COURAGE', 'car-crash', 'PANIC', 'appointees..', 'aguearo', 'orchestrated/provoked', 'WORST', 'SMILES', 'ILYSM', 'treygowdy', 'noalbum', 'USA', 'III', 'rebekahismoftheday', 'underpins', 'libtarded', '*sniffs*', 'kavanough', 'debt.', 'agreeds', 'puleeeze', 'HARD', 'scaramucci', 'unrecuse', 'voice.', 'INSANE', 'PATTERN', 'libdemconf', 'exaserbate', 'accomplishments-', '-zoe', 'JUSTICENOW', 'DEMOGRAPHICS', 'FACT', 'DIFFERENT', 'fascist-', 'SB', 'MEOW', 'lincoln.', 'CONSTITUTIONAL', 'crazymaxine', 'everything..', 'MAC', 'unepic', 'ijustdontseemyself', 'centralist-liberals', 'FELON', 'RAPIST', 'ESA', 'L', 'bringbridgetback', 'realtornggiveaway', 'misdrawed', 'U.S.A.', 'religiousfreedom', 'republicans/conservatives', 'doubt..', 'me-too', 'FUTURE', 'PENNY', 'nflfootball', 'immigrantion', 'spanishrevenge', 'antifascist', 'HUNT', 'obama.he', 'KH', 'us..', 'anti-nazi', 'PROPAGANDA', 'COO', 'naturalisation', 'theresa_may', 'adearfriendnjust', 'sept.th', 'xrpcommunity', 'FM', 'theranos', 'allvetsradio', 'gray/white', 'SHES', '-law', 'BBCAN', 'premediated', 'fitton', 'heughan', 'closernation', 'shamelessness', 'iran..', 'LVMPD', 'DEMOCRATE', 'denuke', 'WAYS', 'COMPANY', 'SIDED', 'biglly', 'STOLE', 'COTUS', 'dry-humping', 'CANADIANS', 'shhhh', 'IMPAIRED', 'THEFT', 'GAVE', 'baltimoreriots', 'G+A', '.the', 'X.', 'follower..i', 'STABLE', 'careful..', 'entrenches', 'FAUX', 'DFLA', 'uhh..', \"'not\", 'greatawakening', 'torb', 'antinationalist', 'noconfidence', 'non-binary', 'iberals', 'CONTEMPT', 'MGK', 'EXPOSE', 'lowemissions', 'constitution..he', 'wednesdaywisdom', 'efects', 'beeto', 'EX', 'plagarism', 'GGG', 'CAMERA', 'boycottemmys', 'PERSONNEL', \"we'r\", 'FBI/DOJ', 'DESERVES', 'roevwade', 'himtoo', 'womenarewatching', 'netherlandstaxhaven', 'menance', 'SUPRESSION', \"'NECESSARY\", 'EMPOUNDMENT', 'reciprocally', 'showerofshite', 'stopkavanaugh', 'ONLY', 'NO.', 'bergun', 'EU', 'bush-cheney', 'antifaareterrorists', 'WHOA-BAMA', \"'what\", 'SCARED', 'trubisky', 'FUBAR', 'DRAGON', 'farright', 'relativizing', 'uofgh', 'cultpolitburo', 'PL', 'her..', 'antifa/momentum', 'restingbitchface', 'wallstreetjournal', 'disabilityrights', 'TAKEN', 'WATER', 'DA', 'ji-hyun', 'wisperd', 'msmedialies', 'LAND', 'malcolmx', 'qclearance', 'amrinder', 'fawningly', 'BJP', 'puris', 'TRUST', 'EXPOSED', 'MAN', 'poltics', '.putin', 'knowor', 'SOCIETY', 'MLM', 'ACE', \"i'am\", 'CEL', 'concept/design', 'goptaxscam', 'TEAM', '-time', 'OVER', \"'innovative\", 'taxes..', 'leftwingers', 'AHOLE', 'INTERCEPTED', 'UNDER', 'clearheaded', 'godblesstheworld', 'PERFECT', 'everytown', 'SEXY', 'voc.', 'anti-antifa', 'LMAO', '.please', 'TRULY', 'TIMES', 'FF', 'nhs/social', 'LF', 'gillum', 'hetzjagd', 'left/democrats', 'vitue', 'IRL', 'BEFORE', 'mosotho', 'fuxnews', 'NEWS', 'POG', \"'sanjuro\", 'TRUE', 'BABYSIT', \"'hourglass\", 'turmps', 'YOURE', 'jonso', 'winthorpe', '..usko', 'PJNET', 'BLEW', 'cranleys', 'behinder', '*is*', 'AUSTERITY', 'facebook-', 'womensmarch', 'physical/social', 'guilty/innocence', 'self-professed', 'levistrauss', 'karachiites', 'protecckaiser', '***triggers', 'fire-up', 'makeamericasaneagain', \"'carol\", 'msmedia', 'nosafespaces', 'hungerless', '-he', 'interoperate', 'CDC', 'SPOOKY', 'SFOS', 'WANTS', 'ASAP', 'HERE', 'tapdance', 'nocollusion', 'SCARY', 'K.', '..you', 'theemmys', 'antifastock', 'praytheusa', 'I..', 'bluepuddle', 'PDP', '..this', 'sargon', 'career-embarrass', 'BBC', 'flotusrocks', 'webberforcongress', 'MAC-', 'libeling', 'deal/wto', 'enjoytheshow', 'dixiecrats', 'CANT', 'bitc-', 'D.C.', 'croocked', 'MOGG', 'analysis-charles', 'HOW', 'NA', 'world*', 'almostcousins', 'barbarically', 'nonewsom', 'releasethetexts', 'homeby', 'FUCK', 'restitching', 'truthfeed', 'AGENDA', 'FUKEN', 'CLUE', 'TRASH', 'NAZI', 'N.S', 'WTH', 'ORDER', 'valuinghealth', 'epithats', 'PROVIDE', 'REST', 'million-', 'intelligent..', 'antifa-great', '-rd', 'obamaknew', 'scotuspick', 'ridiculous..', 'GUNCONTROL', 'boypussy', 'thivery', 'laughts', 'NOTICE', 'anywhere..', 'osuite', 'nraun', 'america..theyre', 'EAT', 'baaaaa', 'theresistance', 'medi-care', 'DELUSIONAL', 'REMINDING', 'youfe', 'chinaly', 'tyranny=treason', 'emplyers', '/liberals', 'JUSTICE', 'rose..', 'trumpman', 'PASS', 'onenation', 'TRDJ', 'defeatism', 'bengarrison', 'albertpike', 'interested/qualified', 'torythieves', 'NBA', 'examing', 'equaljustice', 'KGO', 'SUPERSIZED', 'feeling.', 'hplife', 'nflwalkaway', 'nonpresidential', 'HYPOCRITICAL', 'firemorningjoe', 'lockherupalready', 'THIS', 'gutirrez', 'wwgonewgall', 'thegreatawakening', 'prodcutive', 'presidnet', 'EPITOME', 'moore-', 'leftieluvvieliberals', 'trivialized', 'GAG', 'dude..', 'post-suspension', 'terriorist', \"'senate\", 'a******', 'DEMS-', 'CAREER', 'kamakazee', 'BLOCKED', 'whatsatstake', 'leftists/liberals', 'teacher/student', 'PUTIN', 'WHOOO', 'AHHHHHHH', 'VOC', 'horrorland', '..get', 'wakeupeurope', 'EEA', 'gutno', 'AF', 'stopped..', 'DONG', 'APPOINT', 'mcvays', 'RECORD', 'LOYAL', 'tweeted..so', 'makesouthafricagreatagain', 'ENFORCING', 'cdcwhistleblower', 'lie..', 'SHIT', 'u-', 'illusterates', 'trudeaumustgo', 'HOLY', 'liberalsmustgo', 'BEAN', 'breibart=comic', 'brandmatters', 'program..', 'VICTIM', 'rainmakersunite', 'shit-', 'morphe', 'ANTI', 'CUCK', 'theferalleft', 'feminizing', '-yogi', '*the', 'good-', 'i*n', 'CHAD', 'pussygrabbing', 'WALKAWAYFROMDEMOCRATS', 'BOII', 'SIMB', 'encashing', 'originalism', 'rushfamily', 'SORRY', 'manaforttrial', 'republiklan', 'gop-', 'secular-progressive', 'w/a', 'SAYN', 'oligarchies', 'FINISHED', 'tourismjobs', 'GO', 'forgivingness', 'POLLS', 'NOCOMPROMISE', 'fakejournalists', 'yesonkavanaugh', 'sexal', 'NO-', 'oroshimaru', '*KNOWINGLY', 'swomen', 'RACISM', 'ownthelibs', 'FOE', 'standadd', 'kneejerk', 'yucker', 'SUDDENLY', 'levi-straussdoublesdown', 'cornuelle', 'reporting/', 'plessy', 'BE', 'amazonpets', 'pro-trump', '//i', 'provincially', 'yassssss', 'TEAMTRUMP', 'idolatrous', 'soros/obama/clinton', 'larrynassar', 'run..', 'MEANWHILE', 'POLITICIZED', 'villianized', 'bernie.he', 'if/when', 'NS', 'prick`s', 'anqueefa', 'theswamp', 'chandlermassey', 'ST', 'student-loan', 'sh**', 'evonomy', 'MN', 'DEEP', 'EVEB', \"'shitty\", 'morealligatorgreedannulled', 'robertsrooms', '-two', 'fbrparty', 'thecpcisapoliticalhategroup', 'KKK', '..that', 'nsl/mccarthyism', 'umdala', 'dumpford', 'schizophrenia..', 'AARP', 'farrakahn', 'down.poof', 'SCUM', 'anti-serena', 'renacci', 'brownshirt', 'CRITICAL', 'LOVE', 'topbuzz', 'andrewgillum', 'meansful', 'arkansas~along', 'boys/girls', 'wade-women', 'handmaids', 'kavanaughaccuser', 'sedition=', '..thank', 'UPDATE', 'harassed/attacked', 'jhdsfhjsg', 'bias..', 'cayde', '.people', 'NAH', 'MONKEYS', 'SETTINGS', 'trumpstard', 'LIGHT', 'DICTATORS', 'intellectualidiot', 'keeptexasred', 'RUNNING', 'demorats', 'LMBO', 'YW', '..case', 'evergreet', 'justiceclarencethomas', 'hfjdhd', 'reason.', 'true.women', 'OHIO', 'savetheth', 'partybeforecountry', 'supersoldiers', 'SIR', 'sendmccarthypacking', 'THE_BOYZ', 'conservative..amazing', 'THEE', 'SACRED', 'GTMO', 'KIND', 'nancypelosi', 'walkawaymarch', 'victoriasecrets', 'secondammendment', 'ASMR', 'establishmnt', 'pushawardsmaywards', 'cosponsored', 'FDS', 'liberalvalues', 'LEFTISTS', 'angeela', 'catkiller', 'wassamatta', 'varadkar', 'QUEEN', 'law.obviously', \"'RETURN\", 'qanon', 'proisrael', 'enebot', 'declassifying', 'DEMOCRATS', 'boycotthollywood', 'luddites', 'rehman_chishti', 'UNARMED', 'ASA', '-u', 'MAIN', 'SAYS', 'NON', 'sir..maga', 'theeyeofthestorm', 'no-', 'A.', 'wwgwga', 'TRADE', 'OTHERWISE', 'describesto', 'qanuck', 'ASB', 'walkawaydemocrats', '.stand', 'abusuve', '-student', 'slogan/promise', 'OFFENDERS', 'supermajority', 'adamandeve', 'demands..', 'week.senior', 'ajsvsnsksjsj', 'FFL', 'RHINO', 'teump', 'foxreport', 'PTI', 'CONTROL*', 'supersoldier', 'scholar-like', 'CAR', 'DANCER', 'SHOOTING', 'ILLEGAL', 'judgekavanaugh', 'FAILS', 'TINA', 'guarantied', 'MR.', 'trumpsupporters', 'shocktroops', 'v.i.lenin', 'fined-odds', '.practice', '/boots-on-the-ground', 'MM', 'FINE', 'brexity', '..shit', 'IN', 'ncdd.org', '*exhaustive*', 'redpill', 'villifying', 'idiot..his', 'girls.she', '.drunk', '..yawn', 'leftists/terrorists', 'BRAINWASHED', 'WONNA', 'killthezebras', 'PRISON', 'a**hole', 'distractification', 'd/', 'counteracts', 'toryparty', 'well-treated', 'hyper-partisan', 'resisttrump', 'CPP-NPA', 'form.', 'KAVANAUGH', 'sarrena', 'stopthebias', 'CORRECT', 'INMATE', 'bcashhhhhhhhhhconnectttt', 'canadaelection', 'AARON', 'FILL', 'socialsurvey', 'killshot', '.drew', 'chicago~~', 'trumpists', 'MENTALLY', '-pfffft', 'AFFORDABLE', 'WAS', 'freedomperiod', 'COOLEST', 'PREACH', \"'we\", 'acrimony', 'papercup', 'cosnstitution', 'MOG', 'cchqpress', 'IMPORTANT', '-the', 'imwithkap', 'workobviously', 'AN', 'CONTAIN', 'policies..now', 'OOH', 'w/marxist', 'foulmouthed', 'TRYING', 'bashthefash', 'granny.', 'FBPE', 'DBC', 'mumtaj', 'FIRMLY', 'christineford', 'whataboutery', 'ETH', 'beaten-', 'sterilizing', 'REASON', 'deepstatecorruption', 'territory.jerkoff', \"was't\", 'xilhatarra', 'MAVERICK', 'chittlerings', 'funny-', \"'extraordinarily\", 'FCC', 'BOMBS', 'me..especiallysen.kennedy', 'shamer', 'MAY', 'WOMEN', 'fkat', 'ALREADY', 'ruskies', 'DAM', '.accompanied', 'DEMS', '-~-', 'geologically', 'socialism=authoritarianism', 'GETS', 'CFO', 'resist/antifa', 'vigano', 'TONIGHT', 'SINGLE', 'past.she', 'FUN', 'TN', '..to', 'ONA', 'S', 'gmother', 'deplorabledreg', 'lmaaaaoooo', 'pbsnewshour', 'nemzet', 'ACHTUNG', \"'i'ma\", 'DESPICABLE', 'NOBLE', 'nessasary', 'saaaaaaadd', 'H', 'SOX', 'nokosoko', 'SAMI', 'DNA', '*finally*', 'thankfulthursday', 'congressman-a', '.f.u', 'prayrevival', 'hillaryous', '-take', 'real..this', 'ACTIVIST', 'afloat..', 'temp-tatts', 'VIDEO', 'dems/liberals', 'investigatechtistineford', 'KTVU', 'HAVE', \"'puzzling\", 'forgiveness.america', 'POS..', 'DEMOCRACY', 'dumocrat', 'ITALIAN', 'thinks/acts', 'toadette', 'partaken', 'EF', 'fakeuberdriver', \"f'off\", 'SOCIOPATH', 'prison..yes', 'breitbarters', 'followerickonig', 'POLITICS', 'trying..', 'SURVIVE', \"'infowars\", 'COLLEGE', 'sundaythoughts', 'AUMF', 'super-heavily', 'youuuu', 'familiesbelongtogether', 'A', 'pedophlia', 'BLATANT', 'gunbroker', 'chooseright', 'liberals/', 'media.propaganda', 'twitter-', '..the', 'huessein', 'o-ren', 'ET', 'THATS', 'discontents', 'nflfreesundays', 'indoctrinating', 'near+', 'kirinodere', 'THROWING', \"'unwinding\", 'thinblueline', 'control.swamp', '..they', 'FOOLED', 'COACHING', '..instead', 'muellerwitchhunt', 'murderrate', 'cristyn', 'ACCUSED', 'SHHHH', 'PURP', 'DISGUSTING', 'shirt~', 'BATTLEBUS', 'TONGUE', 'identitypoltics', 'IGNORANT', 'ancom', 'stoneman', 'whitesupremacist', 'ELECTED', 'election.maga', '..thought', 'garynuman', 'torylies', 'w/wire', 'bitch..', 'judgeships', 'cells..', 'you..via', 'democrats.this', 'ICON', 'IMNGONNA', 'fined/jailed', 'washed-out', 'DEATH', \"gov't\", 'bitchhh', 'lockthemup', 'JDKDKDK', 'LGBTQ+', 'STOCKS', 'majerle', 'therainmakers', 'ban/confiscate', '^LD', 'CRACKED', 'soooooounds', 'disgrace-without', 'russian-infiltrated', 'conservatives=', 'RATHER', 'HYT', '-ur', 'progressive..', '_proven_', 'FBR', 'markfoley', 'GIRL', 'oppotunity', \"h'wood\", 'qanons', 'SEND', 'reaserch', 'HUUGE', 'liberals/fox', 'veterens', 'weaponizing', 'CMS', 'cumslave', 'him/males', '-people', 'false.', '-antifa', 'you..', 'lnvestigation', \"'bama\", 'nowaters', 'xhe/zhe', 'whiteprivilege', 'alpoli', 'AGRESSIVE', '.total', 'buffoon.', 'crookedtrump', 'nevertrumpers', 'magatalk', 'nohonor', 'ocasio-cortez', 'PRAYING', 'HAHAHAHAHAHAHAHA', 'ipledgetovote', '-such', 'FOUR', 'endcorruption', '*michael', 'owellian', 'HELP', 'ittabloid', 'qanonchan', 'CCP', 'abortion=war', 'CONSTITUTION', 'jesusisback', 'riott', 'better.', 'UNLEASHED', 'BITES', 'NJ', 'know..', 'DRAINTHESWAMP', 'f**king', 'STAN', 'GLAD', 'antifa-like', \"'remove\", 'HORRIBLE', 'COURT', 'de-funk', 'HES', 'perjurer', 'HS', 'INTELLIGENT', 'MOST', '.will', 'kaushalarmy', 'nra/gun', 'B******', 'doorhit', 'man/his', 'ENFORCE', 'followthewhiterabbit', 'rwluciferiancult', 'gungrabber', 'NEITHER', 'detracting', 'HLL', 'scalise', 'slimfast..', 'life/death', 'RM+', 'crisis-', \"*don't*\", 'warriorscoach', 'ANCIENT', 'HISTORY', 'she`s', 'to..', 'COMES', 'housingcrisis', 'CR', 'vegasshooting', 'foolhardy', 'atsushi-kun', 'bbcpl', 'BK', 'CCW', 'fakedemocracy', 'names-', 'KDKSKSKS', 'blockchainful', 'X', 'DLC', 'US', 'expectus', 'DOES', 'lecor', 'F*', \"'cheating\", \"ought'a\", 'man.if', '/my', 'swallwell', 'MEI', 'ITS', '-illegal', 'BALLS', 'ldconfbrexit', 'farakans', 'EVERYWHERE', 'SJ', 'YAHWEH', 'WO', \"obviously..d'uh\", 'teamspotlightsunday', 'redwaverising', 'savedemocracy', 'FELONY', 'supplymanagement', 'VAN', 'EFF', 'SO-CALLED', 'TTT', 'toriesmustgo', 'akkad', 'HQ', 'FILTHY', 'fordnation', 'oh-no', 'FIVE', 'accused-', 'GREAT', 'BITCH', 'hostileenvironment', 'DIDNT', 'EASY', 'LOSE', '.fact', 'is/he', 'kb/mouse', 'rulesforradicals', 'AGREE', 'democrats/liberals', 'TRAFFIC', 'coolaintforsale', 'christineblaseykavanaugh', 'IRREDEEMABLE', \"'out\", 'KNEELING', 'VULNERABLE', 'ARM', 'L.', 'detail..', 'CONTINENT', 'WRIND', 'gun=coward', 'stevie.', 'QUIZ', 'pacgoldenstatewarriors', 'AKA', 'takeusaback', 'falwell', 'STUDENTS', 'TORIES', 'TWO', 'boycottnike', 'takendted', 'SHOT', 'bigtech', 'BU', 'altright', 'FPS', 'dregsofsociety', 'crimesyndicate', 'NBC', 'jr.she', 'scotuskavenaugh', 'PAY', 'horrible.i', 'exculpatory', 'countryoverparty', 'vote..', '-SC', 'HAUL', 'vanir', 'INVESTIGATE', 'bed-buddies', 'UNPREPARED', 'blm=waroncops', 'demeaned', 'NOV', 'mines/', 'WASR-', 'correctly-', 'cityoflondon', 'wepaidinyoupayout', 'TD', 'PROSECUTER', 'HAHAHAH', 'OTOH', 'summer-fall-', 'SIGN', 'RESPECT', 'asktheq', \"'legacy\", 'makeamericastrongagain', 'FAKENEWS', 'ABUSING', 'SAID', 'policallly', 'laser-focused', 'A+', 'stratadata', 'intelligence.', '-MS-', 'COWARD', 'jail..just', 'OBAMASPYGATE', 'in..liberals', 'eagleonetowanta', 'hypocrickets', 'sadnews', 'forttrump', 'sonnuva-gun', 'borders.doesn', 'murples', 'antifa-spade', 'MIGHTY', 'tanrums', '.cowards', 'INVOLVED', 'PLAYERS', 'LAME', 'BREAKING', 'betsydevos', 'DESERVED', '.cyberpunk', '*turns', 'aaaahh~', 'not..you', 'DARK', 'RGA-', 'shrio', 'scruffbag', 'laws-', 'LUNCH', 'QUANTIFIABLY', 'AMERICA', 'control..but', 'ah..', 'handcuffsforhillary', 'SJSNSN', 'possible.', 'vaccineholocaust', 'disisive', 'fashy', 'FUNDED', \"'dems\", 'SCHOOL', 'RIPM', 'counselled', 'agtresults', 'dorter', 'TOLD', 'RINOS', 'americanredmidterms', 'crookedmedia', 'ESP', 'LT.', '..ya', 'BO', 'NARCISSISTIC', 'hackers..', 'there..do', 'commsion', 'YAY', 'yiannopoulos', '=liberals', '*sighs*', 'civically', 'kavanaughhearings', '.boi', 'PS', 'quiet.', 'REPORT', 'hared', 'livingtrust', 'worlders', 'steamburgen', 'weakrinos', 'PROTESTERS', 'bhuvan', 'uhhh', 'embezzeled', '.reveal', 'CATCH', 'ISIS', 'ROMY', 'TREASON', '-gerrymandering', '+.', 'COOL', 'MESSSSSSS', 'TRY', 'NIGHT', 'RR', 'do..', 'rpreviously', '/is/', 'annalovestrump', 'myyy', '.conservatives', 'confirmjudgekavanaugh', 'theories.most', 'LET', 'liberalhate', 'LUCIFER', 'f*', 'CRUSHES', '-cheating', 'profit-driven', 'shootings-must', 'DEMOCRAT', '.FM', 'DETECTIVE', 'MILLION', 'broin', 'M-', 'FRIENDS', 'OJ', 'LOST', 'ARRESTED', 'WHATS', 'cat-sized', 'he-she', 'BAGS', 'idiotalert', 'LENIENCY', 'trump_babes_', '.bn', 'volient', 'thetruthshallsetusfree', \"'broad\", 'MULTIPLE', 'patchmade', 'sinmaduroyo', 'USB', \"'shock\", 'POLITICIANS', 'maxinewaters', 'CONTRACT', 'fight..', 'patrickmouratoglou', 'ACCOUNTABILITY', 'sbornwomen', 'ANTIFA', 'world..', 'double-talking', 'one..but', 'POSTED', 'SICILY', 'salinsky', 'DSA', 'near-universal', '..how', '.you', 'birdsofafeather', 'electoralreform', 'ALL', 'clearflynnnow', 'usaguard', 'so..it', 'fluffywolf', 'orgs.i', 'hellboys', 'releasethememo', 'housingforall', 'left/hillary/antifa', '.wait', 'season..they', 'CHECK', 'FALSE', 'maymustgo', 'ANYWAY', 'etc..', 'endpc', 'KERRY', \"'consumers\", 'democraticparty', 'kavanugh', 'SCHMUCK', 'mondaymotivaton', 'lockherup', 'skshsksk', 'dogs.', 'AIDING', 'WITCH', 'DISAGREE', 'antipo', 'fakenews.walter', 'publicauthorities', 'ALMOST', 'pixiegang', 'rednovember', 'scotians', 'proudboy', 'GORGEOUS', 'againtske', 'nope..', 'LAST', 'FCP', '-mr.', 'HAPPENED', '.YES', 'gunsights', 'strzok', 'americanpeople', 'FAN', 'them..', 'sniffs*', 'lowliness', 'nodealbrexit', 'SMI', 'that..', 'CONQUER', 'WEEK', 'lbcradio', 'kavanauh', 'youaregoingtojail', 'ZUCKERBERG', 'stalk..hunters', 'deceive.', 'SPA', 'IV', \"'M\", 'location/time/people', 'WINNIG', 'seongwu', 'kavanaugh', '.MAGA', 'course-the', 'WHINERS', 'FBI', 'womenshouldruletheworld', 'INCOMPATIBLES', 'ENVIRONMENT', 'hard-right', 'openness/high', 'alwaysacowboy', 'merkelkratie', 'SPAR', '*fingers', 'steepppp', '.org', 'SQUAT', '-=', 'GUESS', 'zeroed', 'LMFAOOO', 'war..', 'virulently', 'SUCH', 'hirono', 'yep.unfortuly', 'MINUTES', 'adulting', 'CRITIQUE', 'saying..', 'REVERSE', 'DEEPSTATE', 'beliees', 'LOV', 'I', 'crossed*', 'STORY', 'dafauler', 'CURTIN', \"'for\", 'COULDVE', 'dirt..', 'undereducated', '-I', 'DANIEL', 'immigrantsilegals', 'notokavanaugh', 'PRC', 'u..psst', \"'ause\", 'do/say', 'violation.u', 'indeed.a', 'tess_holliday', 'word.there', 'FUCKING', 'fry-frosty', 'criminalsinuniform', 'eyes-', 'former..first', 'safertomorrowfund', 'ACCOUNT.', 'madmaxinewaters', 'OUR', '-national', 'HOPE', 'ALP', 'kalergiplan', 'ago.', 'theonomists', 'MENTION', '.look', 'greatestthingsaboutthes', 'TRIPPIN', 'ADOPT', 'refernce', 'espouses', 'joedonttouchsomuch', 'AC', 'sajidjavid', \"destroysovereignusa-usconstndem'y+\", 'COBBLE', 'THEWHITEHOUSE', 'SHITTED/SHAT', '-conservatives', '.disgusting', 'co-conspirators', 'psuedo', 'IM', 'CENSORSHIP', 'pump-action', 'FUNERAL', 'latinosfortrump', 'neo-faux', 'haaaaaa', '-ya', 'drainthedeepstateswamp', 'CUPCAKES', 'E', 'kryptonian.turns', '.SHE', 'no-scope', 'carruing', 'it-', 'MEMBER/ILLEGAL', 'some/many', 'F', 'NORMAL', 'andriese', 'marxist-leninist-maoist', 'teamtani', 'HER', 'PREVENTED', '//yeah', 'cowboywayal', 'thewallstreetjournal', 'jeremy_hunt', 'DICTATE', 'ligic', 'yentas', '.and', 'JUDGE', '..yes', 'OH', 'BRUCEOUT', 'hurtng', 'agsessions', 'fed/local', 'families-', 'DM', 'cut-down', '.it', 'falseflags', 'apple/jacks', 'countrybeforeparty', 'TRAVELING', 'bad/ineffective', 'imperical', 'AK', 'enoughisenough..what', 'TX', 'niggaaahhhh', 'MONSTER', 'SHAFTICUS', 'SRM', \"'gun\", 'G.', 'JDKDKDD', '-this', 'redwave', \"'COWARDS\", 'FUCKIG', 'REP', 'bhakt..', 'mbpoli', 'are..unless', 'BANNING', 'either.still', 'up-', 'whaooaaaaa', 'PATRIOT', 'PROUD', 'IHRA', 'GRAB', 'jeremycorbyn', 'prolifegen', 'mini-g', 'SCHEME', 'gaytriots', 'USING', 'ADMINISTRATION', 'ENTIRE', 'LEFT', '.get', 'walldoesntprotectfromamericans', 'big-top', 'MEP', 'fundedbynyandhollywoodleftistsbutpretendingtobeatexan-o', 'anti-gop', 'swiftgpi', 'demandbetter', \"'why\", 'termlimits', 'I-R', 'stolded', 'PURDUE', 'manifort', 'benchers', 'JUST', 'FAKE', 'LRT', 'GINSBERGISNEXT', 'w/trump', 'bhadtranny', 'MEASURES', 'GOVT', 'cancelsouthpark', 'BAZ', 'VOTERED', 'OATH', 'SOCIALIST', 'conservatives..it', 'kuniva', 'allsup', 'calling..', 'ANTI-ANTIFA', 'mid-s', 'alt-media', 'deranged..', 'U', 'chuds', 'overwatch', 'THREATENING', 'finestine', 'nidus', 'satan..', 'RESPECT.', 'show-', 'thirdreich', 'REACTION', 'fakedrugwar', 'matters.', 'YOUR', 'steamrolling', 'ca-district', 'WHERE', 'nofeinstien', 'AGAIN', '.there', 'CHOSE', 'SNAKE', 'feelwings', 'mbappe', 'WTA', 'UR', 'NC', 'fixolas', 'silentwarfare', 'BIRNBAUM', 'youhadonejob', 'LEFTY', 'shopping-sale', 'them..there', 'thereupon', 'militarytribunals', 'have..no', 'lefist', 'uspolitics', '//', 'djsjsjjs', 'PISSED', 'MAJORITY', 'necular', '-got', 'BETO', '*and*', 'YUGE', 'regurgitates', 'shitposts', 'WORLD', 'unleavened', 'LOVED', 'show.our', 'vanguards', 'TRUMP=LEADER', 'plannedparenthood', 'mifsud', 'WC', 'startvettingcongressmen', 'out..', 'deregionised', 'IMPROVED', 'liketrump', 'bald-faced', 'RAH', 'lmfaoooooo', 'THAT', 'pediphiles', \"'none\", 'CU', 'whoaaa', 'diannefeinstein', 'ourcountry', 'MIDDLE', 'haley*', 'B/S', 'INFRINGED', '.LOSER', 'plasterd', '-she', 'million+', 'ABC', 'EXPOSETHEDEEPSTATE', '*white*', 'why..', 'DELAY..', 'LGBTQ', 'TRILLION', 'engineer..', 'SAYING', 'zemke', 'texaspolice', 'WERENT', \"'no\", 'COMMIE', 'WILL', 'ECONOMY', 'jeffsessions', 'commieclowns', 'military/leos', 'isis-antifa', 'TRUSTED', 'TF', 'ME', 'BASTARDS', 'NOO', 'TOGETHER', 'weeeeehhhhh', 'burnered', 'NIC', 'NCAA', 'hasenpfeffer', 'C-USA', 'neverwithdraw', 'roxhamroad', 'BRUH', 'HIM', 'disarmhate', 'LATER', 'gunsensenow', 'BRIDGEPORT', 'imwithdave', 'C_I', 'HOODS', 'TYPING', 'vogue..', 'BETTER', 'FASCIST', 'merrickgarland', 'BURNOL', 'TWEET', 'BUT', 'cartersbodysuitsweepstakes', 'hightechlynching', 'remember..', 'brettkavanuagh', 'ergnews', 'gamestopcontest', 'gutierries', 'beniesanders', 'PRO', 'DUH', '*sings', '.what', 'bigredwave', 'zeyal', 'animals..', 'RELEASING', 'OR', 'LOOKING', 'UNDERSTOOD', 'yawn.nothing', 'TRUMP', 'roseannebarr', 'femanazis', 'JOB', 'HELPED', 'lose/', 'conservativesattackondemocracy', 'FUCKOFF', 'markjudge', 'oshaeterry', 'liberalsguns', 'wemakeamericagreat', 'moviepass', 'mean..', 'BUTCH', '//you', 'THISWACKO', 'CONSERVATIVES', 't-be-evil-corp', '*chokes', 'b**ch', \"'capitalist\", 'LIFE', 'dgps', 'brexitmeansbrexit', 'NEVER', 'LIVE', 'PI', '.make', 'convo*', 'perjure', 'accordingly-you', 'example-', 'CIA', 'tommyvalhalla', 'baiters', 'burger..', 'repunklicans', 'antle', 'exposethetruth', 'ARREST', 'he\\\\she', 'WALKAWAY', 'chinesespy', 'STUPID', 'AND', 'liberallosers', 'DISS', '^TN', 'reporters/', 'bestpres', 'SMH', 'tax-dodgers', 'DON', 'O-H', 'shoot/stab', 'btain', 'unitedwestand', 'treph', 'REMEMBER', 'trumpderangementsyndrome', 'mediatoo', 'guttenburg', 'magadingdong', 'imprecation', 'welfarefoall', 'wayyyyy', 'CORRUPT', 'pro-a', 'DENIES', 'trumpkins', 'conservativecomedy', 'Y/O', 'wearecorbyn', 'PLAYER', 'woker', 'BYE-BYE', \"'ANY\", '.just', 'TMX', 'ocasio', 'yyyy', 'doyes', 'msuthu', 'WH', 'dregofsociety', 'mcraven', 'CHANCE', 'HAHA', \"o'lakes\", 'rhoode', \"'save\", 'DUCK', 'recusal', 'REINFORCE', 'reckognize', '-found', 'cockwaffle', '.guess', 'cow-tow', 'altc', 'anti-americans', 'ALEC', 'nasks', 'NATIVE', 'teacherlife', 'GOPER', 'ATTENTION', 'uscodechsec', 'NI', 'EYE', 'WWGWGA', 'JAIL', 'IRANIAN', 'things..like', 'kavanaughscotus', \"'keller\", 'HIGHER', 'YOUNG', 'thomas-anita', '.stupid', 'ironicnews', '..libnuts', 'ikkk', 'HIRE', '..WHY', 'brookee', 'LIVING', 'HB', 'BNF', 'THEM', 'come/true', 'daughters-all', 'writerwednesday', 'laughing*', 'thebills', 'THUS', 'nikead', 'SPINE', 'naxine', 'bushie', '..fire', 'doings/non-doings', 'SENSIBLE', 'INTENTIONAL', 'natfednews', 'guenther', 'demagogues', 'STILL', 'unons', 'DOJ/CIA', 'CARES', 'dontmessaroundwith', 'LAW', 'power-', 'yessss', 'nickferrari', 'vis--ve', 'crunchtoadifferentbeat', 'steppenwolf*', '*click*', 'GROW', \"'democracy\", 'metoo=waronmen', 'KEEPS', 'F*******', 'peopleoverprofits', 'DP', 'services/', 'genl', 'beyrayal', 'traitortrump', 'fuckeu', 'SPEAKER', 'fukushima-daiichi', 'TWIST', 'HUNKERED', 'terrorsits', 'again.u', 'ELECTION', 'krishn', 'yasir..nobody', 'CONTROL', 'THOUGH', 'democratshateamerica', 'PUTTING', 'VET', '*nevinbruce', 'sluch', 'FLAG', 'NIGHTMARE', 'singer/writer', 'COACH', 'NFW', 'ROSIE', '***william', 'BOOOM', 'welfareforall', 'EMO', 'money..', 'tealest', 'INVESTIGATION', 'WHENEVER', 'WIFES', 'thedeepstate', 'hilliary', 'REMOVING', 'anti-fascists', 'fuckinggg', 'nomanisabovethelaw', 'curtails', \"'tree\", 'USL', 'control/anti-a', 'listentoindustry', 'ENOUGH', 'HELPING', 'NHS', 'PERVERTS', 'upsideup', 'ancaps', 'innuendoes', 'endthechaos', 'and/or', 'btw..thanks', 'GNC', 'ASKED', 'snow-flake', 'SIWC', 'a_', 'TRUMPS', 'liberals/democrats', 'iloveamerica', 'bepannaah', 'NWOT', 'sheister', 'ANXIETY', 'LAUGHS', 'TOW', 'READY', 'VOLUME', 'N.', 'HARF', 'wonting', 'HOUSEHOLD', 'soros-backed', 'chicagodeathtoll', 'good/evil', 'S.O.B', 'capablities', 'JUVENILE', 'nolieu', 'AGAINST', 'saveournhs', 'DIMS', 'julieburchill', 'hadwin', 'firearms..', 'notificed', 'HAS', 'everchanging', 'w/no', 'GUYS', 'WEARING', 'lwhen', 'anything.enjoy', 'dog-eaters', 'AMEN', 'SLIDER', 'shhh', 'HOMEWORK', 'nfl.the', 'DANGEROUS', 'buildthewall', 'comicart', 'JD', \"'JUST\", 'fbpe', 'IHMYKGODOOSJ', 'vetobeto', 'avanetti', 'GIF', '.LOVE', \"'dregs\", 'LOOKOUT', 'QARMY', 'EUROPE', 'THREE', 'characterizing', 'agree..but', 'FABULOUS', 'DETAILS', 'OBNOXIOUS', 'HANG', 'SCAMMING', 'liberals..', 'recently-freed', 'MOE', 'MSD', 'boycottthenfl', 'LITTLE', \"'RNC\", 'QUESTION', '.youre', 'down..', 'SHOW', 'billayers', 'GORKEDDEMS', 'non-conservatives', 'JOE', 'smile..if', 'what-platform', '.except', 'bolsheviks', 'possive', 'USA..MAGA..', 'nocaliforniademocrats', 'iatrogenesis', 'SOME', 'hitlary', 'non-automatic', 'tinderbox', 'SOBTI', 'WORK', 'HR', 'REPUBLIC', 'DOUBT', 'SISTER', 'politically..', 'w/gi', 'ANGELINA', 'threichnwo', 'movie-', 'SOBBED', 'BROAD', 'zeckenbiss', 'fabricates', 'TC', 'DRIVER', 'wortless', 'trumpster', 'conadidate', 'hard..', 'dtmag', 'WW', 'HIAC', 'ANOTHER', 'cealrly', 'griexsevia', 'DB', 'freedomofexpression', '.BTW', 'uklabour', 'saveamericafromdemocrats', 'HAHAHAHA', 'anti-first', 'freealexjones', 'scofflaws', 'boycotttheview', 'hurt..', 'weareq', 'RED', 'r/religion', 'YESTERDAY', 'tfrump', 'secret.the', 'usa_gunslinger', 'HONORED', 'TPP', 'SA', 'hedgefunders', 'youuuuu', 'EATEN', 'chaulk', 'TRUMPARMY', 'antifa=waronsociety', './presumably', 'mcfartney-', '-randy', 'KAG', 'road*', 'BONO', 'KNOWTHAT', 'uh..wasn', 'FOREVER', 'years.', 'others..', 'erikholder', 'exressing', 'UP', 'laws..', 'NICE', 'dubakoor', 'BELIEF', 'nominatin', 'ADMITTED', 'campigne', 'TT', 'high-regulation', '..long', 'f*cking', 'toast-', 'HARDER', 'NPR', 'MOUNT', 'kavenaugh', 'screwed..tick', 'mr.rapist', 'your/my/our', 'LOOK', 'undisputable', 'revivecivility', 'ATEMPTED', 'warzones', 'lindasarsour', 'kool-aide', 'ACORN', 'ford=university=soros=antifa=bull', 'redtsunami', 'KEEPING', 'SNOWBALLS', 'HURT', 'schiffhead', 'follofollo', 'z-jail', 'hypocrisymuch', 'RESPECTABLE', 'ACCUSER', 'demsaredangerous', 'w/fillers', 'ABOVE', 'antifagoons', 'U.K.', 'GONE', 'senatorfeinstein', 'w/', 'HEALTHCARE', 'HONEST', '*HJF', '-gauge', 'LBJ', 'MAGAKAG', 'JOHN', 'records-having', 'bodywraprestraint', 'ITCH', 'intratec', 'FURTHER', 'ANTI-SUICIDE', '.squeeze', 'declassify', 'ERIC', 'allinonlonnieisntfunny', 'on-it', 'deregulating', 'consequences-', '-big', 'TAX', 'westandtogether', 'THRILLED', '..she', 'wethepeople/', 'ssshhhhhiiiiiiiiiiiiiiiit', 'NUKES', 'SUPERMAN', 'CUSHIONEY', 'DWI', 'conservatives/gop', 'FNMA', 'judeo-christian', 'qarmy', 'shittalking', 'DRAIN', 'gettough', 'lunatic.', 'woman..', 'toriesout', 'YOURSELF', 'ibelievechristine', 'doesn.t', 'ARMY', 'paul.berger', 'PAYMENT', 'MIND', 'anitahill', 'bitchhhhhh', 'RIGHTS', 'LIKE', 'FORD', '.who', 'ditchmitch', 'clinton~lucerferian~', 'ex-dems', '-grover', 'JOBS', 'man..', 'randian', 'victim..same', 'betoforsenate', 'FEMINISTS', 'emmyawards', 'HORIBBLE', 'havevut', 'willhorton', 'side-note', 'alloutpolitics', 'shitcago', 'ONE', '/only', 'propter', 'september-beginning', 'gop/trump', 'privlages', 'voteredtosavetexas', 'cherry-picked', 'longt', 'demon-craps', \"'common-sense\", 'outraising', 'LEONE', 'CAED', 'racist.', 'fanniegate', 'CHICKENS', 'ncaaonsundays', 'BRUTALITY', 'DEMONS-PERIOD', 'NONE', 'PD', 'REPUTATION', 'submissions***', \"'makes\", 'michaelche', 'godblessourmilitary', 'doofuses', 'alinskyite', 'votelabour', 'constitutionalist', 'ICE', 'LORD', 'harrasses', 'HEADING', 'illigally', 'b/c', 'timesuptwitter', 'marriedtomedicine', 'FMCC', 'USE', 'prohibitionists', 'clingvto', \"'S\", '*waits', 'chequersplan', 'owned/possessed', 'lyingliberals', 'J', 'MSM', 'GAS', 'einsatzgruppen/waffen', 'openselection', '*as', 'WHAT', 'jiyoonfact', 'SAY', 'centrists', 'chuckmay', 'marchforourlives', 'tothevillagesquare', 'LIARINCHIEF', '-if', 'illegitimacy', 'AMY', 'S.O.', 'firerosenstein', 'falseprophet', 'TEARS', 'UNHINGED', 'PURCHASED', 'BEST', 'SLC', 'npszabadsg', 'nvsen', 'SERVE', 'francisaglabtintulognalang', 'GOAL', 'BREATGE', 'm/yr', 'facelifted', 'HUMAN', 'REGARDING', 'walkawaycampaign', 'standupbrexit', 'creepyjoebiden', 'krazee', \"'unintentionally\", 'FAILED', 'PROTECT', '.cry', 'THINKS', 'trumpsarmy', 'blocklists', 'CHANGE', 'LISTEN', 'clintoncrimes', '//xd', 'BABY', 'THESE', 'comgress', 'neg/hate', '..BUSINESS', 'INCLUDED', 'wild/wet', 'FREE', 'GENIUS', 'KNEELERS', 'wecall', 'jobless/homeless', 'melkor', 'familerize', 'america..', 'votedayna', 'jackdorseyisabigot', 'O', 'FEELINGS', 'member.insane', 'womenfortrump', '.an', 'ultrafinitists', 'SIDE', 'COULDNT', 'uhm..then', 'CHARADE', 'marinesagainsttrump', 'DISNEY', 'act-aca', '*goes', 'despicably', 'ANTHONY', 'barrelling', 'bided', 'elsewhere..', 'COMMON', 'fake/lie', 'keepitpublic', 'wings/beer/country', 'immigrating', 'left*', 'lilextra', 'WHICH', '.BOT', 'answer..', 'BULL', 'TRAIN', 'EXPECT', 'TP', 'MIRROR', 'heredon', 'CHUMP', 'sh*t', 'SERVES', 'degenerated', 'w/insurance', 'LYING', 'sportbooks', 'CRACKHEAD', 'RIGHT', '*he', 'LGBQT', 'TOS', 'whatbour', \"'politics\", 'pcliberal', 'socialists=taxpayers', 'WERE', 'democratsdividinganddestroyingamerica', '-no', 'VIOLENT', 'YOU', 'UK/US', 'WTC', 'WWYD', 'molonlabe', 'MUST', 'FFS', 'TOLERATE', '..will', \"'higher\", 'strasburgh', 'CHEAT', 'campaigne', 'trump..', 'wakeupstandupspeakup', 'socialismsucks', 'multiversity', 'kaate', 'fakeoutrage', 'enemyofthepeople', 'POLICE', 'thailandchildren', 'volume*', 'DARE', 'TX-', \"'START\", 'cnconellen', '-page', 'CALLING', 'doubt.', 'day..', '.take', 'BLM', 'PM', 'theeconomist', 'carnages', 'unfuckable', 'BCO', 'CNN', 'kavano', 'FYI', '-what', 'TRUTH', 'WWE', 'nikeboycott', 'conscientiousness', 'massachussetts', 'HONOR', 'substantiated', 'memelord', 'ABORTION', 'fitztragic', 'islamists/antifa/leftists', 'CALL', 'OG', \"vei'aran\", 'digitalsoldiers', 'beneathhumanity', 'millionsubscribers', 'U.S.A', 'BELIEVE', 'noharris', 'datafile', 'IS', 'firstresponder', 'FDOM', 'MP', 'ex-crackheads', 'disarmharrisnow', 'tuesdaythoughts', 'out-bekhit', 'sawed-off', 'DBA', 'PARTY', '-had', 'CAPS', 'communismkills', 'clintonemails', '-explodes', 'voteblueandbringafriend', 'checkmarks', 'WAKE', 'blocktogether', 'NV', 'PPC', \"'a\", 'WOW', 'notplastic', 'TRUMPSTRONG', 'PREDATOR', 'CLEARLY', 'annoyance..', 'lmaooooooo', 'trump-russia', 'referee/umpire', 'jenshad', 'dickmatized', 'michaelmoore', '*rich', 'INVISIBLE', 'NOTICED', 'CHANGING', 'GENOW', 'actors.', 'NOTIONS', 'gotourpiece', 'BLESS', 'FREEDOM', 'willeford', 'DAYS', \"'colorblind\", 'sareptians', 'IL', 'YAFTV', 'DEPICT', 'GREATAWAKENING', 'twatts', 'zagami', 'SCHEMING', 'thulare', 'LIBERALS', 'hivites', 'SITUATION', 'dimms..they', 'eaten*', 'atomisation', 'KNEW', 'up.she', 'SUPPORTERS', 'cdnhist', '/COPY', 'DOO', 'dougford', 'YOU..', 'jaquonadiah', 'TELLING', 'M', 'buryblue', 'balaam', 'MAE', 'WISH', 'inauthenticity', 'QANON', 'drainingthedeepstateswamp', 'comingggg', '-kermit', 'CENSORING', 'counterprotests', 'scrathed', 'fuddy-duddy', 'tuesdaytips', 'HAND', 'ant-', 'semi-skimmed', 'G.SOROS', 'fatnixon', 'hits..', 'harambe', 'SENSITIVE', 'alt-shite', '.good', 'RIOTS', 'chicagopd', 'thursdaythoughts', 'USC', 'CHILD', 'e-panda', 'PIX', 'DISGRACED', 'SPYGATE', 'vetsresistsquadron', 'meeeeeeee', '.words', 'OBAMASUCKS', \"'conservatives\", 'DAY', 'ntknetwork', 'stopkavanaughnow', 'gullibles', 'defundpbs..', 'HESANIDIOT', 'iannello', 'high-jacked', 'FOOL', 'ABUSE', 'goredstatebystate', 'ddsl', 'thehandmaidstale', 'going.', 'illegalaliens', 'gag-inducing', 'justiceforoliver', 'wait-', 'PUNK', 'AWESOME', 'LG', 'LOOKS', 'BLAME', 'RESULT', '-oscar', 'ERG', '*convo', 'BEHIND', 'informatin', 'bhajpaa', 'B.S', 'AUSTRIA', \"'guy\", 'letthetribunalsbegin', 'FANCAMS', 'ALIENS', 'stranahahn', 'hndu', 'THIRTY', 'trump.', 'THOSE', 'RESCUE', 'p**sy', 'BROS', '-reforms', 'TONY', 'anymore..', 'PROBLEM', 'GOTV', 'double-minded', 'dianefeinstein', 'EXCITING', 'libsthinktheyhavealltheanswers', 'kinew', 'queen-', 'LIKELY', 'GITMO', 'POL___QX', '.but', 'survive.if', 'keithellisonabuse', 'america*', 'ONES', 'CAUSE', '-do', 'vilvilifying', 'haltbarer', '-willie', 'YALL', 'onlyatyaf', 'DEM', 'un-charismatic', 'takeastandnotaknee', 'credits-', 'NOVEL', 'BESTFRIEND', 'trumpresign', 'commiessuck', 'sturmer', 'ICYMI', 'deplorable~she', 'voterepublican', 'mediabias', 'LMAOO', 'thirium', 'stitchup', 'false-majority', 'beliwunited', 'LESS', 'family.', 'maga-bot-types', 'dncwbore', 'daxamite', 'ababzhah', 'DECEPTION', 'PO', 'youfollowed', 'FISA', 'refugeesnotwelcome', 'crimes..', 'ganikalinaaisha', 'STATEMENT', 'him.why', 'saying.maga', 'deludes', \"'affordable\", 'misappropriated', 'relitigate', 'wifi-', 'maga-nificient', 'MK', 'tryants', 'tactic/idea', 'DOING', 'TICK', 'UPPDOALS', 'hygs', 'HYPOCRITE', 'non-voters', 'WELL', 'amd/or', 'dem/con', 'FOLLOW', 'USED', 'bfnewyork', 'nopelosi', 'says..', 'worldonline', 'antifa-lite', 'boastfully', 'stevekerr', 'enioy', 'NBCCT', 'lockthemallup', '*COUGH*', 'network/organization', 'chicagojordan', 'CA', 'membbbqers', \"'lyin\", 'temporre', 'kahenge..unko', 'TAKE', 'VS', 'OBEY', 'CLEAR', 'yassss', 'FEED', 'mulford', 'drainthedeepstate', 'ashallnotbeinfringed', 'salzburgsummit', 'trustsessions', 'sidhuji', 'shotguns.the', 'OUTSIDE', 'life-or-death', 'fesheyes', 'ANYONE', 'ashley.yr', 'NME', 'AI', 'christianmorals', 'uncontroversial', '//anime', 'eddandflow', 'damigo', 'kateswall', 'principaled', 'speedboost', 'ETF', 'DONALD', 'boochi', '-IRS-', 'anti-freedom', 'DC', 'bitc*', 'tuesdaythought', 'DOJ', 'HEAVEN', 'nevertrump', 'perfidy', 'CLOWN', 'EVS', 'far..', 'fakefeminist', 'leftwingliberaldisease', 'DPD', 'germanistan', 'SINCE', 'TRAITORS', 'releasethevideo', 'mayoroflondon', 'alien-ilegal', 'drump', 'CORRENTE', 'kingggg', 'lineswoman', 'CHRISTINE', 'confirmkavanaughnow', 'BRAVE', 'SHAZAM', 'TRUMP=HERO', 'B', ':-', 'should.have', 'pro-law', 'COWARDS', 'sandrayan', 'priceonlove', 'SPLC', 'DEFINITELY', 'MIC', 'away..', 'QFD', 'ericholdercrimes', 'michaelavenatti', 'convo..so', 'tacobellanotherkindoffood', 'somecunt', 'trumpsters', 'flunkie', 'betonotfortexas', 'muslimbrotherhood', 'birdlandia', 'f**ked', 'wednesdaymorning', 'vacation~', 'hassert', 'conspiracynomore', 'jesusislord', \"'REFUGEES\", 'UKIP', 'pedogate', 'lumpenprole', 'mccleod', 'udiot', 'flanking', 'temper-she', 'brexitbritain', 'is..that', 'IDK', 'trumpers', 'swinson', 'high-shcool', 'AGW', 'BRUSSELS', 'declassifyfisa', 'LIBERALSARROGANCE', 'MESS', 'admendment', 'amenadiel', 'noeudeal', 'seen.liberals', 'well..', 'celebnmusic', 'LNP', 'coont', 'kids*', 'HTS', 'bestdj', 'OMFG', '*uppercuts', 'LICENSE', 'bippy', 'SOON', 'TOO', 'neurorealist', 'antifa/kkk', 'II', 'whackadoodle', '..bigly', 'nra-financed', 'party/conservatives_', 'communists~activists-antifa-ofa', 'POC', 'GPS', 'freakazoids', '.boris', 'nedia', 'unjustice', 'ruleoflaw', 'deficits..take', '.im', 'pbsnews', 'SOUNDS', 'CITIES', 'abclet', 'trumpisamoron', '..seem', 'neo-liberals', 'thecatholics', 'longgggg', 'EXO', 'un-indicted', 'PLATFORMS', '..while', 'back..she', 'nevervotedemocrat', 'lockstep', 'PAC', '=a', 'rudeand', 'too-', 'regrann', 'straightfire', 'non-mmt', 'mcsally', 'callthevotealready', 'uraniumone', 'BEAT', 'shitgull', 'dems/libs', 'PEACEFUL', 'TRIED', 'JON', 'EPA', 'TOCK', 'americafirst', 'CORY', 'animic', 'w/exactly', 'RUN', 'SUPPOSED', 'importantly-', 'PUBLIC_EXECUTIONS', 'terror-', 'FOOLISHNESS', 'naziusa', 'IRA', 'PSG', 'BTS', 'hillary/obama', 'IMO', 'episcopalians', '.if', 'MENTIONS', 'negarrrr', 'badasses.', 'TRAITOR', 'ED', 'donybrooke', 'SOLEY', 'IRS', '*screams', 'kavanaughconfirmationhearings', 'naheru', 'WNBA', 'HOT', 'anything..', 'feinstinkle', 'usefulidiot', 'patheticlittlemanjr', 'mctomminay', 'mccain-ed', 'vaterans', 'elpizo', 'RAE', 'WELCOMEEEE', 'KNOWS', 'ADORE', 'person.the', 'episode.', 'TBF', 'yeahhhhh', '.american', 'mohammadhassankhalid', 'OWS', \"'heard\", 'BANGS', 'twitter**', 'PERIOD', 'IKR', 'WHO', 'nazisarebad', 'stickerwoman', 'JONES', 'double-standard', 'STAKE', 'lyingggg', 'PMJT', 'polutician', 'self-inflicts', \"'particularly\", 'soul..', 'READING', 'wkend..criminals', 'dogwhistle', 'sheisaliar', 'MASTER', 'truthjustice', 'WENT', 'uraniumonedeal', 'MAG', 'losss', 'AWB', 'RECEIVED', 'NUTS', 're-victimized', 'mazzie', 'OAK', 'SOOO', 'FEEL', 'lickawitch', 'TM', 'DALLAS', 'confirmkavenaugh', 'OPRESSORS', 'SSF', 'YAYYYYY', '*hugs*', \"'progressive\", 'VIB', 'splendidrainco', 'dueprocess', 'heroineics', 'karyakarta', 'freedomofspeechforall', 'POORLY', 'simonsays', 'sencollins', 'goedert', 'gropy', 'dhudbe', 'trumpies', 'REMOVED', 'handsome~', 'liesunderoath', 'imwithsnoop', 'A-G', 'THEY', 'EST', 'really..', 'shameonspain', 'GEE', 'WEAPON', 'VIOLATE', 'un-remembered', 'CHICAGO', 'miserably..', 'SWAMP', 'transphobe', 'trumptreason', 'INANIMATE', 'putuporshutup', 'GD', 'you-', 'AMERICAN', 'SURFACING', 'pedogatenews', 'votehimout', 'FREAKING', 'bakkt', '*far', 'MR.REDWOOD', 'say..', 'cumtribute', 'cop-killers', 'dickdurbin', 'HAPPENS', 'liberal..', 'time..no', \"'A\", 'decades*', \"'sleepwalking\", 'debate/arguement', 'BEAST', 'JMO', 'harvard/harris', 'BURN', 'SPECIFIC', 'I-Q-', 'SUNNY', 'RSS', 'TRUMPTRAIN', 'BREAKFAST', 'cancer..having', 'nonsense..', 'LIL', 'ratbags', 'about.', 'hurricanemaria', 'hste', 'signifing', 'demsarefrauds', 'biogenic', 'ringwraith', 'aesir', 'anumanu', 'truth-teller', \"'remain\", \"'schumer\", 'GOD', 'voterondesantis', 'admonishment', 'A-OK', 'EVERY', 'BILLION', 'anti-kavanaugh', \"man'snotbarryroux\", 'heather_mallick', 'headlinenews', 'putin-puppet', 'typoness', 'ABCNEWS', 'REFUSAL', '-awkward', 'TWITTER', '-net', 'STOP', 'PIGS', 'FURIOUS', 'illllegal', 'EVERYDAY', 'pugchat', 'old..', 'muellersmountain', \"'costume\", 'RIVER', 'bolsonaroeleitolugar', '*extremistische', 'sure-tragedy', 'PRETTY', 'definable', 'supremecists', 'SHOWS', 'stretchedface', 'impeachjeffsessions', 'rubberstamp', 'disguise-', '..well..know', 'speak-we', 'alone/', 'DOWNFALL', 'STFU', 'schmata', \"'rednecks\", '..and', 'BY', \"'cunning\", 'self-characterization', 'non-reality', 'bozoobama', 'link+trump', '*MAGA', 'spews..it', 'wthin', 'YEE', 'LASA', 'PARLAY', 'k-college', 'cognitivedissonance', 'here..', 'habits..', 'de-created', 'DEFINITION', 'resistancerises', '*pats', 'anti-india', 'supremacy/alt-right', 'WHEN', 'conservatives-antifa', 'in/', 'nospeakermccarthy', '.kindergarten', 'DCEU', 'scandal-', 'XM-ES', 'stopkanavaugh', 'carryons', 'laws..smh', 'LEGISLATION', \"doesn'tunderstandmetaphors\", 'violentleft', 'addicts/sites', 'GOP', 'voterednovember', '*silence*', 'PART', 'savescotus', 'AD', 'weatherwarfare', 'BRAINER', 'CONTINUE', 'ANTIFA-LIKE', 'farleft', 'brilliantness', '..aand', 'MORAL', 'UNTIL', 'CRITICIZE', 'NAZIS', 'ABOLISH', 'COVERED', 'liberalfool', 'liberalism=a', 'proudtobeaconservativefromacouncilestate', 'makeamericangreatagain', 'political..', 'EVER', 'SHIT-SMEAR', 'WAY', '.gave', 'DL', 'ER', 'CT', 'mushroom-capped', 'NRA', 'PLUNDERED', 'muckspreader', 'S.A', 'too..he', 'VOTING', 'ALSO', 'athwart', 'umsuthu', 'AMERICANS', 'qclearancepatriot', 'WELUVTRUMP', 'PHOOEY', 'SUNDAY', 'bwaaaaaaa', 'DECIDED', 'SP', \"y'all\", 'FOXNEWS', 'downwiththedemocrats', 'INCREDIBLE', 'WANT', 'MRU', 'makeamericaamericaagain', 'letsgovern', 'obvious.are', 'PERJURE', 'theconstitutionisthesolution', 'DEPARTMENT', 'sturmabteilung', 'FULL', 'mybubblygirl', 'edwsrd', 'moonves', 'aweeee', 'slent', 'democraticsocialismnow', 'takeastand', 'THEUSA', \"'info\", 'crimenews', 'RIP', 'marxine', 'tbey', 'NOTHINGBURGER', 'community..', 'ones.', 'FUNDS', 'there..', 'trumpnation', 'murdersers', 'hrgggg', 'lgbtqtwitter', 'sallbuzz', 'anglo-saxons', 'R', 'admonished', 'RACKET', 'UNWELCOME', '-crocodile', 'communistic', 'big-tech', \"hap'penis\", 'visa-mata', 'tellu', 'CHL', 'fanboys/fangirls', 'r/hinduism', 'DOUG', 'PERFECTLY', 'also-', 'hol~+r', 'shake-yell-motivate', 'I.', 'usa_flag_u', 'demonicrats', 'privertised', 'patriots-', 'MMA', 'SHE', '.in', 'liar.they', 'childess', 'rememberyouroath', 'SO', 'ostensivly', 'mile..ask', 'pathalogical', 'NOBODY', \"'antifa\", 'today.few', 'HIMSELF', 'cheepika', 'QT', 'schitt', 'CONCERT', 'RESEARCHED', 'FAST', 'magnet.just', '-c-', 'team..', 'OF', 'MEAN', 'black-japanese', 'sea.i', 'PLAYED', 'sareena', 'person.when', 'goolag', 'soulmate/', 'WB', 'LMAOOOOOO', 'MEANT', 'wakeuprepublicans', 'PLANTATION', 'suck-up', 'polloftheday', 'HAT', 'stcshooting', 'cultlogic', 'wisdomwednesday', 'BIG', 'chanvong', 'OPEN', 'crookedhillary', 'bobwoodward', 'nomorelevis', 'flippant/dismissive', 'incivility', 'PREDATORY', 'self-enrichment', 'dnc/soros/antifa', 'sexy..', 'IFU', 'donaldtrumpjr', 'tax-payers', 'own_', '_against', 'me..', 'GDP', 'antifascists', 'kettterer', 'WJC', 'demsdesperate', 'MGM', 'PG', 'NOBEL', 'PLELLEEAAAASEEEEE', 'LIAR', 'OK', 'ABOUT', 'GOA', 'opstopchemtrails', 'hadexincursion', 'DESTROYED', 'DT', 'dunnogo', 'SUPREMACY', 'AINT', 'START', 'trashno', 'thugs*', 'argentborn', 'weaponise', 'wemarchforourlives', 'luves', 'polititians', 'apists', 'politicslive', 'usconstitution', 'JAMES', 'enemiesofthestate', 'SQUELCH', 'lyingnews', 'upppp', 're-form', 'ALT', 'deleiver', 'CHEERY', 'MAN/ENTITY', 'YEAH', 'OFFF', 'along..', 'walkawayfromdemocratsnow', 'ashwariya', 'comfortable.hey', 'theliberalway', 'thepersistence', 'geeezzz', 'hobag', 'WATCH', 'askalivelshi', 'karmys', 'COPS', 'SAVING', 'UN', 'lol..', 'BUNCH', 'toxictory', 'recanted', 'anti-america', '-stronger', 'slave-owners', 'antinazigr', 'PROVES', 'ABSOLUTE', 'COME', 'aspersions', 'ohh..', 'rule-breakers', 'BECAUSE', 'donpittis', 'CHINA', 'IBOR', 'YO', 'THIRTY-FIVE', 'haters..', 'TWIT', 'SUPPORT', 'suprematists', '.treason', 'FL', 'B/W', 'MUTTS', 'HOSTILE', 'woodword', \"'s/\", 'notwithkap', 'non-democracy', 'sengupta', 'nomoreguns', 'SPD', 'FBS', 'TXST', 'howk', 'HOC', 'CHRISTIAN', 'appropiated', 'facsists', 'BUSTED', 'GOSH', '..hope', 'fake-ass', 'damore', 'POOREST', 'disguses', 'remainers', 'reaganlays', 'lpfirsttime', 'MEANS', 'HYSTERICAL', 'pcliberals', 'cherry-picker', 'THRY', 'disgusting..', 'beeching', 'pittis', 'PUERTO', 'boomingeconomy', 'tactic/strategy', 'lackies', 'anti-fair', 'thestorm', 'fitzmagic', 'C', 'CLEANED', 'GETTING', 'expirrence', 'windrush', 'counterprotesters', 'say..no', 'go-forward', 'bolsonaropresidente', 'ROYAYERS-', 'us-but', 'ohhhh', 'frankoz', 'swearer', 'ASSUME', 'nothing.don`t', 'barbolack', \"b'stard\", 'AMAZING', 'XD', 'FB', 'them.he', 'history.but', 'urbannaxals', 'orcastrated', 'QB', 'NEED', 'PEEP', 'TOM', 'RICO', 'immagration', 'cute..', 'hell-', 'HAVING', 'dem-run', 'releasethecures', 'slushfunds', 'w/usculture', 'imbecild', 'LOSER', 'TRICKS', 'justintrudeau', 'CRY', 'OL', 'WYVERN', \"'porn\", 'THERE', 'cameto', \"'bi-product\", 'corporatewelfare-dilution', 'DOESNT', 'STRIPES', 'anti-president', 'dickbrain', 'loveurfamily', 'NOTHING', 'hindol', 'oooohohohohohoh', '.can', 'i`m', 'alt-left', 'ACTA', 'bono-', 'artistsontwitter', 'milquetoast', 'masse*', 'BB', 'thedreamact', 'anti-openborders', 'MAGA=', 'ex-attorney', 'low-emission', 'ur-lamebrain', 'walkingaway', 'SHINES', 'kajillions', 'HO', 'trump-o-nomics', 'anit-semetic', 'FOX', 'mattacongress', 'humor.', 'he/she', 'brother*', '-etc', 'adefenders', 'againstbthe', '*FUNDED', 'MEDIA', 'administration.ca', 'STATE', 'bluewaveofviolence', 'DV', 'parrishes', 'gay/lesbian', 'britishcouncil', 'PIG', 'selfdense', 'FIRED', 'GTFO', \"weeb'tifa\", 'hillaryclinton', 'THEN', 'liberalismcausesmentalretardation', 'TORY', 'anti-border', \"'VE\", 'SHOULD', 'LICK', 'SLAUGHTERING', 'iamalexjones', 'r/luka', '..but', 'acedemia', 'BORED', 'FEEDING', \"'bidding\", 'LISTENING', 'GOVERNMENT', 'THE', 'DISTRICT', 'EFTA', 'INTITLED', 'POOR', 'postponethevote', 'hyunjea', 'b/year', '-million', 'confirmkavanaugh', 'HPLYK', 'MANEXCEPT', 'savetherepublic', 'SPEAK', 'dreams.', 'occurrance', 'antifa-loving', 'demonrat', 'LAWS', 'praaaaaaaaayeer', '..oath', 'godblesshumanity', 'housebuilders', 'MIDTERMS', 'facsicm', 'RNRTN', 'IMAGINE', 'HI', 'eirc', 'NSMBU', 'IQ=', 'extra/new', 'V', 'HIS', 'houseoflords', 'PBS', 'comedian/actors', 'VOCAL', 'DIBALES', 'nazi-socialist', 'decisis', 'MSNBC', '.however', 'w/s', '.targeting', 'SPECIAL', 'youhavebeenexposed', 'liberals/leftists', 'PERMISSION', 'shepell', 'TURN', 'SEAT', 'on.oh', '..bad', 'VIEW', 'RAPED', 'teamtrump', 'trumpbabes', 'PJW', \"'your\", \"fuckin'dead\", 'konk-u', 'likenoother', 'innnew', 'STREETS', 'UNAMERICAN', 'HARMS', 'D.', 'NSA', 'UNCANNY', '+native', 'sanctuarycities', 'shitlib', '.was', 'disembowels', 'DOG..SHE', '****ing', 'females..', 'PIRATE', 'popularist', 'absolutist', 'here-', 'peterstrzok', 'roymoore', 'N..', 'mulller', 'break..', 'IT', 'XVI', 'BAG', 'KILLING', 'machinelearning', 'swalwell', 'DEAD', 'liberalismisamentaldisorder', '-year-old', 'overgeneralization', 'omggggggg', 'bojopm', 'googlearecorrupt', 'DUMMYDONNIEJR', 'THOT', 'SPONSER', 'BOOM', 'PIRATES', 'RESIST', 'criticism-lite', '..FOLLOW', 'FOR', 'SUMMER', 'SHARE', 'BDS', 'ingles..', 'WHOLE', 'SLOW', 'UWUING', 'sessions/huber', 'binnedboris', 'notbakingyourcake', 'assualted', 'deadname', 'AGO', 'BIDEN', 'THINKING', 'NEGATIVE', 'itrump', 'artistforhire', 'nonflzonehome', 'BADASS', '^Z', 'confirmjudgekavanaughnow', 'WEAK', 'schutzstaffel', '.BAAAAAAAA', 'NWO', 'ajsjjsjdkkdjdk', 'FANNIE', 'VISUALS', 'too.we', 'for..it', 'hurricaneseason', 'lynchings', 'loosley', 'HAD', 'jihoons', 'shedevil', 'ANIMAL', 'jelllll', '.more', \"'unprecedented\", 'YET', 'DONE', 'de-platforming', 'antifa-', 'NY', 'RW', 'FREEZE', 'fenstine', 'CURRENT', 'LEAST', 'PLAYIN', 'FRAUDULENT', 'gun-such', 'MY', 'IG', 'BYE', 'onomy', 'HA', 'NOT', 'again*', \"'THEIR\", 'orourke', 'PARDON', 'PIECES', 'stoptrump', 'ROMAN', 'fist*', 'ASSHOLE', 'loyalwolf', 'nestl', 'policiy', 'felarca', 'danikaharrod', '^^', '*whips', 'seuday', 'christian.', 'CRIMINAL', 'AGREED', 'PELOSI', 'MOPE', 'clintonfoundation', '/HAVE', 'lotwvideo', 'non_domestic', 'ewww', 'MET', 'redtoblue', 'keepinghis', 'fakenewsmedia', \"'follow\", '.now', 'onetroy', 'mild/moderate', 'better/hungrier', 'BAMN', 'finalsay', 'FOUGHT', 'gapbelike', 'EXCLUSIVE', 'EI', 'nuetral', 'sickkidsinlove', 'CALIFORNIA', 'SWR', '-gun', 'menu-', 'fvkk', 'voterid', 'pacified', \"'undemocratic\", 'media.they', 'MALES', 'PLEASE', 'whataboutism', 'ILY', 'desanctis', 'antinatalist', 'ANYWAYS', 'polygrapher', 'skinsuit', 'OBAMAS', 'everybodyin', 'PLAYS', 'thugaratti', 'nahhh', 'MAGGOT', 'WORRIED', 'SSM', 'yourk', 'bulletcontrol', '*once', 'general/local', '*babysitting', 'METOO', 'neanderthals.would', 'NOVEMBER', 'unimpeachable', 'LATEX', 'HIGH', '::', 'anti-trump', 'DOMESTIC', 'boycottcolinjost', 'CHOICE', 'GOV', 'shaunbaileyuk', 'JACKET', 'players/viewers', 'OLD', '..I', '.ALMOST', 'TEACHERS', 'Z', 'VG/HC', '-mass', 'thought/conspiracy', 'denuclearizing', 'conartists', 'islamic-extremism', 'SAN', 'lunaticleft', 'gorsuch', 'late-in-our-history', 'brownshirts', 'demension', 'WS', '.terrorist', 'store.', '.ya', 'controversal', 'too-many', 'ARE', 'TOOLATE', 'rodenbury', 'opertiunist', 'AJ', 'ANYTHING', 'colinjost', 'trumpsamerica', 'unsealthedeals', 'monstergirls', 'revkin', 'MARRIED', 'huckster', 'well-fostered', 'sheep/foot', 'party..', 'WRONG', 'BARUN', 'WAR', 'rimmyantifa', 'haircolors', '-bn', 'like/love', 'firebombing', 'nochainmigration', 'schiff-', 'demonuts', 'ass*', '-WHO', 'RAGE', '++', 'slovenly', 'arrestclintoncrimegangalready', 'DEATHS', 'true.', 'dharmic', 'see..', 'nuts.makes', 'trusttheplan', 'president.', 'VICTIMS', 'PLUS', 'HEAD', 'threats.', 'melkshams', 'COMING', 'PUT', 'demsaredone', 'twittercensorship', 'parklandkids', 'AM', 'BORDERS', '*da', 'ANYWHERE', 'luciferiarising', 'PMB', 'contemptuously', 'U=', '*crazy', 'EXTREME', 'borisjohnson', '/sarcasm', 'culturalappropriation', 'BIRTHDAY', 'meneither', 'fessy', 'MARIA', 'FACIST', 'CP', 'SATAN', 'are..', 'nowheresland', 'EIGHJT', 'yep..says', 'alternativefacts', 'ASS', '/him', 'shurmer', 'EACH', 'vociferously', 'successconnect', 'voteredtosaveflorida', 'allaying', 'winforus', 'SPORT', 'S/-', 'tory/labour', 'opportunityknocks', 'SCAM', 'NOHOMELESSCITIZEN', 'WING', 'CASH', 'poitician', 'dreams..', 'quislings', 'strinkingly', 'statepensionage', 'DONT', ':the', 'calculative', 'citizens..their', 'commissar', '\\\\o/', '-nick', 'googlecide', 'SAVE', 'RETAIL', 'b/-get', 'DONORS', 'WALK', 'period*', 'hshshahhsjjjsjsjs', 'kavanaughs', 'smartdissent', 'dear.', 'LOT', 'avenatti', 'though..', 'fargolowes', 'OOPS', 'CONFIRMED', 'fragmenting', 'OWN', 'EVE', 'subsaharan', 'faithcattleco', 'REAL', 'DIVIDE', 'BOOPBOOPBOOP', 'MUCH', 'DACA', 'shaddowbanning', 'YEEEEESS', 'AB', 'whyrwpreachesracism', 'SURPRISE', \"'waste\", 'counterprotestors', 'johnmccain', 'LIBERAL', \"'fitted\", 'thankstrump', '..yea', 'DADDY', 'totalitarain', 'FACEBOOK', 'humanitys', 'leibh', 'bitchc', 'SCREEN', 'blas-ford', 'ATMOS', 'youngo', 'MERCHANDISE', 'KILL', 'PROBELY', \"'youtube\", 'war.', 'w/zero', 'BOTH', 'PSA', 'LOWEST', 'boltey', 'PLAN', 'SHOWING', 'sheldmaidens', 'demoncrats', 'CRIMES', 'EDUCATED', 'da*n', 'PLENTY', 'not/', 'swampers', 'goodbyedemocrats', 'doxxing', 'infridge', 't-', 'OBAMA', 'demonratic', 'opevidence', 'opertunist', 'rssreachesout', 'democraps', 'patreon', 'DEFENDS', 'bootlickers', '..want', 'nutbags', '-harm', 'non-committal', 'anupama', 'CCOT', \"'prayer\", 'illinoise', 'GUY', 'figjt', 'zerin', '..err', 'korzemba', 'INHERENTLY', 'MISTAKE', 'infantilized', 'rahmemanuel', 'TRUCK', 'wickstrom', 'ARROGANCE', 'victory*', 'credibly', 'BARRETT', \"'right\", 'ignore/suppor', 'unfortunatemy', 'OSS', 'whackos', 'EDUCATE', 'SLIMY', 'sjws', 'abramoff', 'kanebrown', 'child-', 'HRC', '-c', 'neoliberals', \"'nazi\", 'libleft', 'TALENTED', 'PUN', 'naziism', 'altleft', 'cakefriend', 'left..', 'repealtheth', 'taravat', 'thursdaymotivation', 'magaveterans', 'ESPN', 'BOYCOTT', 'muslims..go', 'patriotswin', '*too', 'democommunists', 'RHONY', 'whoviille', 'themfaux', 'GWEEK', 'VULTURES', 'fundamentally-restoring-americaspeaker', 'ACA', 'looking..tell', 'VISIONMISSION', 'terrorists.but', 'DEAN', 'declassifypowsdocuments', 'mythicalcreature', 'fuckbucket', 'milo*', 'SET', 'WEINER', 'goodtrumpsevil', 'swagodking', '-increase', 'skypefamilies', '.funny', '-hallmark', 'tikoo', 'RUSSIAN', 'REMIND', 'times..', 'DECENCY', 'PIC', '-YO', '**she', 'KIDS', 'boruto', 'exitfrombrexit', 'treasonousgoverment', 'galpal', 'laugh*', 'LLC', 'culture/institution/etc', 'WI', 'WORLDWIDE', 'liketake', 'POPE', 'Q', 'ALS', 'POSTING', 'behar..aren', 'MILF', 'BHO', '*disclaimer*', 'COCK', 'RINO', 'stopbrexitsavebritain', 'fisagate', 'PLACES', '..be', 'KW', 'besudes', 'ANGEL', '-mile', 'STERILIZE', 'authoritarians', 'IMAGINEEE', 'CAN', 'it-she', 'IP', 'virtue-signaling', 'curtailing', '.real', 'liberals-like', 'NO', 'journalist/documentarian', 'butt/big', 'MAGA-', 'lmfaoooooooo', 'VICIOUS', '*mom', 'guy..', 'EOTP', 'disavoving', 'DEPLORABLE', 'misremembering', 'trumphasdementia', 'comeback/appear', 'is..', 'HELL', 'FEC', '..a', 'fuuckkkk', 'COVERAGE', 'mockingbirdmedia', '*SCREAMS*', 'HOMIES', 'nodaca', 'heandshe', 'SPY', 'EVEN', \"'showmance\", 'RNC', 'colonizer', 'KMA', 'CHAMPIONING', 'headcoach', 'dwpcrimes', '/leftypol/', 'word..', 'SMEAR', 'non-resident', 'letsomebodyloveyou', 'patchouly', 'nosanctuarycities', 'leave-just', 'leolahbrown', '.k', 'resisters', 'OTHER', 'skiddish', 'frenkenstien', 'FORCED', 'mukalla', 'WA', \"'mad\", 'EVERYONE', 'REALLY', 'rouda', 'uncorroborated', 'YAN', 'bwahahaha-work', 'nearly-zero', 'worse..', 'CBC', 'EBT', 'mondaythoughts', '-U', 'ALAMO', 'troughtime', 'MEGY', 'oath.', 'mdzs', 'SHITTY', '-are', 'waspi', 'TIRED', 'familyprotection', 'HIDE', 'ijesus', 'GUILTY', 'prefectural', 'scandals/rising', 'susansarandon', 'bizzniss', 'POLITICAL', 'mindmill', 'SOMETHING', 'INTO', 'TELL', 'quelled', 'INTERRUPTING', 'assault/harassment', 'lmfaooooo', 'NDP', 'PERSON', 'K.I.D.S', 'figureheads', 'foxhunting', 'annnnnnnnnnnnnd', 'bliar', 'micro-mini', 'babesfortrump', 'great..keep', 'off..like', 'skybastard', 'opperman', '.thank', 'CONNECTING', 'feinstein/obama', '.-caliber', 'loveourpotus', 'hooo', 'LGBT', 'JV', 'oncve', 'impuse', 'OPINION', 'votethemout', 'nymphet', 'STEAM', 'time-', 'WHITEY', 'halper', 'GANG', 'ATTENDED', 'citizenshop', 'player-', 'kneelers', 'fleeted', 'dccircuit', 'BOOP', 'MIBR', 'UK', 'throwthemout', 'word.we', 'SHAREACT', 'bonepurs', 'fu*k', 'equivocal', 'catholicchurch', 'anti-trumps', 'crisisinpolicing', 'yecs', 'SCURVY', 'HEARING', 'barbiedreamsvideo', 'fisadocs', 'deepstatepanic', 'brat..', \"'bump\", 'ROBOT', 'beloeve', 'IQ', 'remainer', 'LSU', 'nezha', 'barzal', 'preller', 'BBUK', 'freakyford', 'RBG', 'kamalaharris', 'liberals-', 'SKIN', 'YORK', '.honey', 'englishconservatism', 'evil..', 'BAFOONICUS', 'traitortoad', 'startvettingsenators', 'ehave', '*dont', 'palled', 'jcpmnow', 'qdrop', 'DJT', 'sleazballs', 'please..', '.her', 'agentofchaurch', 'on..', 'ACTUALLY', 'broke.', 'dbld', 'case-', 'KARMA', 'hollyweeders', 'R.', \"c'ville\", 'doomfist', 'LUCY', 'THW', 'FUCKINGNDBS', 'ernieandbert', 'shitttt', 'FOLLOWED', 'AA', 'DOJ/FBI', 'JOKE', 'gawdfather', 'disarmthem', 'SOBBING', 'guyyyy', 'nottowatch', 'BP', 'palestinian.', 'berniecrats', '-p', 'JC', 'proletarian', 'monsterfunder', 'FJSHDHJS', 'hehe-', 'GRAVY', 'EXPOSER', 'SELLING', 'impasse-', 'GE', 'CHEATING', 'cloudseeding', 'bad-', 'trumpisguilty', 'gardensbut', 'lskar', 'UCP', 'FUND', 'jacobreesmogg', 'TXBOE', 'dravidanadu-vallahs', 'THERES', 'denuclearization', 'DAILY', 'growthenetwork', 'tuition-free', 'beware..some', 'raytas/', 'done.they', 'HYUNJAE', 'C.I.A.', 'TITS', 'revorded', 'PAID', 'markcuban', 'EXPLODING', 'FUNNY', 'b****', \"'last\", 'MUSIC', 'inclineed', 'NIKE', 'glbl', 'ohhhjhhh', 'TCOT', 'HEARD', 'bannedwords', 'YAYA', 'WWGIWGA', 'backtraced', 'CROOKED', '-which', 'THELEFT', 'voteblue', 'TEMPLE', 'MOF', 'FAULT', 'currentaffairs', 'non-binding', 'PURGE', 'SERIOUS', 'ROFL', 'destriment', 'relativists', 'WHITE-HOT', '*a', 'polytechno-fascists-avatar-digital', 'penspeaks', 'ronaldgrump', \"'my\", 'fat-shame', 'treasons', 'baby/not', 'now..', 'leftstream', 'IDENTYPOLITICS', 'PROCESS', 'EWA', 'VERY', 'LIVES', 'IMHO', 'gunsensecandidates', 'riceking', 'beto-male', 'darktolight', '.they', 'biassed', 'hinduphobia', 'STARVING', 'thmonkey', 'u..', 'chickschumer', 'spoonfeeding', 'OLIVIA', 'liberalling', '-laundering', 'FAT', '-being', 'bandwagonists', 'anymore.just', 'remainiac', 'luv..', 'BUSTING', 'BLESSINGS', '*tend*', 'pedowood', 'convaluted', 'drellenbrandt', 'boondoggles', 'iwantthewall', '.espacily', 'GOING', 'backwoodsistan', 'SOMEBODY', 'told.its', 'noschiff', 'HYPOCRITES', 'SE', 'porrany', 'same-trash', 'retconned', '-WTF', 'listeningall', 'metoomovement', 'leftest', 'AMERICAFIRST', 'use-it', 'blossomwood', 'NHF', 'EXTRA', 'thelead', 'kavanaughconfirmation', 'unbias', 'kavenaughs', 'GIRLS', 'WANNABE', 'hmm..', 'non-victims', 'comments..', 'HILARIOUS', 'DAESH/ISIS', 'america-hating', 'INVOLVING', 'REDWAVERISING', 'weaponize', 'novoterfraud', 'LJMAGA', 'friendsandfamily', '/conservatives', 'dissolvetheunion', 'TIME', 'mr./m', 'alleslve', 'aasertions', 'trumptrainportal', 'THINK', 'JERK-OFF', 'HMU', 'ANSWER', 'suffragettes*', 'shortcummings', 'hijinx', 'sickholder', 'AWAKE', 'billy~', '*four', 'shitbiscuit', 'HOLD', 'shimmmy', 'anti-german', 'TY', 'notmypope', 'darell.maddox', 'STARVED', 'STAND', 'beaboutit', 'magabots', 'usgoverment', 'c*nnor', 'lmaoooo', 'FAVOR', '^MA', 'USUAL', 'ENGLAND', 'HURRICANE', 'policingincollapse', 'unstanning', 'knockmy', 'I.E', 'daveb', 'mouth.wrong', 'pardonmyfrench', 'right/left', 'CARRFUL', '*overheard', 'A++', 'fakepsychologist', 'GOPCOMPLICIT', 'PATRIOTS', 'FROZEN', 'NINJA', '=ANTIFA', '-scared', 'nd-tallest', '..if', 'ratshit', 'mergitur', 'COURSE', 'OPPONENT', 'generationally', 'MOVEMENT', 'bedwetters', 'MANY', 'administration..', 'fakenewscnn', 'WAIT', '-trump', '.alina_ae', 'dems/', 'tbere', '..does', 'PARIS', 'six-and-a-half', 'SHALL', 'HANDLING', 'BORDERS=', 'antifa-types', 'FIGHTING', 'jmatt', 'NYT', '..so', 'verifiedhate', 'r/india', 'CFR', \"O'REILLY\", 'LONG', '.weeeehhhhh', 'klansmen', 'readthebook', 'confirmbrettkavanaughnow', 'justice-', 'BFF', 'guite', 'VP', 'demonstrators.', 'evisceration', 'WITHOUT', 'hillarites', 'loancharge', 'DAVID', 'theresamay', 'moses-', 'doing..', \"it'sful\", 'MINE', 'NANSBABH', '-HGTV', 'cold-but', 'ARENT', '*gets', 'follower-count', \"'g\", 'outoftheeu', 'SEASON', 'HARDCORE', 'trudeau/butts/telford', 'rights/gun', '.liberals', 'GROUP', 'bullsh*t', 'regrettable..', 'BOY', 'SKANK', 'POLLUTORS..', 'yhuuu', 'bitchute', 'despicabledemocrats', 'backon', 'obamagate', 'entryist', 'GROVELED', 'LEO', 'notonemore', 'RODGERS', 'anti-fascism', 'TOOK', 'DWP', 'BUILD', 'life-and-death', '*accept', 'LETS', 'PTOTUS', 'CNCO', '.nothing', 'makotoniijimaweek', 'likeshe', 'govoner', 'U.S.', 'PROBABLY', 'LITERALLY', 'PATHETIC', 'madcow', 'shop__', 'mooslims', 'fan..', 'bloods/crypts', 'jesuiten', 'amorality', 'CANCEL', 'CRAP', 'SENSE', 'protesters..there', 'voteredtosaveamerica', 'antifaschismuswirkt', 'kalergipreis', 'TWEETED', 'communist-socialist-nazis', 'noban', 'guillotines', 'israel..', 'boycottnfl', '~end', '-right', 'jackie~', 'DIRTY', 'BUSINESS', 'non-patriots', 'knowmandni', 'POT', 'IRAN', 'WORWEE', '.serial', 'MAKE', 'CRIMINALS', 'thomas/hill', 'SDLIVE', 'christineblaseyford', 'helpmto', 'plateful', 'tuesdaymorning', 'hanoijane', 'MAKES', 'b/s', 'PROMISE', 'mumbojumbo', 'OPMAYFLOWER', 'peoplekind', 'want..no', 'CMP', 'TERRIFIED', 'peelpelosi', 'PEOPLE', 'blairite', 'WR', 'libfail', 'condemnations', 'OPPORTUNIST', '-hour', '/s', 'KP', '-who', 'presidentmaduro', 'SLEEEEEEEPS', 'beto-i', 'molestors', 'a-crooked-letter-crooked-letter', 'covention', 'whysjamescryin', 'ANYBODY', 'J.', '.trump', 'TERROR', '.I', 'SING', 'ZERO', 'elizabethholmes', 'oobleck', 'mothersful', 'VOTE.IF', 'not-worth-standing', 'obamaworstpresidentever', 'YUP', 'END', 'senflake', 'NEEDS', '.vote', 'shitstream', 'shastrartha', 'DEAF', 'centrism', 'FU', 'FASCISTS', 'MEGUMI', 'evanne', 'CITIZENS', 'GFY', 'person..', 'SHED', 'IB', 'premiosheat', 'STDS', 'demonizes', 'demarat', 'PACKER', 'hats..lol', 'post-brexit', 'adiya', 'grenell', 'SPITE', 'presedent', 'concentrate.', 'votered', 'twittershouldbe', 'MMZ', 'votedemsout', 'muellerinvestigation', 'seems..', 'SUICIDE', 'recollecting..', 'D-', 'come..', '-REDS', 'RENA', 'place..', 'CONTRACEPTION', 'roid-rage', 'anti-uk', 'DEMAND', 'children.the', 'GET', 'SS', 'AMA', 'SJSHSJ', 'scumfuck', 'FIRST', 'w/vast', \"'er\", 'hollywoodisscum', 'jimin-ssi', '.we', 'OWNERSHIP', 'unemployed.conservatives', 'thanksgiving/black', 'generation/black', \"'ALL\", 'HOLDER', 'THEMSELVES', 'meaningful..', 'BLACK', 'LINK', 'MAAA', 'PUL-EASE', 'antifa..', 'BULLSHIT', 'STUFF', 'saltbae', 'TV', 'ECB', \"N'T\", 'SMDH', 'sendthemhome', 'carreen', 'REICH', 'kinscem', 'show.i', 'capitulating', 'redoctober', 'THE-', 'liberalintolerance', 'less-than', 'omportant', 'JRM', 'assulting', 'SICKENING', 'willienelson', 'TYPICAL', 'devided', 'zarries', 'DRUNK', 'notong', 'SOROS', 'CJ', 'ultra-left', 'RANT', 'ID', 'day=don', 'trumpworld', 'SUCK', 'itemize', 'MUELLER', 'fordfestnd', 'tacozt', 'PROVE', 'LEGENDARY', 'MANGINA', 'memember', 'orders..parting', 'evergreenair', 'votethegopout', 'COULD', 'ISNT', 'socialistdemocrats', 'CPC', 'kogasas', 'DISGRACE', 'MORE', 'DIE', 'SOLD', 'Y', 'sociability', 'bush-clinton', 'supremeists', 'spath', '-brett', 'ANC', 'devilyouloseagain', 'criminalsoutofnumber', 'WOODS', 'HEALER', 'SALE', 'HEY', 'NAVY', 'antiamerican', '..MAYBE', '..MAGA', 'COS', '..think', 'IDIOT', 'cillizza', 'ongly', 'america-phobes', 'shit.all', 'MAD', 'MO', 'VALUES', 'SCJ', 'liberaltarian', 'BING', 'MEME', 'codywilson', 'STOPPED', 'wdym', 'YES', 'doubloons', 'PTSD', 'doxing', 'don`t', 'siezing', 'DUMBASS', 'meme-ing', 'centrefold', 'anti-nationalism', 'sinnfeinn', 'liberatarianism', 'FIND', 'organizationall', 'MYSELF', 'comygate', 'VCR', 'shitlibs', 'MAGA..', 'sotomayer', 'COLLUSION', 'STRAIGHT', 'cooktragic', 'freakingliars', 'anti-federalists', 'jamesokeefe', 'towrds', 'know*', 'downingstreet', 'hardbrexit', 'COHORT', 'booo', 'PALLETS', 'fake-republican', '.lol', 'pedovore', 'blackexcellence', 'voteredsaveamerica', 'traitorsall', '*evil', 'GROUPS', 'BET', 'taketworeferenceswithmoniqueandchloe', 'H.R.', 'abortion.not', 'letgod', 'WP', 'ABSOLUTELY', 'racist..', 'forosity', 'DEPORT', 'them.fecking', 'F*CK', 'jesusisgod', 'keepamericagreat', 'NESN', 'wasn`t', 'TOOL', 'self-devaluation', 'deutschebank', 'FUCK-', 'memologist', 'w/u', 'institutionalracism', 'noncreditable', 'baselessly', '..because', 'chuckschumer', 'SHITTTT', 'cdcwords', 'SKINNY', 'stopbrexit', 'U.S', 'supremacistsign', '/the', 'AMENDMENT', 'miu..', 'PEDOPHELIA', '..oxymoron', 'THAN', 'small.but', '*scribe', 'catgirls', 'AWWWWW', 'leetpro', 'liberal..a', 'fiftiesbornwomen', 'IDGAF', 'CHEST', 'pro-nazi', 'IGNORE', 'CATFIGHT', 'by-and-large', 'UFC', 'TW', '***non-union', 'MEN', 'DJT-', 'qarmytrain', 'goat..', 'peacethrustrength', 'DANGER', '*gestures', 'trumppocalypse', 'weaponised', 'PROVEN', 'CLP', 'pkbritish', '-not', 'TALK', 'CDA', 'anti-jujubes', 'juan..i', 'SICK', 'MUKGA', 'semite', 'enmeshed', 'AHEAD', 'W', 'gerrymandered', 'INNOCENT', 'biased..', 'first..and', 'ROTTING', 'PROPOSAL', 'jacobite', 'NINE', 'cherrypicks', 'YFC', 'iamone', 'adminstrator', 'start/hiv', 'DUALITY', '+=', 'bad..', 'HMM', 'REGULATED', 'JFK', 'CEO', 'ginning', 'owened', '.well', 'EXPROPRIATE', 'ND', 'ENEMY', 'OCD', 'childrenwhy', 'jurky', 'SJC', '.cali', 'PPL', 'self-aggrandizing', 'CRUZ', 'women.', 'famous..', 'haters-bullies', 'credibility-', 'RB', 'sociopolieconfinancial', 'OUTFRICKINGSTANDING', 'SHUT', 'pleaseeeeee', 'UNLOAD', 'non-newtonian', '*cough', 'camillekruger', 'izlam', 'sexualmisconduct', 'mouth*', 'RESIGN', 'CERTAINLY', 'METH', 'dyn-o-mite', 'greatawakeningworldwide', 'firemalyoung', 'ON', 'ASSEMBLY', 'proudtolovejesus', 'feinstein-backed', 'HYUKJAE', 'rethuglicans', 'MD', 'milfsfortrump', 'XI', 'larries', 'manmarziyaan', '-even', 'win.', '.RW', 'careeeema', 'leonaalleslev', 'DOW', 'futanary', 'TDS', 'DIVORCE', '-wherever', 'LAX', 'languase', 'DJ', 'f*cks', 'offf', 'fluctuat', 'MASS', 'shamifesto', 'win.he', 'CONGRATULATION', 'w/nra', 'HOPING', 'tho..', 'JIN', 'moronsaregoverningamerica', 'RUNCIE', 'tectics', 'WIGS', 'themselves.', 'AUGUST', 'LEAD', 'LMFAO', 'RIDICULOUS', 's***', 'apparentl', '..what', '.that', 'FIX', 'fundraises', 'BVS', '.m', 'right..', 'presidenttrump', 'CBSNEWS', 'trumpwall', 'SUSHI', 'demdirtytrick', 'SERVITUDE', 'soulall', 'HUMILIATED', 'UGLY', \"'so\", 'BELIEVED', 'trumplies', 'wayyy', 'BLIND', 'SIG', 'SCJOUS', 'inputed', 'whitesupremacists', 'knowwhat', 'SCOTUS', 'sadiqkha', 'SUBSET', '..strange', 'sendhim', 'ATHENS', 'SLEEPING', 'DI', 'SWEET', 'DEPORTED', 'WORRIES', \"'chequers\", 'deregulations', 'cddr', 'WITHIN', 'COCK-A-DOODLE', 'healthsucks', 'prepwork', 'muelleriscomingforyoutoo', 'yrsof', 'godsarmy', 'FIRE', 'DYDINV', 'soon-yi', 'u..let', 'ABUSER', 'something.u', 'FIGHT', 'elizabethsmart', 'BORN', 'YEAR'}\n"
     ]
    },
    {
     "name": "stdout",
     "output_type": "stream",
     "text": [
      "accuracy score: 74.20%\n",
      "train and test time: 216.76s\n",
      "--------------------------------------------------------------------------------\n",
      "Confusion Matrix\n",
      "\n",
      "      0    1\n",
      "0  1618  539\n",
      "1   141  338\n",
      "--------------------------------------------------------------------------------\n",
      "Classification Report\n",
      "\n",
      "              precision    recall  f1-score   support\n",
      "\n",
      "           0       0.75      0.92      0.83      1759\n",
      "           1       0.71      0.39      0.50       877\n",
      "\n",
      "    accuracy                           0.74      2636\n",
      "   macro avg       0.73      0.65      0.66      2636\n",
      "weighted avg       0.74      0.74      0.72      2636\n",
      "\n"
     ]
    }
   ],
   "source": [
    "Word2Vec_Model(df,SVM)"
   ]
  },
  {
   "cell_type": "markdown",
   "metadata": {},
   "source": [
    "### 6. Deep Learning "
   ]
  },
  {
   "cell_type": "markdown",
   "metadata": {},
   "source": [
    "####  6.1 Deep Neural Network"
   ]
  },
  {
   "cell_type": "code",
   "execution_count": 150,
   "metadata": {},
   "outputs": [
    {
     "name": "stdout",
     "output_type": "stream",
     "text": [
      "Model: \"sequential_8\"\n",
      "_________________________________________________________________\n",
      "Layer (type)                 Output Shape              Param #   \n",
      "=================================================================\n",
      "dense_9 (Dense)              (None, 500)               2584000   \n",
      "_________________________________________________________________\n",
      "dense_10 (Dense)             (None, 1)                 501       \n",
      "=================================================================\n",
      "Total params: 2,584,501\n",
      "Trainable params: 2,584,501\n",
      "Non-trainable params: 0\n",
      "_________________________________________________________________\n"
     ]
    }
   ],
   "source": [
    "from keras.models import Sequential\n",
    "from keras.layers import Dense\n",
    " \n",
    "model = Sequential()\n",
    " \n",
    "model.add(Dense(units=500, activation='relu', input_dim=len(vectorizer.get_feature_names())))\n",
    "model.add(Dense(units=1, activation='sigmoid'))\n",
    " \n",
    "model.compile(loss='binary_crossentropy', optimizer='adam', metrics=['accuracy'])\n",
    "model.summary()"
   ]
  },
  {
   "cell_type": "markdown",
   "metadata": {},
   "source": [
    "###### Training "
   ]
  },
  {
   "cell_type": "code",
   "execution_count": 151,
   "metadata": {},
   "outputs": [
    {
     "name": "stdout",
     "output_type": "stream",
     "text": [
      "Train on 10443 samples, validate on 100 samples\n",
      "Epoch 1/2\n",
      "10443/10443 [==============================] - 6s 611us/step - loss: 0.6000 - accuracy: 0.6904 - val_loss: 0.5637 - val_accuracy: 0.7700\n",
      "Epoch 2/2\n",
      "10443/10443 [==============================] - 5s 510us/step - loss: 0.3920 - accuracy: 0.8324 - val_loss: 0.5784 - val_accuracy: 0.7500\n"
     ]
    },
    {
     "data": {
      "text/plain": [
       "<keras.callbacks.callbacks.History at 0x152507c50>"
      ]
     },
     "execution_count": 151,
     "metadata": {},
     "output_type": "execute_result"
    }
   ],
   "source": [
    "model.fit(X_train[:-100], trainLabel[:-100], \n",
    "          epochs=2, batch_size=128, verbose=1, \n",
    "          validation_data=(X_train[-100:], trainLabel[-100:]))"
   ]
  },
  {
   "cell_type": "markdown",
   "metadata": {},
   "source": [
    "###### Evaluation"
   ]
  },
  {
   "cell_type": "code",
   "execution_count": 152,
   "metadata": {},
   "outputs": [
    {
     "name": "stdout",
     "output_type": "stream",
     "text": [
      "2636/2636 [==============================] - 1s 245us/step\n",
      "Accuracy: 0.7651745080947876\n"
     ]
    }
   ],
   "source": [
    "scores = model.evaluate(vectorizer.transform(testTweet), testLabel, verbose=1)\n",
    "print(\"Accuracy:\", scores[1])  "
   ]
  },
  {
   "cell_type": "code",
   "execution_count": 155,
   "metadata": {},
   "outputs": [
    {
     "data": {
      "text/plain": [
       "array([[0.09984761],\n",
       "       [0.11356628],\n",
       "       [0.10797295],\n",
       "       ...,\n",
       "       [0.17173888],\n",
       "       [0.14873533],\n",
       "       [0.03092741]], dtype=float32)"
      ]
     },
     "execution_count": 155,
     "metadata": {},
     "output_type": "execute_result"
    }
   ],
   "source": [
    "testpred_dnn"
   ]
  },
  {
   "cell_type": "code",
   "execution_count": 157,
   "metadata": {},
   "outputs": [
    {
     "name": "stdout",
     "output_type": "stream",
     "text": [
      "              precision    recall  f1-score   support\n",
      "\n",
      "           0       0.67      1.00      0.80      1759\n",
      "           1       0.00      0.00      0.00       877\n",
      "\n",
      "    accuracy                           0.67      2636\n",
      "   macro avg       0.33      0.50      0.40      2636\n",
      "weighted avg       0.45      0.67      0.53      2636\n",
      "\n"
     ]
    },
    {
     "name": "stderr",
     "output_type": "stream",
     "text": [
      "/Library/Frameworks/Python.framework/Versions/3.7/lib/python3.7/site-packages/sklearn/metrics/classification.py:1437: UndefinedMetricWarning: Precision and F-score are ill-defined and being set to 0.0 in labels with no predicted samples.\n",
      "  'precision', 'predicted', average, warn_for)\n"
     ]
    }
   ],
   "source": [
    "import numpy as np \n",
    "testpred_dnn = model.predict(vectorizer.transform(testTweet))\n",
    "#testpred_dnn1 = np.argmax(testpred_dnn, axis=1)\n",
    "print(classification_report(testLabel, testpred_dnn1))"
   ]
  },
  {
   "cell_type": "markdown",
   "metadata": {},
   "source": [
    "####  6.2 Convolutional Network"
   ]
  },
  {
   "cell_type": "code",
   "execution_count": 66,
   "metadata": {},
   "outputs": [
    {
     "name": "stdout",
     "output_type": "stream",
     "text": [
      "[2299, 4594]\n",
      "[4669, 2659, 4626, 1967, 1941, 5062, 4782, 2101, 803, 3718, 2576, 3112, 1959, 358, 2934, 1632, 1476, 2969, 3670, 4991, 3077]\n"
     ]
    }
   ],
   "source": [
    "word2idx = {word: idx for idx, word in enumerate(vectorizer.get_feature_names())}\n",
    "tokenize = vectorizer.build_tokenizer()\n",
    "preprocess = vectorizer.build_preprocessor()\n",
    " \n",
    "def to_sequence(tokenizer, preprocessor, index, text):\n",
    "    words = tokenizer(preprocessor(text))\n",
    "    indexes = [index[word] for word in words if word in index]\n",
    "    return indexes\n",
    " \n",
    "print(to_sequence(tokenize, preprocess, word2idx, \"This is an important test!\"))  # [2269, 4453]\n",
    "X_train_sequences = [to_sequence(tokenize, preprocess, word2idx, x) for x in trainTweet]\n",
    "print(X_train_sequences[0])\n",
    " "
   ]
  },
  {
   "cell_type": "code",
   "execution_count": 68,
   "metadata": {},
   "outputs": [
    {
     "name": "stdout",
     "output_type": "stream",
     "text": [
      "MAX_SEQ_LENGHT= 34\n",
      "[5167 5167 5167 5167 5167 5167 5167 5167 5167 5167 5167 5167 5167 4669\n",
      " 2659 4626 1967 1941 5062 4782 2101  803 3718 2576 3112 1959  358 2934\n",
      " 1632 1476 2969 3670 4991 3077]\n"
     ]
    }
   ],
   "source": [
    "# Compute the max lenght of a text\n",
    "MAX_SEQ_LENGHT = len(max(X_train_sequences, key=len))\n",
    "print(\"MAX_SEQ_LENGHT=\", MAX_SEQ_LENGHT)\n",
    " \n",
    "from keras.preprocessing.sequence import pad_sequences\n",
    "N_FEATURES = len(vectorizer.get_feature_names())\n",
    "X_train_sequences = pad_sequences(X_train_sequences, maxlen=MAX_SEQ_LENGHT, value=N_FEATURES)\n",
    "print(X_train_sequences[0])"
   ]
  },
  {
   "cell_type": "code",
   "execution_count": 135,
   "metadata": {},
   "outputs": [
    {
     "name": "stdout",
     "output_type": "stream",
     "text": [
      "Model: \"sequential_7\"\n",
      "_________________________________________________________________\n",
      "Layer (type)                 Output Shape              Param #   \n",
      "=================================================================\n",
      "embedding_4 (Embedding)      (None, 34, 64)            330752    \n",
      "_________________________________________________________________\n",
      "conv1d_2 (Conv1D)            (None, 30, 64)            20544     \n",
      "_________________________________________________________________\n",
      "max_pooling1d_2 (MaxPooling1 (None, 6, 64)             0         \n",
      "_________________________________________________________________\n",
      "flatten_2 (Flatten)          (None, 384)               0         \n",
      "_________________________________________________________________\n",
      "dense_7 (Dense)              (None, 64)                24640     \n",
      "_________________________________________________________________\n",
      "dense_8 (Dense)              (None, 1)                 65        \n",
      "=================================================================\n",
      "Total params: 376,001\n",
      "Trainable params: 376,001\n",
      "Non-trainable params: 0\n",
      "_________________________________________________________________\n",
      "None\n"
     ]
    }
   ],
   "source": [
    "from keras.models import Sequential\n",
    "from keras.layers import Dense, Conv1D, MaxPooling1D, Flatten, Embedding\n",
    " \n",
    "model = Sequential()\n",
    "model.add(Embedding(len(vectorizer.get_feature_names()) + 1,\n",
    "                    64,  # Embedding size\n",
    "                    input_length=MAX_SEQ_LENGHT))\n",
    "model.add(Conv1D(64, 5, activation='relu'))\n",
    "model.add(MaxPooling1D(5))\n",
    "model.add(Flatten())\n",
    "model.add(Dense(units=64, activation='relu'))\n",
    "model.add(Dense(units=1, activation='sigmoid'))\n",
    " \n",
    "model.compile(loss='binary_crossentropy', optimizer='adam', metrics=['accuracy'])\n",
    "print(model.summary())"
   ]
  },
  {
   "cell_type": "markdown",
   "metadata": {},
   "source": [
    "##### Training"
   ]
  },
  {
   "cell_type": "code",
   "execution_count": 136,
   "metadata": {},
   "outputs": [
    {
     "name": "stderr",
     "output_type": "stream",
     "text": [
      "/Library/Frameworks/Python.framework/Versions/3.7/lib/python3.7/site-packages/tensorflow_core/python/framework/indexed_slices.py:424: UserWarning: Converting sparse IndexedSlices to a dense Tensor of unknown shape. This may consume a large amount of memory.\n",
      "  \"Converting sparse IndexedSlices to a dense Tensor of unknown shape. \"\n"
     ]
    },
    {
     "name": "stdout",
     "output_type": "stream",
     "text": [
      "Train on 10443 samples, validate on 100 samples\n",
      "Epoch 1/3\n",
      "10443/10443 [==============================] - 2s 202us/step - loss: 0.6456 - accuracy: 0.6665 - val_loss: 0.6171 - val_accuracy: 0.6900\n",
      "Epoch 2/3\n",
      "10443/10443 [==============================] - 2s 158us/step - loss: 0.6225 - accuracy: 0.6671 - val_loss: 0.6034 - val_accuracy: 0.6900\n",
      "Epoch 3/3\n",
      "10443/10443 [==============================] - 2s 159us/step - loss: 0.5913 - accuracy: 0.6934 - val_loss: 0.5856 - val_accuracy: 0.6900\n"
     ]
    },
    {
     "data": {
      "text/plain": [
       "<keras.callbacks.callbacks.History at 0x14ed834d0>"
      ]
     },
     "execution_count": 136,
     "metadata": {},
     "output_type": "execute_result"
    }
   ],
   "source": [
    "model.fit(X_train_sequences[:-100], trainLabel[:-100], \n",
    "          epochs=3, batch_size=512, verbose=1,\n",
    "          validation_data=(X_train_sequences[-100:], trainLabel[-100:]))\n",
    " "
   ]
  },
  {
   "cell_type": "markdown",
   "metadata": {},
   "source": [
    "##### Transform"
   ]
  },
  {
   "cell_type": "code",
   "execution_count": 143,
   "metadata": {},
   "outputs": [],
   "source": [
    "# Transform the text data to sequences and pad them\n",
    "X_test_sequences = [to_sequence(tokenize, preprocess, word2idx, x) for x in testTweet]\n",
    "X_test_sequences = pad_sequences(X_test_sequences, maxlen=MAX_SEQ_LENGHT, value=N_FEATURES)"
   ]
  },
  {
   "cell_type": "markdown",
   "metadata": {},
   "source": [
    "##### Evaluation"
   ]
  },
  {
   "cell_type": "code",
   "execution_count": 144,
   "metadata": {},
   "outputs": [
    {
     "name": "stdout",
     "output_type": "stream",
     "text": [
      "2636/2636 [==============================] - 0s 114us/step\n",
      "Accuracy: 0.6843702793121338\n"
     ]
    }
   ],
   "source": [
    "scores = model.evaluate(X_test_sequences, testLabel, verbose=1)\n",
    "print(\"Accuracy:\", scores[1]) "
   ]
  },
  {
   "cell_type": "code",
   "execution_count": 149,
   "metadata": {},
   "outputs": [
    {
     "name": "stdout",
     "output_type": "stream",
     "text": [
      "              precision    recall  f1-score   support\n",
      "\n",
      "           0       0.67      1.00      0.80      1759\n",
      "           1       0.00      0.00      0.00       877\n",
      "\n",
      "    accuracy                           0.67      2636\n",
      "   macro avg       0.33      0.50      0.40      2636\n",
      "weighted avg       0.45      0.67      0.53      2636\n",
      "\n"
     ]
    }
   ],
   "source": [
    "import numpy as np \n",
    "testpred = model.predict(X_test_sequences)\n",
    "test_Y_pred = np.argmax(testpred, axis=1)\n",
    "print(classification_report(testLabel, test_Y_pred))"
   ]
  },
  {
   "cell_type": "markdown",
   "metadata": {},
   "source": [
    "#### 6.3 LSTM Network"
   ]
  },
  {
   "cell_type": "markdown",
   "metadata": {},
   "source": [
    "Long Short Term Memory Network works for sequence data, it treats text data as a sequential data,instead of a bag of words or ngram. It works for text classification."
   ]
  },
  {
   "cell_type": "code",
   "execution_count": 124,
   "metadata": {},
   "outputs": [
    {
     "name": "stdout",
     "output_type": "stream",
     "text": [
      "Model: \"sequential_6\"\n",
      "_________________________________________________________________\n",
      "Layer (type)                 Output Shape              Param #   \n",
      "=================================================================\n",
      "embedding_3 (Embedding)      (None, 34, 64)            330752    \n",
      "_________________________________________________________________\n",
      "lstm_2 (LSTM)                (None, 64)                33024     \n",
      "_________________________________________________________________\n",
      "dense_6 (Dense)              (None, 1)                 65        \n",
      "=================================================================\n",
      "Total params: 363,841\n",
      "Trainable params: 363,841\n",
      "Non-trainable params: 0\n",
      "_________________________________________________________________\n",
      "None\n"
     ]
    }
   ],
   "source": [
    "from keras.models import Sequential\n",
    "from keras.layers import Dense, LSTM, Embedding\n",
    " \n",
    "model = Sequential()\n",
    "model.add(Embedding(len(vectorizer.get_feature_names()) + 1,\n",
    "                    64,  # Embedding size\n",
    "                    input_length=MAX_SEQ_LENGHT))\n",
    "model.add(LSTM(64))\n",
    "model.add(Dense(units=1, activation='sigmoid'))\n",
    " \n",
    "model.compile(loss='binary_crossentropy', optimizer='adam', metrics=['accuracy'])\n",
    "print(model.summary())"
   ]
  },
  {
   "cell_type": "markdown",
   "metadata": {},
   "source": [
    "##### Training"
   ]
  },
  {
   "cell_type": "code",
   "execution_count": 128,
   "metadata": {},
   "outputs": [
    {
     "name": "stderr",
     "output_type": "stream",
     "text": [
      "/Library/Frameworks/Python.framework/Versions/3.7/lib/python3.7/site-packages/tensorflow_core/python/framework/indexed_slices.py:424: UserWarning: Converting sparse IndexedSlices to a dense Tensor of unknown shape. This may consume a large amount of memory.\n",
      "  \"Converting sparse IndexedSlices to a dense Tensor of unknown shape. \"\n"
     ]
    },
    {
     "name": "stdout",
     "output_type": "stream",
     "text": [
      "Train on 10443 samples, validate on 100 samples\n",
      "Epoch 1/2\n",
      "10443/10443 [==============================] - 8s 788us/step - loss: 0.6221 - accuracy: 0.6679 - val_loss: 0.5681 - val_accuracy: 0.7000\n",
      "Epoch 2/2\n",
      "10443/10443 [==============================] - 7s 666us/step - loss: 0.4851 - accuracy: 0.7727 - val_loss: 0.5259 - val_accuracy: 0.7700\n"
     ]
    },
    {
     "data": {
      "text/plain": [
       "<keras.callbacks.callbacks.History at 0x149c77ed0>"
      ]
     },
     "execution_count": 128,
     "metadata": {},
     "output_type": "execute_result"
    }
   ],
   "source": [
    "model.fit(X_train_sequences[:-100], trainLabel[:-100], \n",
    "          epochs=2, batch_size=128, verbose=1, \n",
    "          validation_data=(X_train_sequences[-100:], trainLabel[-100:]))\n",
    " "
   ]
  },
  {
   "cell_type": "markdown",
   "metadata": {},
   "source": [
    "##### Evaluation"
   ]
  },
  {
   "cell_type": "code",
   "execution_count": 129,
   "metadata": {},
   "outputs": [
    {
     "name": "stdout",
     "output_type": "stream",
     "text": [
      "2636/2636 [==============================] - 1s 317us/step\n",
      "Accuracy: 0.762139618396759\n"
     ]
    }
   ],
   "source": [
    "scores = model.evaluate(X_test_sequences, testLabel, verbose=1)\n",
    "print(\"Accuracy:\", scores[1]) "
   ]
  },
  {
   "cell_type": "code",
   "execution_count": 133,
   "metadata": {},
   "outputs": [
    {
     "name": "stdout",
     "output_type": "stream",
     "text": [
      "              precision    recall  f1-score   support\n",
      "\n",
      "           0       0.67      1.00      0.80      1759\n",
      "           1       0.00      0.00      0.00       877\n",
      "\n",
      "    accuracy                           0.67      2636\n",
      "   macro avg       0.33      0.50      0.40      2636\n",
      "weighted avg       0.45      0.67      0.53      2636\n",
      "\n"
     ]
    }
   ],
   "source": [
    "import numpy as np \n",
    "testpred = model.predict(X_test_sequences)\n",
    "test_Y_pred = np.argmax(testpred, axis=1)\n",
    "print(classification_report(testLabel, test_Y_pred))"
   ]
  },
  {
   "cell_type": "code",
   "execution_count": 134,
   "metadata": {},
   "outputs": [
    {
     "data": {
      "text/plain": [
       "array([[1759,    0],\n",
       "       [ 877,    0]])"
      ]
     },
     "execution_count": 134,
     "metadata": {},
     "output_type": "execute_result"
    }
   ],
   "source": [
    "confusion_matrix(testLabel,test_Y_pred)"
   ]
  },
  {
   "cell_type": "markdown",
   "metadata": {},
   "source": [
    "### 7. Conclusion"
   ]
  },
  {
   "cell_type": "markdown",
   "metadata": {},
   "source": [
    "We can compare the results from above, the deep learning models do not necessarily outperform \n",
    "the traditional models."
   ]
  }
 ],
 "metadata": {
  "kernelspec": {
   "display_name": "Python 3",
   "language": "python",
   "name": "python3"
  },
  "language_info": {
   "codemirror_mode": {
    "name": "ipython",
    "version": 3
   },
   "file_extension": ".py",
   "mimetype": "text/x-python",
   "name": "python",
   "nbconvert_exporter": "python",
   "pygments_lexer": "ipython3",
   "version": "3.7.0"
  }
 },
 "nbformat": 4,
 "nbformat_minor": 2
}
